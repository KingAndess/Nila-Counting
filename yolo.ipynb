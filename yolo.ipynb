{
 "cells": [
  {
   "cell_type": "code",
   "execution_count": 1,
   "metadata": {},
   "outputs": [
    {
     "name": "stdout",
     "output_type": "stream",
     "text": [
      "Defaulting to user installation because normal site-packages is not writeable\n",
      "Requirement already satisfied: roboflow in /home/andes/.local/lib/python3.10/site-packages (1.1.44)\n",
      "Requirement already satisfied: certifi in /home/andes/.local/lib/python3.10/site-packages (from roboflow) (2024.7.4)\n",
      "Requirement already satisfied: idna==3.7 in /home/andes/.local/lib/python3.10/site-packages (from roboflow) (3.7)\n",
      "Requirement already satisfied: cycler in /home/andes/.local/lib/python3.10/site-packages (from roboflow) (0.12.1)\n",
      "Requirement already satisfied: kiwisolver>=1.3.1 in /home/andes/.local/lib/python3.10/site-packages (from roboflow) (1.4.5)\n",
      "Requirement already satisfied: matplotlib in /home/andes/.local/lib/python3.10/site-packages (from roboflow) (3.9.2)\n",
      "Requirement already satisfied: numpy>=1.18.5 in /home/andes/.local/lib/python3.10/site-packages (from roboflow) (1.26.4)\n",
      "Requirement already satisfied: opencv-python-headless==4.10.0.84 in /home/andes/.local/lib/python3.10/site-packages (from roboflow) (4.10.0.84)\n",
      "Requirement already satisfied: Pillow>=7.1.2 in /home/andes/.local/lib/python3.10/site-packages (from roboflow) (10.4.0)\n",
      "Requirement already satisfied: python-dateutil in /home/andes/.local/lib/python3.10/site-packages (from roboflow) (2.9.0.post0)\n",
      "Requirement already satisfied: python-dotenv in /home/andes/.local/lib/python3.10/site-packages (from roboflow) (1.0.1)\n",
      "Requirement already satisfied: requests in /home/andes/.local/lib/python3.10/site-packages (from roboflow) (2.32.3)\n",
      "Requirement already satisfied: six in /usr/lib/python3/dist-packages (from roboflow) (1.16.0)\n",
      "Requirement already satisfied: urllib3>=1.26.6 in /home/andes/.local/lib/python3.10/site-packages (from roboflow) (2.2.2)\n",
      "Requirement already satisfied: tqdm>=4.41.0 in /home/andes/.local/lib/python3.10/site-packages (from roboflow) (4.66.5)\n",
      "Requirement already satisfied: PyYAML>=5.3.1 in /usr/lib/python3/dist-packages (from roboflow) (5.4.1)\n",
      "Requirement already satisfied: requests-toolbelt in /home/andes/.local/lib/python3.10/site-packages (from roboflow) (1.0.0)\n",
      "Requirement already satisfied: filetype in /home/andes/.local/lib/python3.10/site-packages (from roboflow) (1.2.0)\n",
      "Requirement already satisfied: contourpy>=1.0.1 in /home/andes/.local/lib/python3.10/site-packages (from matplotlib->roboflow) (1.2.1)\n",
      "Requirement already satisfied: fonttools>=4.22.0 in /home/andes/.local/lib/python3.10/site-packages (from matplotlib->roboflow) (4.53.1)\n",
      "Requirement already satisfied: packaging>=20.0 in /home/andes/.local/lib/python3.10/site-packages (from matplotlib->roboflow) (24.1)\n",
      "Requirement already satisfied: pyparsing>=2.3.1 in /usr/lib/python3/dist-packages (from matplotlib->roboflow) (2.4.7)\n",
      "Requirement already satisfied: charset-normalizer<4,>=2 in /home/andes/.local/lib/python3.10/site-packages (from requests->roboflow) (3.3.2)\n",
      "Note: you may need to restart the kernel to use updated packages.\n",
      "loading Roboflow workspace...\n",
      "loading Roboflow project...\n",
      "Dependency ultralytics==8.0.196 is required but found version=8.2.101, to fix: `pip install ultralytics==8.0.196`\n"
     ]
    }
   ],
   "source": [
    "%pip install roboflow\n",
    "\n",
    "from roboflow import Roboflow\n",
    "rf = Roboflow(api_key=\"RH53XuZxw2ucgq4eyP02\")\n",
    "project = rf.workspace(\"kingandes\").project(\"nila-counting\")\n",
    "version = project.version(2)\n",
    "dataset = version.download(\"yolov8\")"
   ]
  },
  {
   "cell_type": "code",
   "execution_count": 2,
   "metadata": {},
   "outputs": [],
   "source": [
    "from ultralytics import YOLO"
   ]
  },
  {
   "cell_type": "code",
   "execution_count": 3,
   "metadata": {},
   "outputs": [],
   "source": [
    "model = YOLO(model=\"yolov10n.pt\")"
   ]
  },
  {
   "cell_type": "code",
   "execution_count": 4,
   "metadata": {},
   "outputs": [
    {
     "name": "stdout",
     "output_type": "stream",
     "text": [
      "New https://pypi.org/project/ultralytics/8.3.4 available 😃 Update with 'pip install -U ultralytics'\n",
      "Ultralytics YOLOv8.2.101 🚀 Python-3.10.12 torch-2.4.1+cu121 CUDA:0 (NVIDIA GeForce RTX 3050 Laptop GPU, 4096MiB)\n",
      "\u001b[34m\u001b[1mengine/trainer: \u001b[0mtask=detect, mode=train, model=yolov10n.pt, data=Nila-Counting-2/data.yaml, epochs=50, time=None, patience=100, batch=8, imgsz=640, save=True, save_period=-1, cache=False, device=None, workers=8, project=runs/train, name=E50B8, exist_ok=False, pretrained=True, optimizer=auto, verbose=True, seed=0, deterministic=True, single_cls=False, rect=False, cos_lr=False, close_mosaic=10, resume=False, amp=True, fraction=1.0, profile=False, freeze=None, multi_scale=False, overlap_mask=True, mask_ratio=4, dropout=0.0, val=True, split=val, save_json=False, save_hybrid=False, conf=None, iou=0.7, max_det=300, half=False, dnn=False, plots=True, source=None, vid_stride=1, stream_buffer=False, visualize=False, augment=False, agnostic_nms=False, classes=None, retina_masks=False, embed=None, show=False, save_frames=False, save_txt=False, save_conf=False, save_crop=False, show_labels=True, show_conf=True, show_boxes=True, line_width=None, format=torchscript, keras=False, optimize=False, int8=False, dynamic=False, simplify=True, opset=None, workspace=4, nms=False, lr0=0.01, lrf=0.01, momentum=0.937, weight_decay=0.0005, warmup_epochs=3.0, warmup_momentum=0.8, warmup_bias_lr=0.1, box=7.5, cls=0.5, dfl=1.5, pose=12.0, kobj=1.0, label_smoothing=0.0, nbs=64, hsv_h=0.015, hsv_s=0.7, hsv_v=0.4, degrees=0.0, translate=0.1, scale=0.5, shear=0.0, perspective=0.0, flipud=0.0, fliplr=0.5, bgr=0.0, mosaic=1.0, mixup=0.0, copy_paste=0.0, auto_augment=randaugment, erasing=0.4, crop_fraction=1.0, cfg=None, tracker=botsort.yaml, save_dir=runs/train/E50B8\n",
      "Overriding model.yaml nc=80 with nc=1\n",
      "\n",
      "                   from  n    params  module                                       arguments                     \n",
      "  0                  -1  1       464  ultralytics.nn.modules.conv.Conv             [3, 16, 3, 2]                 \n",
      "  1                  -1  1      4672  ultralytics.nn.modules.conv.Conv             [16, 32, 3, 2]                \n",
      "  2                  -1  1      7360  ultralytics.nn.modules.block.C2f             [32, 32, 1, True]             \n",
      "  3                  -1  1     18560  ultralytics.nn.modules.conv.Conv             [32, 64, 3, 2]                \n",
      "  4                  -1  2     49664  ultralytics.nn.modules.block.C2f             [64, 64, 2, True]             \n",
      "  5                  -1  1      9856  ultralytics.nn.modules.block.SCDown          [64, 128, 3, 2]               \n",
      "  6                  -1  2    197632  ultralytics.nn.modules.block.C2f             [128, 128, 2, True]           \n",
      "  7                  -1  1     36096  ultralytics.nn.modules.block.SCDown          [128, 256, 3, 2]              \n",
      "  8                  -1  1    460288  ultralytics.nn.modules.block.C2f             [256, 256, 1, True]           \n",
      "  9                  -1  1    164608  ultralytics.nn.modules.block.SPPF            [256, 256, 5]                 \n",
      " 10                  -1  1    249728  ultralytics.nn.modules.block.PSA             [256, 256]                    \n",
      " 11                  -1  1         0  torch.nn.modules.upsampling.Upsample         [None, 2, 'nearest']          \n",
      " 12             [-1, 6]  1         0  ultralytics.nn.modules.conv.Concat           [1]                           \n",
      " 13                  -1  1    148224  ultralytics.nn.modules.block.C2f             [384, 128, 1]                 \n",
      " 14                  -1  1         0  torch.nn.modules.upsampling.Upsample         [None, 2, 'nearest']          \n",
      " 15             [-1, 4]  1         0  ultralytics.nn.modules.conv.Concat           [1]                           \n",
      " 16                  -1  1     37248  ultralytics.nn.modules.block.C2f             [192, 64, 1]                  \n",
      " 17                  -1  1     36992  ultralytics.nn.modules.conv.Conv             [64, 64, 3, 2]                \n",
      " 18            [-1, 13]  1         0  ultralytics.nn.modules.conv.Concat           [1]                           \n",
      " 19                  -1  1    123648  ultralytics.nn.modules.block.C2f             [192, 128, 1]                 \n",
      " 20                  -1  1     18048  ultralytics.nn.modules.block.SCDown          [128, 128, 3, 2]              \n",
      " 21            [-1, 10]  1         0  ultralytics.nn.modules.conv.Concat           [1]                           \n",
      " 22                  -1  1    282624  ultralytics.nn.modules.block.C2fCIB          [384, 256, 1, True, True]     \n",
      " 23        [16, 19, 22]  1    861718  ultralytics.nn.modules.head.v10Detect        [1, [64, 128, 256]]           \n",
      "YOLOv10n summary: 385 layers, 2,707,430 parameters, 2,707,414 gradients, 8.4 GFLOPs\n",
      "\n",
      "Transferred 493/595 items from pretrained weights\n",
      "Freezing layer 'model.23.dfl.conv.weight'\n",
      "\u001b[34m\u001b[1mAMP: \u001b[0mrunning Automatic Mixed Precision (AMP) checks with YOLOv8n...\n",
      "\u001b[34m\u001b[1mAMP: \u001b[0mchecks passed ✅\n"
     ]
    },
    {
     "name": "stderr",
     "output_type": "stream",
     "text": [
      "\u001b[34m\u001b[1mtrain: \u001b[0mScanning /home/andes/skripsi/Nila-Counting/Nila-Counting-2/train/labels.cache... 497 images, 0 backgrounds, 0 corrupt: 100%|██████████| 497/497 [00:00<?, ?it/s]\n",
      "\u001b[34m\u001b[1mval: \u001b[0mScanning /home/andes/skripsi/Nila-Counting/Nila-Counting-2/valid/labels.cache... 30 images, 0 backgrounds, 0 corrupt: 100%|██████████| 30/30 [00:00<?, ?it/s]\n"
     ]
    },
    {
     "name": "stdout",
     "output_type": "stream",
     "text": [
      "Plotting labels to runs/train/E50B8/labels.jpg... \n",
      "\u001b[34m\u001b[1moptimizer:\u001b[0m 'optimizer=auto' found, ignoring 'lr0=0.01' and 'momentum=0.937' and determining best 'optimizer', 'lr0' and 'momentum' automatically... \n",
      "\u001b[34m\u001b[1moptimizer:\u001b[0m AdamW(lr=0.002, momentum=0.9) with parameter groups 95 weight(decay=0.0), 108 weight(decay=0.0005), 107 bias(decay=0.0)\n",
      "Image sizes 640 train, 640 val\n",
      "Using 8 dataloader workers\n",
      "Logging results to \u001b[1mruns/train/E50B8\u001b[0m\n",
      "Starting training for 50 epochs...\n",
      "\n",
      "      Epoch    GPU_mem   box_loss   cls_loss   dfl_loss  Instances       Size\n"
     ]
    },
    {
     "name": "stderr",
     "output_type": "stream",
     "text": [
      "       1/50      3.76G      3.495      4.652      2.359         58        640: 100%|██████████| 63/63 [00:17<00:00,  3.56it/s]\n",
      "                 Class     Images  Instances      Box(P          R      mAP50  mAP50-95): 100%|██████████| 2/2 [00:00<00:00,  4.26it/s]"
     ]
    },
    {
     "name": "stdout",
     "output_type": "stream",
     "text": [
      "                   all         30       1041     0.0582      0.503      0.321      0.192\n"
     ]
    },
    {
     "name": "stderr",
     "output_type": "stream",
     "text": [
      "\n"
     ]
    },
    {
     "name": "stdout",
     "output_type": "stream",
     "text": [
      "\n",
      "      Epoch    GPU_mem   box_loss   cls_loss   dfl_loss  Instances       Size\n"
     ]
    },
    {
     "name": "stderr",
     "output_type": "stream",
     "text": [
      "       2/50      3.25G      3.253       2.95      2.311          3        640: 100%|██████████| 63/63 [00:12<00:00,  4.92it/s]\n",
      "                 Class     Images  Instances      Box(P          R      mAP50  mAP50-95): 100%|██████████| 2/2 [00:00<00:00,  4.94it/s]"
     ]
    },
    {
     "name": "stdout",
     "output_type": "stream",
     "text": [
      "                   all         30       1041      0.709      0.305      0.552      0.323\n"
     ]
    },
    {
     "name": "stderr",
     "output_type": "stream",
     "text": [
      "\n"
     ]
    },
    {
     "name": "stdout",
     "output_type": "stream",
     "text": [
      "\n",
      "      Epoch    GPU_mem   box_loss   cls_loss   dfl_loss  Instances       Size\n"
     ]
    },
    {
     "name": "stderr",
     "output_type": "stream",
     "text": [
      "       3/50      3.55G      3.197      2.278      2.235         74        640: 100%|██████████| 63/63 [00:13<00:00,  4.75it/s]\n",
      "                 Class     Images  Instances      Box(P          R      mAP50  mAP50-95): 100%|██████████| 2/2 [00:00<00:00,  5.46it/s]"
     ]
    },
    {
     "name": "stdout",
     "output_type": "stream",
     "text": [
      "                   all         30       1041      0.719       0.68      0.755      0.415\n"
     ]
    },
    {
     "name": "stderr",
     "output_type": "stream",
     "text": [
      "\n"
     ]
    },
    {
     "name": "stdout",
     "output_type": "stream",
     "text": [
      "\n",
      "      Epoch    GPU_mem   box_loss   cls_loss   dfl_loss  Instances       Size\n"
     ]
    },
    {
     "name": "stderr",
     "output_type": "stream",
     "text": [
      "       4/50      3.83G       3.22      2.195      2.279          7        640: 100%|██████████| 63/63 [00:15<00:00,  4.16it/s]\n",
      "                 Class     Images  Instances      Box(P          R      mAP50  mAP50-95): 100%|██████████| 2/2 [00:00<00:00,  5.58it/s]"
     ]
    },
    {
     "name": "stdout",
     "output_type": "stream",
     "text": [
      "                   all         30       1041       0.73      0.767      0.813      0.441\n"
     ]
    },
    {
     "name": "stderr",
     "output_type": "stream",
     "text": [
      "\n"
     ]
    },
    {
     "name": "stdout",
     "output_type": "stream",
     "text": [
      "\n",
      "      Epoch    GPU_mem   box_loss   cls_loss   dfl_loss  Instances       Size\n"
     ]
    },
    {
     "name": "stderr",
     "output_type": "stream",
     "text": [
      "       5/50      3.94G      3.181      2.087      2.246          7        640: 100%|██████████| 63/63 [00:16<00:00,  3.90it/s]\n",
      "                 Class     Images  Instances      Box(P          R      mAP50  mAP50-95): 100%|██████████| 2/2 [00:00<00:00,  5.60it/s]\n"
     ]
    },
    {
     "name": "stdout",
     "output_type": "stream",
     "text": [
      "                   all         30       1041      0.755      0.787      0.851      0.478\n",
      "\n",
      "      Epoch    GPU_mem   box_loss   cls_loss   dfl_loss  Instances       Size\n"
     ]
    },
    {
     "name": "stderr",
     "output_type": "stream",
     "text": [
      "       6/50      3.34G      3.081      1.905      2.211        185        640: 100%|██████████| 63/63 [00:14<00:00,  4.27it/s]\n",
      "                 Class     Images  Instances      Box(P          R      mAP50  mAP50-95): 100%|██████████| 2/2 [00:00<00:00,  4.50it/s]"
     ]
    },
    {
     "name": "stdout",
     "output_type": "stream",
     "text": [
      "                   all         30       1041      0.739      0.797      0.835      0.455\n"
     ]
    },
    {
     "name": "stderr",
     "output_type": "stream",
     "text": [
      "\n"
     ]
    },
    {
     "name": "stdout",
     "output_type": "stream",
     "text": [
      "\n",
      "      Epoch    GPU_mem   box_loss   cls_loss   dfl_loss  Instances       Size\n"
     ]
    },
    {
     "name": "stderr",
     "output_type": "stream",
     "text": [
      "       7/50      3.43G      3.031      1.831       2.22         34        640: 100%|██████████| 63/63 [00:13<00:00,  4.67it/s]\n",
      "                 Class     Images  Instances      Box(P          R      mAP50  mAP50-95): 100%|██████████| 2/2 [00:00<00:00,  5.44it/s]"
     ]
    },
    {
     "name": "stdout",
     "output_type": "stream",
     "text": [
      "                   all         30       1041      0.816      0.807      0.891      0.516\n"
     ]
    },
    {
     "name": "stderr",
     "output_type": "stream",
     "text": [
      "\n"
     ]
    },
    {
     "name": "stdout",
     "output_type": "stream",
     "text": [
      "\n",
      "      Epoch    GPU_mem   box_loss   cls_loss   dfl_loss  Instances       Size\n"
     ]
    },
    {
     "name": "stderr",
     "output_type": "stream",
     "text": [
      "       8/50      3.17G      3.016      1.725      2.197         42        640: 100%|██████████| 63/63 [00:12<00:00,  4.96it/s]\n",
      "                 Class     Images  Instances      Box(P          R      mAP50  mAP50-95): 100%|██████████| 2/2 [00:00<00:00,  5.44it/s]"
     ]
    },
    {
     "name": "stdout",
     "output_type": "stream",
     "text": [
      "                   all         30       1041      0.786       0.84      0.896      0.532\n"
     ]
    },
    {
     "name": "stderr",
     "output_type": "stream",
     "text": [
      "\n"
     ]
    },
    {
     "name": "stdout",
     "output_type": "stream",
     "text": [
      "\n",
      "      Epoch    GPU_mem   box_loss   cls_loss   dfl_loss  Instances       Size\n"
     ]
    },
    {
     "name": "stderr",
     "output_type": "stream",
     "text": [
      "       9/50      3.66G       3.13      1.701      2.223        130        640: 100%|██████████| 63/63 [00:12<00:00,  4.86it/s]\n",
      "                 Class     Images  Instances      Box(P          R      mAP50  mAP50-95): 100%|██████████| 2/2 [00:00<00:00,  5.43it/s]"
     ]
    },
    {
     "name": "stdout",
     "output_type": "stream",
     "text": [
      "                   all         30       1041      0.838      0.833      0.911      0.538\n"
     ]
    },
    {
     "name": "stderr",
     "output_type": "stream",
     "text": [
      "\n"
     ]
    },
    {
     "name": "stdout",
     "output_type": "stream",
     "text": [
      "\n",
      "      Epoch    GPU_mem   box_loss   cls_loss   dfl_loss  Instances       Size\n"
     ]
    },
    {
     "name": "stderr",
     "output_type": "stream",
     "text": [
      "      10/50      2.83G      3.049      1.669        2.2        167        640: 100%|██████████| 63/63 [00:13<00:00,  4.58it/s]\n",
      "                 Class     Images  Instances      Box(P          R      mAP50  mAP50-95): 100%|██████████| 2/2 [00:00<00:00,  5.38it/s]"
     ]
    },
    {
     "name": "stdout",
     "output_type": "stream",
     "text": [
      "                   all         30       1041      0.828      0.853      0.919      0.528\n"
     ]
    },
    {
     "name": "stderr",
     "output_type": "stream",
     "text": [
      "\n"
     ]
    },
    {
     "name": "stdout",
     "output_type": "stream",
     "text": [
      "\n",
      "      Epoch    GPU_mem   box_loss   cls_loss   dfl_loss  Instances       Size\n"
     ]
    },
    {
     "name": "stderr",
     "output_type": "stream",
     "text": [
      "      11/50       3.8G      3.025      1.626      2.218         22        640: 100%|██████████| 63/63 [00:14<00:00,  4.25it/s]\n",
      "                 Class     Images  Instances      Box(P          R      mAP50  mAP50-95): 100%|██████████| 2/2 [00:00<00:00,  5.47it/s]"
     ]
    },
    {
     "name": "stdout",
     "output_type": "stream",
     "text": [
      "                   all         30       1041      0.836      0.863       0.93      0.534\n"
     ]
    },
    {
     "name": "stderr",
     "output_type": "stream",
     "text": [
      "\n"
     ]
    },
    {
     "name": "stdout",
     "output_type": "stream",
     "text": [
      "\n",
      "      Epoch    GPU_mem   box_loss   cls_loss   dfl_loss  Instances       Size\n"
     ]
    },
    {
     "name": "stderr",
     "output_type": "stream",
     "text": [
      "      12/50      3.46G      3.002      1.599      2.215         15        640: 100%|██████████| 63/63 [00:13<00:00,  4.84it/s]\n",
      "                 Class     Images  Instances      Box(P          R      mAP50  mAP50-95): 100%|██████████| 2/2 [00:00<00:00,  5.33it/s]"
     ]
    },
    {
     "name": "stdout",
     "output_type": "stream",
     "text": [
      "                   all         30       1041      0.855      0.889      0.942      0.556\n"
     ]
    },
    {
     "name": "stderr",
     "output_type": "stream",
     "text": [
      "\n"
     ]
    },
    {
     "name": "stdout",
     "output_type": "stream",
     "text": [
      "\n",
      "      Epoch    GPU_mem   box_loss   cls_loss   dfl_loss  Instances       Size\n"
     ]
    },
    {
     "name": "stderr",
     "output_type": "stream",
     "text": [
      "      13/50      3.82G      2.998       1.52      2.189         83        640: 100%|██████████| 63/63 [00:21<00:00,  3.00it/s]\n",
      "                 Class     Images  Instances      Box(P          R      mAP50  mAP50-95): 100%|██████████| 2/2 [00:00<00:00,  5.50it/s]"
     ]
    },
    {
     "name": "stdout",
     "output_type": "stream",
     "text": [
      "                   all         30       1041      0.872      0.868      0.936      0.562\n"
     ]
    },
    {
     "name": "stderr",
     "output_type": "stream",
     "text": [
      "\n"
     ]
    },
    {
     "name": "stdout",
     "output_type": "stream",
     "text": [
      "\n",
      "      Epoch    GPU_mem   box_loss   cls_loss   dfl_loss  Instances       Size\n"
     ]
    },
    {
     "name": "stderr",
     "output_type": "stream",
     "text": [
      "      14/50      3.12G       2.97      1.474      2.172        128        640: 100%|██████████| 63/63 [00:13<00:00,  4.68it/s]\n",
      "                 Class     Images  Instances      Box(P          R      mAP50  mAP50-95): 100%|██████████| 2/2 [00:00<00:00,  5.11it/s]"
     ]
    },
    {
     "name": "stdout",
     "output_type": "stream",
     "text": [
      "                   all         30       1041      0.899      0.878       0.95      0.562\n"
     ]
    },
    {
     "name": "stderr",
     "output_type": "stream",
     "text": [
      "\n"
     ]
    },
    {
     "name": "stdout",
     "output_type": "stream",
     "text": [
      "\n",
      "      Epoch    GPU_mem   box_loss   cls_loss   dfl_loss  Instances       Size\n"
     ]
    },
    {
     "name": "stderr",
     "output_type": "stream",
     "text": [
      "      15/50      3.34G      2.923      1.466      2.181         80        640: 100%|██████████| 63/63 [00:13<00:00,  4.84it/s]\n",
      "                 Class     Images  Instances      Box(P          R      mAP50  mAP50-95): 100%|██████████| 2/2 [00:00<00:00,  5.49it/s]"
     ]
    },
    {
     "name": "stdout",
     "output_type": "stream",
     "text": [
      "                   all         30       1041      0.891       0.89      0.953      0.564\n"
     ]
    },
    {
     "name": "stderr",
     "output_type": "stream",
     "text": [
      "\n"
     ]
    },
    {
     "name": "stdout",
     "output_type": "stream",
     "text": [
      "\n",
      "      Epoch    GPU_mem   box_loss   cls_loss   dfl_loss  Instances       Size\n"
     ]
    },
    {
     "name": "stderr",
     "output_type": "stream",
     "text": [
      "      16/50      3.44G      3.041      1.485      2.211         17        640: 100%|██████████| 63/63 [00:13<00:00,  4.69it/s]\n",
      "                 Class     Images  Instances      Box(P          R      mAP50  mAP50-95): 100%|██████████| 2/2 [00:00<00:00,  5.17it/s]"
     ]
    },
    {
     "name": "stdout",
     "output_type": "stream",
     "text": [
      "                   all         30       1041       0.88      0.892      0.954      0.561\n"
     ]
    },
    {
     "name": "stderr",
     "output_type": "stream",
     "text": [
      "\n"
     ]
    },
    {
     "name": "stdout",
     "output_type": "stream",
     "text": [
      "\n",
      "      Epoch    GPU_mem   box_loss   cls_loss   dfl_loss  Instances       Size\n"
     ]
    },
    {
     "name": "stderr",
     "output_type": "stream",
     "text": [
      "      17/50      3.64G       2.93      1.449      2.183        108        640: 100%|██████████| 63/63 [00:13<00:00,  4.71it/s]\n",
      "                 Class     Images  Instances      Box(P          R      mAP50  mAP50-95): 100%|██████████| 2/2 [00:00<00:00,  5.10it/s]"
     ]
    },
    {
     "name": "stdout",
     "output_type": "stream",
     "text": [
      "                   all         30       1041      0.882      0.894      0.952      0.554\n"
     ]
    },
    {
     "name": "stderr",
     "output_type": "stream",
     "text": [
      "\n"
     ]
    },
    {
     "name": "stdout",
     "output_type": "stream",
     "text": [
      "\n",
      "      Epoch    GPU_mem   box_loss   cls_loss   dfl_loss  Instances       Size\n"
     ]
    },
    {
     "name": "stderr",
     "output_type": "stream",
     "text": [
      "      18/50      3.08G       2.94      1.393      2.173         62        640: 100%|██████████| 63/63 [00:13<00:00,  4.71it/s]\n",
      "                 Class     Images  Instances      Box(P          R      mAP50  mAP50-95): 100%|██████████| 2/2 [00:00<00:00,  4.99it/s]"
     ]
    },
    {
     "name": "stdout",
     "output_type": "stream",
     "text": [
      "                   all         30       1041      0.904      0.892      0.958       0.58\n"
     ]
    },
    {
     "name": "stderr",
     "output_type": "stream",
     "text": [
      "\n"
     ]
    },
    {
     "name": "stdout",
     "output_type": "stream",
     "text": [
      "\n",
      "      Epoch    GPU_mem   box_loss   cls_loss   dfl_loss  Instances       Size\n"
     ]
    },
    {
     "name": "stderr",
     "output_type": "stream",
     "text": [
      "      19/50      4.03G      2.905      1.389      2.207         18        640: 100%|██████████| 63/63 [00:18<00:00,  3.33it/s]\n",
      "                 Class     Images  Instances      Box(P          R      mAP50  mAP50-95): 100%|██████████| 2/2 [00:00<00:00,  5.62it/s]"
     ]
    },
    {
     "name": "stdout",
     "output_type": "stream",
     "text": [
      "                   all         30       1041      0.902      0.898      0.963      0.576\n"
     ]
    },
    {
     "name": "stderr",
     "output_type": "stream",
     "text": [
      "\n"
     ]
    },
    {
     "name": "stdout",
     "output_type": "stream",
     "text": [
      "\n",
      "      Epoch    GPU_mem   box_loss   cls_loss   dfl_loss  Instances       Size\n"
     ]
    },
    {
     "name": "stderr",
     "output_type": "stream",
     "text": [
      "      20/50      3.49G        2.9      1.362      2.161        219        640: 100%|██████████| 63/63 [00:13<00:00,  4.83it/s]\n",
      "                 Class     Images  Instances      Box(P          R      mAP50  mAP50-95): 100%|██████████| 2/2 [00:00<00:00,  5.62it/s]"
     ]
    },
    {
     "name": "stdout",
     "output_type": "stream",
     "text": [
      "                   all         30       1041        0.9      0.899      0.961      0.579\n"
     ]
    },
    {
     "name": "stderr",
     "output_type": "stream",
     "text": [
      "\n"
     ]
    },
    {
     "name": "stdout",
     "output_type": "stream",
     "text": [
      "\n",
      "      Epoch    GPU_mem   box_loss   cls_loss   dfl_loss  Instances       Size\n"
     ]
    },
    {
     "name": "stderr",
     "output_type": "stream",
     "text": [
      "      21/50      3.45G      2.918      1.343      2.179         61        640: 100%|██████████| 63/63 [00:12<00:00,  4.89it/s]\n",
      "                 Class     Images  Instances      Box(P          R      mAP50  mAP50-95): 100%|██████████| 2/2 [00:00<00:00,  5.47it/s]"
     ]
    },
    {
     "name": "stdout",
     "output_type": "stream",
     "text": [
      "                   all         30       1041      0.928      0.897      0.967      0.577\n"
     ]
    },
    {
     "name": "stderr",
     "output_type": "stream",
     "text": [
      "\n"
     ]
    },
    {
     "name": "stdout",
     "output_type": "stream",
     "text": [
      "\n",
      "      Epoch    GPU_mem   box_loss   cls_loss   dfl_loss  Instances       Size\n"
     ]
    },
    {
     "name": "stderr",
     "output_type": "stream",
     "text": [
      "      22/50      3.52G      2.852      1.325      2.157        155        640: 100%|██████████| 63/63 [00:12<00:00,  4.88it/s]\n",
      "                 Class     Images  Instances      Box(P          R      mAP50  mAP50-95): 100%|██████████| 2/2 [00:00<00:00,  5.34it/s]"
     ]
    },
    {
     "name": "stdout",
     "output_type": "stream",
     "text": [
      "                   all         30       1041      0.939      0.905      0.969      0.586\n"
     ]
    },
    {
     "name": "stderr",
     "output_type": "stream",
     "text": [
      "\n"
     ]
    },
    {
     "name": "stdout",
     "output_type": "stream",
     "text": [
      "\n",
      "      Epoch    GPU_mem   box_loss   cls_loss   dfl_loss  Instances       Size\n"
     ]
    },
    {
     "name": "stderr",
     "output_type": "stream",
     "text": [
      "      23/50      3.61G      2.903      1.315      2.165        153        640: 100%|██████████| 63/63 [00:13<00:00,  4.81it/s]\n",
      "                 Class     Images  Instances      Box(P          R      mAP50  mAP50-95): 100%|██████████| 2/2 [00:00<00:00,  5.63it/s]"
     ]
    },
    {
     "name": "stdout",
     "output_type": "stream",
     "text": [
      "                   all         30       1041      0.933       0.91      0.967      0.595\n"
     ]
    },
    {
     "name": "stderr",
     "output_type": "stream",
     "text": [
      "\n"
     ]
    },
    {
     "name": "stdout",
     "output_type": "stream",
     "text": [
      "\n",
      "      Epoch    GPU_mem   box_loss   cls_loss   dfl_loss  Instances       Size\n"
     ]
    },
    {
     "name": "stderr",
     "output_type": "stream",
     "text": [
      "      24/50      3.35G      2.816      1.336      2.164          3        640: 100%|██████████| 63/63 [00:12<00:00,  4.86it/s]\n",
      "                 Class     Images  Instances      Box(P          R      mAP50  mAP50-95): 100%|██████████| 2/2 [00:00<00:00,  5.65it/s]\n"
     ]
    },
    {
     "name": "stdout",
     "output_type": "stream",
     "text": [
      "                   all         30       1041      0.925      0.916      0.971      0.593\n",
      "\n",
      "      Epoch    GPU_mem   box_loss   cls_loss   dfl_loss  Instances       Size\n"
     ]
    },
    {
     "name": "stderr",
     "output_type": "stream",
     "text": [
      "      25/50      3.59G      2.839       1.27      2.124        178        640: 100%|██████████| 63/63 [00:13<00:00,  4.76it/s]\n",
      "                 Class     Images  Instances      Box(P          R      mAP50  mAP50-95): 100%|██████████| 2/2 [00:00<00:00,  5.44it/s]"
     ]
    },
    {
     "name": "stdout",
     "output_type": "stream",
     "text": [
      "                   all         30       1041      0.929      0.914      0.968      0.587\n"
     ]
    },
    {
     "name": "stderr",
     "output_type": "stream",
     "text": [
      "\n"
     ]
    },
    {
     "name": "stdout",
     "output_type": "stream",
     "text": [
      "\n",
      "      Epoch    GPU_mem   box_loss   cls_loss   dfl_loss  Instances       Size\n"
     ]
    },
    {
     "name": "stderr",
     "output_type": "stream",
     "text": [
      "      26/50      3.01G      2.817      1.258      2.158         91        640: 100%|██████████| 63/63 [00:12<00:00,  4.92it/s]\n",
      "                 Class     Images  Instances      Box(P          R      mAP50  mAP50-95): 100%|██████████| 2/2 [00:00<00:00,  5.67it/s]"
     ]
    },
    {
     "name": "stdout",
     "output_type": "stream",
     "text": [
      "                   all         30       1041      0.937      0.912      0.972      0.591\n"
     ]
    },
    {
     "name": "stderr",
     "output_type": "stream",
     "text": [
      "\n"
     ]
    },
    {
     "name": "stdout",
     "output_type": "stream",
     "text": [
      "\n",
      "      Epoch    GPU_mem   box_loss   cls_loss   dfl_loss  Instances       Size\n"
     ]
    },
    {
     "name": "stderr",
     "output_type": "stream",
     "text": [
      "      27/50      3.92G      2.816      1.245      2.136         50        640: 100%|██████████| 63/63 [00:16<00:00,  3.89it/s]\n",
      "                 Class     Images  Instances      Box(P          R      mAP50  mAP50-95): 100%|██████████| 2/2 [00:00<00:00,  5.44it/s]"
     ]
    },
    {
     "name": "stdout",
     "output_type": "stream",
     "text": [
      "                   all         30       1041      0.916      0.927      0.974      0.596\n"
     ]
    },
    {
     "name": "stderr",
     "output_type": "stream",
     "text": [
      "\n"
     ]
    },
    {
     "name": "stdout",
     "output_type": "stream",
     "text": [
      "\n",
      "      Epoch    GPU_mem   box_loss   cls_loss   dfl_loss  Instances       Size\n"
     ]
    },
    {
     "name": "stderr",
     "output_type": "stream",
     "text": [
      "      28/50      3.63G      2.871       1.26      2.169         34        640: 100%|██████████| 63/63 [00:13<00:00,  4.73it/s]\n",
      "                 Class     Images  Instances      Box(P          R      mAP50  mAP50-95): 100%|██████████| 2/2 [00:00<00:00,  5.44it/s]"
     ]
    },
    {
     "name": "stdout",
     "output_type": "stream",
     "text": [
      "                   all         30       1041      0.929      0.947      0.977      0.574\n"
     ]
    },
    {
     "name": "stderr",
     "output_type": "stream",
     "text": [
      "\n"
     ]
    },
    {
     "name": "stdout",
     "output_type": "stream",
     "text": [
      "\n",
      "      Epoch    GPU_mem   box_loss   cls_loss   dfl_loss  Instances       Size\n"
     ]
    },
    {
     "name": "stderr",
     "output_type": "stream",
     "text": [
      "      29/50      3.54G      2.838      1.246      2.192         27        640: 100%|██████████| 63/63 [00:15<00:00,  4.10it/s]\n",
      "                 Class     Images  Instances      Box(P          R      mAP50  mAP50-95): 100%|██████████| 2/2 [00:00<00:00,  3.43it/s]"
     ]
    },
    {
     "name": "stdout",
     "output_type": "stream",
     "text": [
      "                   all         30       1041      0.921      0.926      0.976      0.605\n"
     ]
    },
    {
     "name": "stderr",
     "output_type": "stream",
     "text": [
      "\n"
     ]
    },
    {
     "name": "stdout",
     "output_type": "stream",
     "text": [
      "\n",
      "      Epoch    GPU_mem   box_loss   cls_loss   dfl_loss  Instances       Size\n"
     ]
    },
    {
     "name": "stderr",
     "output_type": "stream",
     "text": [
      "      30/50      3.09G      2.846      1.229      2.147        186        640: 100%|██████████| 63/63 [00:15<00:00,  3.96it/s]\n",
      "                 Class     Images  Instances      Box(P          R      mAP50  mAP50-95): 100%|██████████| 2/2 [00:00<00:00,  5.34it/s]"
     ]
    },
    {
     "name": "stdout",
     "output_type": "stream",
     "text": [
      "                   all         30       1041       0.93      0.927      0.976      0.602\n"
     ]
    },
    {
     "name": "stderr",
     "output_type": "stream",
     "text": [
      "\n"
     ]
    },
    {
     "name": "stdout",
     "output_type": "stream",
     "text": [
      "\n",
      "      Epoch    GPU_mem   box_loss   cls_loss   dfl_loss  Instances       Size\n"
     ]
    },
    {
     "name": "stderr",
     "output_type": "stream",
     "text": [
      "      31/50      3.71G       2.78      1.208      2.168         21        640: 100%|██████████| 63/63 [00:12<00:00,  4.87it/s]\n",
      "                 Class     Images  Instances      Box(P          R      mAP50  mAP50-95): 100%|██████████| 2/2 [00:00<00:00,  4.94it/s]"
     ]
    },
    {
     "name": "stdout",
     "output_type": "stream",
     "text": [
      "                   all         30       1041      0.948      0.932      0.982      0.604\n"
     ]
    },
    {
     "name": "stderr",
     "output_type": "stream",
     "text": [
      "\n"
     ]
    },
    {
     "name": "stdout",
     "output_type": "stream",
     "text": [
      "\n",
      "      Epoch    GPU_mem   box_loss   cls_loss   dfl_loss  Instances       Size\n"
     ]
    },
    {
     "name": "stderr",
     "output_type": "stream",
     "text": [
      "      32/50      3.64G      2.771      1.179      2.131         92        640: 100%|██████████| 63/63 [00:12<00:00,  4.85it/s]\n",
      "                 Class     Images  Instances      Box(P          R      mAP50  mAP50-95): 100%|██████████| 2/2 [00:00<00:00,  5.19it/s]"
     ]
    },
    {
     "name": "stdout",
     "output_type": "stream",
     "text": [
      "                   all         30       1041      0.925      0.944      0.978      0.599\n"
     ]
    },
    {
     "name": "stderr",
     "output_type": "stream",
     "text": [
      "\n"
     ]
    },
    {
     "name": "stdout",
     "output_type": "stream",
     "text": [
      "\n",
      "      Epoch    GPU_mem   box_loss   cls_loss   dfl_loss  Instances       Size\n"
     ]
    },
    {
     "name": "stderr",
     "output_type": "stream",
     "text": [
      "      33/50      3.74G      2.807      1.261       2.15          3        640: 100%|██████████| 63/63 [00:14<00:00,  4.38it/s]\n",
      "                 Class     Images  Instances      Box(P          R      mAP50  mAP50-95): 100%|██████████| 2/2 [00:00<00:00,  4.89it/s]"
     ]
    },
    {
     "name": "stdout",
     "output_type": "stream",
     "text": [
      "                   all         30       1041      0.935      0.939      0.979      0.601\n"
     ]
    },
    {
     "name": "stderr",
     "output_type": "stream",
     "text": [
      "\n"
     ]
    },
    {
     "name": "stdout",
     "output_type": "stream",
     "text": [
      "\n",
      "      Epoch    GPU_mem   box_loss   cls_loss   dfl_loss  Instances       Size\n"
     ]
    },
    {
     "name": "stderr",
     "output_type": "stream",
     "text": [
      "      34/50      3.67G       2.81       1.19      2.137         72        640: 100%|██████████| 63/63 [00:13<00:00,  4.50it/s]\n",
      "                 Class     Images  Instances      Box(P          R      mAP50  mAP50-95): 100%|██████████| 2/2 [00:00<00:00,  5.46it/s]"
     ]
    },
    {
     "name": "stdout",
     "output_type": "stream",
     "text": [
      "                   all         30       1041      0.949       0.94      0.977      0.603\n"
     ]
    },
    {
     "name": "stderr",
     "output_type": "stream",
     "text": [
      "\n"
     ]
    },
    {
     "name": "stdout",
     "output_type": "stream",
     "text": [
      "\n",
      "      Epoch    GPU_mem   box_loss   cls_loss   dfl_loss  Instances       Size\n"
     ]
    },
    {
     "name": "stderr",
     "output_type": "stream",
     "text": [
      "      35/50      4.01G      2.782      1.176      2.121        106        640: 100%|██████████| 63/63 [00:19<00:00,  3.20it/s]\n",
      "                 Class     Images  Instances      Box(P          R      mAP50  mAP50-95): 100%|██████████| 2/2 [00:01<00:00,  1.38it/s]"
     ]
    },
    {
     "name": "stdout",
     "output_type": "stream",
     "text": [
      "                   all         30       1041      0.934      0.932      0.975      0.602\n"
     ]
    },
    {
     "name": "stderr",
     "output_type": "stream",
     "text": [
      "\n"
     ]
    },
    {
     "name": "stdout",
     "output_type": "stream",
     "text": [
      "\n",
      "      Epoch    GPU_mem   box_loss   cls_loss   dfl_loss  Instances       Size\n"
     ]
    },
    {
     "name": "stderr",
     "output_type": "stream",
     "text": [
      "      36/50      2.78G      2.746      1.155      2.127         51        640: 100%|██████████| 63/63 [00:12<00:00,  5.01it/s]\n",
      "                 Class     Images  Instances      Box(P          R      mAP50  mAP50-95): 100%|██████████| 2/2 [00:00<00:00,  5.65it/s]"
     ]
    },
    {
     "name": "stdout",
     "output_type": "stream",
     "text": [
      "                   all         30       1041      0.932      0.947       0.98       0.61\n"
     ]
    },
    {
     "name": "stderr",
     "output_type": "stream",
     "text": [
      "\n"
     ]
    },
    {
     "name": "stdout",
     "output_type": "stream",
     "text": [
      "\n",
      "      Epoch    GPU_mem   box_loss   cls_loss   dfl_loss  Instances       Size\n"
     ]
    },
    {
     "name": "stderr",
     "output_type": "stream",
     "text": [
      "      37/50      3.46G      2.712      1.127      2.133         62        640: 100%|██████████| 63/63 [00:12<00:00,  5.08it/s]\n",
      "                 Class     Images  Instances      Box(P          R      mAP50  mAP50-95): 100%|██████████| 2/2 [00:00<00:00,  5.67it/s]\n"
     ]
    },
    {
     "name": "stdout",
     "output_type": "stream",
     "text": [
      "                   all         30       1041      0.944       0.94      0.975      0.605\n",
      "\n",
      "      Epoch    GPU_mem   box_loss   cls_loss   dfl_loss  Instances       Size\n"
     ]
    },
    {
     "name": "stderr",
     "output_type": "stream",
     "text": [
      "      38/50      3.44G       2.73      1.142      2.116         19        640: 100%|██████████| 63/63 [00:13<00:00,  4.78it/s]\n",
      "                 Class     Images  Instances      Box(P          R      mAP50  mAP50-95): 100%|██████████| 2/2 [00:00<00:00,  5.41it/s]"
     ]
    },
    {
     "name": "stdout",
     "output_type": "stream",
     "text": [
      "                   all         30       1041      0.958      0.939      0.981      0.612\n"
     ]
    },
    {
     "name": "stderr",
     "output_type": "stream",
     "text": [
      "\n"
     ]
    },
    {
     "name": "stdout",
     "output_type": "stream",
     "text": [
      "\n",
      "      Epoch    GPU_mem   box_loss   cls_loss   dfl_loss  Instances       Size\n"
     ]
    },
    {
     "name": "stderr",
     "output_type": "stream",
     "text": [
      "      39/50      3.53G       2.71      1.136      2.125         26        640: 100%|██████████| 63/63 [00:12<00:00,  4.88it/s]\n",
      "                 Class     Images  Instances      Box(P          R      mAP50  mAP50-95): 100%|██████████| 2/2 [00:00<00:00,  5.47it/s]"
     ]
    },
    {
     "name": "stdout",
     "output_type": "stream",
     "text": [
      "                   all         30       1041      0.951      0.954      0.982      0.606\n"
     ]
    },
    {
     "name": "stderr",
     "output_type": "stream",
     "text": [
      "\n"
     ]
    },
    {
     "name": "stdout",
     "output_type": "stream",
     "text": [
      "\n",
      "      Epoch    GPU_mem   box_loss   cls_loss   dfl_loss  Instances       Size\n"
     ]
    },
    {
     "name": "stderr",
     "output_type": "stream",
     "text": [
      "      40/50      3.12G      2.724       1.15       2.11         10        640: 100%|██████████| 63/63 [00:12<00:00,  4.93it/s]\n",
      "                 Class     Images  Instances      Box(P          R      mAP50  mAP50-95): 100%|██████████| 2/2 [00:00<00:00,  5.62it/s]"
     ]
    },
    {
     "name": "stdout",
     "output_type": "stream",
     "text": [
      "                   all         30       1041      0.935      0.952      0.982        0.6\n"
     ]
    },
    {
     "name": "stderr",
     "output_type": "stream",
     "text": [
      "\n"
     ]
    },
    {
     "name": "stdout",
     "output_type": "stream",
     "text": [
      "Closing dataloader mosaic\n",
      "\n",
      "      Epoch    GPU_mem   box_loss   cls_loss   dfl_loss  Instances       Size\n"
     ]
    },
    {
     "name": "stderr",
     "output_type": "stream",
     "text": [
      "      41/50      2.34G       2.63      1.059      2.174         51        640: 100%|██████████| 63/63 [00:14<00:00,  4.49it/s]\n",
      "                 Class     Images  Instances      Box(P          R      mAP50  mAP50-95): 100%|██████████| 2/2 [00:00<00:00,  5.28it/s]"
     ]
    },
    {
     "name": "stdout",
     "output_type": "stream",
     "text": [
      "                   all         30       1041      0.955      0.946      0.982      0.598\n"
     ]
    },
    {
     "name": "stderr",
     "output_type": "stream",
     "text": [
      "\n"
     ]
    },
    {
     "name": "stdout",
     "output_type": "stream",
     "text": [
      "\n",
      "      Epoch    GPU_mem   box_loss   cls_loss   dfl_loss  Instances       Size\n"
     ]
    },
    {
     "name": "stderr",
     "output_type": "stream",
     "text": [
      "      42/50       2.8G      2.629      1.085      2.187          2        640: 100%|██████████| 63/63 [00:12<00:00,  5.14it/s]\n",
      "                 Class     Images  Instances      Box(P          R      mAP50  mAP50-95): 100%|██████████| 2/2 [00:00<00:00,  5.48it/s]"
     ]
    },
    {
     "name": "stdout",
     "output_type": "stream",
     "text": [
      "                   all         30       1041      0.964      0.929      0.982      0.599\n"
     ]
    },
    {
     "name": "stderr",
     "output_type": "stream",
     "text": [
      "\n"
     ]
    },
    {
     "name": "stdout",
     "output_type": "stream",
     "text": [
      "\n",
      "      Epoch    GPU_mem   box_loss   cls_loss   dfl_loss  Instances       Size\n"
     ]
    },
    {
     "name": "stderr",
     "output_type": "stream",
     "text": [
      "      43/50      2.39G      2.632      1.048      2.197         73        640: 100%|██████████| 63/63 [00:12<00:00,  4.98it/s]\n",
      "                 Class     Images  Instances      Box(P          R      mAP50  mAP50-95): 100%|██████████| 2/2 [00:00<00:00,  5.31it/s]"
     ]
    },
    {
     "name": "stdout",
     "output_type": "stream",
     "text": [
      "                   all         30       1041      0.949      0.947      0.983      0.608\n"
     ]
    },
    {
     "name": "stderr",
     "output_type": "stream",
     "text": [
      "\n"
     ]
    },
    {
     "name": "stdout",
     "output_type": "stream",
     "text": [
      "\n",
      "      Epoch    GPU_mem   box_loss   cls_loss   dfl_loss  Instances       Size\n"
     ]
    },
    {
     "name": "stderr",
     "output_type": "stream",
     "text": [
      "      44/50      2.65G      2.614      1.042      2.166        176        640: 100%|██████████| 63/63 [00:12<00:00,  5.10it/s]\n",
      "                 Class     Images  Instances      Box(P          R      mAP50  mAP50-95): 100%|██████████| 2/2 [00:00<00:00,  5.49it/s]"
     ]
    },
    {
     "name": "stdout",
     "output_type": "stream",
     "text": [
      "                   all         30       1041      0.954      0.938       0.98      0.608\n"
     ]
    },
    {
     "name": "stderr",
     "output_type": "stream",
     "text": [
      "\n"
     ]
    },
    {
     "name": "stdout",
     "output_type": "stream",
     "text": [
      "\n",
      "      Epoch    GPU_mem   box_loss   cls_loss   dfl_loss  Instances       Size\n"
     ]
    },
    {
     "name": "stderr",
     "output_type": "stream",
     "text": [
      "      45/50      2.61G      2.564      1.011      2.144         42        640: 100%|██████████| 63/63 [00:12<00:00,  5.16it/s]\n",
      "                 Class     Images  Instances      Box(P          R      mAP50  mAP50-95): 100%|██████████| 2/2 [00:00<00:00,  3.83it/s]"
     ]
    },
    {
     "name": "stdout",
     "output_type": "stream",
     "text": [
      "                   all         30       1041      0.937      0.953      0.983      0.612\n"
     ]
    },
    {
     "name": "stderr",
     "output_type": "stream",
     "text": [
      "\n"
     ]
    },
    {
     "name": "stdout",
     "output_type": "stream",
     "text": [
      "\n",
      "      Epoch    GPU_mem   box_loss   cls_loss   dfl_loss  Instances       Size\n"
     ]
    },
    {
     "name": "stderr",
     "output_type": "stream",
     "text": [
      "      46/50      2.48G      2.548     0.9951      2.179         42        640: 100%|██████████| 63/63 [00:12<00:00,  4.95it/s]\n",
      "                 Class     Images  Instances      Box(P          R      mAP50  mAP50-95): 100%|██████████| 2/2 [00:00<00:00,  5.32it/s]"
     ]
    },
    {
     "name": "stdout",
     "output_type": "stream",
     "text": [
      "                   all         30       1041      0.952      0.945      0.982      0.606\n"
     ]
    },
    {
     "name": "stderr",
     "output_type": "stream",
     "text": [
      "\n"
     ]
    },
    {
     "name": "stdout",
     "output_type": "stream",
     "text": [
      "\n",
      "      Epoch    GPU_mem   box_loss   cls_loss   dfl_loss  Instances       Size\n"
     ]
    },
    {
     "name": "stderr",
     "output_type": "stream",
     "text": [
      "      47/50      2.13G      2.553      1.016      2.181          6        640: 100%|██████████| 63/63 [00:11<00:00,  5.30it/s]\n",
      "                 Class     Images  Instances      Box(P          R      mAP50  mAP50-95): 100%|██████████| 2/2 [00:00<00:00,  5.54it/s]"
     ]
    },
    {
     "name": "stdout",
     "output_type": "stream",
     "text": [
      "                   all         30       1041      0.948      0.953      0.979       0.61\n"
     ]
    },
    {
     "name": "stderr",
     "output_type": "stream",
     "text": [
      "\n"
     ]
    },
    {
     "name": "stdout",
     "output_type": "stream",
     "text": [
      "\n",
      "      Epoch    GPU_mem   box_loss   cls_loss   dfl_loss  Instances       Size\n"
     ]
    },
    {
     "name": "stderr",
     "output_type": "stream",
     "text": [
      "      48/50      2.69G      2.541     0.9945      2.147         48        640: 100%|██████████| 63/63 [00:11<00:00,  5.30it/s]\n",
      "                 Class     Images  Instances      Box(P          R      mAP50  mAP50-95): 100%|██████████| 2/2 [00:00<00:00,  5.50it/s]"
     ]
    },
    {
     "name": "stdout",
     "output_type": "stream",
     "text": [
      "                   all         30       1041      0.954      0.955      0.984      0.612\n"
     ]
    },
    {
     "name": "stderr",
     "output_type": "stream",
     "text": [
      "\n"
     ]
    },
    {
     "name": "stdout",
     "output_type": "stream",
     "text": [
      "\n",
      "      Epoch    GPU_mem   box_loss   cls_loss   dfl_loss  Instances       Size\n"
     ]
    },
    {
     "name": "stderr",
     "output_type": "stream",
     "text": [
      "      49/50      2.37G       2.56      1.008      2.159         37        640: 100%|██████████| 63/63 [00:13<00:00,  4.73it/s]\n",
      "                 Class     Images  Instances      Box(P          R      mAP50  mAP50-95): 100%|██████████| 2/2 [00:00<00:00,  3.70it/s]"
     ]
    },
    {
     "name": "stdout",
     "output_type": "stream",
     "text": [
      "                   all         30       1041      0.948      0.949      0.983      0.613\n"
     ]
    },
    {
     "name": "stderr",
     "output_type": "stream",
     "text": [
      "\n"
     ]
    },
    {
     "name": "stdout",
     "output_type": "stream",
     "text": [
      "\n",
      "      Epoch    GPU_mem   box_loss   cls_loss   dfl_loss  Instances       Size\n"
     ]
    },
    {
     "name": "stderr",
     "output_type": "stream",
     "text": [
      "      50/50      2.51G      2.517     0.9816      2.131         17        640: 100%|██████████| 63/63 [00:13<00:00,  4.80it/s]\n",
      "                 Class     Images  Instances      Box(P          R      mAP50  mAP50-95): 100%|██████████| 2/2 [00:00<00:00,  3.79it/s]"
     ]
    },
    {
     "name": "stdout",
     "output_type": "stream",
     "text": [
      "                   all         30       1041      0.958      0.951      0.983      0.613\n"
     ]
    },
    {
     "name": "stderr",
     "output_type": "stream",
     "text": [
      "\n"
     ]
    },
    {
     "name": "stdout",
     "output_type": "stream",
     "text": [
      "\n",
      "50 epochs completed in 0.205 hours.\n",
      "Optimizer stripped from runs/train/E50B8/weights/last.pt, 5.8MB\n",
      "Optimizer stripped from runs/train/E50B8/weights/best.pt, 5.8MB\n",
      "\n",
      "Validating runs/train/E50B8/weights/best.pt...\n",
      "Ultralytics YOLOv8.2.101 🚀 Python-3.10.12 torch-2.4.1+cu121 CUDA:0 (NVIDIA GeForce RTX 3050 Laptop GPU, 4096MiB)\n",
      "YOLOv10n summary (fused): 285 layers, 2,694,806 parameters, 0 gradients, 8.2 GFLOPs\n"
     ]
    },
    {
     "name": "stderr",
     "output_type": "stream",
     "text": [
      "                 Class     Images  Instances      Box(P          R      mAP50  mAP50-95): 100%|██████████| 2/2 [00:01<00:00,  1.12it/s]\n"
     ]
    },
    {
     "name": "stdout",
     "output_type": "stream",
     "text": [
      "                   all         30       1041      0.956      0.954      0.983      0.614\n",
      "Speed: 1.5ms preprocess, 3.8ms inference, 0.0ms loss, 0.2ms postprocess per image\n",
      "Results saved to \u001b[1mruns/train/E50B8\u001b[0m\n"
     ]
    },
    {
     "data": {
      "text/plain": [
       "ultralytics.utils.metrics.DetMetrics object with attributes:\n",
       "\n",
       "ap_class_index: array([0])\n",
       "box: ultralytics.utils.metrics.Metric object\n",
       "confusion_matrix: <ultralytics.utils.metrics.ConfusionMatrix object at 0x7f8fc14cae90>\n",
       "curves: ['Precision-Recall(B)', 'F1-Confidence(B)', 'Precision-Confidence(B)', 'Recall-Confidence(B)']\n",
       "curves_results: [[array([          0,    0.001001,    0.002002,    0.003003,    0.004004,    0.005005,    0.006006,    0.007007,    0.008008,    0.009009,     0.01001,    0.011011,    0.012012,    0.013013,    0.014014,    0.015015,    0.016016,    0.017017,    0.018018,    0.019019,     0.02002,    0.021021,    0.022022,    0.023023,\n",
       "          0.024024,    0.025025,    0.026026,    0.027027,    0.028028,    0.029029,     0.03003,    0.031031,    0.032032,    0.033033,    0.034034,    0.035035,    0.036036,    0.037037,    0.038038,    0.039039,     0.04004,    0.041041,    0.042042,    0.043043,    0.044044,    0.045045,    0.046046,    0.047047,\n",
       "          0.048048,    0.049049,     0.05005,    0.051051,    0.052052,    0.053053,    0.054054,    0.055055,    0.056056,    0.057057,    0.058058,    0.059059,     0.06006,    0.061061,    0.062062,    0.063063,    0.064064,    0.065065,    0.066066,    0.067067,    0.068068,    0.069069,     0.07007,    0.071071,\n",
       "          0.072072,    0.073073,    0.074074,    0.075075,    0.076076,    0.077077,    0.078078,    0.079079,     0.08008,    0.081081,    0.082082,    0.083083,    0.084084,    0.085085,    0.086086,    0.087087,    0.088088,    0.089089,     0.09009,    0.091091,    0.092092,    0.093093,    0.094094,    0.095095,\n",
       "          0.096096,    0.097097,    0.098098,    0.099099,      0.1001,      0.1011,      0.1021,      0.1031,      0.1041,     0.10511,     0.10611,     0.10711,     0.10811,     0.10911,     0.11011,     0.11111,     0.11211,     0.11311,     0.11411,     0.11512,     0.11612,     0.11712,     0.11812,     0.11912,\n",
       "           0.12012,     0.12112,     0.12212,     0.12312,     0.12412,     0.12513,     0.12613,     0.12713,     0.12813,     0.12913,     0.13013,     0.13113,     0.13213,     0.13313,     0.13413,     0.13514,     0.13614,     0.13714,     0.13814,     0.13914,     0.14014,     0.14114,     0.14214,     0.14314,\n",
       "           0.14414,     0.14515,     0.14615,     0.14715,     0.14815,     0.14915,     0.15015,     0.15115,     0.15215,     0.15315,     0.15415,     0.15516,     0.15616,     0.15716,     0.15816,     0.15916,     0.16016,     0.16116,     0.16216,     0.16316,     0.16416,     0.16517,     0.16617,     0.16717,\n",
       "           0.16817,     0.16917,     0.17017,     0.17117,     0.17217,     0.17317,     0.17417,     0.17518,     0.17618,     0.17718,     0.17818,     0.17918,     0.18018,     0.18118,     0.18218,     0.18318,     0.18418,     0.18519,     0.18619,     0.18719,     0.18819,     0.18919,     0.19019,     0.19119,\n",
       "           0.19219,     0.19319,     0.19419,      0.1952,      0.1962,      0.1972,      0.1982,      0.1992,      0.2002,      0.2012,      0.2022,      0.2032,      0.2042,     0.20521,     0.20621,     0.20721,     0.20821,     0.20921,     0.21021,     0.21121,     0.21221,     0.21321,     0.21421,     0.21522,\n",
       "           0.21622,     0.21722,     0.21822,     0.21922,     0.22022,     0.22122,     0.22222,     0.22322,     0.22422,     0.22523,     0.22623,     0.22723,     0.22823,     0.22923,     0.23023,     0.23123,     0.23223,     0.23323,     0.23423,     0.23524,     0.23624,     0.23724,     0.23824,     0.23924,\n",
       "           0.24024,     0.24124,     0.24224,     0.24324,     0.24424,     0.24525,     0.24625,     0.24725,     0.24825,     0.24925,     0.25025,     0.25125,     0.25225,     0.25325,     0.25425,     0.25526,     0.25626,     0.25726,     0.25826,     0.25926,     0.26026,     0.26126,     0.26226,     0.26326,\n",
       "           0.26426,     0.26527,     0.26627,     0.26727,     0.26827,     0.26927,     0.27027,     0.27127,     0.27227,     0.27327,     0.27427,     0.27528,     0.27628,     0.27728,     0.27828,     0.27928,     0.28028,     0.28128,     0.28228,     0.28328,     0.28428,     0.28529,     0.28629,     0.28729,\n",
       "           0.28829,     0.28929,     0.29029,     0.29129,     0.29229,     0.29329,     0.29429,      0.2953,      0.2963,      0.2973,      0.2983,      0.2993,      0.3003,      0.3013,      0.3023,      0.3033,      0.3043,     0.30531,     0.30631,     0.30731,     0.30831,     0.30931,     0.31031,     0.31131,\n",
       "           0.31231,     0.31331,     0.31431,     0.31532,     0.31632,     0.31732,     0.31832,     0.31932,     0.32032,     0.32132,     0.32232,     0.32332,     0.32432,     0.32533,     0.32633,     0.32733,     0.32833,     0.32933,     0.33033,     0.33133,     0.33233,     0.33333,     0.33433,     0.33534,\n",
       "           0.33634,     0.33734,     0.33834,     0.33934,     0.34034,     0.34134,     0.34234,     0.34334,     0.34434,     0.34535,     0.34635,     0.34735,     0.34835,     0.34935,     0.35035,     0.35135,     0.35235,     0.35335,     0.35435,     0.35536,     0.35636,     0.35736,     0.35836,     0.35936,\n",
       "           0.36036,     0.36136,     0.36236,     0.36336,     0.36436,     0.36537,     0.36637,     0.36737,     0.36837,     0.36937,     0.37037,     0.37137,     0.37237,     0.37337,     0.37437,     0.37538,     0.37638,     0.37738,     0.37838,     0.37938,     0.38038,     0.38138,     0.38238,     0.38338,\n",
       "           0.38438,     0.38539,     0.38639,     0.38739,     0.38839,     0.38939,     0.39039,     0.39139,     0.39239,     0.39339,     0.39439,      0.3954,      0.3964,      0.3974,      0.3984,      0.3994,      0.4004,      0.4014,      0.4024,      0.4034,      0.4044,     0.40541,     0.40641,     0.40741,\n",
       "           0.40841,     0.40941,     0.41041,     0.41141,     0.41241,     0.41341,     0.41441,     0.41542,     0.41642,     0.41742,     0.41842,     0.41942,     0.42042,     0.42142,     0.42242,     0.42342,     0.42442,     0.42543,     0.42643,     0.42743,     0.42843,     0.42943,     0.43043,     0.43143,\n",
       "           0.43243,     0.43343,     0.43443,     0.43544,     0.43644,     0.43744,     0.43844,     0.43944,     0.44044,     0.44144,     0.44244,     0.44344,     0.44444,     0.44545,     0.44645,     0.44745,     0.44845,     0.44945,     0.45045,     0.45145,     0.45245,     0.45345,     0.45445,     0.45546,\n",
       "           0.45646,     0.45746,     0.45846,     0.45946,     0.46046,     0.46146,     0.46246,     0.46346,     0.46446,     0.46547,     0.46647,     0.46747,     0.46847,     0.46947,     0.47047,     0.47147,     0.47247,     0.47347,     0.47447,     0.47548,     0.47648,     0.47748,     0.47848,     0.47948,\n",
       "           0.48048,     0.48148,     0.48248,     0.48348,     0.48448,     0.48549,     0.48649,     0.48749,     0.48849,     0.48949,     0.49049,     0.49149,     0.49249,     0.49349,     0.49449,      0.4955,      0.4965,      0.4975,      0.4985,      0.4995,      0.5005,      0.5015,      0.5025,      0.5035,\n",
       "            0.5045,     0.50551,     0.50651,     0.50751,     0.50851,     0.50951,     0.51051,     0.51151,     0.51251,     0.51351,     0.51451,     0.51552,     0.51652,     0.51752,     0.51852,     0.51952,     0.52052,     0.52152,     0.52252,     0.52352,     0.52452,     0.52553,     0.52653,     0.52753,\n",
       "           0.52853,     0.52953,     0.53053,     0.53153,     0.53253,     0.53353,     0.53453,     0.53554,     0.53654,     0.53754,     0.53854,     0.53954,     0.54054,     0.54154,     0.54254,     0.54354,     0.54454,     0.54555,     0.54655,     0.54755,     0.54855,     0.54955,     0.55055,     0.55155,\n",
       "           0.55255,     0.55355,     0.55455,     0.55556,     0.55656,     0.55756,     0.55856,     0.55956,     0.56056,     0.56156,     0.56256,     0.56356,     0.56456,     0.56557,     0.56657,     0.56757,     0.56857,     0.56957,     0.57057,     0.57157,     0.57257,     0.57357,     0.57457,     0.57558,\n",
       "           0.57658,     0.57758,     0.57858,     0.57958,     0.58058,     0.58158,     0.58258,     0.58358,     0.58458,     0.58559,     0.58659,     0.58759,     0.58859,     0.58959,     0.59059,     0.59159,     0.59259,     0.59359,     0.59459,      0.5956,      0.5966,      0.5976,      0.5986,      0.5996,\n",
       "            0.6006,      0.6016,      0.6026,      0.6036,      0.6046,     0.60561,     0.60661,     0.60761,     0.60861,     0.60961,     0.61061,     0.61161,     0.61261,     0.61361,     0.61461,     0.61562,     0.61662,     0.61762,     0.61862,     0.61962,     0.62062,     0.62162,     0.62262,     0.62362,\n",
       "           0.62462,     0.62563,     0.62663,     0.62763,     0.62863,     0.62963,     0.63063,     0.63163,     0.63263,     0.63363,     0.63463,     0.63564,     0.63664,     0.63764,     0.63864,     0.63964,     0.64064,     0.64164,     0.64264,     0.64364,     0.64464,     0.64565,     0.64665,     0.64765,\n",
       "           0.64865,     0.64965,     0.65065,     0.65165,     0.65265,     0.65365,     0.65465,     0.65566,     0.65666,     0.65766,     0.65866,     0.65966,     0.66066,     0.66166,     0.66266,     0.66366,     0.66466,     0.66567,     0.66667,     0.66767,     0.66867,     0.66967,     0.67067,     0.67167,\n",
       "           0.67267,     0.67367,     0.67467,     0.67568,     0.67668,     0.67768,     0.67868,     0.67968,     0.68068,     0.68168,     0.68268,     0.68368,     0.68468,     0.68569,     0.68669,     0.68769,     0.68869,     0.68969,     0.69069,     0.69169,     0.69269,     0.69369,     0.69469,      0.6957,\n",
       "            0.6967,      0.6977,      0.6987,      0.6997,      0.7007,      0.7017,      0.7027,      0.7037,      0.7047,     0.70571,     0.70671,     0.70771,     0.70871,     0.70971,     0.71071,     0.71171,     0.71271,     0.71371,     0.71471,     0.71572,     0.71672,     0.71772,     0.71872,     0.71972,\n",
       "           0.72072,     0.72172,     0.72272,     0.72372,     0.72472,     0.72573,     0.72673,     0.72773,     0.72873,     0.72973,     0.73073,     0.73173,     0.73273,     0.73373,     0.73473,     0.73574,     0.73674,     0.73774,     0.73874,     0.73974,     0.74074,     0.74174,     0.74274,     0.74374,\n",
       "           0.74474,     0.74575,     0.74675,     0.74775,     0.74875,     0.74975,     0.75075,     0.75175,     0.75275,     0.75375,     0.75475,     0.75576,     0.75676,     0.75776,     0.75876,     0.75976,     0.76076,     0.76176,     0.76276,     0.76376,     0.76476,     0.76577,     0.76677,     0.76777,\n",
       "           0.76877,     0.76977,     0.77077,     0.77177,     0.77277,     0.77377,     0.77477,     0.77578,     0.77678,     0.77778,     0.77878,     0.77978,     0.78078,     0.78178,     0.78278,     0.78378,     0.78478,     0.78579,     0.78679,     0.78779,     0.78879,     0.78979,     0.79079,     0.79179,\n",
       "           0.79279,     0.79379,     0.79479,      0.7958,      0.7968,      0.7978,      0.7988,      0.7998,      0.8008,      0.8018,      0.8028,      0.8038,      0.8048,     0.80581,     0.80681,     0.80781,     0.80881,     0.80981,     0.81081,     0.81181,     0.81281,     0.81381,     0.81481,     0.81582,\n",
       "           0.81682,     0.81782,     0.81882,     0.81982,     0.82082,     0.82182,     0.82282,     0.82382,     0.82482,     0.82583,     0.82683,     0.82783,     0.82883,     0.82983,     0.83083,     0.83183,     0.83283,     0.83383,     0.83483,     0.83584,     0.83684,     0.83784,     0.83884,     0.83984,\n",
       "           0.84084,     0.84184,     0.84284,     0.84384,     0.84484,     0.84585,     0.84685,     0.84785,     0.84885,     0.84985,     0.85085,     0.85185,     0.85285,     0.85385,     0.85485,     0.85586,     0.85686,     0.85786,     0.85886,     0.85986,     0.86086,     0.86186,     0.86286,     0.86386,\n",
       "           0.86486,     0.86587,     0.86687,     0.86787,     0.86887,     0.86987,     0.87087,     0.87187,     0.87287,     0.87387,     0.87487,     0.87588,     0.87688,     0.87788,     0.87888,     0.87988,     0.88088,     0.88188,     0.88288,     0.88388,     0.88488,     0.88589,     0.88689,     0.88789,\n",
       "           0.88889,     0.88989,     0.89089,     0.89189,     0.89289,     0.89389,     0.89489,      0.8959,      0.8969,      0.8979,      0.8989,      0.8999,      0.9009,      0.9019,      0.9029,      0.9039,      0.9049,     0.90591,     0.90691,     0.90791,     0.90891,     0.90991,     0.91091,     0.91191,\n",
       "           0.91291,     0.91391,     0.91491,     0.91592,     0.91692,     0.91792,     0.91892,     0.91992,     0.92092,     0.92192,     0.92292,     0.92392,     0.92492,     0.92593,     0.92693,     0.92793,     0.92893,     0.92993,     0.93093,     0.93193,     0.93293,     0.93393,     0.93493,     0.93594,\n",
       "           0.93694,     0.93794,     0.93894,     0.93994,     0.94094,     0.94194,     0.94294,     0.94394,     0.94494,     0.94595,     0.94695,     0.94795,     0.94895,     0.94995,     0.95095,     0.95195,     0.95295,     0.95395,     0.95495,     0.95596,     0.95696,     0.95796,     0.95896,     0.95996,\n",
       "           0.96096,     0.96196,     0.96296,     0.96396,     0.96496,     0.96597,     0.96697,     0.96797,     0.96897,     0.96997,     0.97097,     0.97197,     0.97297,     0.97397,     0.97497,     0.97598,     0.97698,     0.97798,     0.97898,     0.97998,     0.98098,     0.98198,     0.98298,     0.98398,\n",
       "           0.98498,     0.98599,     0.98699,     0.98799,     0.98899,     0.98999,     0.99099,     0.99199,     0.99299,     0.99399,     0.99499,       0.996,       0.997,       0.998,       0.999,           1]), array([[          1,           1,           1,           1,           1,           1,           1,           1,           1,           1,           1,           1,           1,           1,           1,           1,           1,           1,           1,           1,           1,           1,           1,\n",
       "                  1,           1,           1,           1,           1,           1,           1,           1,           1,           1,           1,           1,           1,           1,           1,           1,           1,           1,           1,           1,           1,           1,           1,\n",
       "                  1,           1,           1,           1,           1,           1,           1,           1,           1,           1,           1,           1,           1,           1,           1,           1,           1,           1,           1,           1,           1,           1,           1,\n",
       "                  1,           1,           1,           1,           1,           1,           1,           1,           1,           1,           1,           1,           1,           1,           1,           1,           1,           1,           1,           1,           1,           1,           1,\n",
       "                  1,           1,           1,           1,           1,           1,           1,           1,           1,           1,           1,           1,           1,           1,           1,           1,           1,           1,           1,           1,           1,           1,           1,\n",
       "                  1,           1,           1,           1,           1,           1,           1,           1,           1,           1,           1,           1,           1,           1,           1,           1,           1,           1,           1,           1,           1,           1,           1,\n",
       "                  1,           1,           1,           1,           1,           1,           1,           1,           1,           1,           1,           1,           1,           1,           1,           1,           1,           1,           1,           1,           1,           1,           1,\n",
       "                  1,           1,           1,           1,           1,           1,           1,           1,           1,           1,           1,           1,           1,           1,           1,           1,           1,           1,           1,           1,           1,           1,           1,\n",
       "                  1,           1,           1,           1,           1,           1,           1,           1,           1,           1,           1,           1,           1,           1,           1,           1,           1,           1,           1,           1,           1,           1,           1,\n",
       "                  1,           1,           1,           1,           1,           1,           1,           1,           1,           1,           1,           1,           1,           1,           1,           1,           1,           1,           1,           1,           1,           1,           1,\n",
       "                  1,           1,           1,           1,           1,           1,           1,           1,           1,           1,           1,           1,           1,           1,           1,           1,           1,           1,           1,           1,           1,           1,           1,\n",
       "                  1,           1,           1,           1,           1,           1,           1,           1,           1,           1,           1,           1,           1,           1,           1,           1,           1,           1,           1,           1,           1,           1,           1,\n",
       "                  1,           1,           1,           1,           1,           1,           1,           1,           1,           1,           1,           1,           1,           1,           1,           1,           1,           1,           1,           1,           1,           1,           1,\n",
       "                  1,           1,           1,           1,           1,           1,           1,           1,           1,           1,           1,           1,           1,           1,           1,           1,           1,           1,           1,           1,           1,           1,           1,\n",
       "                  1,           1,           1,           1,           1,           1,           1,           1,           1,           1,           1,           1,           1,           1,           1,           1,           1,           1,           1,           1,           1,           1,           1,\n",
       "                  1,           1,           1,           1,           1,           1,           1,           1,           1,           1,           1,           1,           1,           1,           1,           1,           1,           1,           1,           1,           1,           1,           1,\n",
       "                  1,           1,           1,           1,           1,           1,           1,           1,           1,           1,           1,           1,           1,           1,           1,           1,           1,           1,           1,           1,           1,           1,           1,\n",
       "                  1,           1,           1,           1,           1,     0.99789,     0.99789,     0.99789,     0.99789,     0.99789,     0.99789,     0.99789,     0.99789,     0.99789,     0.99789,     0.99789,     0.99789,     0.99789,     0.99789,     0.99789,     0.99789,     0.99789,     0.99789,\n",
       "            0.99789,     0.99789,     0.99789,     0.99789,     0.99789,     0.99789,     0.99789,     0.99789,     0.99789,     0.99789,     0.99789,     0.99789,     0.99789,     0.99789,     0.99789,     0.99789,     0.99789,     0.99789,     0.99789,     0.99789,     0.99789,     0.99789,     0.99789,\n",
       "            0.99789,     0.99789,     0.99789,     0.99789,     0.99789,     0.99789,     0.99789,     0.99789,     0.99789,     0.99789,     0.99789,     0.99789,     0.99789,     0.99789,     0.99789,     0.99789,     0.99789,     0.99789,     0.99676,     0.99676,     0.99676,     0.99676,     0.99676,\n",
       "            0.99676,     0.99676,     0.99676,     0.99676,     0.99676,     0.99676,     0.99676,     0.99676,     0.99676,     0.99676,     0.99676,     0.99676,     0.99676,     0.99676,     0.99676,     0.99676,     0.99676,     0.99676,     0.99676,     0.99676,     0.99676,     0.99676,     0.99676,\n",
       "            0.99676,     0.99676,     0.99676,     0.99676,     0.99676,     0.99676,     0.99676,     0.99676,     0.99676,     0.99676,     0.99676,     0.99676,     0.99676,     0.99676,     0.99676,     0.99676,     0.99676,     0.99676,     0.99676,     0.99676,     0.99676,     0.99676,     0.99676,\n",
       "            0.99676,     0.99676,     0.99676,     0.99676,     0.99676,     0.99676,     0.99676,     0.99676,     0.99676,     0.99676,     0.99676,     0.99676,     0.99676,     0.99676,     0.99676,     0.99676,     0.99676,     0.99676,     0.99676,     0.99676,     0.99676,     0.99676,     0.99676,\n",
       "            0.99676,     0.99676,     0.99676,     0.99676,     0.99676,     0.99676,     0.99676,     0.99676,     0.99676,     0.99676,     0.99676,     0.99676,     0.99676,     0.99676,     0.99676,     0.99676,     0.99676,     0.99676,     0.99676,     0.99676,     0.99676,     0.99676,     0.99676,\n",
       "            0.99676,     0.99676,     0.99676,     0.99676,     0.99676,     0.99676,     0.99676,     0.99676,     0.99676,     0.99676,     0.99676,     0.99676,     0.99676,     0.99676,     0.99676,     0.99676,     0.99676,     0.99676,     0.99676,     0.99676,     0.99676,     0.99676,     0.99676,\n",
       "            0.99676,     0.99676,     0.99676,     0.99676,     0.99676,     0.99676,     0.99676,     0.99676,     0.99676,     0.99676,     0.99676,     0.99676,     0.99676,     0.99676,     0.99676,     0.99676,     0.99563,     0.99563,     0.99563,     0.99563,     0.99563,     0.99563,     0.99563,\n",
       "            0.99563,     0.99563,     0.99563,     0.99563,     0.99563,     0.99563,     0.99563,     0.99563,     0.99563,     0.99563,     0.99563,     0.99563,     0.99563,     0.99563,     0.99563,     0.99563,     0.99563,     0.99563,     0.99563,     0.99563,     0.99563,     0.99563,     0.99563,\n",
       "            0.99563,     0.99563,     0.99563,     0.99563,     0.99563,     0.99563,     0.99563,     0.99563,     0.99563,     0.99563,     0.99563,     0.99563,     0.99563,     0.99563,     0.99563,     0.99563,     0.99563,     0.99563,     0.99563,     0.99563,     0.99563,     0.99563,     0.99563,\n",
       "            0.99563,     0.99563,     0.99563,     0.99563,     0.99563,     0.99563,     0.99563,     0.99563,     0.99563,     0.99563,     0.99563,     0.99563,     0.99472,     0.99472,     0.99472,     0.99472,     0.99472,     0.99472,     0.99472,     0.99472,     0.99472,     0.99472,     0.99472,\n",
       "            0.99472,     0.99472,     0.99472,     0.99472,     0.99472,     0.99472,     0.99472,     0.99472,     0.99472,     0.99472,     0.99472,     0.99472,     0.99472,     0.99472,     0.99472,     0.99472,     0.99472,     0.99472,     0.99472,     0.99472,     0.99472,     0.99472,     0.99472,\n",
       "            0.99472,     0.99472,     0.99472,     0.99472,     0.99472,     0.99472,     0.99472,     0.99472,     0.99472,     0.99472,     0.99472,     0.99472,     0.99472,     0.99472,     0.99472,     0.99472,     0.99472,     0.99472,     0.99472,     0.99472,     0.99472,     0.99472,     0.99472,\n",
       "            0.99472,     0.99472,     0.99472,     0.99472,     0.99472,     0.99472,     0.99472,     0.99472,     0.99472,     0.99472,     0.99472,     0.99355,     0.99355,     0.99355,     0.99355,     0.99355,     0.99355,     0.99355,     0.99355,     0.99355,     0.99355,     0.99355,     0.99355,\n",
       "            0.99355,     0.99355,     0.99355,     0.99282,     0.99282,     0.99282,     0.99282,     0.99282,     0.99282,     0.99282,     0.99282,     0.99282,     0.99282,     0.99282,     0.99282,     0.99282,     0.99282,     0.99282,     0.99282,     0.99282,     0.99282,     0.99282,     0.99282,\n",
       "            0.99282,     0.99282,     0.99282,     0.99282,     0.99282,     0.99282,     0.99282,     0.99282,     0.99282,     0.99282,     0.99282,     0.99282,     0.99282,     0.99282,     0.99282,     0.99282,     0.99282,     0.99282,     0.99282,     0.99282,     0.99282,     0.99282,     0.99282,\n",
       "            0.99282,     0.99282,     0.99282,     0.99282,     0.99282,     0.99282,     0.99282,     0.99282,     0.99282,     0.99282,     0.99282,     0.99282,     0.99282,     0.99282,     0.99282,     0.99165,     0.99052,     0.99052,     0.99052,     0.99052,     0.99052,      0.9898,      0.9898,\n",
       "             0.9898,      0.9898,      0.9898,      0.9898,      0.9898,      0.9898,      0.9898,      0.9898,      0.9898,      0.9898,      0.9898,      0.9898,      0.9898,      0.9898,      0.9898,      0.9898,      0.9898,      0.9898,      0.9898,      0.9898,      0.9898,      0.9898,      0.9898,\n",
       "             0.9898,      0.9898,      0.9898,      0.9898,      0.9898,      0.9898,      0.9898,      0.9898,      0.9898,      0.9898,     0.98886,     0.98886,     0.98886,     0.98886,     0.98886,     0.98886,     0.98886,     0.98886,     0.98886,     0.98886,     0.98886,     0.98886,     0.98886,\n",
       "            0.98886,     0.98886,      0.9878,      0.9878,      0.9878,     0.98683,     0.98683,     0.98683,     0.98683,     0.98683,     0.98683,     0.98683,     0.98587,     0.98587,     0.98587,     0.98587,     0.98587,     0.98587,     0.98587,     0.98587,     0.98496,     0.98496,     0.98496,\n",
       "            0.98496,     0.98496,     0.98496,     0.98496,     0.98496,     0.98496,     0.98496,     0.98404,     0.98404,     0.98404,     0.98404,     0.98404,     0.98404,     0.98404,     0.98318,     0.98318,     0.98318,     0.98318,     0.98318,     0.98318,     0.98318,     0.98318,     0.98318,\n",
       "            0.98318,     0.97822,     0.97822,     0.97822,     0.97822,     0.97822,     0.97822,     0.97822,     0.97622,     0.97436,     0.97436,     0.97436,     0.97436,     0.97436,     0.97436,     0.97342,     0.97342,     0.97256,     0.97256,     0.97256,     0.97256,     0.97256,      0.9716,\n",
       "            0.97065,     0.96982,     0.96982,     0.96982,     0.96982,     0.96982,     0.96897,     0.96897,     0.96897,      0.9671,      0.9671,     0.96521,      0.9634,      0.9634,      0.9634,     0.96249,     0.96195,     0.96195,     0.96195,     0.96195,     0.96195,     0.96195,     0.96195,\n",
       "            0.96195,     0.96195,     0.96195,     0.96195,     0.96109,     0.96109,     0.96019,      0.9593,     0.95841,     0.95665,     0.95577,      0.9522,      0.9522,     0.94597,     0.94597,     0.94423,     0.93897,     0.93727,     0.93557,     0.93222,     0.93222,     0.92969,      0.9289,\n",
       "            0.92555,      0.9223,      0.9223,     0.91073,     0.90591,     0.89885,     0.89885,     0.88792,     0.88338,     0.88194,      0.8791,     0.87243,     0.85642,     0.85439,     0.85167,     0.84336,     0.82781,     0.79891,     0.78923,     0.78758,     0.76488,     0.75495,     0.69736,\n",
       "            0.61996,     0.42452,     0.37678,     0.32969,     0.28259,     0.23549,     0.18839,     0.14129,    0.094196,    0.047098,           0]]), 'Recall', 'Precision'], [array([          0,    0.001001,    0.002002,    0.003003,    0.004004,    0.005005,    0.006006,    0.007007,    0.008008,    0.009009,     0.01001,    0.011011,    0.012012,    0.013013,    0.014014,    0.015015,    0.016016,    0.017017,    0.018018,    0.019019,     0.02002,    0.021021,    0.022022,    0.023023,\n",
       "          0.024024,    0.025025,    0.026026,    0.027027,    0.028028,    0.029029,     0.03003,    0.031031,    0.032032,    0.033033,    0.034034,    0.035035,    0.036036,    0.037037,    0.038038,    0.039039,     0.04004,    0.041041,    0.042042,    0.043043,    0.044044,    0.045045,    0.046046,    0.047047,\n",
       "          0.048048,    0.049049,     0.05005,    0.051051,    0.052052,    0.053053,    0.054054,    0.055055,    0.056056,    0.057057,    0.058058,    0.059059,     0.06006,    0.061061,    0.062062,    0.063063,    0.064064,    0.065065,    0.066066,    0.067067,    0.068068,    0.069069,     0.07007,    0.071071,\n",
       "          0.072072,    0.073073,    0.074074,    0.075075,    0.076076,    0.077077,    0.078078,    0.079079,     0.08008,    0.081081,    0.082082,    0.083083,    0.084084,    0.085085,    0.086086,    0.087087,    0.088088,    0.089089,     0.09009,    0.091091,    0.092092,    0.093093,    0.094094,    0.095095,\n",
       "          0.096096,    0.097097,    0.098098,    0.099099,      0.1001,      0.1011,      0.1021,      0.1031,      0.1041,     0.10511,     0.10611,     0.10711,     0.10811,     0.10911,     0.11011,     0.11111,     0.11211,     0.11311,     0.11411,     0.11512,     0.11612,     0.11712,     0.11812,     0.11912,\n",
       "           0.12012,     0.12112,     0.12212,     0.12312,     0.12412,     0.12513,     0.12613,     0.12713,     0.12813,     0.12913,     0.13013,     0.13113,     0.13213,     0.13313,     0.13413,     0.13514,     0.13614,     0.13714,     0.13814,     0.13914,     0.14014,     0.14114,     0.14214,     0.14314,\n",
       "           0.14414,     0.14515,     0.14615,     0.14715,     0.14815,     0.14915,     0.15015,     0.15115,     0.15215,     0.15315,     0.15415,     0.15516,     0.15616,     0.15716,     0.15816,     0.15916,     0.16016,     0.16116,     0.16216,     0.16316,     0.16416,     0.16517,     0.16617,     0.16717,\n",
       "           0.16817,     0.16917,     0.17017,     0.17117,     0.17217,     0.17317,     0.17417,     0.17518,     0.17618,     0.17718,     0.17818,     0.17918,     0.18018,     0.18118,     0.18218,     0.18318,     0.18418,     0.18519,     0.18619,     0.18719,     0.18819,     0.18919,     0.19019,     0.19119,\n",
       "           0.19219,     0.19319,     0.19419,      0.1952,      0.1962,      0.1972,      0.1982,      0.1992,      0.2002,      0.2012,      0.2022,      0.2032,      0.2042,     0.20521,     0.20621,     0.20721,     0.20821,     0.20921,     0.21021,     0.21121,     0.21221,     0.21321,     0.21421,     0.21522,\n",
       "           0.21622,     0.21722,     0.21822,     0.21922,     0.22022,     0.22122,     0.22222,     0.22322,     0.22422,     0.22523,     0.22623,     0.22723,     0.22823,     0.22923,     0.23023,     0.23123,     0.23223,     0.23323,     0.23423,     0.23524,     0.23624,     0.23724,     0.23824,     0.23924,\n",
       "           0.24024,     0.24124,     0.24224,     0.24324,     0.24424,     0.24525,     0.24625,     0.24725,     0.24825,     0.24925,     0.25025,     0.25125,     0.25225,     0.25325,     0.25425,     0.25526,     0.25626,     0.25726,     0.25826,     0.25926,     0.26026,     0.26126,     0.26226,     0.26326,\n",
       "           0.26426,     0.26527,     0.26627,     0.26727,     0.26827,     0.26927,     0.27027,     0.27127,     0.27227,     0.27327,     0.27427,     0.27528,     0.27628,     0.27728,     0.27828,     0.27928,     0.28028,     0.28128,     0.28228,     0.28328,     0.28428,     0.28529,     0.28629,     0.28729,\n",
       "           0.28829,     0.28929,     0.29029,     0.29129,     0.29229,     0.29329,     0.29429,      0.2953,      0.2963,      0.2973,      0.2983,      0.2993,      0.3003,      0.3013,      0.3023,      0.3033,      0.3043,     0.30531,     0.30631,     0.30731,     0.30831,     0.30931,     0.31031,     0.31131,\n",
       "           0.31231,     0.31331,     0.31431,     0.31532,     0.31632,     0.31732,     0.31832,     0.31932,     0.32032,     0.32132,     0.32232,     0.32332,     0.32432,     0.32533,     0.32633,     0.32733,     0.32833,     0.32933,     0.33033,     0.33133,     0.33233,     0.33333,     0.33433,     0.33534,\n",
       "           0.33634,     0.33734,     0.33834,     0.33934,     0.34034,     0.34134,     0.34234,     0.34334,     0.34434,     0.34535,     0.34635,     0.34735,     0.34835,     0.34935,     0.35035,     0.35135,     0.35235,     0.35335,     0.35435,     0.35536,     0.35636,     0.35736,     0.35836,     0.35936,\n",
       "           0.36036,     0.36136,     0.36236,     0.36336,     0.36436,     0.36537,     0.36637,     0.36737,     0.36837,     0.36937,     0.37037,     0.37137,     0.37237,     0.37337,     0.37437,     0.37538,     0.37638,     0.37738,     0.37838,     0.37938,     0.38038,     0.38138,     0.38238,     0.38338,\n",
       "           0.38438,     0.38539,     0.38639,     0.38739,     0.38839,     0.38939,     0.39039,     0.39139,     0.39239,     0.39339,     0.39439,      0.3954,      0.3964,      0.3974,      0.3984,      0.3994,      0.4004,      0.4014,      0.4024,      0.4034,      0.4044,     0.40541,     0.40641,     0.40741,\n",
       "           0.40841,     0.40941,     0.41041,     0.41141,     0.41241,     0.41341,     0.41441,     0.41542,     0.41642,     0.41742,     0.41842,     0.41942,     0.42042,     0.42142,     0.42242,     0.42342,     0.42442,     0.42543,     0.42643,     0.42743,     0.42843,     0.42943,     0.43043,     0.43143,\n",
       "           0.43243,     0.43343,     0.43443,     0.43544,     0.43644,     0.43744,     0.43844,     0.43944,     0.44044,     0.44144,     0.44244,     0.44344,     0.44444,     0.44545,     0.44645,     0.44745,     0.44845,     0.44945,     0.45045,     0.45145,     0.45245,     0.45345,     0.45445,     0.45546,\n",
       "           0.45646,     0.45746,     0.45846,     0.45946,     0.46046,     0.46146,     0.46246,     0.46346,     0.46446,     0.46547,     0.46647,     0.46747,     0.46847,     0.46947,     0.47047,     0.47147,     0.47247,     0.47347,     0.47447,     0.47548,     0.47648,     0.47748,     0.47848,     0.47948,\n",
       "           0.48048,     0.48148,     0.48248,     0.48348,     0.48448,     0.48549,     0.48649,     0.48749,     0.48849,     0.48949,     0.49049,     0.49149,     0.49249,     0.49349,     0.49449,      0.4955,      0.4965,      0.4975,      0.4985,      0.4995,      0.5005,      0.5015,      0.5025,      0.5035,\n",
       "            0.5045,     0.50551,     0.50651,     0.50751,     0.50851,     0.50951,     0.51051,     0.51151,     0.51251,     0.51351,     0.51451,     0.51552,     0.51652,     0.51752,     0.51852,     0.51952,     0.52052,     0.52152,     0.52252,     0.52352,     0.52452,     0.52553,     0.52653,     0.52753,\n",
       "           0.52853,     0.52953,     0.53053,     0.53153,     0.53253,     0.53353,     0.53453,     0.53554,     0.53654,     0.53754,     0.53854,     0.53954,     0.54054,     0.54154,     0.54254,     0.54354,     0.54454,     0.54555,     0.54655,     0.54755,     0.54855,     0.54955,     0.55055,     0.55155,\n",
       "           0.55255,     0.55355,     0.55455,     0.55556,     0.55656,     0.55756,     0.55856,     0.55956,     0.56056,     0.56156,     0.56256,     0.56356,     0.56456,     0.56557,     0.56657,     0.56757,     0.56857,     0.56957,     0.57057,     0.57157,     0.57257,     0.57357,     0.57457,     0.57558,\n",
       "           0.57658,     0.57758,     0.57858,     0.57958,     0.58058,     0.58158,     0.58258,     0.58358,     0.58458,     0.58559,     0.58659,     0.58759,     0.58859,     0.58959,     0.59059,     0.59159,     0.59259,     0.59359,     0.59459,      0.5956,      0.5966,      0.5976,      0.5986,      0.5996,\n",
       "            0.6006,      0.6016,      0.6026,      0.6036,      0.6046,     0.60561,     0.60661,     0.60761,     0.60861,     0.60961,     0.61061,     0.61161,     0.61261,     0.61361,     0.61461,     0.61562,     0.61662,     0.61762,     0.61862,     0.61962,     0.62062,     0.62162,     0.62262,     0.62362,\n",
       "           0.62462,     0.62563,     0.62663,     0.62763,     0.62863,     0.62963,     0.63063,     0.63163,     0.63263,     0.63363,     0.63463,     0.63564,     0.63664,     0.63764,     0.63864,     0.63964,     0.64064,     0.64164,     0.64264,     0.64364,     0.64464,     0.64565,     0.64665,     0.64765,\n",
       "           0.64865,     0.64965,     0.65065,     0.65165,     0.65265,     0.65365,     0.65465,     0.65566,     0.65666,     0.65766,     0.65866,     0.65966,     0.66066,     0.66166,     0.66266,     0.66366,     0.66466,     0.66567,     0.66667,     0.66767,     0.66867,     0.66967,     0.67067,     0.67167,\n",
       "           0.67267,     0.67367,     0.67467,     0.67568,     0.67668,     0.67768,     0.67868,     0.67968,     0.68068,     0.68168,     0.68268,     0.68368,     0.68468,     0.68569,     0.68669,     0.68769,     0.68869,     0.68969,     0.69069,     0.69169,     0.69269,     0.69369,     0.69469,      0.6957,\n",
       "            0.6967,      0.6977,      0.6987,      0.6997,      0.7007,      0.7017,      0.7027,      0.7037,      0.7047,     0.70571,     0.70671,     0.70771,     0.70871,     0.70971,     0.71071,     0.71171,     0.71271,     0.71371,     0.71471,     0.71572,     0.71672,     0.71772,     0.71872,     0.71972,\n",
       "           0.72072,     0.72172,     0.72272,     0.72372,     0.72472,     0.72573,     0.72673,     0.72773,     0.72873,     0.72973,     0.73073,     0.73173,     0.73273,     0.73373,     0.73473,     0.73574,     0.73674,     0.73774,     0.73874,     0.73974,     0.74074,     0.74174,     0.74274,     0.74374,\n",
       "           0.74474,     0.74575,     0.74675,     0.74775,     0.74875,     0.74975,     0.75075,     0.75175,     0.75275,     0.75375,     0.75475,     0.75576,     0.75676,     0.75776,     0.75876,     0.75976,     0.76076,     0.76176,     0.76276,     0.76376,     0.76476,     0.76577,     0.76677,     0.76777,\n",
       "           0.76877,     0.76977,     0.77077,     0.77177,     0.77277,     0.77377,     0.77477,     0.77578,     0.77678,     0.77778,     0.77878,     0.77978,     0.78078,     0.78178,     0.78278,     0.78378,     0.78478,     0.78579,     0.78679,     0.78779,     0.78879,     0.78979,     0.79079,     0.79179,\n",
       "           0.79279,     0.79379,     0.79479,      0.7958,      0.7968,      0.7978,      0.7988,      0.7998,      0.8008,      0.8018,      0.8028,      0.8038,      0.8048,     0.80581,     0.80681,     0.80781,     0.80881,     0.80981,     0.81081,     0.81181,     0.81281,     0.81381,     0.81481,     0.81582,\n",
       "           0.81682,     0.81782,     0.81882,     0.81982,     0.82082,     0.82182,     0.82282,     0.82382,     0.82482,     0.82583,     0.82683,     0.82783,     0.82883,     0.82983,     0.83083,     0.83183,     0.83283,     0.83383,     0.83483,     0.83584,     0.83684,     0.83784,     0.83884,     0.83984,\n",
       "           0.84084,     0.84184,     0.84284,     0.84384,     0.84484,     0.84585,     0.84685,     0.84785,     0.84885,     0.84985,     0.85085,     0.85185,     0.85285,     0.85385,     0.85485,     0.85586,     0.85686,     0.85786,     0.85886,     0.85986,     0.86086,     0.86186,     0.86286,     0.86386,\n",
       "           0.86486,     0.86587,     0.86687,     0.86787,     0.86887,     0.86987,     0.87087,     0.87187,     0.87287,     0.87387,     0.87487,     0.87588,     0.87688,     0.87788,     0.87888,     0.87988,     0.88088,     0.88188,     0.88288,     0.88388,     0.88488,     0.88589,     0.88689,     0.88789,\n",
       "           0.88889,     0.88989,     0.89089,     0.89189,     0.89289,     0.89389,     0.89489,      0.8959,      0.8969,      0.8979,      0.8989,      0.8999,      0.9009,      0.9019,      0.9029,      0.9039,      0.9049,     0.90591,     0.90691,     0.90791,     0.90891,     0.90991,     0.91091,     0.91191,\n",
       "           0.91291,     0.91391,     0.91491,     0.91592,     0.91692,     0.91792,     0.91892,     0.91992,     0.92092,     0.92192,     0.92292,     0.92392,     0.92492,     0.92593,     0.92693,     0.92793,     0.92893,     0.92993,     0.93093,     0.93193,     0.93293,     0.93393,     0.93493,     0.93594,\n",
       "           0.93694,     0.93794,     0.93894,     0.93994,     0.94094,     0.94194,     0.94294,     0.94394,     0.94494,     0.94595,     0.94695,     0.94795,     0.94895,     0.94995,     0.95095,     0.95195,     0.95295,     0.95395,     0.95495,     0.95596,     0.95696,     0.95796,     0.95896,     0.95996,\n",
       "           0.96096,     0.96196,     0.96296,     0.96396,     0.96496,     0.96597,     0.96697,     0.96797,     0.96897,     0.96997,     0.97097,     0.97197,     0.97297,     0.97397,     0.97497,     0.97598,     0.97698,     0.97798,     0.97898,     0.97998,     0.98098,     0.98198,     0.98298,     0.98398,\n",
       "           0.98498,     0.98599,     0.98699,     0.98799,     0.98899,     0.98999,     0.99099,     0.99199,     0.99299,     0.99399,     0.99499,       0.996,       0.997,       0.998,       0.999,           1]), array([[    0.57686,     0.57801,     0.65919,       0.691,      0.7098,      0.7226,     0.73252,     0.73958,     0.74549,      0.7515,       0.756,     0.76093,      0.7634,     0.76803,      0.7729,     0.77795,     0.78354,      0.7883,     0.79147,     0.79463,     0.79675,     0.80072,     0.80618,\n",
       "            0.81079,     0.81415,     0.81774,      0.8205,     0.82245,     0.82523,     0.82832,     0.83012,     0.83191,     0.83324,     0.83436,     0.83635,     0.83771,     0.83874,     0.84033,     0.84215,     0.84342,      0.8448,     0.84637,     0.84793,     0.85024,     0.85327,     0.85436,\n",
       "            0.85548,     0.85591,     0.85644,     0.85721,      0.8584,     0.86058,     0.86152,     0.86194,     0.86173,     0.86277,     0.86452,     0.86574,     0.86711,     0.86793,     0.86847,      0.8693,      0.8708,     0.87184,     0.87303,      0.8732,     0.87436,      0.8759,     0.87545,\n",
       "            0.87627,     0.87708,     0.87806,      0.8782,     0.87921,     0.87963,     0.88042,     0.88208,     0.88243,     0.88316,     0.88563,     0.88735,     0.88776,     0.88795,      0.8886,     0.88953,     0.89005,     0.89037,     0.89124,     0.89142,     0.89159,     0.89354,     0.89475,\n",
       "            0.89631,     0.89692,     0.89835,     0.89882,     0.89899,     0.89861,     0.89935,     0.89973,     0.90011,     0.90025,     0.90037,     0.90049,     0.90105,     0.90159,     0.90191,     0.90214,     0.90321,       0.904,     0.90451,     0.90516,     0.90553,     0.90606,     0.90694,\n",
       "            0.90711,     0.90728,     0.90751,     0.90764,     0.90732,     0.90756,     0.90777,     0.90797,     0.90854,     0.90929,     0.90939,      0.9095,      0.9096,      0.9098,     0.91013,     0.91043,     0.91106,     0.91173,     0.91169,     0.91205,      0.9122,     0.91235,     0.91259,\n",
       "             0.9132,       0.913,      0.9128,     0.91382,     0.91425,     0.91551,      0.9157,     0.91587,     0.91658,     0.91761,     0.91778,     0.91795,     0.91847,     0.91875,      0.9193,     0.91937,     0.91944,      0.9195,     0.91957,     0.91964,      0.9198,     0.92008,     0.92082,\n",
       "             0.9219,     0.92243,     0.92247,     0.92232,     0.92217,     0.92232,     0.92289,     0.92311,     0.92331,     0.92341,     0.92349,     0.92356,     0.92364,     0.92372,     0.92381,     0.92395,      0.9241,     0.92432,     0.92477,     0.92569,     0.92546,     0.92568,     0.92554,\n",
       "            0.92541,     0.92536,     0.92546,     0.92556,     0.92566,      0.9258,     0.92604,     0.92652,     0.92648,     0.92637,     0.92625,     0.92614,     0.92653,     0.92687,     0.92688,     0.92681,     0.92674,     0.92667,      0.9266,     0.92653,     0.92646,     0.92655,     0.92666,\n",
       "            0.92677,     0.92777,     0.92839,     0.92896,     0.92871,     0.92856,     0.92888,      0.9292,     0.92944,     0.92961,     0.92977,     0.92993,     0.93009,     0.93036,     0.93072,     0.93088,     0.93104,     0.93117,      0.9313,     0.93142,     0.93158,     0.93179,     0.93198,\n",
       "            0.93214,      0.9323,     0.93298,     0.93368,     0.93389,     0.93415,     0.93424,     0.93377,     0.93361,     0.93391,     0.93423,     0.93512,     0.93534,     0.93546,     0.93557,     0.93575,     0.93623,     0.93652,     0.93668,     0.93683,     0.93698,     0.93732,     0.93698,\n",
       "             0.9374,     0.93887,     0.93947,     0.93924,     0.93929,     0.94033,     0.94055,     0.94075,     0.94124,     0.94137,     0.94151,     0.94165,     0.94256,     0.94262,     0.94269,     0.94275,     0.94282,     0.94288,     0.94295,     0.94302,     0.94311,     0.94321,      0.9433,\n",
       "             0.9434,     0.94348,     0.94356,     0.94364,     0.94372,      0.9438,     0.94432,     0.94451,     0.94469,     0.94478,     0.94441,      0.9444,     0.94468,     0.94475,     0.94482,     0.94489,     0.94496,     0.94503,      0.9451,     0.94515,      0.9452,     0.94525,      0.9453,\n",
       "            0.94535,      0.9454,     0.94545,     0.94549,     0.94559,     0.94592,     0.94574,     0.94555,     0.94555,     0.94564,     0.94573,     0.94582,     0.94591,     0.94639,     0.94665,     0.94688,     0.94705,     0.94721,     0.94682,      0.9469,     0.94703,     0.94716,     0.94712,\n",
       "            0.94694,     0.94675,     0.94764,     0.94791,     0.94804,     0.94799,     0.94794,     0.94789,     0.94783,     0.94778,     0.94773,     0.94768,     0.94763,     0.94757,      0.9473,     0.94798,     0.94804,      0.9481,     0.94817,     0.94823,     0.94829,     0.94836,     0.94844,\n",
       "            0.94871,     0.94875,     0.94846,     0.94913,     0.94913,     0.94895,     0.94877,     0.94885,     0.94894,     0.94902,     0.94911,     0.94919,     0.94933,      0.9496,      0.9497,     0.94978,     0.94987,     0.94995,     0.95004,     0.95021,     0.95044,     0.95069,     0.95096,\n",
       "            0.95113,      0.9513,      0.9515,     0.95215,     0.95164,     0.95134,     0.95151,     0.95168,     0.95276,     0.95293,      0.9531,     0.95356,     0.95383,     0.95415,     0.95443,     0.95426,     0.95409,     0.95371,      0.9547,     0.95517,     0.95495,     0.95515,     0.95522,\n",
       "            0.95474,     0.95517,     0.95491,     0.95474,     0.95481,     0.95507,     0.95502,     0.95497,     0.95491,     0.95486,     0.95481,     0.95475,      0.9547,     0.95465,      0.9546,     0.95483,       0.955,     0.95475,     0.95388,     0.95346,     0.95335,     0.95324,     0.95313,\n",
       "            0.95302,     0.95164,     0.95112,     0.95077,     0.95051,     0.94923,     0.94897,     0.94927,     0.94922,     0.94903,     0.94891,     0.94874,     0.94785,     0.94829,     0.94852,      0.9483,     0.94878,     0.94846,     0.94823,     0.94863,     0.94887,     0.94875,     0.94844,\n",
       "            0.94833,     0.94822,     0.94812,     0.94801,     0.94779,     0.94752,     0.94736,     0.94723,      0.9471,     0.94697,     0.94694,      0.9464,      0.9457,     0.94552,     0.94533,     0.94484,     0.94501,     0.94519,     0.94486,      0.9451,     0.94477,     0.94489,     0.94501,\n",
       "            0.94513,     0.94491,     0.94437,     0.94384,     0.94346,     0.94319,     0.94275,     0.94268,     0.94239,     0.94221,     0.94203,     0.94212,     0.94228,     0.94243,     0.94201,     0.94178,      0.9416,     0.94142,      0.9409,     0.94036,      0.9393,     0.93942,     0.93954,\n",
       "            0.93966,     0.93972,     0.93982,     0.93991,     0.94001,     0.94011,     0.94024,     0.94048,      0.9405,     0.94008,     0.93994,     0.93981,     0.93967,     0.93899,     0.93881,     0.93863,     0.93847,     0.93833,     0.93819,     0.93806,      0.9379,     0.93771,     0.93753,\n",
       "            0.93682,     0.93664,     0.93646,     0.93675,     0.93705,     0.93729,     0.93753,     0.93778,     0.93802,     0.93826,     0.93837,     0.93847,     0.93856,     0.93866,     0.93875,     0.93857,     0.93839,     0.93821,     0.93802,     0.93784,     0.93711,     0.93684,     0.93651,\n",
       "            0.93604,     0.93586,     0.93568,     0.93493,     0.93465,     0.93374,     0.93358,     0.93331,     0.93327,     0.93322,     0.93318,     0.93313,     0.93308,     0.93304,     0.93299,     0.93295,      0.9329,     0.93285,     0.93281,     0.93187,     0.93077,     0.93059,     0.93053,\n",
       "            0.93047,     0.93041,     0.93036,      0.9303,     0.93024,     0.93018,     0.93012,     0.92978,     0.92988,      0.9296,     0.92863,     0.92807,     0.92697,     0.92641,     0.92585,     0.92547,     0.92519,     0.92471,     0.92493,     0.92479,     0.92465,     0.92451,      0.9237,\n",
       "            0.92342,     0.92314,     0.92286,     0.92266,     0.92248,     0.92229,     0.92213,     0.92197,      0.9218,     0.92102,     0.92073,     0.92079,     0.92103,     0.92104,     0.92095,     0.92085,     0.92076,     0.92066,     0.92057,     0.92036,     0.92014,     0.91933,     0.91905,\n",
       "            0.91876,     0.91848,     0.91819,     0.91791,     0.91747,     0.91711,     0.91692,     0.91673,     0.91689,     0.91592,     0.91588,     0.91559,      0.9153,     0.91502,     0.91464,     0.91422,     0.91412,     0.91401,     0.91391,      0.9138,      0.9137,     0.91314,     0.91285,\n",
       "            0.91144,     0.91131,     0.91118,     0.91105,     0.91093,     0.90937,     0.90879,     0.90821,     0.90763,     0.90785,     0.90783,     0.90766,      0.9075,     0.90732,     0.90712,     0.90693,     0.90632,     0.90554,      0.9054,     0.90525,      0.9051,     0.90481,      0.9045,\n",
       "            0.90411,      0.9036,     0.90301,     0.90213,     0.90197,      0.9018,     0.90095,     0.89986,     0.89957,     0.89866,     0.89827,     0.89754,     0.89744,     0.89733,     0.89722,     0.89711,     0.89697,      0.8968,     0.89663,     0.89585,     0.89528,     0.89499,     0.89467,\n",
       "            0.89427,     0.89374,     0.89314,     0.89281,     0.89257,     0.89228,     0.89188,     0.89073,     0.88836,     0.88717,     0.88556,     0.88436,     0.88422,     0.88438,     0.88377,     0.88316,     0.88018,     0.87977,     0.87882,     0.87851,     0.87633,     0.87532,      0.8749,\n",
       "            0.87457,     0.87426,     0.87409,     0.87397,     0.87385,     0.87372,      0.8736,     0.87321,     0.87284,     0.87253,     0.87217,     0.87175,     0.87133,     0.87037,     0.87006,     0.86907,     0.86804,     0.86762,     0.86605,     0.86573,     0.86303,     0.86282,     0.86261,\n",
       "            0.86046,     0.86014,     0.85849,     0.85619,     0.85576,     0.85408,     0.85119,     0.85087,     0.85049,     0.84757,     0.84789,     0.84776,     0.84732,     0.84689,     0.84582,     0.84416,     0.84397,     0.84378,      0.8436,     0.84193,     0.84149,     0.84105,     0.83997,\n",
       "            0.83889,     0.83845,     0.83801,     0.83793,     0.83694,      0.8365,     0.83417,     0.83384,     0.83213,     0.83038,     0.82993,     0.82883,     0.82641,     0.82596,     0.82418,     0.82241,     0.82195,     0.82083,     0.82044,     0.82017,      0.8199,     0.81678,     0.81632,\n",
       "            0.81587,     0.81295,     0.81271,     0.80976,      0.8093,     0.80748,     0.80497,      0.8045,     0.80335,     0.80145,     0.79666,     0.79619,     0.79502,     0.79176,     0.79128,     0.78916,     0.78657,     0.78608,     0.78326,      0.7792,     0.77513,     0.77176,     0.77126,\n",
       "            0.76918,     0.76713,     0.76297,     0.76247,      0.7596,     0.75902,     0.75703,     0.75653,     0.75509,     0.75378,     0.75104,     0.75053,     0.74755,     0.74625,     0.74185,     0.74154,     0.74185,     0.73755,     0.73305,     0.73163,     0.72644,     0.72333,     0.72279,\n",
       "             0.7158,     0.71199,     0.70258,     0.69938,     0.69883,     0.69153,     0.68844,     0.68448,     0.67862,     0.67366,     0.67309,     0.66716,     0.66485,     0.66242,     0.66068,     0.65563,     0.65242,     0.64627,     0.64452,     0.64392,      0.6387,     0.62973,     0.62511,\n",
       "             0.6224,     0.61414,     0.61042,     0.60303,     0.60239,     0.59204,     0.58628,     0.58048,     0.57366,     0.56708,     0.56466,     0.56166,     0.55565,     0.54452,     0.53836,     0.53525,     0.53213,      0.5198,     0.50948,     0.50195,     0.49106,     0.48555,      0.4811,\n",
       "            0.47216,     0.46537,     0.45966,     0.45506,     0.45159,     0.44113,     0.42815,     0.42455,     0.41734,     0.40457,     0.39346,     0.38094,     0.37331,     0.36818,     0.36302,     0.35653,     0.34447,     0.33344,     0.32671,     0.32128,     0.31445,     0.30135,     0.28875,\n",
       "             0.2859,     0.27249,     0.27088,     0.26508,     0.25632,     0.24674,     0.24226,     0.23253,     0.22344,     0.21869,     0.20884,     0.19795,     0.18297,     0.17944,     0.17573,     0.16927,     0.15708,        0.15,     0.14302,     0.13883,     0.13484,     0.12787,     0.12022,\n",
       "            0.11431,     0.11075,     0.10095,    0.098552,    0.095939,    0.089239,    0.086054,    0.073787,    0.068116,    0.065644,    0.058931,    0.056963,    0.055798,    0.054867,    0.053122,    0.049972,    0.045629,    0.043467,    0.034184,    0.032279,    0.028603,      0.0275,    0.026542,\n",
       "           0.024341,      0.0237,    0.023059,    0.021668,    0.020652,    0.020223,    0.019794,    0.019365,    0.018819,    0.017852,    0.012322,   0.0088004,   0.0078239,   0.0070083,   0.0062258,   0.0037764,   0.0036255,   0.0034746,   0.0033236,   0.0031726,   0.0030216,   0.0028705,   0.0027195,\n",
       "          0.0025684,   0.0024173,   0.0022662,    0.002115,   0.0019638,           0,           0,           0,           0,           0,           0,           0,           0,           0,           0,           0,           0,           0,           0,           0,           0,           0,           0,\n",
       "                  0,           0,           0,           0,           0,           0,           0,           0,           0,           0,           0,           0,           0,           0,           0,           0,           0,           0,           0,           0,           0,           0,           0,\n",
       "                  0,           0,           0,           0,           0,           0,           0,           0,           0,           0,           0]]), 'Confidence', 'F1'], [array([          0,    0.001001,    0.002002,    0.003003,    0.004004,    0.005005,    0.006006,    0.007007,    0.008008,    0.009009,     0.01001,    0.011011,    0.012012,    0.013013,    0.014014,    0.015015,    0.016016,    0.017017,    0.018018,    0.019019,     0.02002,    0.021021,    0.022022,    0.023023,\n",
       "          0.024024,    0.025025,    0.026026,    0.027027,    0.028028,    0.029029,     0.03003,    0.031031,    0.032032,    0.033033,    0.034034,    0.035035,    0.036036,    0.037037,    0.038038,    0.039039,     0.04004,    0.041041,    0.042042,    0.043043,    0.044044,    0.045045,    0.046046,    0.047047,\n",
       "          0.048048,    0.049049,     0.05005,    0.051051,    0.052052,    0.053053,    0.054054,    0.055055,    0.056056,    0.057057,    0.058058,    0.059059,     0.06006,    0.061061,    0.062062,    0.063063,    0.064064,    0.065065,    0.066066,    0.067067,    0.068068,    0.069069,     0.07007,    0.071071,\n",
       "          0.072072,    0.073073,    0.074074,    0.075075,    0.076076,    0.077077,    0.078078,    0.079079,     0.08008,    0.081081,    0.082082,    0.083083,    0.084084,    0.085085,    0.086086,    0.087087,    0.088088,    0.089089,     0.09009,    0.091091,    0.092092,    0.093093,    0.094094,    0.095095,\n",
       "          0.096096,    0.097097,    0.098098,    0.099099,      0.1001,      0.1011,      0.1021,      0.1031,      0.1041,     0.10511,     0.10611,     0.10711,     0.10811,     0.10911,     0.11011,     0.11111,     0.11211,     0.11311,     0.11411,     0.11512,     0.11612,     0.11712,     0.11812,     0.11912,\n",
       "           0.12012,     0.12112,     0.12212,     0.12312,     0.12412,     0.12513,     0.12613,     0.12713,     0.12813,     0.12913,     0.13013,     0.13113,     0.13213,     0.13313,     0.13413,     0.13514,     0.13614,     0.13714,     0.13814,     0.13914,     0.14014,     0.14114,     0.14214,     0.14314,\n",
       "           0.14414,     0.14515,     0.14615,     0.14715,     0.14815,     0.14915,     0.15015,     0.15115,     0.15215,     0.15315,     0.15415,     0.15516,     0.15616,     0.15716,     0.15816,     0.15916,     0.16016,     0.16116,     0.16216,     0.16316,     0.16416,     0.16517,     0.16617,     0.16717,\n",
       "           0.16817,     0.16917,     0.17017,     0.17117,     0.17217,     0.17317,     0.17417,     0.17518,     0.17618,     0.17718,     0.17818,     0.17918,     0.18018,     0.18118,     0.18218,     0.18318,     0.18418,     0.18519,     0.18619,     0.18719,     0.18819,     0.18919,     0.19019,     0.19119,\n",
       "           0.19219,     0.19319,     0.19419,      0.1952,      0.1962,      0.1972,      0.1982,      0.1992,      0.2002,      0.2012,      0.2022,      0.2032,      0.2042,     0.20521,     0.20621,     0.20721,     0.20821,     0.20921,     0.21021,     0.21121,     0.21221,     0.21321,     0.21421,     0.21522,\n",
       "           0.21622,     0.21722,     0.21822,     0.21922,     0.22022,     0.22122,     0.22222,     0.22322,     0.22422,     0.22523,     0.22623,     0.22723,     0.22823,     0.22923,     0.23023,     0.23123,     0.23223,     0.23323,     0.23423,     0.23524,     0.23624,     0.23724,     0.23824,     0.23924,\n",
       "           0.24024,     0.24124,     0.24224,     0.24324,     0.24424,     0.24525,     0.24625,     0.24725,     0.24825,     0.24925,     0.25025,     0.25125,     0.25225,     0.25325,     0.25425,     0.25526,     0.25626,     0.25726,     0.25826,     0.25926,     0.26026,     0.26126,     0.26226,     0.26326,\n",
       "           0.26426,     0.26527,     0.26627,     0.26727,     0.26827,     0.26927,     0.27027,     0.27127,     0.27227,     0.27327,     0.27427,     0.27528,     0.27628,     0.27728,     0.27828,     0.27928,     0.28028,     0.28128,     0.28228,     0.28328,     0.28428,     0.28529,     0.28629,     0.28729,\n",
       "           0.28829,     0.28929,     0.29029,     0.29129,     0.29229,     0.29329,     0.29429,      0.2953,      0.2963,      0.2973,      0.2983,      0.2993,      0.3003,      0.3013,      0.3023,      0.3033,      0.3043,     0.30531,     0.30631,     0.30731,     0.30831,     0.30931,     0.31031,     0.31131,\n",
       "           0.31231,     0.31331,     0.31431,     0.31532,     0.31632,     0.31732,     0.31832,     0.31932,     0.32032,     0.32132,     0.32232,     0.32332,     0.32432,     0.32533,     0.32633,     0.32733,     0.32833,     0.32933,     0.33033,     0.33133,     0.33233,     0.33333,     0.33433,     0.33534,\n",
       "           0.33634,     0.33734,     0.33834,     0.33934,     0.34034,     0.34134,     0.34234,     0.34334,     0.34434,     0.34535,     0.34635,     0.34735,     0.34835,     0.34935,     0.35035,     0.35135,     0.35235,     0.35335,     0.35435,     0.35536,     0.35636,     0.35736,     0.35836,     0.35936,\n",
       "           0.36036,     0.36136,     0.36236,     0.36336,     0.36436,     0.36537,     0.36637,     0.36737,     0.36837,     0.36937,     0.37037,     0.37137,     0.37237,     0.37337,     0.37437,     0.37538,     0.37638,     0.37738,     0.37838,     0.37938,     0.38038,     0.38138,     0.38238,     0.38338,\n",
       "           0.38438,     0.38539,     0.38639,     0.38739,     0.38839,     0.38939,     0.39039,     0.39139,     0.39239,     0.39339,     0.39439,      0.3954,      0.3964,      0.3974,      0.3984,      0.3994,      0.4004,      0.4014,      0.4024,      0.4034,      0.4044,     0.40541,     0.40641,     0.40741,\n",
       "           0.40841,     0.40941,     0.41041,     0.41141,     0.41241,     0.41341,     0.41441,     0.41542,     0.41642,     0.41742,     0.41842,     0.41942,     0.42042,     0.42142,     0.42242,     0.42342,     0.42442,     0.42543,     0.42643,     0.42743,     0.42843,     0.42943,     0.43043,     0.43143,\n",
       "           0.43243,     0.43343,     0.43443,     0.43544,     0.43644,     0.43744,     0.43844,     0.43944,     0.44044,     0.44144,     0.44244,     0.44344,     0.44444,     0.44545,     0.44645,     0.44745,     0.44845,     0.44945,     0.45045,     0.45145,     0.45245,     0.45345,     0.45445,     0.45546,\n",
       "           0.45646,     0.45746,     0.45846,     0.45946,     0.46046,     0.46146,     0.46246,     0.46346,     0.46446,     0.46547,     0.46647,     0.46747,     0.46847,     0.46947,     0.47047,     0.47147,     0.47247,     0.47347,     0.47447,     0.47548,     0.47648,     0.47748,     0.47848,     0.47948,\n",
       "           0.48048,     0.48148,     0.48248,     0.48348,     0.48448,     0.48549,     0.48649,     0.48749,     0.48849,     0.48949,     0.49049,     0.49149,     0.49249,     0.49349,     0.49449,      0.4955,      0.4965,      0.4975,      0.4985,      0.4995,      0.5005,      0.5015,      0.5025,      0.5035,\n",
       "            0.5045,     0.50551,     0.50651,     0.50751,     0.50851,     0.50951,     0.51051,     0.51151,     0.51251,     0.51351,     0.51451,     0.51552,     0.51652,     0.51752,     0.51852,     0.51952,     0.52052,     0.52152,     0.52252,     0.52352,     0.52452,     0.52553,     0.52653,     0.52753,\n",
       "           0.52853,     0.52953,     0.53053,     0.53153,     0.53253,     0.53353,     0.53453,     0.53554,     0.53654,     0.53754,     0.53854,     0.53954,     0.54054,     0.54154,     0.54254,     0.54354,     0.54454,     0.54555,     0.54655,     0.54755,     0.54855,     0.54955,     0.55055,     0.55155,\n",
       "           0.55255,     0.55355,     0.55455,     0.55556,     0.55656,     0.55756,     0.55856,     0.55956,     0.56056,     0.56156,     0.56256,     0.56356,     0.56456,     0.56557,     0.56657,     0.56757,     0.56857,     0.56957,     0.57057,     0.57157,     0.57257,     0.57357,     0.57457,     0.57558,\n",
       "           0.57658,     0.57758,     0.57858,     0.57958,     0.58058,     0.58158,     0.58258,     0.58358,     0.58458,     0.58559,     0.58659,     0.58759,     0.58859,     0.58959,     0.59059,     0.59159,     0.59259,     0.59359,     0.59459,      0.5956,      0.5966,      0.5976,      0.5986,      0.5996,\n",
       "            0.6006,      0.6016,      0.6026,      0.6036,      0.6046,     0.60561,     0.60661,     0.60761,     0.60861,     0.60961,     0.61061,     0.61161,     0.61261,     0.61361,     0.61461,     0.61562,     0.61662,     0.61762,     0.61862,     0.61962,     0.62062,     0.62162,     0.62262,     0.62362,\n",
       "           0.62462,     0.62563,     0.62663,     0.62763,     0.62863,     0.62963,     0.63063,     0.63163,     0.63263,     0.63363,     0.63463,     0.63564,     0.63664,     0.63764,     0.63864,     0.63964,     0.64064,     0.64164,     0.64264,     0.64364,     0.64464,     0.64565,     0.64665,     0.64765,\n",
       "           0.64865,     0.64965,     0.65065,     0.65165,     0.65265,     0.65365,     0.65465,     0.65566,     0.65666,     0.65766,     0.65866,     0.65966,     0.66066,     0.66166,     0.66266,     0.66366,     0.66466,     0.66567,     0.66667,     0.66767,     0.66867,     0.66967,     0.67067,     0.67167,\n",
       "           0.67267,     0.67367,     0.67467,     0.67568,     0.67668,     0.67768,     0.67868,     0.67968,     0.68068,     0.68168,     0.68268,     0.68368,     0.68468,     0.68569,     0.68669,     0.68769,     0.68869,     0.68969,     0.69069,     0.69169,     0.69269,     0.69369,     0.69469,      0.6957,\n",
       "            0.6967,      0.6977,      0.6987,      0.6997,      0.7007,      0.7017,      0.7027,      0.7037,      0.7047,     0.70571,     0.70671,     0.70771,     0.70871,     0.70971,     0.71071,     0.71171,     0.71271,     0.71371,     0.71471,     0.71572,     0.71672,     0.71772,     0.71872,     0.71972,\n",
       "           0.72072,     0.72172,     0.72272,     0.72372,     0.72472,     0.72573,     0.72673,     0.72773,     0.72873,     0.72973,     0.73073,     0.73173,     0.73273,     0.73373,     0.73473,     0.73574,     0.73674,     0.73774,     0.73874,     0.73974,     0.74074,     0.74174,     0.74274,     0.74374,\n",
       "           0.74474,     0.74575,     0.74675,     0.74775,     0.74875,     0.74975,     0.75075,     0.75175,     0.75275,     0.75375,     0.75475,     0.75576,     0.75676,     0.75776,     0.75876,     0.75976,     0.76076,     0.76176,     0.76276,     0.76376,     0.76476,     0.76577,     0.76677,     0.76777,\n",
       "           0.76877,     0.76977,     0.77077,     0.77177,     0.77277,     0.77377,     0.77477,     0.77578,     0.77678,     0.77778,     0.77878,     0.77978,     0.78078,     0.78178,     0.78278,     0.78378,     0.78478,     0.78579,     0.78679,     0.78779,     0.78879,     0.78979,     0.79079,     0.79179,\n",
       "           0.79279,     0.79379,     0.79479,      0.7958,      0.7968,      0.7978,      0.7988,      0.7998,      0.8008,      0.8018,      0.8028,      0.8038,      0.8048,     0.80581,     0.80681,     0.80781,     0.80881,     0.80981,     0.81081,     0.81181,     0.81281,     0.81381,     0.81481,     0.81582,\n",
       "           0.81682,     0.81782,     0.81882,     0.81982,     0.82082,     0.82182,     0.82282,     0.82382,     0.82482,     0.82583,     0.82683,     0.82783,     0.82883,     0.82983,     0.83083,     0.83183,     0.83283,     0.83383,     0.83483,     0.83584,     0.83684,     0.83784,     0.83884,     0.83984,\n",
       "           0.84084,     0.84184,     0.84284,     0.84384,     0.84484,     0.84585,     0.84685,     0.84785,     0.84885,     0.84985,     0.85085,     0.85185,     0.85285,     0.85385,     0.85485,     0.85586,     0.85686,     0.85786,     0.85886,     0.85986,     0.86086,     0.86186,     0.86286,     0.86386,\n",
       "           0.86486,     0.86587,     0.86687,     0.86787,     0.86887,     0.86987,     0.87087,     0.87187,     0.87287,     0.87387,     0.87487,     0.87588,     0.87688,     0.87788,     0.87888,     0.87988,     0.88088,     0.88188,     0.88288,     0.88388,     0.88488,     0.88589,     0.88689,     0.88789,\n",
       "           0.88889,     0.88989,     0.89089,     0.89189,     0.89289,     0.89389,     0.89489,      0.8959,      0.8969,      0.8979,      0.8989,      0.8999,      0.9009,      0.9019,      0.9029,      0.9039,      0.9049,     0.90591,     0.90691,     0.90791,     0.90891,     0.90991,     0.91091,     0.91191,\n",
       "           0.91291,     0.91391,     0.91491,     0.91592,     0.91692,     0.91792,     0.91892,     0.91992,     0.92092,     0.92192,     0.92292,     0.92392,     0.92492,     0.92593,     0.92693,     0.92793,     0.92893,     0.92993,     0.93093,     0.93193,     0.93293,     0.93393,     0.93493,     0.93594,\n",
       "           0.93694,     0.93794,     0.93894,     0.93994,     0.94094,     0.94194,     0.94294,     0.94394,     0.94494,     0.94595,     0.94695,     0.94795,     0.94895,     0.94995,     0.95095,     0.95195,     0.95295,     0.95395,     0.95495,     0.95596,     0.95696,     0.95796,     0.95896,     0.95996,\n",
       "           0.96096,     0.96196,     0.96296,     0.96396,     0.96496,     0.96597,     0.96697,     0.96797,     0.96897,     0.96997,     0.97097,     0.97197,     0.97297,     0.97397,     0.97497,     0.97598,     0.97698,     0.97798,     0.97898,     0.97998,     0.98098,     0.98198,     0.98298,     0.98398,\n",
       "           0.98498,     0.98599,     0.98699,     0.98799,     0.98899,     0.98999,     0.99099,     0.99199,     0.99299,     0.99399,     0.99499,       0.996,       0.997,       0.998,       0.999,           1]), array([[    0.40678,     0.40793,     0.49399,      0.5306,      0.5531,      0.5688,      0.5812,     0.59014,     0.59769,     0.60546,     0.61132,     0.61779,     0.62143,     0.62759,     0.63412,     0.64095,     0.64858,     0.65512,     0.65952,     0.66391,     0.66688,     0.67246,      0.6802,\n",
       "            0.68678,     0.69162,     0.69682,     0.70132,     0.70418,     0.70826,     0.71283,      0.7155,     0.71816,     0.72015,     0.72182,     0.72481,     0.72685,      0.7284,      0.7308,     0.73356,     0.73548,      0.7376,     0.73998,     0.74238,     0.74592,     0.75061,     0.75229,\n",
       "            0.75404,      0.7547,     0.75609,     0.75729,     0.75914,     0.76256,     0.76403,     0.76484,     0.76494,     0.76659,     0.76936,      0.7713,     0.77347,     0.77477,     0.77564,     0.77696,     0.77936,     0.78103,     0.78294,     0.78322,     0.78508,     0.78756,     0.78745,\n",
       "            0.78914,     0.79071,      0.7923,     0.79254,     0.79418,     0.79487,     0.79615,     0.79887,     0.80008,     0.80128,     0.80536,     0.80821,     0.80889,      0.8092,     0.81028,     0.81184,      0.8127,     0.81323,     0.81469,     0.81498,     0.81528,     0.81855,     0.82057,\n",
       "             0.8232,     0.82423,     0.82666,     0.82744,      0.8278,     0.82776,     0.82902,     0.82967,     0.83032,     0.83055,     0.83076,     0.83097,     0.83192,     0.83284,     0.83339,     0.83379,     0.83561,     0.83696,     0.83784,     0.83896,     0.83959,      0.8405,     0.84202,\n",
       "            0.84231,     0.84261,       0.843,     0.84334,     0.84338,      0.8438,     0.84417,      0.8445,     0.84549,     0.84679,     0.84697,     0.84715,     0.84733,     0.84768,     0.84825,     0.84877,     0.84987,     0.85103,     0.85169,     0.85231,     0.85258,     0.85284,     0.85325,\n",
       "            0.85438,     0.85433,     0.85428,     0.85638,     0.85764,     0.85985,      0.8602,      0.8605,     0.86175,     0.86358,     0.86388,     0.86418,     0.86509,     0.86559,     0.86658,     0.86669,     0.86681,     0.86693,     0.86705,     0.86717,     0.86746,     0.86796,     0.86927,\n",
       "            0.87121,     0.87214,      0.8724,     0.87237,     0.87234,     0.87272,     0.87373,     0.87414,     0.87448,     0.87467,     0.87481,     0.87495,     0.87508,     0.87522,     0.87539,     0.87564,      0.8759,      0.8763,     0.87711,     0.87877,     0.87901,     0.87973,      0.8797,\n",
       "            0.87967,     0.87972,     0.87991,     0.88009,     0.88027,     0.88052,     0.88096,     0.88183,     0.88192,      0.8819,     0.88187,     0.88185,     0.88263,     0.88326,     0.88337,     0.88335,     0.88334,     0.88332,     0.88331,     0.88329,     0.88328,     0.88345,     0.88365,\n",
       "            0.88386,     0.88567,      0.8868,     0.88791,     0.88786,     0.88792,      0.8885,     0.88908,     0.88953,     0.88983,     0.89014,     0.89043,     0.89072,     0.89121,     0.89188,     0.89217,     0.89246,      0.8927,     0.89293,     0.89316,     0.89346,     0.89384,     0.89419,\n",
       "            0.89448,     0.89478,     0.89603,     0.89733,     0.89771,     0.89819,      0.8988,     0.89871,     0.89884,     0.89939,     0.89998,     0.90164,     0.90205,     0.90227,     0.90249,     0.90282,      0.9037,     0.90426,     0.90455,     0.90483,     0.90511,      0.9059,     0.90584,\n",
       "            0.90673,     0.90948,      0.9106,     0.91068,     0.91112,     0.91307,     0.91348,     0.91386,     0.91479,     0.91505,     0.91531,     0.91557,     0.91729,     0.91741,     0.91753,     0.91766,     0.91778,      0.9179,     0.91802,     0.91816,     0.91834,     0.91852,      0.9187,\n",
       "            0.91888,     0.91904,     0.91919,     0.91934,     0.91949,     0.91964,     0.92064,     0.92098,     0.92133,     0.92224,     0.92219,     0.92253,     0.92307,      0.9232,     0.92333,     0.92347,      0.9236,     0.92373,     0.92386,     0.92396,     0.92405,     0.92415,     0.92424,\n",
       "            0.92433,     0.92443,     0.92452,     0.92462,      0.9248,     0.92554,     0.92552,     0.92549,      0.9256,     0.92577,     0.92595,     0.92612,      0.9263,     0.92722,     0.92772,     0.92816,     0.92848,     0.92879,     0.92884,     0.92907,     0.92932,     0.92957,     0.92968,\n",
       "            0.92966,     0.92963,     0.93141,     0.93191,     0.93222,     0.93221,      0.9322,      0.9322,     0.93219,     0.93218,     0.93218,     0.93217,     0.93216,     0.93216,     0.93254,     0.93385,     0.93398,      0.9341,     0.93422,     0.93435,     0.93447,     0.93459,     0.93476,\n",
       "            0.93527,     0.93556,     0.93552,     0.93701,     0.93725,     0.93723,     0.93721,     0.93738,     0.93754,      0.9377,     0.93787,     0.93803,     0.93893,     0.93974,     0.93995,     0.94012,     0.94028,     0.94045,     0.94061,     0.94095,      0.9414,      0.9419,     0.94242,\n",
       "            0.94276,     0.94309,     0.94441,     0.94596,      0.9459,     0.94598,     0.94631,     0.94665,     0.94879,     0.94913,     0.94946,     0.95037,     0.95091,     0.95155,     0.95219,     0.95218,     0.95216,     0.95258,     0.95454,     0.95548,     0.95574,      0.9564,     0.95753,\n",
       "            0.95752,     0.95841,     0.95839,     0.95851,     0.95962,     0.96019,     0.96019,     0.96018,     0.96018,     0.96018,     0.96017,     0.96017,     0.96016,     0.96016,     0.96016,     0.96064,     0.96109,     0.96107,     0.96191,     0.96187,     0.96187,     0.96186,     0.96185,\n",
       "            0.96184,     0.96174,      0.9617,     0.96168,     0.96166,     0.96156,     0.96154,     0.96228,     0.96248,     0.96246,     0.96256,     0.96336,     0.96345,     0.96434,     0.96483,      0.9654,     0.96639,     0.96706,     0.96733,     0.96816,     0.96866,     0.96895,     0.96893,\n",
       "            0.96893,     0.96892,     0.96891,     0.96891,     0.96889,     0.96888,     0.96887,     0.96886,     0.96885,     0.96884,     0.96979,     0.96976,     0.96972,     0.96971,      0.9697,     0.96969,     0.97005,     0.97042,     0.97081,     0.97131,     0.97168,     0.97193,     0.97219,\n",
       "            0.97244,     0.97255,     0.97252,     0.97249,     0.97247,     0.97245,     0.97243,      0.9734,     0.97338,     0.97337,     0.97336,     0.97362,     0.97396,      0.9743,     0.97434,     0.97432,     0.97432,     0.97431,     0.97428,     0.97425,      0.9742,     0.97446,     0.97472,\n",
       "            0.97498,     0.97621,     0.97642,     0.97663,     0.97684,     0.97704,     0.97732,     0.97784,     0.97821,     0.97819,     0.97819,     0.97818,     0.97817,     0.97814,     0.97814,     0.97813,     0.97812,     0.97812,     0.97811,      0.9781,      0.9781,     0.97809,     0.97808,\n",
       "            0.97805,     0.97804,     0.97804,     0.97879,     0.97945,     0.97997,      0.9805,     0.98103,     0.98156,     0.98209,     0.98233,     0.98254,     0.98275,     0.98297,     0.98318,     0.98317,     0.98316,     0.98316,     0.98315,     0.98315,     0.98312,     0.98311,      0.9831,\n",
       "            0.98309,     0.98308,     0.98307,     0.98305,     0.98304,     0.98301,      0.9834,     0.98402,     0.98402,     0.98402,     0.98402,     0.98402,     0.98402,     0.98402,     0.98401,     0.98401,     0.98401,     0.98401,     0.98401,     0.98398,     0.98394,     0.98394,     0.98394,\n",
       "            0.98393,     0.98393,     0.98393,     0.98393,     0.98393,     0.98393,     0.98392,     0.98442,     0.98496,     0.98495,     0.98492,      0.9849,     0.98487,     0.98485,     0.98484,     0.98483,     0.98482,      0.9848,     0.98587,     0.98586,     0.98586,     0.98585,     0.98583,\n",
       "            0.98582,     0.98582,     0.98581,      0.9858,      0.9858,     0.98579,     0.98579,     0.98578,     0.98578,     0.98576,     0.98575,     0.98611,     0.98666,     0.98683,     0.98682,     0.98682,     0.98682,     0.98682,     0.98681,     0.98681,      0.9868,     0.98678,     0.98677,\n",
       "            0.98677,     0.98676,     0.98675,     0.98674,     0.98673,     0.98672,     0.98672,     0.98671,      0.9878,     0.98778,     0.98886,     0.98886,     0.98885,     0.98884,     0.98884,     0.98883,     0.98882,     0.98882,     0.98882,     0.98882,     0.98881,      0.9888,      0.9888,\n",
       "            0.98876,     0.98876,     0.98876,     0.98876,     0.98875,     0.98872,      0.9887,     0.98869,     0.98868,     0.98953,     0.98979,     0.98979,     0.98979,     0.98978,     0.98978,     0.98977,     0.98976,     0.98975,     0.98974,     0.98974,     0.98974,     0.98973,     0.98973,\n",
       "            0.98972,     0.98971,     0.98969,     0.98968,     0.98967,     0.98967,     0.98965,     0.98963,     0.98962,      0.9896,      0.9896,     0.98958,     0.98958,     0.98958,     0.98957,     0.98957,     0.98957,     0.98957,     0.98956,     0.98955,     0.98953,     0.98953,     0.98952,\n",
       "            0.98951,      0.9895,     0.98949,     0.98948,     0.98948,     0.98947,     0.98946,     0.98944,     0.98939,     0.98936,     0.99049,     0.99047,     0.99164,     0.99282,     0.99281,     0.99281,     0.99276,     0.99276,     0.99274,     0.99274,     0.99271,     0.99269,     0.99268,\n",
       "            0.99268,     0.99267,     0.99267,     0.99267,     0.99267,     0.99267,     0.99267,     0.99266,     0.99265,     0.99265,     0.99264,     0.99264,     0.99263,     0.99262,     0.99261,      0.9926,     0.99258,     0.99258,     0.99255,     0.99255,     0.99251,      0.9925,      0.9925,\n",
       "            0.99247,     0.99246,     0.99244,      0.9924,      0.9924,     0.99237,     0.99232,     0.99232,     0.99231,     0.99233,      0.9932,     0.99354,     0.99354,     0.99353,     0.99352,      0.9935,      0.9935,     0.99349,     0.99349,     0.99347,     0.99346,     0.99346,     0.99344,\n",
       "            0.99343,     0.99342,     0.99342,     0.99384,     0.99471,      0.9947,     0.99468,     0.99468,     0.99466,     0.99464,     0.99463,     0.99462,     0.99459,     0.99459,     0.99457,     0.99455,     0.99454,     0.99453,     0.99453,     0.99452,     0.99452,     0.99449,     0.99448,\n",
       "            0.99448,     0.99444,     0.99444,     0.99441,      0.9944,     0.99438,     0.99435,     0.99434,     0.99433,     0.99431,     0.99425,     0.99425,     0.99423,     0.99419,     0.99419,     0.99561,     0.99559,     0.99558,     0.99556,     0.99552,     0.99548,     0.99545,     0.99544,\n",
       "            0.99542,      0.9954,     0.99536,     0.99536,     0.99533,     0.99532,      0.9953,      0.9953,     0.99528,     0.99527,     0.99524,     0.99524,     0.99521,      0.9952,     0.99515,     0.99562,     0.99673,     0.99673,      0.9967,     0.99669,     0.99665,     0.99663,     0.99662,\n",
       "            0.99657,     0.99654,     0.99647,     0.99645,     0.99644,     0.99638,     0.99636,     0.99633,     0.99628,     0.99624,     0.99623,     0.99618,     0.99616,     0.99614,     0.99613,     0.99608,     0.99605,       0.996,     0.99598,     0.99598,     0.99593,     0.99584,     0.99677,\n",
       "            0.99788,     0.99784,     0.99782,     0.99778,     0.99778,     0.99772,     0.99769,     0.99766,     0.99762,     0.99758,           1,           1,           1,           1,           1,           1,           1,           1,           1,           1,           1,           1,           1,\n",
       "                  1,           1,           1,           1,           1,           1,           1,           1,           1,           1,           1,           1,           1,           1,           1,           1,           1,           1,           1,           1,           1,           1,           1,\n",
       "                  1,           1,           1,           1,           1,           1,           1,           1,           1,           1,           1,           1,           1,           1,           1,           1,           1,           1,           1,           1,           1,           1,           1,\n",
       "                  1,           1,           1,           1,           1,           1,           1,           1,           1,           1,           1,           1,           1,           1,           1,           1,           1,           1,           1,           1,           1,           1,           1,\n",
       "                  1,           1,           1,           1,           1,           1,           1,           1,           1,           1,           1,           1,           1,           1,           1,           1,           1,           1,           1,           1,           1,           1,           1,\n",
       "                  1,           1,           1,           1,           1,           1,           1,           1,           1,           1,           1,           1,           1,           1,           1,           1,           1,           1,           1,           1,           1,           1,           1,\n",
       "                  1,           1,           1,           1,           1,           1,           1,           1,           1,           1,           1,           1,           1,           1,           1,           1,           1,           1,           1,           1,           1,           1,           1,\n",
       "                  1,           1,           1,           1,           1,           1,           1,           1,           1,           1,           1]]), 'Confidence', 'Precision'], [array([          0,    0.001001,    0.002002,    0.003003,    0.004004,    0.005005,    0.006006,    0.007007,    0.008008,    0.009009,     0.01001,    0.011011,    0.012012,    0.013013,    0.014014,    0.015015,    0.016016,    0.017017,    0.018018,    0.019019,     0.02002,    0.021021,    0.022022,    0.023023,\n",
       "          0.024024,    0.025025,    0.026026,    0.027027,    0.028028,    0.029029,     0.03003,    0.031031,    0.032032,    0.033033,    0.034034,    0.035035,    0.036036,    0.037037,    0.038038,    0.039039,     0.04004,    0.041041,    0.042042,    0.043043,    0.044044,    0.045045,    0.046046,    0.047047,\n",
       "          0.048048,    0.049049,     0.05005,    0.051051,    0.052052,    0.053053,    0.054054,    0.055055,    0.056056,    0.057057,    0.058058,    0.059059,     0.06006,    0.061061,    0.062062,    0.063063,    0.064064,    0.065065,    0.066066,    0.067067,    0.068068,    0.069069,     0.07007,    0.071071,\n",
       "          0.072072,    0.073073,    0.074074,    0.075075,    0.076076,    0.077077,    0.078078,    0.079079,     0.08008,    0.081081,    0.082082,    0.083083,    0.084084,    0.085085,    0.086086,    0.087087,    0.088088,    0.089089,     0.09009,    0.091091,    0.092092,    0.093093,    0.094094,    0.095095,\n",
       "          0.096096,    0.097097,    0.098098,    0.099099,      0.1001,      0.1011,      0.1021,      0.1031,      0.1041,     0.10511,     0.10611,     0.10711,     0.10811,     0.10911,     0.11011,     0.11111,     0.11211,     0.11311,     0.11411,     0.11512,     0.11612,     0.11712,     0.11812,     0.11912,\n",
       "           0.12012,     0.12112,     0.12212,     0.12312,     0.12412,     0.12513,     0.12613,     0.12713,     0.12813,     0.12913,     0.13013,     0.13113,     0.13213,     0.13313,     0.13413,     0.13514,     0.13614,     0.13714,     0.13814,     0.13914,     0.14014,     0.14114,     0.14214,     0.14314,\n",
       "           0.14414,     0.14515,     0.14615,     0.14715,     0.14815,     0.14915,     0.15015,     0.15115,     0.15215,     0.15315,     0.15415,     0.15516,     0.15616,     0.15716,     0.15816,     0.15916,     0.16016,     0.16116,     0.16216,     0.16316,     0.16416,     0.16517,     0.16617,     0.16717,\n",
       "           0.16817,     0.16917,     0.17017,     0.17117,     0.17217,     0.17317,     0.17417,     0.17518,     0.17618,     0.17718,     0.17818,     0.17918,     0.18018,     0.18118,     0.18218,     0.18318,     0.18418,     0.18519,     0.18619,     0.18719,     0.18819,     0.18919,     0.19019,     0.19119,\n",
       "           0.19219,     0.19319,     0.19419,      0.1952,      0.1962,      0.1972,      0.1982,      0.1992,      0.2002,      0.2012,      0.2022,      0.2032,      0.2042,     0.20521,     0.20621,     0.20721,     0.20821,     0.20921,     0.21021,     0.21121,     0.21221,     0.21321,     0.21421,     0.21522,\n",
       "           0.21622,     0.21722,     0.21822,     0.21922,     0.22022,     0.22122,     0.22222,     0.22322,     0.22422,     0.22523,     0.22623,     0.22723,     0.22823,     0.22923,     0.23023,     0.23123,     0.23223,     0.23323,     0.23423,     0.23524,     0.23624,     0.23724,     0.23824,     0.23924,\n",
       "           0.24024,     0.24124,     0.24224,     0.24324,     0.24424,     0.24525,     0.24625,     0.24725,     0.24825,     0.24925,     0.25025,     0.25125,     0.25225,     0.25325,     0.25425,     0.25526,     0.25626,     0.25726,     0.25826,     0.25926,     0.26026,     0.26126,     0.26226,     0.26326,\n",
       "           0.26426,     0.26527,     0.26627,     0.26727,     0.26827,     0.26927,     0.27027,     0.27127,     0.27227,     0.27327,     0.27427,     0.27528,     0.27628,     0.27728,     0.27828,     0.27928,     0.28028,     0.28128,     0.28228,     0.28328,     0.28428,     0.28529,     0.28629,     0.28729,\n",
       "           0.28829,     0.28929,     0.29029,     0.29129,     0.29229,     0.29329,     0.29429,      0.2953,      0.2963,      0.2973,      0.2983,      0.2993,      0.3003,      0.3013,      0.3023,      0.3033,      0.3043,     0.30531,     0.30631,     0.30731,     0.30831,     0.30931,     0.31031,     0.31131,\n",
       "           0.31231,     0.31331,     0.31431,     0.31532,     0.31632,     0.31732,     0.31832,     0.31932,     0.32032,     0.32132,     0.32232,     0.32332,     0.32432,     0.32533,     0.32633,     0.32733,     0.32833,     0.32933,     0.33033,     0.33133,     0.33233,     0.33333,     0.33433,     0.33534,\n",
       "           0.33634,     0.33734,     0.33834,     0.33934,     0.34034,     0.34134,     0.34234,     0.34334,     0.34434,     0.34535,     0.34635,     0.34735,     0.34835,     0.34935,     0.35035,     0.35135,     0.35235,     0.35335,     0.35435,     0.35536,     0.35636,     0.35736,     0.35836,     0.35936,\n",
       "           0.36036,     0.36136,     0.36236,     0.36336,     0.36436,     0.36537,     0.36637,     0.36737,     0.36837,     0.36937,     0.37037,     0.37137,     0.37237,     0.37337,     0.37437,     0.37538,     0.37638,     0.37738,     0.37838,     0.37938,     0.38038,     0.38138,     0.38238,     0.38338,\n",
       "           0.38438,     0.38539,     0.38639,     0.38739,     0.38839,     0.38939,     0.39039,     0.39139,     0.39239,     0.39339,     0.39439,      0.3954,      0.3964,      0.3974,      0.3984,      0.3994,      0.4004,      0.4014,      0.4024,      0.4034,      0.4044,     0.40541,     0.40641,     0.40741,\n",
       "           0.40841,     0.40941,     0.41041,     0.41141,     0.41241,     0.41341,     0.41441,     0.41542,     0.41642,     0.41742,     0.41842,     0.41942,     0.42042,     0.42142,     0.42242,     0.42342,     0.42442,     0.42543,     0.42643,     0.42743,     0.42843,     0.42943,     0.43043,     0.43143,\n",
       "           0.43243,     0.43343,     0.43443,     0.43544,     0.43644,     0.43744,     0.43844,     0.43944,     0.44044,     0.44144,     0.44244,     0.44344,     0.44444,     0.44545,     0.44645,     0.44745,     0.44845,     0.44945,     0.45045,     0.45145,     0.45245,     0.45345,     0.45445,     0.45546,\n",
       "           0.45646,     0.45746,     0.45846,     0.45946,     0.46046,     0.46146,     0.46246,     0.46346,     0.46446,     0.46547,     0.46647,     0.46747,     0.46847,     0.46947,     0.47047,     0.47147,     0.47247,     0.47347,     0.47447,     0.47548,     0.47648,     0.47748,     0.47848,     0.47948,\n",
       "           0.48048,     0.48148,     0.48248,     0.48348,     0.48448,     0.48549,     0.48649,     0.48749,     0.48849,     0.48949,     0.49049,     0.49149,     0.49249,     0.49349,     0.49449,      0.4955,      0.4965,      0.4975,      0.4985,      0.4995,      0.5005,      0.5015,      0.5025,      0.5035,\n",
       "            0.5045,     0.50551,     0.50651,     0.50751,     0.50851,     0.50951,     0.51051,     0.51151,     0.51251,     0.51351,     0.51451,     0.51552,     0.51652,     0.51752,     0.51852,     0.51952,     0.52052,     0.52152,     0.52252,     0.52352,     0.52452,     0.52553,     0.52653,     0.52753,\n",
       "           0.52853,     0.52953,     0.53053,     0.53153,     0.53253,     0.53353,     0.53453,     0.53554,     0.53654,     0.53754,     0.53854,     0.53954,     0.54054,     0.54154,     0.54254,     0.54354,     0.54454,     0.54555,     0.54655,     0.54755,     0.54855,     0.54955,     0.55055,     0.55155,\n",
       "           0.55255,     0.55355,     0.55455,     0.55556,     0.55656,     0.55756,     0.55856,     0.55956,     0.56056,     0.56156,     0.56256,     0.56356,     0.56456,     0.56557,     0.56657,     0.56757,     0.56857,     0.56957,     0.57057,     0.57157,     0.57257,     0.57357,     0.57457,     0.57558,\n",
       "           0.57658,     0.57758,     0.57858,     0.57958,     0.58058,     0.58158,     0.58258,     0.58358,     0.58458,     0.58559,     0.58659,     0.58759,     0.58859,     0.58959,     0.59059,     0.59159,     0.59259,     0.59359,     0.59459,      0.5956,      0.5966,      0.5976,      0.5986,      0.5996,\n",
       "            0.6006,      0.6016,      0.6026,      0.6036,      0.6046,     0.60561,     0.60661,     0.60761,     0.60861,     0.60961,     0.61061,     0.61161,     0.61261,     0.61361,     0.61461,     0.61562,     0.61662,     0.61762,     0.61862,     0.61962,     0.62062,     0.62162,     0.62262,     0.62362,\n",
       "           0.62462,     0.62563,     0.62663,     0.62763,     0.62863,     0.62963,     0.63063,     0.63163,     0.63263,     0.63363,     0.63463,     0.63564,     0.63664,     0.63764,     0.63864,     0.63964,     0.64064,     0.64164,     0.64264,     0.64364,     0.64464,     0.64565,     0.64665,     0.64765,\n",
       "           0.64865,     0.64965,     0.65065,     0.65165,     0.65265,     0.65365,     0.65465,     0.65566,     0.65666,     0.65766,     0.65866,     0.65966,     0.66066,     0.66166,     0.66266,     0.66366,     0.66466,     0.66567,     0.66667,     0.66767,     0.66867,     0.66967,     0.67067,     0.67167,\n",
       "           0.67267,     0.67367,     0.67467,     0.67568,     0.67668,     0.67768,     0.67868,     0.67968,     0.68068,     0.68168,     0.68268,     0.68368,     0.68468,     0.68569,     0.68669,     0.68769,     0.68869,     0.68969,     0.69069,     0.69169,     0.69269,     0.69369,     0.69469,      0.6957,\n",
       "            0.6967,      0.6977,      0.6987,      0.6997,      0.7007,      0.7017,      0.7027,      0.7037,      0.7047,     0.70571,     0.70671,     0.70771,     0.70871,     0.70971,     0.71071,     0.71171,     0.71271,     0.71371,     0.71471,     0.71572,     0.71672,     0.71772,     0.71872,     0.71972,\n",
       "           0.72072,     0.72172,     0.72272,     0.72372,     0.72472,     0.72573,     0.72673,     0.72773,     0.72873,     0.72973,     0.73073,     0.73173,     0.73273,     0.73373,     0.73473,     0.73574,     0.73674,     0.73774,     0.73874,     0.73974,     0.74074,     0.74174,     0.74274,     0.74374,\n",
       "           0.74474,     0.74575,     0.74675,     0.74775,     0.74875,     0.74975,     0.75075,     0.75175,     0.75275,     0.75375,     0.75475,     0.75576,     0.75676,     0.75776,     0.75876,     0.75976,     0.76076,     0.76176,     0.76276,     0.76376,     0.76476,     0.76577,     0.76677,     0.76777,\n",
       "           0.76877,     0.76977,     0.77077,     0.77177,     0.77277,     0.77377,     0.77477,     0.77578,     0.77678,     0.77778,     0.77878,     0.77978,     0.78078,     0.78178,     0.78278,     0.78378,     0.78478,     0.78579,     0.78679,     0.78779,     0.78879,     0.78979,     0.79079,     0.79179,\n",
       "           0.79279,     0.79379,     0.79479,      0.7958,      0.7968,      0.7978,      0.7988,      0.7998,      0.8008,      0.8018,      0.8028,      0.8038,      0.8048,     0.80581,     0.80681,     0.80781,     0.80881,     0.80981,     0.81081,     0.81181,     0.81281,     0.81381,     0.81481,     0.81582,\n",
       "           0.81682,     0.81782,     0.81882,     0.81982,     0.82082,     0.82182,     0.82282,     0.82382,     0.82482,     0.82583,     0.82683,     0.82783,     0.82883,     0.82983,     0.83083,     0.83183,     0.83283,     0.83383,     0.83483,     0.83584,     0.83684,     0.83784,     0.83884,     0.83984,\n",
       "           0.84084,     0.84184,     0.84284,     0.84384,     0.84484,     0.84585,     0.84685,     0.84785,     0.84885,     0.84985,     0.85085,     0.85185,     0.85285,     0.85385,     0.85485,     0.85586,     0.85686,     0.85786,     0.85886,     0.85986,     0.86086,     0.86186,     0.86286,     0.86386,\n",
       "           0.86486,     0.86587,     0.86687,     0.86787,     0.86887,     0.86987,     0.87087,     0.87187,     0.87287,     0.87387,     0.87487,     0.87588,     0.87688,     0.87788,     0.87888,     0.87988,     0.88088,     0.88188,     0.88288,     0.88388,     0.88488,     0.88589,     0.88689,     0.88789,\n",
       "           0.88889,     0.88989,     0.89089,     0.89189,     0.89289,     0.89389,     0.89489,      0.8959,      0.8969,      0.8979,      0.8989,      0.8999,      0.9009,      0.9019,      0.9029,      0.9039,      0.9049,     0.90591,     0.90691,     0.90791,     0.90891,     0.90991,     0.91091,     0.91191,\n",
       "           0.91291,     0.91391,     0.91491,     0.91592,     0.91692,     0.91792,     0.91892,     0.91992,     0.92092,     0.92192,     0.92292,     0.92392,     0.92492,     0.92593,     0.92693,     0.92793,     0.92893,     0.92993,     0.93093,     0.93193,     0.93293,     0.93393,     0.93493,     0.93594,\n",
       "           0.93694,     0.93794,     0.93894,     0.93994,     0.94094,     0.94194,     0.94294,     0.94394,     0.94494,     0.94595,     0.94695,     0.94795,     0.94895,     0.94995,     0.95095,     0.95195,     0.95295,     0.95395,     0.95495,     0.95596,     0.95696,     0.95796,     0.95896,     0.95996,\n",
       "           0.96096,     0.96196,     0.96296,     0.96396,     0.96496,     0.96597,     0.96697,     0.96797,     0.96897,     0.96997,     0.97097,     0.97197,     0.97297,     0.97397,     0.97497,     0.97598,     0.97698,     0.97798,     0.97898,     0.97998,     0.98098,     0.98198,     0.98298,     0.98398,\n",
       "           0.98498,     0.98599,     0.98699,     0.98799,     0.98899,     0.98999,     0.99099,     0.99199,     0.99299,     0.99399,     0.99499,       0.996,       0.997,       0.998,       0.999,           1]), array([[    0.99135,     0.99135,     0.99039,     0.99039,     0.99039,     0.99039,     0.99039,     0.99039,     0.99039,     0.99039,     0.99039,     0.99039,     0.98943,     0.98943,     0.98943,     0.98943,     0.98943,     0.98943,     0.98943,     0.98943,     0.98943,     0.98943,     0.98943,\n",
       "            0.98943,     0.98943,     0.98943,     0.98847,     0.98847,     0.98847,     0.98847,     0.98847,     0.98847,     0.98847,     0.98847,     0.98847,     0.98847,     0.98847,     0.98847,     0.98847,     0.98847,     0.98847,     0.98847,     0.98847,     0.98847,     0.98847,     0.98847,\n",
       "            0.98847,     0.98847,     0.98751,     0.98751,     0.98751,     0.98751,     0.98751,     0.98729,     0.98655,     0.98655,     0.98655,     0.98655,     0.98655,     0.98655,     0.98655,     0.98655,     0.98655,     0.98655,     0.98655,     0.98655,     0.98655,     0.98655,     0.98559,\n",
       "            0.98504,     0.98463,     0.98463,     0.98463,     0.98463,     0.98463,     0.98463,     0.98463,     0.98367,     0.98367,     0.98367,     0.98367,     0.98367,     0.98367,     0.98367,     0.98367,     0.98367,     0.98367,     0.98367,     0.98367,     0.98367,     0.98367,     0.98367,\n",
       "            0.98367,     0.98367,     0.98367,     0.98367,     0.98359,     0.98271,     0.98271,     0.98271,     0.98271,     0.98271,     0.98271,     0.98271,     0.98271,     0.98271,     0.98271,     0.98271,     0.98271,     0.98271,     0.98271,     0.98271,     0.98271,     0.98271,     0.98271,\n",
       "            0.98271,     0.98271,     0.98271,     0.98254,     0.98175,     0.98175,     0.98175,     0.98175,     0.98175,     0.98175,     0.98175,     0.98175,     0.98175,     0.98175,     0.98175,     0.98175,     0.98175,     0.98175,     0.98079,     0.98079,     0.98079,     0.98079,     0.98079,\n",
       "            0.98071,     0.98032,     0.97992,     0.97952,     0.97887,     0.97887,     0.97887,     0.97887,     0.97887,     0.97887,     0.97887,     0.97887,     0.97887,     0.97887,     0.97887,     0.97887,     0.97887,     0.97887,     0.97887,     0.97887,     0.97887,     0.97887,     0.97887,\n",
       "            0.97887,     0.97887,     0.97863,     0.97834,     0.97805,     0.97791,     0.97791,     0.97791,     0.97791,     0.97791,     0.97791,     0.97791,     0.97791,     0.97791,     0.97791,     0.97791,     0.97791,     0.97791,     0.97791,     0.97791,     0.97709,      0.9767,     0.97643,\n",
       "            0.97616,     0.97598,     0.97598,     0.97598,     0.97598,     0.97598,     0.97598,     0.97598,     0.97578,     0.97556,     0.97533,     0.97511,     0.97502,     0.97502,     0.97491,     0.97477,     0.97464,      0.9745,     0.97436,     0.97422,     0.97408,     0.97406,     0.97406,\n",
       "            0.97406,     0.97406,     0.97406,       0.974,     0.97351,      0.9731,      0.9731,      0.9731,      0.9731,      0.9731,      0.9731,      0.9731,      0.9731,      0.9731,      0.9731,      0.9731,      0.9731,      0.9731,      0.9731,      0.9731,      0.9731,      0.9731,      0.9731,\n",
       "             0.9731,      0.9731,      0.9731,      0.9731,      0.9731,      0.9731,     0.97258,     0.97167,     0.97118,     0.97118,     0.97118,     0.97118,     0.97118,     0.97118,     0.97118,     0.97118,     0.97118,     0.97118,     0.97118,     0.97118,     0.97118,       0.971,     0.97034,\n",
       "            0.97022,     0.97022,     0.97022,     0.96964,     0.96926,     0.96926,     0.96926,     0.96926,     0.96926,     0.96926,     0.96926,     0.96926,     0.96926,     0.96926,     0.96926,     0.96926,     0.96926,     0.96926,     0.96926,     0.96926,     0.96926,     0.96926,     0.96926,\n",
       "            0.96926,     0.96926,     0.96926,     0.96926,     0.96926,     0.96926,     0.96926,     0.96926,     0.96926,     0.96845,     0.96772,     0.96734,     0.96734,     0.96734,     0.96734,     0.96734,     0.96734,     0.96734,     0.96734,     0.96734,     0.96734,     0.96734,     0.96734,\n",
       "            0.96734,     0.96734,     0.96734,     0.96734,     0.96734,     0.96721,     0.96686,      0.9665,     0.96638,     0.96638,     0.96638,     0.96638,     0.96638,     0.96638,     0.96638,     0.96638,     0.96638,     0.96638,      0.9655,     0.96542,     0.96542,     0.96542,     0.96523,\n",
       "            0.96487,     0.96452,     0.96446,     0.96446,     0.96442,     0.96432,     0.96422,     0.96411,     0.96401,     0.96391,     0.96381,     0.96371,     0.96361,     0.96351,     0.96254,     0.96254,     0.96254,     0.96254,     0.96254,     0.96254,     0.96254,     0.96254,     0.96254,\n",
       "            0.96254,     0.96231,     0.96175,     0.96158,     0.96132,     0.96096,     0.96061,     0.96061,     0.96061,     0.96061,     0.96061,     0.96061,     0.95996,     0.95965,     0.95965,     0.95965,     0.95965,     0.95965,     0.95965,     0.95965,     0.95965,     0.95965,     0.95965,\n",
       "            0.95965,     0.95965,     0.95869,     0.95842,     0.95744,     0.95677,     0.95677,     0.95677,     0.95677,     0.95677,     0.95677,     0.95677,     0.95677,     0.95677,     0.95667,     0.95634,     0.95602,     0.95485,     0.95485,     0.95485,     0.95417,     0.95389,     0.95292,\n",
       "            0.95197,     0.95194,     0.95145,     0.95101,     0.95005,     0.95001,     0.94991,     0.94981,      0.9497,      0.9496,      0.9495,      0.9494,      0.9493,      0.9492,      0.9491,     0.94909,       0.949,     0.94851,     0.94598,     0.94519,     0.94499,     0.94478,     0.94457,\n",
       "            0.94436,     0.94175,     0.94077,     0.94011,     0.93962,     0.93721,     0.93671,      0.9366,     0.93632,     0.93596,     0.93564,     0.93455,     0.93276,     0.93276,     0.93276,      0.9318,      0.9318,     0.93056,     0.92988,     0.92988,     0.92988,     0.92938,     0.92879,\n",
       "            0.92859,     0.92839,      0.9282,       0.928,     0.92758,     0.92708,     0.92679,     0.92655,      0.9263,     0.92605,     0.92513,     0.92415,     0.92284,     0.92251,     0.92216,     0.92123,     0.92123,     0.92123,     0.92027,     0.92027,     0.91931,     0.91931,     0.91931,\n",
       "            0.91931,     0.91879,     0.91781,     0.91682,     0.91613,     0.91564,     0.91483,     0.91385,     0.91332,     0.91299,     0.91266,     0.91258,     0.91258,     0.91258,     0.91176,     0.91134,     0.91101,     0.91068,     0.90974,     0.90875,     0.90682,     0.90682,     0.90682,\n",
       "            0.90682,     0.90586,     0.90586,     0.90586,     0.90586,     0.90586,     0.90586,     0.90586,     0.90558,     0.90482,     0.90458,     0.90433,     0.90409,     0.90285,     0.90252,     0.90219,      0.9019,     0.90165,     0.90141,     0.90116,     0.90087,     0.90054,     0.90021,\n",
       "            0.89892,      0.8986,     0.89827,     0.89817,     0.89817,     0.89817,     0.89817,     0.89817,     0.89817,     0.89817,     0.89817,     0.89817,     0.89817,     0.89817,     0.89817,     0.89784,     0.89751,     0.89719,     0.89686,     0.89653,     0.89521,     0.89472,     0.89413,\n",
       "             0.8933,     0.89297,     0.89264,      0.8913,     0.89081,     0.88918,     0.88857,     0.88757,     0.88749,     0.88741,     0.88733,     0.88725,     0.88716,     0.88708,       0.887,     0.88692,     0.88684,     0.88675,     0.88667,       0.885,     0.88306,     0.88273,     0.88262,\n",
       "            0.88252,     0.88242,     0.88231,     0.88221,     0.88211,       0.882,      0.8819,     0.88088,     0.88064,     0.88014,     0.87842,     0.87744,     0.87549,     0.87451,     0.87352,     0.87287,     0.87238,     0.87153,     0.87109,     0.87085,      0.8706,     0.87036,     0.86894,\n",
       "            0.86845,     0.86796,     0.86746,     0.86713,      0.8668,     0.86647,     0.86619,     0.86591,     0.86563,     0.86426,     0.86377,     0.86359,     0.86359,     0.86348,     0.86331,     0.86315,     0.86299,     0.86282,     0.86266,      0.8623,     0.86191,     0.86051,     0.86002,\n",
       "            0.85953,     0.85903,     0.85854,     0.85805,     0.85729,     0.85668,     0.85635,     0.85602,     0.85548,      0.8538,     0.85292,     0.85243,     0.85194,     0.85145,      0.8508,     0.85008,     0.84991,     0.84973,     0.84955,     0.84937,     0.84919,     0.84823,     0.84774,\n",
       "            0.84533,     0.84511,     0.84489,     0.84468,     0.84446,     0.84182,     0.84084,     0.83985,     0.83887,     0.83862,      0.8384,     0.83812,     0.83784,     0.83754,     0.83721,     0.83688,     0.83585,     0.83454,      0.8343,     0.83405,     0.83379,      0.8333,     0.83279,\n",
       "            0.83214,     0.83128,     0.83029,     0.82882,     0.82854,     0.82826,     0.82683,     0.82503,     0.82454,     0.82303,     0.82237,     0.82117,     0.82099,     0.82081,     0.82063,     0.82045,     0.82022,     0.81994,     0.81966,     0.81836,     0.81743,     0.81693,     0.81642,\n",
       "            0.81576,     0.81487,     0.81389,     0.81335,     0.81295,     0.81248,     0.81182,     0.80993,     0.80606,     0.80411,     0.80073,     0.79878,      0.7978,     0.79729,     0.79631,     0.79532,     0.79053,     0.78987,     0.78836,     0.78786,     0.78438,     0.78276,     0.78211,\n",
       "            0.78157,     0.78108,     0.78082,     0.78063,     0.78043,     0.78023,     0.78004,     0.77942,     0.77883,     0.77834,     0.77777,     0.77711,     0.77645,     0.77493,     0.77444,     0.77288,     0.77127,     0.77061,     0.76815,     0.76765,     0.76344,     0.76311,     0.76279,\n",
       "            0.75944,     0.75895,     0.75639,     0.75285,      0.7522,     0.74962,      0.7452,     0.74471,     0.74413,     0.73967,     0.73967,     0.73928,     0.73862,     0.73796,     0.73635,     0.73385,     0.73357,     0.73329,     0.73301,      0.7305,     0.72985,     0.72919,     0.72757,\n",
       "            0.72596,      0.7253,     0.72464,      0.7243,     0.72237,     0.72171,     0.71827,     0.71777,     0.71526,     0.71268,     0.71203,     0.71041,     0.70687,     0.70622,     0.70364,     0.70106,      0.7004,     0.69879,     0.69823,     0.69783,     0.69744,     0.69296,      0.6923,\n",
       "            0.69165,     0.68747,     0.68715,     0.68295,      0.6823,     0.67972,     0.67618,     0.67552,     0.67391,     0.67126,     0.66459,     0.66393,     0.66232,     0.65782,     0.65716,     0.65362,     0.65008,     0.64943,     0.64559,     0.64011,     0.63465,     0.63015,     0.62949,\n",
       "            0.62673,     0.62402,     0.61856,      0.6179,     0.61415,     0.61339,     0.61081,     0.61015,     0.60829,      0.6066,     0.60306,      0.6024,     0.59859,     0.59693,     0.59134,     0.59078,     0.59078,     0.58534,     0.57971,     0.57794,      0.5715,     0.56766,     0.56701,\n",
       "            0.55846,     0.55385,     0.54256,     0.53876,     0.53811,     0.52952,     0.52591,     0.52131,     0.51456,     0.50889,     0.50823,     0.50152,     0.49891,     0.49619,     0.49424,     0.48862,     0.48507,     0.47832,      0.4764,     0.47575,     0.47008,     0.46045,     0.45533,\n",
       "            0.45224,     0.44357,      0.4397,     0.43209,     0.43143,      0.4209,     0.41511,     0.40932,     0.40257,     0.39613,      0.3934,     0.39049,     0.38471,     0.37412,     0.36833,     0.36542,     0.36252,     0.35117,     0.34181,     0.33507,     0.32544,     0.32061,     0.31674,\n",
       "            0.30903,     0.30325,     0.29842,     0.29455,     0.29165,     0.28298,     0.27239,     0.26948,     0.26369,     0.25358,     0.24491,     0.23528,     0.22949,     0.22563,     0.22176,     0.21693,     0.20808,     0.20008,     0.19525,     0.19138,     0.18655,      0.1774,     0.16874,\n",
       "            0.16679,     0.15774,     0.15666,     0.15279,       0.147,     0.14073,     0.13783,     0.13156,     0.12577,     0.12277,      0.1166,     0.10985,      0.1007,    0.098564,    0.096328,    0.092462,    0.085233,    0.081081,     0.07702,    0.074594,    0.072291,    0.068302,    0.063955,\n",
       "            0.06062,    0.058624,    0.053156,     0.05183,    0.050387,    0.046703,    0.044961,    0.038307,    0.035259,    0.033936,     0.03036,    0.029316,    0.028699,    0.028207,    0.027286,    0.025626,    0.023347,    0.022216,    0.017389,    0.016404,    0.014509,    0.013942,     0.01345,\n",
       "           0.012321,    0.011992,    0.011664,    0.010953,    0.010434,    0.010215,   0.0099961,   0.0097773,   0.0094989,   0.0090066,   0.0061993,   0.0044196,   0.0039273,   0.0035165,   0.0031226,   0.0018918,    0.001816,   0.0017403,   0.0016646,   0.0015888,   0.0015131,   0.0014373,   0.0013616,\n",
       "          0.0012858,   0.0012101,   0.0011344,   0.0010586,  0.00098288,           0,           0,           0,           0,           0,           0,           0,           0,           0,           0,           0,           0,           0,           0,           0,           0,           0,           0,\n",
       "                  0,           0,           0,           0,           0,           0,           0,           0,           0,           0,           0,           0,           0,           0,           0,           0,           0,           0,           0,           0,           0,           0,           0,\n",
       "                  0,           0,           0,           0,           0,           0,           0,           0,           0,           0,           0]]), 'Confidence', 'Recall']]\n",
       "fitness: 0.6508003466532857\n",
       "keys: ['metrics/precision(B)', 'metrics/recall(B)', 'metrics/mAP50(B)', 'metrics/mAP50-95(B)']\n",
       "maps: array([    0.61384])\n",
       "names: {0: 'BibitNila'}\n",
       "plot: True\n",
       "results_dict: {'metrics/precision(B)': 0.9564031588766355, 'metrics/recall(B)': 0.9538904899135446, 'metrics/mAP50(B)': 0.98345243980094, 'metrics/mAP50-95(B)': 0.6138390029702129, 'fitness': 0.6508003466532857}\n",
       "save_dir: PosixPath('runs/train/E50B8')\n",
       "speed: {'preprocess': 1.4686504999796548, 'inference': 3.7585973739624023, 'loss': 0.0006278355916341146, 'postprocess': 0.17379919687906903}\n",
       "task: 'detect'"
      ]
     },
     "execution_count": 4,
     "metadata": {},
     "output_type": "execute_result"
    }
   ],
   "source": [
    "model.train(data=\"Nila-Counting-2/data.yaml\", epochs=50, batch=8, imgsz=640, project=\"runs/train\", name=\"E50B8\")\n"
   ]
  },
  {
   "cell_type": "code",
   "execution_count": null,
   "metadata": {},
   "outputs": [],
   "source": [
    "pip install --upgrade torch torchvision torchaudio\n"
   ]
  },
  {
   "cell_type": "code",
   "execution_count": null,
   "metadata": {},
   "outputs": [],
   "source": [
    "pip install -U ultralytics"
   ]
  },
  {
   "cell_type": "code",
   "execution_count": null,
   "metadata": {},
   "outputs": [],
   "source": [
    "!nvidia-smi --query-gpu=temperature.gpu --format=csv\n"
   ]
  },
  {
   "cell_type": "code",
   "execution_count": null,
   "metadata": {},
   "outputs": [],
   "source": [
    "results = model(\"image.jpg\")"
   ]
  },
  {
   "cell_type": "code",
   "execution_count": null,
   "metadata": {},
   "outputs": [],
   "source": [
    "results[0].show()"
   ]
  }
 ],
 "metadata": {
  "kernelspec": {
   "display_name": "Python 3",
   "language": "python",
   "name": "python3"
  },
  "language_info": {
   "codemirror_mode": {
    "name": "ipython",
    "version": 3
   },
   "file_extension": ".py",
   "mimetype": "text/x-python",
   "name": "python",
   "nbconvert_exporter": "python",
   "pygments_lexer": "ipython3",
   "version": "3.10.12"
  }
 },
 "nbformat": 4,
 "nbformat_minor": 2
}
