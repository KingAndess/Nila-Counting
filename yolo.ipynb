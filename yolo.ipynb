{
 "cells": [
  {
   "cell_type": "code",
   "execution_count": 1,
   "metadata": {},
   "outputs": [
    {
     "name": "stdout",
     "output_type": "stream",
     "text": [
      "Defaulting to user installation because normal site-packages is not writeable\n",
      "Requirement already satisfied: roboflow in /home/andes/.local/lib/python3.10/site-packages (1.1.44)\n",
      "Requirement already satisfied: certifi in /home/andes/.local/lib/python3.10/site-packages (from roboflow) (2024.7.4)\n",
      "Requirement already satisfied: idna==3.7 in /home/andes/.local/lib/python3.10/site-packages (from roboflow) (3.7)\n",
      "Requirement already satisfied: cycler in /home/andes/.local/lib/python3.10/site-packages (from roboflow) (0.12.1)\n",
      "Requirement already satisfied: kiwisolver>=1.3.1 in /home/andes/.local/lib/python3.10/site-packages (from roboflow) (1.4.5)\n",
      "Requirement already satisfied: matplotlib in /home/andes/.local/lib/python3.10/site-packages (from roboflow) (3.9.2)\n",
      "Requirement already satisfied: numpy>=1.18.5 in /home/andes/.local/lib/python3.10/site-packages (from roboflow) (1.26.4)\n",
      "Requirement already satisfied: opencv-python-headless==4.10.0.84 in /home/andes/.local/lib/python3.10/site-packages (from roboflow) (4.10.0.84)\n",
      "Requirement already satisfied: Pillow>=7.1.2 in /home/andes/.local/lib/python3.10/site-packages (from roboflow) (10.4.0)\n",
      "Requirement already satisfied: python-dateutil in /home/andes/.local/lib/python3.10/site-packages (from roboflow) (2.9.0.post0)\n",
      "Requirement already satisfied: python-dotenv in /home/andes/.local/lib/python3.10/site-packages (from roboflow) (1.0.1)\n",
      "Requirement already satisfied: requests in /home/andes/.local/lib/python3.10/site-packages (from roboflow) (2.32.3)\n",
      "Requirement already satisfied: six in /usr/lib/python3/dist-packages (from roboflow) (1.16.0)\n",
      "Requirement already satisfied: urllib3>=1.26.6 in /home/andes/.local/lib/python3.10/site-packages (from roboflow) (2.2.2)\n",
      "Requirement already satisfied: tqdm>=4.41.0 in /home/andes/.local/lib/python3.10/site-packages (from roboflow) (4.66.5)\n",
      "Requirement already satisfied: PyYAML>=5.3.1 in /usr/lib/python3/dist-packages (from roboflow) (5.4.1)\n",
      "Requirement already satisfied: requests-toolbelt in /home/andes/.local/lib/python3.10/site-packages (from roboflow) (1.0.0)\n",
      "Requirement already satisfied: filetype in /home/andes/.local/lib/python3.10/site-packages (from roboflow) (1.2.0)\n",
      "Requirement already satisfied: contourpy>=1.0.1 in /home/andes/.local/lib/python3.10/site-packages (from matplotlib->roboflow) (1.2.1)\n",
      "Requirement already satisfied: fonttools>=4.22.0 in /home/andes/.local/lib/python3.10/site-packages (from matplotlib->roboflow) (4.53.1)\n",
      "Requirement already satisfied: packaging>=20.0 in /home/andes/.local/lib/python3.10/site-packages (from matplotlib->roboflow) (24.1)\n",
      "Requirement already satisfied: pyparsing>=2.3.1 in /usr/lib/python3/dist-packages (from matplotlib->roboflow) (2.4.7)\n",
      "Requirement already satisfied: charset-normalizer<4,>=2 in /home/andes/.local/lib/python3.10/site-packages (from requests->roboflow) (3.3.2)\n",
      "Note: you may need to restart the kernel to use updated packages.\n",
      "loading Roboflow workspace...\n",
      "loading Roboflow project...\n",
      "Dependency ultralytics==8.0.196 is required but found version=8.2.101, to fix: `pip install ultralytics==8.0.196`\n"
     ]
    }
   ],
   "source": [
    "%pip install roboflow\n",
    "\n",
    "from roboflow import Roboflow\n",
    "rf = Roboflow(api_key=\"RH53XuZxw2ucgq4eyP02\")\n",
    "project = rf.workspace(\"kingandes\").project(\"nila-counting\")\n",
    "version = project.version(2)\n",
    "dataset = version.download(\"yolov8\")"
   ]
  },
  {
   "cell_type": "code",
   "execution_count": 1,
   "metadata": {},
   "outputs": [],
   "source": [
    "from ultralytics import YOLO"
   ]
  },
  {
   "cell_type": "code",
   "execution_count": 2,
   "metadata": {},
   "outputs": [],
   "source": [
    "model = YOLO(model=\"yolov10n.pt\")"
   ]
  },
  {
   "cell_type": "code",
   "execution_count": 4,
   "metadata": {},
   "outputs": [
    {
     "name": "stdout",
     "output_type": "stream",
     "text": [
      "Ultralytics YOLOv8.2.101 🚀 Python-3.10.12 torch-2.4.1+cu121 CUDA:0 (NVIDIA GeForce RTX 3050 Laptop GPU, 4096MiB)\n",
      "\u001b[34m\u001b[1mengine/trainer: \u001b[0mtask=detect, mode=train, model=yolov10n.pt, data=Nila-Counting-2/data.yaml, epochs=50, time=None, patience=100, batch=16, imgsz=640, save=True, save_period=-1, cache=False, device=None, workers=8, project=runs/train, name=exp12, exist_ok=False, pretrained=True, optimizer=auto, verbose=True, seed=0, deterministic=True, single_cls=False, rect=False, cos_lr=False, close_mosaic=10, resume=False, amp=True, fraction=1.0, profile=False, freeze=None, multi_scale=False, overlap_mask=True, mask_ratio=4, dropout=0.0, val=True, split=val, save_json=False, save_hybrid=False, conf=None, iou=0.7, max_det=300, half=False, dnn=False, plots=True, source=None, vid_stride=1, stream_buffer=False, visualize=False, augment=False, agnostic_nms=False, classes=None, retina_masks=False, embed=None, show=False, save_frames=False, save_txt=False, save_conf=False, save_crop=False, show_labels=True, show_conf=True, show_boxes=True, line_width=None, format=torchscript, keras=False, optimize=False, int8=False, dynamic=False, simplify=True, opset=None, workspace=4, nms=False, lr0=0.01, lrf=0.01, momentum=0.937, weight_decay=0.0005, warmup_epochs=3.0, warmup_momentum=0.8, warmup_bias_lr=0.1, box=7.5, cls=0.5, dfl=1.5, pose=12.0, kobj=1.0, label_smoothing=0.0, nbs=64, hsv_h=0.015, hsv_s=0.7, hsv_v=0.4, degrees=0.0, translate=0.1, scale=0.5, shear=0.0, perspective=0.0, flipud=0.0, fliplr=0.5, bgr=0.0, mosaic=1.0, mixup=0.0, copy_paste=0.0, auto_augment=randaugment, erasing=0.4, crop_fraction=1.0, cfg=None, tracker=botsort.yaml, save_dir=runs/train/exp12\n",
      "Overriding model.yaml nc=80 with nc=1\n",
      "\n",
      "                   from  n    params  module                                       arguments                     \n",
      "  0                  -1  1       464  ultralytics.nn.modules.conv.Conv             [3, 16, 3, 2]                 \n",
      "  1                  -1  1      4672  ultralytics.nn.modules.conv.Conv             [16, 32, 3, 2]                \n",
      "  2                  -1  1      7360  ultralytics.nn.modules.block.C2f             [32, 32, 1, True]             \n",
      "  3                  -1  1     18560  ultralytics.nn.modules.conv.Conv             [32, 64, 3, 2]                \n",
      "  4                  -1  2     49664  ultralytics.nn.modules.block.C2f             [64, 64, 2, True]             \n",
      "  5                  -1  1      9856  ultralytics.nn.modules.block.SCDown          [64, 128, 3, 2]               \n",
      "  6                  -1  2    197632  ultralytics.nn.modules.block.C2f             [128, 128, 2, True]           \n",
      "  7                  -1  1     36096  ultralytics.nn.modules.block.SCDown          [128, 256, 3, 2]              \n",
      "  8                  -1  1    460288  ultralytics.nn.modules.block.C2f             [256, 256, 1, True]           \n",
      "  9                  -1  1    164608  ultralytics.nn.modules.block.SPPF            [256, 256, 5]                 \n",
      " 10                  -1  1    249728  ultralytics.nn.modules.block.PSA             [256, 256]                    \n",
      " 11                  -1  1         0  torch.nn.modules.upsampling.Upsample         [None, 2, 'nearest']          \n",
      " 12             [-1, 6]  1         0  ultralytics.nn.modules.conv.Concat           [1]                           \n",
      " 13                  -1  1    148224  ultralytics.nn.modules.block.C2f             [384, 128, 1]                 \n",
      " 14                  -1  1         0  torch.nn.modules.upsampling.Upsample         [None, 2, 'nearest']          \n",
      " 15             [-1, 4]  1         0  ultralytics.nn.modules.conv.Concat           [1]                           \n",
      " 16                  -1  1     37248  ultralytics.nn.modules.block.C2f             [192, 64, 1]                  \n",
      " 17                  -1  1     36992  ultralytics.nn.modules.conv.Conv             [64, 64, 3, 2]                \n",
      " 18            [-1, 13]  1         0  ultralytics.nn.modules.conv.Concat           [1]                           \n",
      " 19                  -1  1    123648  ultralytics.nn.modules.block.C2f             [192, 128, 1]                 \n",
      " 20                  -1  1     18048  ultralytics.nn.modules.block.SCDown          [128, 128, 3, 2]              \n",
      " 21            [-1, 10]  1         0  ultralytics.nn.modules.conv.Concat           [1]                           \n",
      " 22                  -1  1    282624  ultralytics.nn.modules.block.C2fCIB          [384, 256, 1, True, True]     \n",
      " 23        [16, 19, 22]  1    861718  ultralytics.nn.modules.head.v10Detect        [1, [64, 128, 256]]           \n",
      "YOLOv10n summary: 385 layers, 2,707,430 parameters, 2,707,414 gradients, 8.4 GFLOPs\n",
      "\n",
      "Transferred 493/595 items from pretrained weights\n",
      "Freezing layer 'model.23.dfl.conv.weight'\n",
      "\u001b[34m\u001b[1mAMP: \u001b[0mrunning Automatic Mixed Precision (AMP) checks with YOLOv8n...\n",
      "\u001b[34m\u001b[1mAMP: \u001b[0mchecks passed ✅\n"
     ]
    },
    {
     "name": "stderr",
     "output_type": "stream",
     "text": [
      "\u001b[34m\u001b[1mtrain: \u001b[0mScanning /home/andes/skripsi/kodingan2/Nila-Counting-2/train/labels.cache... 497 images, 0 backgrounds, 0 corrupt: 100%|██████████| 497/497 [00:00<?, ?it/s]\n",
      "\u001b[34m\u001b[1mval: \u001b[0mScanning /home/andes/skripsi/kodingan2/Nila-Counting-2/valid/labels.cache... 30 images, 0 backgrounds, 0 corrupt: 100%|██████████| 30/30 [00:00<?, ?it/s]\n"
     ]
    },
    {
     "name": "stdout",
     "output_type": "stream",
     "text": [
      "Plotting labels to runs/train/exp12/labels.jpg... \n",
      "\u001b[34m\u001b[1moptimizer:\u001b[0m 'optimizer=auto' found, ignoring 'lr0=0.01' and 'momentum=0.937' and determining best 'optimizer', 'lr0' and 'momentum' automatically... \n",
      "\u001b[34m\u001b[1moptimizer:\u001b[0m AdamW(lr=0.002, momentum=0.9) with parameter groups 95 weight(decay=0.0), 108 weight(decay=0.0005), 107 bias(decay=0.0)\n",
      "Image sizes 640 train, 640 val\n",
      "Using 8 dataloader workers\n",
      "Logging results to \u001b[1mruns/train/exp12\u001b[0m\n",
      "Starting training for 50 epochs...\n",
      "\n",
      "      Epoch    GPU_mem   box_loss   cls_loss   dfl_loss  Instances       Size\n"
     ]
    },
    {
     "name": "stderr",
     "output_type": "stream",
     "text": [
      "       1/50       7.3G      3.617      5.112      2.391         79        640: 100%|██████████| 32/32 [03:39<00:00,  6.85s/it]\n",
      "                 Class     Images  Instances      Box(P          R      mAP50  mAP50-95): 100%|██████████| 1/1 [00:09<00:00,  9.99s/it]"
     ]
    },
    {
     "name": "stdout",
     "output_type": "stream",
     "text": [
      "                   all         30       1041     0.0287      0.248       0.16     0.0478\n"
     ]
    },
    {
     "name": "stderr",
     "output_type": "stream",
     "text": [
      "\n"
     ]
    },
    {
     "name": "stdout",
     "output_type": "stream",
     "text": [
      "\n",
      "      Epoch    GPU_mem   box_loss   cls_loss   dfl_loss  Instances       Size\n"
     ]
    },
    {
     "name": "stderr",
     "output_type": "stream",
     "text": [
      "       2/50      6.77G      3.486      2.714      2.323        361        640: 100%|██████████| 32/32 [02:51<00:00,  5.37s/it]\n",
      "                 Class     Images  Instances      Box(P          R      mAP50  mAP50-95): 100%|██████████| 1/1 [00:09<00:00,  9.48s/it]"
     ]
    },
    {
     "name": "stdout",
     "output_type": "stream",
     "text": [
      "                   all         30       1041     0.0131      0.113     0.0318     0.0194\n"
     ]
    },
    {
     "name": "stderr",
     "output_type": "stream",
     "text": [
      "\n"
     ]
    },
    {
     "name": "stdout",
     "output_type": "stream",
     "text": [
      "\n",
      "      Epoch    GPU_mem   box_loss   cls_loss   dfl_loss  Instances       Size\n"
     ]
    },
    {
     "name": "stderr",
     "output_type": "stream",
     "text": [
      "       3/50      5.69G       3.25      2.471      2.265         11        640: 100%|██████████| 32/32 [02:08<00:00,  4.01s/it]\n",
      "                 Class     Images  Instances      Box(P          R      mAP50  mAP50-95): 100%|██████████| 1/1 [00:09<00:00,  9.99s/it]"
     ]
    },
    {
     "name": "stdout",
     "output_type": "stream",
     "text": [
      "                   all         30       1041      0.821       0.18      0.495      0.231\n"
     ]
    },
    {
     "name": "stderr",
     "output_type": "stream",
     "text": [
      "\n"
     ]
    },
    {
     "name": "stdout",
     "output_type": "stream",
     "text": [
      "\n",
      "      Epoch    GPU_mem   box_loss   cls_loss   dfl_loss  Instances       Size\n"
     ]
    },
    {
     "name": "stderr",
     "output_type": "stream",
     "text": [
      "       4/50      6.54G      3.259       2.15      2.272        192        640: 100%|██████████| 32/32 [02:15<00:00,  4.22s/it]\n",
      "                 Class     Images  Instances      Box(P          R      mAP50  mAP50-95): 100%|██████████| 1/1 [00:09<00:00,  9.57s/it]"
     ]
    },
    {
     "name": "stdout",
     "output_type": "stream",
     "text": [
      "                   all         30       1041      0.766      0.515      0.697      0.375\n"
     ]
    },
    {
     "name": "stderr",
     "output_type": "stream",
     "text": [
      "\n"
     ]
    },
    {
     "name": "stdout",
     "output_type": "stream",
     "text": [
      "\n",
      "      Epoch    GPU_mem   box_loss   cls_loss   dfl_loss  Instances       Size\n"
     ]
    },
    {
     "name": "stderr",
     "output_type": "stream",
     "text": [
      "       5/50       6.5G      3.162      2.003      2.242        166        640: 100%|██████████| 32/32 [02:21<00:00,  4.41s/it]\n",
      "                 Class     Images  Instances      Box(P          R      mAP50  mAP50-95): 100%|██████████| 1/1 [00:09<00:00,  9.57s/it]"
     ]
    },
    {
     "name": "stdout",
     "output_type": "stream",
     "text": [
      "                   all         30       1041      0.777      0.741      0.834      0.478\n"
     ]
    },
    {
     "name": "stderr",
     "output_type": "stream",
     "text": [
      "\n"
     ]
    },
    {
     "name": "stdout",
     "output_type": "stream",
     "text": [
      "\n",
      "      Epoch    GPU_mem   box_loss   cls_loss   dfl_loss  Instances       Size\n"
     ]
    },
    {
     "name": "stderr",
     "output_type": "stream",
     "text": [
      "       6/50      6.53G      3.118      2.051      2.273         26        640: 100%|██████████| 32/32 [02:19<00:00,  4.35s/it]\n",
      "                 Class     Images  Instances      Box(P          R      mAP50  mAP50-95): 100%|██████████| 1/1 [00:09<00:00,  9.62s/it]"
     ]
    },
    {
     "name": "stdout",
     "output_type": "stream",
     "text": [
      "                   all         30       1041       0.71      0.697      0.745      0.329\n"
     ]
    },
    {
     "name": "stderr",
     "output_type": "stream",
     "text": [
      "\n"
     ]
    },
    {
     "name": "stdout",
     "output_type": "stream",
     "text": [
      "\n",
      "      Epoch    GPU_mem   box_loss   cls_loss   dfl_loss  Instances       Size\n"
     ]
    },
    {
     "name": "stderr",
     "output_type": "stream",
     "text": [
      "       7/50      7.69G      3.103      1.943      2.224        217        640: 100%|██████████| 32/32 [02:19<00:00,  4.37s/it]\n",
      "                 Class     Images  Instances      Box(P          R      mAP50  mAP50-95): 100%|██████████| 1/1 [00:11<00:00, 11.31s/it]"
     ]
    },
    {
     "name": "stdout",
     "output_type": "stream",
     "text": [
      "                   all         30       1041      0.802      0.804       0.87      0.489\n"
     ]
    },
    {
     "name": "stderr",
     "output_type": "stream",
     "text": [
      "\n"
     ]
    },
    {
     "name": "stdout",
     "output_type": "stream",
     "text": [
      "\n",
      "      Epoch    GPU_mem   box_loss   cls_loss   dfl_loss  Instances       Size\n"
     ]
    },
    {
     "name": "stderr",
     "output_type": "stream",
     "text": [
      "       8/50      6.82G      3.115      1.834      2.241         18        640: 100%|██████████| 32/32 [02:12<00:00,  4.14s/it]\n",
      "                 Class     Images  Instances      Box(P          R      mAP50  mAP50-95): 100%|██████████| 1/1 [00:11<00:00, 11.37s/it]"
     ]
    },
    {
     "name": "stdout",
     "output_type": "stream",
     "text": [
      "                   all         30       1041      0.834      0.806      0.902      0.501\n"
     ]
    },
    {
     "name": "stderr",
     "output_type": "stream",
     "text": [
      "\n"
     ]
    },
    {
     "name": "stdout",
     "output_type": "stream",
     "text": [
      "\n",
      "      Epoch    GPU_mem   box_loss   cls_loss   dfl_loss  Instances       Size\n"
     ]
    },
    {
     "name": "stderr",
     "output_type": "stream",
     "text": [
      "       9/50      5.98G      3.085      1.722        2.2         88        640: 100%|██████████| 32/32 [01:57<00:00,  3.68s/it]\n",
      "                 Class     Images  Instances      Box(P          R      mAP50  mAP50-95): 100%|██████████| 1/1 [00:09<00:00,  9.38s/it]"
     ]
    },
    {
     "name": "stdout",
     "output_type": "stream",
     "text": [
      "                   all         30       1041      0.819      0.817       0.89      0.523\n"
     ]
    },
    {
     "name": "stderr",
     "output_type": "stream",
     "text": [
      "\n"
     ]
    },
    {
     "name": "stdout",
     "output_type": "stream",
     "text": [
      "\n",
      "      Epoch    GPU_mem   box_loss   cls_loss   dfl_loss  Instances       Size\n"
     ]
    },
    {
     "name": "stderr",
     "output_type": "stream",
     "text": [
      "      10/50      5.35G      3.068        1.7      2.189         17        640: 100%|██████████| 32/32 [02:17<00:00,  4.30s/it]\n",
      "                 Class     Images  Instances      Box(P          R      mAP50  mAP50-95): 100%|██████████| 1/1 [00:09<00:00,  9.56s/it]"
     ]
    },
    {
     "name": "stdout",
     "output_type": "stream",
     "text": [
      "                   all         30       1041      0.817      0.861      0.911      0.514\n"
     ]
    },
    {
     "name": "stderr",
     "output_type": "stream",
     "text": [
      "\n"
     ]
    },
    {
     "name": "stdout",
     "output_type": "stream",
     "text": [
      "\n",
      "      Epoch    GPU_mem   box_loss   cls_loss   dfl_loss  Instances       Size\n"
     ]
    },
    {
     "name": "stderr",
     "output_type": "stream",
     "text": [
      "      11/50      6.13G      3.111      1.704      2.253         22        640: 100%|██████████| 32/32 [02:15<00:00,  4.24s/it]\n",
      "                 Class     Images  Instances      Box(P          R      mAP50  mAP50-95): 100%|██████████| 1/1 [00:09<00:00,  9.58s/it]"
     ]
    },
    {
     "name": "stdout",
     "output_type": "stream",
     "text": [
      "                   all         30       1041      0.851      0.829      0.913      0.527\n"
     ]
    },
    {
     "name": "stderr",
     "output_type": "stream",
     "text": [
      "\n"
     ]
    },
    {
     "name": "stdout",
     "output_type": "stream",
     "text": [
      "\n",
      "      Epoch    GPU_mem   box_loss   cls_loss   dfl_loss  Instances       Size\n"
     ]
    },
    {
     "name": "stderr",
     "output_type": "stream",
     "text": [
      "      12/50      7.14G      2.993      1.577      2.195         62        640: 100%|██████████| 32/32 [02:39<00:00,  4.98s/it]\n",
      "                 Class     Images  Instances      Box(P          R      mAP50  mAP50-95): 100%|██████████| 1/1 [00:09<00:00,  9.28s/it]"
     ]
    },
    {
     "name": "stdout",
     "output_type": "stream",
     "text": [
      "                   all         30       1041      0.861      0.849      0.928      0.543\n"
     ]
    },
    {
     "name": "stderr",
     "output_type": "stream",
     "text": [
      "\n"
     ]
    },
    {
     "name": "stdout",
     "output_type": "stream",
     "text": [
      "\n",
      "      Epoch    GPU_mem   box_loss   cls_loss   dfl_loss  Instances       Size\n"
     ]
    },
    {
     "name": "stderr",
     "output_type": "stream",
     "text": [
      "      13/50      6.34G      3.015      1.566      2.181         43        640: 100%|██████████| 32/32 [02:36<00:00,  4.89s/it]\n",
      "                 Class     Images  Instances      Box(P          R      mAP50  mAP50-95): 100%|██████████| 1/1 [00:09<00:00,  9.22s/it]"
     ]
    },
    {
     "name": "stdout",
     "output_type": "stream",
     "text": [
      "                   all         30       1041      0.864      0.871      0.937      0.552\n"
     ]
    },
    {
     "name": "stderr",
     "output_type": "stream",
     "text": [
      "\n"
     ]
    },
    {
     "name": "stdout",
     "output_type": "stream",
     "text": [
      "\n",
      "      Epoch    GPU_mem   box_loss   cls_loss   dfl_loss  Instances       Size\n"
     ]
    },
    {
     "name": "stderr",
     "output_type": "stream",
     "text": [
      "      14/50      4.96G      2.996      1.528      2.197        130        640: 100%|██████████| 32/32 [02:42<00:00,  5.09s/it]\n",
      "                 Class     Images  Instances      Box(P          R      mAP50  mAP50-95): 100%|██████████| 1/1 [00:09<00:00,  9.62s/it]"
     ]
    },
    {
     "name": "stdout",
     "output_type": "stream",
     "text": [
      "                   all         30       1041       0.84      0.873      0.934      0.526\n"
     ]
    },
    {
     "name": "stderr",
     "output_type": "stream",
     "text": [
      "\n"
     ]
    },
    {
     "name": "stdout",
     "output_type": "stream",
     "text": [
      "\n",
      "      Epoch    GPU_mem   box_loss   cls_loss   dfl_loss  Instances       Size\n"
     ]
    },
    {
     "name": "stderr",
     "output_type": "stream",
     "text": [
      "      15/50      8.29G      3.039      1.498       2.21         58        640: 100%|██████████| 32/32 [02:26<00:00,  4.59s/it]\n",
      "                 Class     Images  Instances      Box(P          R      mAP50  mAP50-95): 100%|██████████| 1/1 [00:11<00:00, 11.79s/it]"
     ]
    },
    {
     "name": "stdout",
     "output_type": "stream",
     "text": [
      "                   all         30       1041      0.882      0.852       0.94      0.553\n"
     ]
    },
    {
     "name": "stderr",
     "output_type": "stream",
     "text": [
      "\n"
     ]
    },
    {
     "name": "stdout",
     "output_type": "stream",
     "text": [
      "\n",
      "      Epoch    GPU_mem   box_loss   cls_loss   dfl_loss  Instances       Size\n"
     ]
    },
    {
     "name": "stderr",
     "output_type": "stream",
     "text": [
      "      16/50      6.42G      2.916       1.49       2.17         16        640: 100%|██████████| 32/32 [02:30<00:00,  4.69s/it]\n",
      "                 Class     Images  Instances      Box(P          R      mAP50  mAP50-95): 100%|██████████| 1/1 [00:12<00:00, 12.20s/it]"
     ]
    },
    {
     "name": "stdout",
     "output_type": "stream",
     "text": [
      "                   all         30       1041       0.87      0.878      0.943      0.563\n"
     ]
    },
    {
     "name": "stderr",
     "output_type": "stream",
     "text": [
      "\n"
     ]
    },
    {
     "name": "stdout",
     "output_type": "stream",
     "text": [
      "\n",
      "      Epoch    GPU_mem   box_loss   cls_loss   dfl_loss  Instances       Size\n"
     ]
    },
    {
     "name": "stderr",
     "output_type": "stream",
     "text": [
      "      17/50       6.5G      2.925      1.475      2.147        224        640: 100%|██████████| 32/32 [02:39<00:00,  4.98s/it]\n",
      "                 Class     Images  Instances      Box(P          R      mAP50  mAP50-95): 100%|██████████| 1/1 [00:11<00:00, 11.53s/it]"
     ]
    },
    {
     "name": "stdout",
     "output_type": "stream",
     "text": [
      "                   all         30       1041      0.889      0.896      0.953      0.574\n"
     ]
    },
    {
     "name": "stderr",
     "output_type": "stream",
     "text": [
      "\n"
     ]
    },
    {
     "name": "stdout",
     "output_type": "stream",
     "text": [
      "\n",
      "      Epoch    GPU_mem   box_loss   cls_loss   dfl_loss  Instances       Size\n"
     ]
    },
    {
     "name": "stderr",
     "output_type": "stream",
     "text": [
      "      18/50      6.45G      2.892      1.467      2.168         24        640: 100%|██████████| 32/32 [03:18<00:00,  6.22s/it]\n",
      "                 Class     Images  Instances      Box(P          R      mAP50  mAP50-95): 100%|██████████| 1/1 [00:12<00:00, 12.23s/it]"
     ]
    },
    {
     "name": "stdout",
     "output_type": "stream",
     "text": [
      "                   all         30       1041      0.897      0.882      0.954      0.576\n"
     ]
    },
    {
     "name": "stderr",
     "output_type": "stream",
     "text": [
      "\n"
     ]
    },
    {
     "name": "stdout",
     "output_type": "stream",
     "text": [
      "\n",
      "      Epoch    GPU_mem   box_loss   cls_loss   dfl_loss  Instances       Size\n"
     ]
    },
    {
     "name": "stderr",
     "output_type": "stream",
     "text": [
      "      19/50      6.04G      2.929       1.41      2.174         94        640: 100%|██████████| 32/32 [02:47<00:00,  5.24s/it]\n",
      "                 Class     Images  Instances      Box(P          R      mAP50  mAP50-95): 100%|██████████| 1/1 [00:09<00:00,  9.85s/it]"
     ]
    },
    {
     "name": "stdout",
     "output_type": "stream",
     "text": [
      "                   all         30       1041      0.908      0.879      0.955      0.575\n"
     ]
    },
    {
     "name": "stderr",
     "output_type": "stream",
     "text": [
      "\n"
     ]
    },
    {
     "name": "stdout",
     "output_type": "stream",
     "text": [
      "\n",
      "      Epoch    GPU_mem   box_loss   cls_loss   dfl_loss  Instances       Size\n"
     ]
    },
    {
     "name": "stderr",
     "output_type": "stream",
     "text": [
      "      20/50      5.07G      2.929      1.403      2.181         68        640: 100%|██████████| 32/32 [02:23<00:00,  4.49s/it]\n",
      "                 Class     Images  Instances      Box(P          R      mAP50  mAP50-95): 100%|██████████| 1/1 [00:09<00:00,  9.70s/it]"
     ]
    },
    {
     "name": "stdout",
     "output_type": "stream",
     "text": [
      "                   all         30       1041      0.911       0.88      0.959      0.572\n"
     ]
    },
    {
     "name": "stderr",
     "output_type": "stream",
     "text": [
      "\n"
     ]
    },
    {
     "name": "stdout",
     "output_type": "stream",
     "text": [
      "\n",
      "      Epoch    GPU_mem   box_loss   cls_loss   dfl_loss  Instances       Size\n"
     ]
    },
    {
     "name": "stderr",
     "output_type": "stream",
     "text": [
      "      21/50      6.34G      2.907      1.375      2.197         26        640: 100%|██████████| 32/32 [02:18<00:00,  4.32s/it]\n",
      "                 Class     Images  Instances      Box(P          R      mAP50  mAP50-95): 100%|██████████| 1/1 [00:09<00:00,  9.55s/it]"
     ]
    },
    {
     "name": "stdout",
     "output_type": "stream",
     "text": [
      "                   all         30       1041      0.917      0.891      0.966      0.578\n"
     ]
    },
    {
     "name": "stderr",
     "output_type": "stream",
     "text": [
      "\n"
     ]
    },
    {
     "name": "stdout",
     "output_type": "stream",
     "text": [
      "\n",
      "      Epoch    GPU_mem   box_loss   cls_loss   dfl_loss  Instances       Size\n"
     ]
    },
    {
     "name": "stderr",
     "output_type": "stream",
     "text": [
      "      22/50      5.66G      2.973      1.374      2.186         91        640: 100%|██████████| 32/32 [02:55<00:00,  5.47s/it]\n",
      "                 Class     Images  Instances      Box(P          R      mAP50  mAP50-95): 100%|██████████| 1/1 [00:09<00:00,  9.65s/it]"
     ]
    },
    {
     "name": "stdout",
     "output_type": "stream",
     "text": [
      "                   all         30       1041      0.922      0.905      0.963      0.569\n"
     ]
    },
    {
     "name": "stderr",
     "output_type": "stream",
     "text": [
      "\n"
     ]
    },
    {
     "name": "stdout",
     "output_type": "stream",
     "text": [
      "\n",
      "      Epoch    GPU_mem   box_loss   cls_loss   dfl_loss  Instances       Size\n"
     ]
    },
    {
     "name": "stderr",
     "output_type": "stream",
     "text": [
      "      23/50         7G       2.89      1.323      2.161         46        640: 100%|██████████| 32/32 [03:05<00:00,  5.81s/it]\n",
      "                 Class     Images  Instances      Box(P          R      mAP50  mAP50-95): 100%|██████████| 1/1 [00:09<00:00,  9.76s/it]"
     ]
    },
    {
     "name": "stdout",
     "output_type": "stream",
     "text": [
      "                   all         30       1041      0.912      0.892       0.96      0.563\n"
     ]
    },
    {
     "name": "stderr",
     "output_type": "stream",
     "text": [
      "\n"
     ]
    },
    {
     "name": "stdout",
     "output_type": "stream",
     "text": [
      "\n",
      "      Epoch    GPU_mem   box_loss   cls_loss   dfl_loss  Instances       Size\n"
     ]
    },
    {
     "name": "stderr",
     "output_type": "stream",
     "text": [
      "      24/50      7.17G       2.91      1.338      2.135        186        640: 100%|██████████| 32/32 [03:22<00:00,  6.33s/it]\n",
      "                 Class     Images  Instances      Box(P          R      mAP50  mAP50-95): 100%|██████████| 1/1 [00:02<00:00,  2.86s/it]"
     ]
    },
    {
     "name": "stdout",
     "output_type": "stream",
     "text": [
      "                   all         30       1041        0.9      0.915      0.963      0.582\n"
     ]
    },
    {
     "name": "stderr",
     "output_type": "stream",
     "text": [
      "\n"
     ]
    },
    {
     "name": "stdout",
     "output_type": "stream",
     "text": [
      "\n",
      "      Epoch    GPU_mem   box_loss   cls_loss   dfl_loss  Instances       Size\n"
     ]
    },
    {
     "name": "stderr",
     "output_type": "stream",
     "text": [
      "      25/50       6.4G      2.869      1.309      2.163         30        640: 100%|██████████| 32/32 [02:44<00:00,  5.15s/it]\n",
      "                 Class     Images  Instances      Box(P          R      mAP50  mAP50-95): 100%|██████████| 1/1 [00:10<00:00, 10.25s/it]"
     ]
    },
    {
     "name": "stdout",
     "output_type": "stream",
     "text": [
      "                   all         30       1041      0.909      0.914      0.968      0.582\n"
     ]
    },
    {
     "name": "stderr",
     "output_type": "stream",
     "text": [
      "\n"
     ]
    },
    {
     "name": "stdout",
     "output_type": "stream",
     "text": [
      "\n",
      "      Epoch    GPU_mem   box_loss   cls_loss   dfl_loss  Instances       Size\n"
     ]
    },
    {
     "name": "stderr",
     "output_type": "stream",
     "text": [
      "      26/50      7.99G      2.926       1.32       2.15        275        640: 100%|██████████| 32/32 [03:18<00:00,  6.21s/it]\n",
      "                 Class     Images  Instances      Box(P          R      mAP50  mAP50-95): 100%|██████████| 1/1 [00:11<00:00, 11.78s/it]"
     ]
    },
    {
     "name": "stdout",
     "output_type": "stream",
     "text": [
      "                   all         30       1041      0.921      0.923      0.972      0.589\n"
     ]
    },
    {
     "name": "stderr",
     "output_type": "stream",
     "text": [
      "\n"
     ]
    },
    {
     "name": "stdout",
     "output_type": "stream",
     "text": [
      "\n",
      "      Epoch    GPU_mem   box_loss   cls_loss   dfl_loss  Instances       Size\n"
     ]
    },
    {
     "name": "stderr",
     "output_type": "stream",
     "text": [
      "      27/50      7.01G      2.847       1.27      2.154         20        640: 100%|██████████| 32/32 [02:37<00:00,  4.93s/it]\n",
      "                 Class     Images  Instances      Box(P          R      mAP50  mAP50-95): 100%|██████████| 1/1 [00:09<00:00,  9.76s/it]"
     ]
    },
    {
     "name": "stdout",
     "output_type": "stream",
     "text": [
      "                   all         30       1041      0.936      0.918      0.975      0.593\n"
     ]
    },
    {
     "name": "stderr",
     "output_type": "stream",
     "text": [
      "\n"
     ]
    },
    {
     "name": "stdout",
     "output_type": "stream",
     "text": [
      "\n",
      "      Epoch    GPU_mem   box_loss   cls_loss   dfl_loss  Instances       Size\n"
     ]
    },
    {
     "name": "stderr",
     "output_type": "stream",
     "text": [
      "      28/50      7.29G      2.822      1.254      2.142         45        640: 100%|██████████| 32/32 [02:44<00:00,  5.15s/it]\n",
      "                 Class     Images  Instances      Box(P          R      mAP50  mAP50-95): 100%|██████████| 1/1 [00:09<00:00,  9.58s/it]"
     ]
    },
    {
     "name": "stdout",
     "output_type": "stream",
     "text": [
      "                   all         30       1041      0.937      0.928      0.977      0.594\n"
     ]
    },
    {
     "name": "stderr",
     "output_type": "stream",
     "text": [
      "\n"
     ]
    },
    {
     "name": "stdout",
     "output_type": "stream",
     "text": [
      "\n",
      "      Epoch    GPU_mem   box_loss   cls_loss   dfl_loss  Instances       Size\n"
     ]
    },
    {
     "name": "stderr",
     "output_type": "stream",
     "text": [
      "      29/50      6.64G      2.843      1.257       2.13        160        640: 100%|██████████| 32/32 [03:18<00:00,  6.20s/it]\n",
      "                 Class     Images  Instances      Box(P          R      mAP50  mAP50-95): 100%|██████████| 1/1 [00:10<00:00, 10.23s/it]"
     ]
    },
    {
     "name": "stdout",
     "output_type": "stream",
     "text": [
      "                   all         30       1041      0.946      0.936       0.98      0.595\n"
     ]
    },
    {
     "name": "stderr",
     "output_type": "stream",
     "text": [
      "\n"
     ]
    },
    {
     "name": "stdout",
     "output_type": "stream",
     "text": [
      "\n",
      "      Epoch    GPU_mem   box_loss   cls_loss   dfl_loss  Instances       Size\n"
     ]
    },
    {
     "name": "stderr",
     "output_type": "stream",
     "text": [
      "      30/50       5.9G      2.833      1.248       2.14        131        640: 100%|██████████| 32/32 [03:28<00:00,  6.52s/it]\n",
      "                 Class     Images  Instances      Box(P          R      mAP50  mAP50-95): 100%|██████████| 1/1 [00:10<00:00, 10.09s/it]"
     ]
    },
    {
     "name": "stdout",
     "output_type": "stream",
     "text": [
      "                   all         30       1041      0.939      0.908      0.975      0.582\n"
     ]
    },
    {
     "name": "stderr",
     "output_type": "stream",
     "text": [
      "\n"
     ]
    },
    {
     "name": "stdout",
     "output_type": "stream",
     "text": [
      "\n",
      "      Epoch    GPU_mem   box_loss   cls_loss   dfl_loss  Instances       Size\n"
     ]
    },
    {
     "name": "stderr",
     "output_type": "stream",
     "text": [
      "      31/50      5.73G      2.808      1.278      2.143         12        640: 100%|██████████| 32/32 [03:13<00:00,  6.04s/it]\n",
      "                 Class     Images  Instances      Box(P          R      mAP50  mAP50-95): 100%|██████████| 1/1 [00:09<00:00,  9.72s/it]"
     ]
    },
    {
     "name": "stdout",
     "output_type": "stream",
     "text": [
      "                   all         30       1041      0.937      0.919      0.973      0.586\n"
     ]
    },
    {
     "name": "stderr",
     "output_type": "stream",
     "text": [
      "\n"
     ]
    },
    {
     "name": "stdout",
     "output_type": "stream",
     "text": [
      "\n",
      "      Epoch    GPU_mem   box_loss   cls_loss   dfl_loss  Instances       Size\n"
     ]
    },
    {
     "name": "stderr",
     "output_type": "stream",
     "text": [
      "      32/50      8.23G      2.798      1.208      2.141         31        640: 100%|██████████| 32/32 [02:50<00:00,  5.34s/it]\n",
      "                 Class     Images  Instances      Box(P          R      mAP50  mAP50-95): 100%|██████████| 1/1 [00:08<00:00,  8.12s/it]"
     ]
    },
    {
     "name": "stdout",
     "output_type": "stream",
     "text": [
      "                   all         30       1041      0.934      0.922      0.978      0.595\n"
     ]
    },
    {
     "name": "stderr",
     "output_type": "stream",
     "text": [
      "\n"
     ]
    },
    {
     "name": "stdout",
     "output_type": "stream",
     "text": [
      "\n",
      "      Epoch    GPU_mem   box_loss   cls_loss   dfl_loss  Instances       Size\n"
     ]
    },
    {
     "name": "stderr",
     "output_type": "stream",
     "text": [
      "      33/50      4.93G      2.776      1.218      2.175         13        640: 100%|██████████| 32/32 [02:35<00:00,  4.85s/it]\n",
      "                 Class     Images  Instances      Box(P          R      mAP50  mAP50-95): 100%|██████████| 1/1 [00:09<00:00,  9.85s/it]"
     ]
    },
    {
     "name": "stdout",
     "output_type": "stream",
     "text": [
      "                   all         30       1041      0.944      0.916      0.977      0.589\n"
     ]
    },
    {
     "name": "stderr",
     "output_type": "stream",
     "text": [
      "\n"
     ]
    },
    {
     "name": "stdout",
     "output_type": "stream",
     "text": [
      "\n",
      "      Epoch    GPU_mem   box_loss   cls_loss   dfl_loss  Instances       Size\n"
     ]
    },
    {
     "name": "stderr",
     "output_type": "stream",
     "text": [
      "      34/50      8.57G        2.8      1.228      2.138         11        640: 100%|██████████| 32/32 [02:53<00:00,  5.41s/it]\n",
      "                 Class     Images  Instances      Box(P          R      mAP50  mAP50-95): 100%|██████████| 1/1 [00:10<00:00, 10.56s/it]"
     ]
    },
    {
     "name": "stdout",
     "output_type": "stream",
     "text": [
      "                   all         30       1041      0.939      0.924       0.98      0.593\n"
     ]
    },
    {
     "name": "stderr",
     "output_type": "stream",
     "text": [
      "\n"
     ]
    },
    {
     "name": "stdout",
     "output_type": "stream",
     "text": [
      "\n",
      "      Epoch    GPU_mem   box_loss   cls_loss   dfl_loss  Instances       Size\n"
     ]
    },
    {
     "name": "stderr",
     "output_type": "stream",
     "text": [
      "      35/50      5.08G      2.792        1.2       2.15         61        640: 100%|██████████| 32/32 [02:11<00:00,  4.12s/it]\n",
      "                 Class     Images  Instances      Box(P          R      mAP50  mAP50-95): 100%|██████████| 1/1 [00:10<00:00, 10.37s/it]"
     ]
    },
    {
     "name": "stdout",
     "output_type": "stream",
     "text": [
      "                   all         30       1041      0.931      0.933      0.976      0.597\n"
     ]
    },
    {
     "name": "stderr",
     "output_type": "stream",
     "text": [
      "\n"
     ]
    },
    {
     "name": "stdout",
     "output_type": "stream",
     "text": [
      "\n",
      "      Epoch    GPU_mem   box_loss   cls_loss   dfl_loss  Instances       Size\n"
     ]
    },
    {
     "name": "stderr",
     "output_type": "stream",
     "text": [
      "      36/50      7.02G      2.761      1.187      2.109         34        640: 100%|██████████| 32/32 [02:08<00:00,  4.01s/it]\n",
      "                 Class     Images  Instances      Box(P          R      mAP50  mAP50-95): 100%|██████████| 1/1 [00:10<00:00, 10.23s/it]"
     ]
    },
    {
     "name": "stdout",
     "output_type": "stream",
     "text": [
      "                   all         30       1041      0.928      0.936      0.978      0.601\n"
     ]
    },
    {
     "name": "stderr",
     "output_type": "stream",
     "text": [
      "\n"
     ]
    },
    {
     "name": "stdout",
     "output_type": "stream",
     "text": [
      "\n",
      "      Epoch    GPU_mem   box_loss   cls_loss   dfl_loss  Instances       Size\n"
     ]
    },
    {
     "name": "stderr",
     "output_type": "stream",
     "text": [
      "      37/50      6.44G      2.749      1.162      2.128         61        640: 100%|██████████| 32/32 [02:41<00:00,  5.05s/it]\n",
      "                 Class     Images  Instances      Box(P          R      mAP50  mAP50-95): 100%|██████████| 1/1 [00:10<00:00, 10.23s/it]"
     ]
    },
    {
     "name": "stdout",
     "output_type": "stream",
     "text": [
      "                   all         30       1041      0.947       0.94      0.979      0.594\n"
     ]
    },
    {
     "name": "stderr",
     "output_type": "stream",
     "text": [
      "\n"
     ]
    },
    {
     "name": "stdout",
     "output_type": "stream",
     "text": [
      "\n",
      "      Epoch    GPU_mem   box_loss   cls_loss   dfl_loss  Instances       Size\n"
     ]
    },
    {
     "name": "stderr",
     "output_type": "stream",
     "text": [
      "      38/50      6.39G      2.792      1.173      2.131        193        640: 100%|██████████| 32/32 [02:51<00:00,  5.37s/it]\n",
      "                 Class     Images  Instances      Box(P          R      mAP50  mAP50-95): 100%|██████████| 1/1 [00:10<00:00, 10.09s/it]"
     ]
    },
    {
     "name": "stdout",
     "output_type": "stream",
     "text": [
      "                   all         30       1041      0.942      0.939      0.982      0.601\n"
     ]
    },
    {
     "name": "stderr",
     "output_type": "stream",
     "text": [
      "\n"
     ]
    },
    {
     "name": "stdout",
     "output_type": "stream",
     "text": [
      "\n",
      "      Epoch    GPU_mem   box_loss   cls_loss   dfl_loss  Instances       Size\n"
     ]
    },
    {
     "name": "stderr",
     "output_type": "stream",
     "text": [
      "      39/50      5.34G      2.746      1.156      2.113         23        640: 100%|██████████| 32/32 [02:53<00:00,  5.42s/it]\n",
      "                 Class     Images  Instances      Box(P          R      mAP50  mAP50-95): 100%|██████████| 1/1 [00:10<00:00, 10.24s/it]"
     ]
    },
    {
     "name": "stdout",
     "output_type": "stream",
     "text": [
      "                   all         30       1041      0.942      0.937       0.98      0.587\n"
     ]
    },
    {
     "name": "stderr",
     "output_type": "stream",
     "text": [
      "\n"
     ]
    },
    {
     "name": "stdout",
     "output_type": "stream",
     "text": [
      "\n",
      "      Epoch    GPU_mem   box_loss   cls_loss   dfl_loss  Instances       Size\n"
     ]
    },
    {
     "name": "stderr",
     "output_type": "stream",
     "text": [
      "      40/50      6.49G      2.747      1.142      2.106         46        640: 100%|██████████| 32/32 [02:56<00:00,  5.52s/it]\n",
      "                 Class     Images  Instances      Box(P          R      mAP50  mAP50-95): 100%|██████████| 1/1 [00:10<00:00, 10.38s/it]"
     ]
    },
    {
     "name": "stdout",
     "output_type": "stream",
     "text": [
      "                   all         30       1041      0.956      0.942      0.982      0.604\n"
     ]
    },
    {
     "name": "stderr",
     "output_type": "stream",
     "text": [
      "\n"
     ]
    },
    {
     "name": "stdout",
     "output_type": "stream",
     "text": [
      "Closing dataloader mosaic\n",
      "\n",
      "      Epoch    GPU_mem   box_loss   cls_loss   dfl_loss  Instances       Size\n"
     ]
    },
    {
     "name": "stderr",
     "output_type": "stream",
     "text": [
      "      41/50      4.49G      2.651      1.074      2.181         51        640: 100%|██████████| 32/32 [01:11<00:00,  2.22s/it]\n",
      "                 Class     Images  Instances      Box(P          R      mAP50  mAP50-95): 100%|██████████| 1/1 [00:09<00:00,  9.79s/it]"
     ]
    },
    {
     "name": "stdout",
     "output_type": "stream",
     "text": [
      "                   all         30       1041      0.951      0.944       0.98      0.593\n"
     ]
    },
    {
     "name": "stderr",
     "output_type": "stream",
     "text": [
      "\n"
     ]
    },
    {
     "name": "stdout",
     "output_type": "stream",
     "text": [
      "\n",
      "      Epoch    GPU_mem   box_loss   cls_loss   dfl_loss  Instances       Size\n"
     ]
    },
    {
     "name": "stderr",
     "output_type": "stream",
     "text": [
      "      42/50      4.96G      2.656      1.214      2.189          2        640: 100%|██████████| 32/32 [01:50<00:00,  3.44s/it]\n",
      "                 Class     Images  Instances      Box(P          R      mAP50  mAP50-95): 100%|██████████| 1/1 [00:03<00:00,  3.11s/it]"
     ]
    },
    {
     "name": "stdout",
     "output_type": "stream",
     "text": [
      "                   all         30       1041      0.943      0.939      0.979      0.595\n"
     ]
    },
    {
     "name": "stderr",
     "output_type": "stream",
     "text": [
      "\n"
     ]
    },
    {
     "name": "stdout",
     "output_type": "stream",
     "text": [
      "\n",
      "      Epoch    GPU_mem   box_loss   cls_loss   dfl_loss  Instances       Size\n"
     ]
    },
    {
     "name": "stderr",
     "output_type": "stream",
     "text": [
      "      43/50      4.49G      2.699      1.084      2.214         73        640: 100%|██████████| 32/32 [01:17<00:00,  2.41s/it]\n",
      "                 Class     Images  Instances      Box(P          R      mAP50  mAP50-95): 100%|██████████| 1/1 [00:09<00:00,  9.60s/it]"
     ]
    },
    {
     "name": "stdout",
     "output_type": "stream",
     "text": [
      "                   all         30       1041      0.947      0.949      0.981      0.601\n"
     ]
    },
    {
     "name": "stderr",
     "output_type": "stream",
     "text": [
      "\n"
     ]
    },
    {
     "name": "stdout",
     "output_type": "stream",
     "text": [
      "\n",
      "      Epoch    GPU_mem   box_loss   cls_loss   dfl_loss  Instances       Size\n"
     ]
    },
    {
     "name": "stderr",
     "output_type": "stream",
     "text": [
      "      44/50      4.85G      2.646      1.082      2.187        176        640: 100%|██████████| 32/32 [01:44<00:00,  3.26s/it]\n",
      "                 Class     Images  Instances      Box(P          R      mAP50  mAP50-95): 100%|██████████| 1/1 [00:02<00:00,  2.95s/it]"
     ]
    },
    {
     "name": "stdout",
     "output_type": "stream",
     "text": [
      "                   all         30       1041      0.961      0.943      0.983      0.605\n"
     ]
    },
    {
     "name": "stderr",
     "output_type": "stream",
     "text": [
      "\n"
     ]
    },
    {
     "name": "stdout",
     "output_type": "stream",
     "text": [
      "\n",
      "      Epoch    GPU_mem   box_loss   cls_loss   dfl_loss  Instances       Size\n"
     ]
    },
    {
     "name": "stderr",
     "output_type": "stream",
     "text": [
      "      45/50       4.6G      2.589      1.033      2.172         42        640: 100%|██████████| 32/32 [01:21<00:00,  2.55s/it]\n",
      "                 Class     Images  Instances      Box(P          R      mAP50  mAP50-95): 100%|██████████| 1/1 [00:10<00:00, 10.60s/it]"
     ]
    },
    {
     "name": "stdout",
     "output_type": "stream",
     "text": [
      "                   all         30       1041       0.94      0.947      0.983       0.61\n"
     ]
    },
    {
     "name": "stderr",
     "output_type": "stream",
     "text": [
      "\n"
     ]
    },
    {
     "name": "stdout",
     "output_type": "stream",
     "text": [
      "\n",
      "      Epoch    GPU_mem   box_loss   cls_loss   dfl_loss  Instances       Size\n"
     ]
    },
    {
     "name": "stderr",
     "output_type": "stream",
     "text": [
      "      46/50      4.77G      2.591      1.022      2.161         42        640: 100%|██████████| 32/32 [01:12<00:00,  2.28s/it]\n",
      "                 Class     Images  Instances      Box(P          R      mAP50  mAP50-95): 100%|██████████| 1/1 [00:02<00:00,  2.38s/it]"
     ]
    },
    {
     "name": "stdout",
     "output_type": "stream",
     "text": [
      "                   all         30       1041      0.958      0.942      0.984      0.605\n"
     ]
    },
    {
     "name": "stderr",
     "output_type": "stream",
     "text": [
      "\n"
     ]
    },
    {
     "name": "stdout",
     "output_type": "stream",
     "text": [
      "\n",
      "      Epoch    GPU_mem   box_loss   cls_loss   dfl_loss  Instances       Size\n"
     ]
    },
    {
     "name": "stderr",
     "output_type": "stream",
     "text": [
      "      47/50      4.07G      2.567      1.042      2.182          6        640: 100%|██████████| 32/32 [00:53<00:00,  1.67s/it]\n",
      "                 Class     Images  Instances      Box(P          R      mAP50  mAP50-95): 100%|██████████| 1/1 [00:09<00:00,  9.55s/it]"
     ]
    },
    {
     "name": "stdout",
     "output_type": "stream",
     "text": [
      "                   all         30       1041      0.948       0.95      0.983      0.603\n"
     ]
    },
    {
     "name": "stderr",
     "output_type": "stream",
     "text": [
      "\n"
     ]
    },
    {
     "name": "stdout",
     "output_type": "stream",
     "text": [
      "\n",
      "      Epoch    GPU_mem   box_loss   cls_loss   dfl_loss  Instances       Size\n"
     ]
    },
    {
     "name": "stderr",
     "output_type": "stream",
     "text": [
      "      48/50      5.44G      2.589      1.039       2.12         48        640: 100%|██████████| 32/32 [01:24<00:00,  2.65s/it]\n",
      "                 Class     Images  Instances      Box(P          R      mAP50  mAP50-95): 100%|██████████| 1/1 [00:02<00:00,  2.55s/it]"
     ]
    },
    {
     "name": "stdout",
     "output_type": "stream",
     "text": [
      "                   all         30       1041      0.955      0.952      0.985      0.606\n"
     ]
    },
    {
     "name": "stderr",
     "output_type": "stream",
     "text": [
      "\n"
     ]
    },
    {
     "name": "stdout",
     "output_type": "stream",
     "text": [
      "\n",
      "      Epoch    GPU_mem   box_loss   cls_loss   dfl_loss  Instances       Size\n"
     ]
    },
    {
     "name": "stderr",
     "output_type": "stream",
     "text": [
      "      49/50      4.34G      2.585       1.02      2.192         37        640: 100%|██████████| 32/32 [01:12<00:00,  2.26s/it]\n",
      "                 Class     Images  Instances      Box(P          R      mAP50  mAP50-95): 100%|██████████| 1/1 [00:09<00:00,  9.59s/it]"
     ]
    },
    {
     "name": "stdout",
     "output_type": "stream",
     "text": [
      "                   all         30       1041      0.956      0.949      0.985      0.608\n"
     ]
    },
    {
     "name": "stderr",
     "output_type": "stream",
     "text": [
      "\n"
     ]
    },
    {
     "name": "stdout",
     "output_type": "stream",
     "text": [
      "\n",
      "      Epoch    GPU_mem   box_loss   cls_loss   dfl_loss  Instances       Size\n"
     ]
    },
    {
     "name": "stderr",
     "output_type": "stream",
     "text": [
      "      50/50      4.72G      2.517     0.9976      2.144         17        640: 100%|██████████| 32/32 [01:07<00:00,  2.12s/it]\n",
      "                 Class     Images  Instances      Box(P          R      mAP50  mAP50-95): 100%|██████████| 1/1 [00:01<00:00,  1.46s/it]"
     ]
    },
    {
     "name": "stdout",
     "output_type": "stream",
     "text": [
      "                   all         30       1041      0.949      0.938      0.983      0.611\n"
     ]
    },
    {
     "name": "stderr",
     "output_type": "stream",
     "text": [
      "\n"
     ]
    },
    {
     "name": "stdout",
     "output_type": "stream",
     "text": [
      "\n",
      "50 epochs completed in 2.158 hours.\n",
      "Optimizer stripped from runs/train/exp12/weights/last.pt, 5.8MB\n",
      "Optimizer stripped from runs/train/exp12/weights/best.pt, 5.8MB\n",
      "\n",
      "Validating runs/train/exp12/weights/best.pt...\n",
      "Ultralytics YOLOv8.2.101 🚀 Python-3.10.12 torch-2.4.1+cu121 CUDA:0 (NVIDIA GeForce RTX 3050 Laptop GPU, 4096MiB)\n",
      "YOLOv10n summary (fused): 285 layers, 2,694,806 parameters, 0 gradients, 8.2 GFLOPs\n"
     ]
    },
    {
     "name": "stderr",
     "output_type": "stream",
     "text": [
      "                 Class     Images  Instances      Box(P          R      mAP50  mAP50-95): 100%|██████████| 1/1 [00:00<00:00,  1.44it/s]\n"
     ]
    },
    {
     "name": "stdout",
     "output_type": "stream",
     "text": [
      "                   all         30       1041      0.949      0.939      0.983      0.611\n",
      "Speed: 0.3ms preprocess, 4.0ms inference, 0.0ms loss, 0.3ms postprocess per image\n",
      "Results saved to \u001b[1mruns/train/exp12\u001b[0m\n"
     ]
    },
    {
     "data": {
      "text/plain": [
       "ultralytics.utils.metrics.DetMetrics object with attributes:\n",
       "\n",
       "ap_class_index: array([0])\n",
       "box: ultralytics.utils.metrics.Metric object\n",
       "confusion_matrix: <ultralytics.utils.metrics.ConfusionMatrix object at 0x7f335addfc40>\n",
       "curves: ['Precision-Recall(B)', 'F1-Confidence(B)', 'Precision-Confidence(B)', 'Recall-Confidence(B)']\n",
       "curves_results: [[array([          0,    0.001001,    0.002002,    0.003003,    0.004004,    0.005005,    0.006006,    0.007007,    0.008008,    0.009009,     0.01001,    0.011011,    0.012012,    0.013013,    0.014014,    0.015015,    0.016016,    0.017017,    0.018018,    0.019019,     0.02002,    0.021021,    0.022022,    0.023023,\n",
       "          0.024024,    0.025025,    0.026026,    0.027027,    0.028028,    0.029029,     0.03003,    0.031031,    0.032032,    0.033033,    0.034034,    0.035035,    0.036036,    0.037037,    0.038038,    0.039039,     0.04004,    0.041041,    0.042042,    0.043043,    0.044044,    0.045045,    0.046046,    0.047047,\n",
       "          0.048048,    0.049049,     0.05005,    0.051051,    0.052052,    0.053053,    0.054054,    0.055055,    0.056056,    0.057057,    0.058058,    0.059059,     0.06006,    0.061061,    0.062062,    0.063063,    0.064064,    0.065065,    0.066066,    0.067067,    0.068068,    0.069069,     0.07007,    0.071071,\n",
       "          0.072072,    0.073073,    0.074074,    0.075075,    0.076076,    0.077077,    0.078078,    0.079079,     0.08008,    0.081081,    0.082082,    0.083083,    0.084084,    0.085085,    0.086086,    0.087087,    0.088088,    0.089089,     0.09009,    0.091091,    0.092092,    0.093093,    0.094094,    0.095095,\n",
       "          0.096096,    0.097097,    0.098098,    0.099099,      0.1001,      0.1011,      0.1021,      0.1031,      0.1041,     0.10511,     0.10611,     0.10711,     0.10811,     0.10911,     0.11011,     0.11111,     0.11211,     0.11311,     0.11411,     0.11512,     0.11612,     0.11712,     0.11812,     0.11912,\n",
       "           0.12012,     0.12112,     0.12212,     0.12312,     0.12412,     0.12513,     0.12613,     0.12713,     0.12813,     0.12913,     0.13013,     0.13113,     0.13213,     0.13313,     0.13413,     0.13514,     0.13614,     0.13714,     0.13814,     0.13914,     0.14014,     0.14114,     0.14214,     0.14314,\n",
       "           0.14414,     0.14515,     0.14615,     0.14715,     0.14815,     0.14915,     0.15015,     0.15115,     0.15215,     0.15315,     0.15415,     0.15516,     0.15616,     0.15716,     0.15816,     0.15916,     0.16016,     0.16116,     0.16216,     0.16316,     0.16416,     0.16517,     0.16617,     0.16717,\n",
       "           0.16817,     0.16917,     0.17017,     0.17117,     0.17217,     0.17317,     0.17417,     0.17518,     0.17618,     0.17718,     0.17818,     0.17918,     0.18018,     0.18118,     0.18218,     0.18318,     0.18418,     0.18519,     0.18619,     0.18719,     0.18819,     0.18919,     0.19019,     0.19119,\n",
       "           0.19219,     0.19319,     0.19419,      0.1952,      0.1962,      0.1972,      0.1982,      0.1992,      0.2002,      0.2012,      0.2022,      0.2032,      0.2042,     0.20521,     0.20621,     0.20721,     0.20821,     0.20921,     0.21021,     0.21121,     0.21221,     0.21321,     0.21421,     0.21522,\n",
       "           0.21622,     0.21722,     0.21822,     0.21922,     0.22022,     0.22122,     0.22222,     0.22322,     0.22422,     0.22523,     0.22623,     0.22723,     0.22823,     0.22923,     0.23023,     0.23123,     0.23223,     0.23323,     0.23423,     0.23524,     0.23624,     0.23724,     0.23824,     0.23924,\n",
       "           0.24024,     0.24124,     0.24224,     0.24324,     0.24424,     0.24525,     0.24625,     0.24725,     0.24825,     0.24925,     0.25025,     0.25125,     0.25225,     0.25325,     0.25425,     0.25526,     0.25626,     0.25726,     0.25826,     0.25926,     0.26026,     0.26126,     0.26226,     0.26326,\n",
       "           0.26426,     0.26527,     0.26627,     0.26727,     0.26827,     0.26927,     0.27027,     0.27127,     0.27227,     0.27327,     0.27427,     0.27528,     0.27628,     0.27728,     0.27828,     0.27928,     0.28028,     0.28128,     0.28228,     0.28328,     0.28428,     0.28529,     0.28629,     0.28729,\n",
       "           0.28829,     0.28929,     0.29029,     0.29129,     0.29229,     0.29329,     0.29429,      0.2953,      0.2963,      0.2973,      0.2983,      0.2993,      0.3003,      0.3013,      0.3023,      0.3033,      0.3043,     0.30531,     0.30631,     0.30731,     0.30831,     0.30931,     0.31031,     0.31131,\n",
       "           0.31231,     0.31331,     0.31431,     0.31532,     0.31632,     0.31732,     0.31832,     0.31932,     0.32032,     0.32132,     0.32232,     0.32332,     0.32432,     0.32533,     0.32633,     0.32733,     0.32833,     0.32933,     0.33033,     0.33133,     0.33233,     0.33333,     0.33433,     0.33534,\n",
       "           0.33634,     0.33734,     0.33834,     0.33934,     0.34034,     0.34134,     0.34234,     0.34334,     0.34434,     0.34535,     0.34635,     0.34735,     0.34835,     0.34935,     0.35035,     0.35135,     0.35235,     0.35335,     0.35435,     0.35536,     0.35636,     0.35736,     0.35836,     0.35936,\n",
       "           0.36036,     0.36136,     0.36236,     0.36336,     0.36436,     0.36537,     0.36637,     0.36737,     0.36837,     0.36937,     0.37037,     0.37137,     0.37237,     0.37337,     0.37437,     0.37538,     0.37638,     0.37738,     0.37838,     0.37938,     0.38038,     0.38138,     0.38238,     0.38338,\n",
       "           0.38438,     0.38539,     0.38639,     0.38739,     0.38839,     0.38939,     0.39039,     0.39139,     0.39239,     0.39339,     0.39439,      0.3954,      0.3964,      0.3974,      0.3984,      0.3994,      0.4004,      0.4014,      0.4024,      0.4034,      0.4044,     0.40541,     0.40641,     0.40741,\n",
       "           0.40841,     0.40941,     0.41041,     0.41141,     0.41241,     0.41341,     0.41441,     0.41542,     0.41642,     0.41742,     0.41842,     0.41942,     0.42042,     0.42142,     0.42242,     0.42342,     0.42442,     0.42543,     0.42643,     0.42743,     0.42843,     0.42943,     0.43043,     0.43143,\n",
       "           0.43243,     0.43343,     0.43443,     0.43544,     0.43644,     0.43744,     0.43844,     0.43944,     0.44044,     0.44144,     0.44244,     0.44344,     0.44444,     0.44545,     0.44645,     0.44745,     0.44845,     0.44945,     0.45045,     0.45145,     0.45245,     0.45345,     0.45445,     0.45546,\n",
       "           0.45646,     0.45746,     0.45846,     0.45946,     0.46046,     0.46146,     0.46246,     0.46346,     0.46446,     0.46547,     0.46647,     0.46747,     0.46847,     0.46947,     0.47047,     0.47147,     0.47247,     0.47347,     0.47447,     0.47548,     0.47648,     0.47748,     0.47848,     0.47948,\n",
       "           0.48048,     0.48148,     0.48248,     0.48348,     0.48448,     0.48549,     0.48649,     0.48749,     0.48849,     0.48949,     0.49049,     0.49149,     0.49249,     0.49349,     0.49449,      0.4955,      0.4965,      0.4975,      0.4985,      0.4995,      0.5005,      0.5015,      0.5025,      0.5035,\n",
       "            0.5045,     0.50551,     0.50651,     0.50751,     0.50851,     0.50951,     0.51051,     0.51151,     0.51251,     0.51351,     0.51451,     0.51552,     0.51652,     0.51752,     0.51852,     0.51952,     0.52052,     0.52152,     0.52252,     0.52352,     0.52452,     0.52553,     0.52653,     0.52753,\n",
       "           0.52853,     0.52953,     0.53053,     0.53153,     0.53253,     0.53353,     0.53453,     0.53554,     0.53654,     0.53754,     0.53854,     0.53954,     0.54054,     0.54154,     0.54254,     0.54354,     0.54454,     0.54555,     0.54655,     0.54755,     0.54855,     0.54955,     0.55055,     0.55155,\n",
       "           0.55255,     0.55355,     0.55455,     0.55556,     0.55656,     0.55756,     0.55856,     0.55956,     0.56056,     0.56156,     0.56256,     0.56356,     0.56456,     0.56557,     0.56657,     0.56757,     0.56857,     0.56957,     0.57057,     0.57157,     0.57257,     0.57357,     0.57457,     0.57558,\n",
       "           0.57658,     0.57758,     0.57858,     0.57958,     0.58058,     0.58158,     0.58258,     0.58358,     0.58458,     0.58559,     0.58659,     0.58759,     0.58859,     0.58959,     0.59059,     0.59159,     0.59259,     0.59359,     0.59459,      0.5956,      0.5966,      0.5976,      0.5986,      0.5996,\n",
       "            0.6006,      0.6016,      0.6026,      0.6036,      0.6046,     0.60561,     0.60661,     0.60761,     0.60861,     0.60961,     0.61061,     0.61161,     0.61261,     0.61361,     0.61461,     0.61562,     0.61662,     0.61762,     0.61862,     0.61962,     0.62062,     0.62162,     0.62262,     0.62362,\n",
       "           0.62462,     0.62563,     0.62663,     0.62763,     0.62863,     0.62963,     0.63063,     0.63163,     0.63263,     0.63363,     0.63463,     0.63564,     0.63664,     0.63764,     0.63864,     0.63964,     0.64064,     0.64164,     0.64264,     0.64364,     0.64464,     0.64565,     0.64665,     0.64765,\n",
       "           0.64865,     0.64965,     0.65065,     0.65165,     0.65265,     0.65365,     0.65465,     0.65566,     0.65666,     0.65766,     0.65866,     0.65966,     0.66066,     0.66166,     0.66266,     0.66366,     0.66466,     0.66567,     0.66667,     0.66767,     0.66867,     0.66967,     0.67067,     0.67167,\n",
       "           0.67267,     0.67367,     0.67467,     0.67568,     0.67668,     0.67768,     0.67868,     0.67968,     0.68068,     0.68168,     0.68268,     0.68368,     0.68468,     0.68569,     0.68669,     0.68769,     0.68869,     0.68969,     0.69069,     0.69169,     0.69269,     0.69369,     0.69469,      0.6957,\n",
       "            0.6967,      0.6977,      0.6987,      0.6997,      0.7007,      0.7017,      0.7027,      0.7037,      0.7047,     0.70571,     0.70671,     0.70771,     0.70871,     0.70971,     0.71071,     0.71171,     0.71271,     0.71371,     0.71471,     0.71572,     0.71672,     0.71772,     0.71872,     0.71972,\n",
       "           0.72072,     0.72172,     0.72272,     0.72372,     0.72472,     0.72573,     0.72673,     0.72773,     0.72873,     0.72973,     0.73073,     0.73173,     0.73273,     0.73373,     0.73473,     0.73574,     0.73674,     0.73774,     0.73874,     0.73974,     0.74074,     0.74174,     0.74274,     0.74374,\n",
       "           0.74474,     0.74575,     0.74675,     0.74775,     0.74875,     0.74975,     0.75075,     0.75175,     0.75275,     0.75375,     0.75475,     0.75576,     0.75676,     0.75776,     0.75876,     0.75976,     0.76076,     0.76176,     0.76276,     0.76376,     0.76476,     0.76577,     0.76677,     0.76777,\n",
       "           0.76877,     0.76977,     0.77077,     0.77177,     0.77277,     0.77377,     0.77477,     0.77578,     0.77678,     0.77778,     0.77878,     0.77978,     0.78078,     0.78178,     0.78278,     0.78378,     0.78478,     0.78579,     0.78679,     0.78779,     0.78879,     0.78979,     0.79079,     0.79179,\n",
       "           0.79279,     0.79379,     0.79479,      0.7958,      0.7968,      0.7978,      0.7988,      0.7998,      0.8008,      0.8018,      0.8028,      0.8038,      0.8048,     0.80581,     0.80681,     0.80781,     0.80881,     0.80981,     0.81081,     0.81181,     0.81281,     0.81381,     0.81481,     0.81582,\n",
       "           0.81682,     0.81782,     0.81882,     0.81982,     0.82082,     0.82182,     0.82282,     0.82382,     0.82482,     0.82583,     0.82683,     0.82783,     0.82883,     0.82983,     0.83083,     0.83183,     0.83283,     0.83383,     0.83483,     0.83584,     0.83684,     0.83784,     0.83884,     0.83984,\n",
       "           0.84084,     0.84184,     0.84284,     0.84384,     0.84484,     0.84585,     0.84685,     0.84785,     0.84885,     0.84985,     0.85085,     0.85185,     0.85285,     0.85385,     0.85485,     0.85586,     0.85686,     0.85786,     0.85886,     0.85986,     0.86086,     0.86186,     0.86286,     0.86386,\n",
       "           0.86486,     0.86587,     0.86687,     0.86787,     0.86887,     0.86987,     0.87087,     0.87187,     0.87287,     0.87387,     0.87487,     0.87588,     0.87688,     0.87788,     0.87888,     0.87988,     0.88088,     0.88188,     0.88288,     0.88388,     0.88488,     0.88589,     0.88689,     0.88789,\n",
       "           0.88889,     0.88989,     0.89089,     0.89189,     0.89289,     0.89389,     0.89489,      0.8959,      0.8969,      0.8979,      0.8989,      0.8999,      0.9009,      0.9019,      0.9029,      0.9039,      0.9049,     0.90591,     0.90691,     0.90791,     0.90891,     0.90991,     0.91091,     0.91191,\n",
       "           0.91291,     0.91391,     0.91491,     0.91592,     0.91692,     0.91792,     0.91892,     0.91992,     0.92092,     0.92192,     0.92292,     0.92392,     0.92492,     0.92593,     0.92693,     0.92793,     0.92893,     0.92993,     0.93093,     0.93193,     0.93293,     0.93393,     0.93493,     0.93594,\n",
       "           0.93694,     0.93794,     0.93894,     0.93994,     0.94094,     0.94194,     0.94294,     0.94394,     0.94494,     0.94595,     0.94695,     0.94795,     0.94895,     0.94995,     0.95095,     0.95195,     0.95295,     0.95395,     0.95495,     0.95596,     0.95696,     0.95796,     0.95896,     0.95996,\n",
       "           0.96096,     0.96196,     0.96296,     0.96396,     0.96496,     0.96597,     0.96697,     0.96797,     0.96897,     0.96997,     0.97097,     0.97197,     0.97297,     0.97397,     0.97497,     0.97598,     0.97698,     0.97798,     0.97898,     0.97998,     0.98098,     0.98198,     0.98298,     0.98398,\n",
       "           0.98498,     0.98599,     0.98699,     0.98799,     0.98899,     0.98999,     0.99099,     0.99199,     0.99299,     0.99399,     0.99499,       0.996,       0.997,       0.998,       0.999,           1]), array([[          1,           1,           1,           1,           1,           1,           1,           1,           1,           1,           1,           1,           1,           1,           1,           1,           1,           1,           1,           1,           1,           1,           1,\n",
       "                  1,           1,           1,           1,           1,           1,           1,           1,           1,           1,           1,           1,           1,           1,           1,           1,           1,           1,           1,           1,           1,           1,           1,\n",
       "                  1,           1,           1,           1,     0.99677,     0.99677,     0.99677,     0.99677,     0.99677,     0.99677,     0.99677,     0.99677,     0.99677,     0.99677,     0.99677,     0.99677,     0.99677,     0.99677,     0.99677,     0.99677,     0.99677,     0.99677,     0.99677,\n",
       "            0.99677,     0.99677,     0.99677,     0.99677,     0.99677,     0.99677,     0.99677,     0.99677,     0.99677,     0.99677,     0.99677,     0.99677,     0.99677,     0.99677,     0.99677,     0.99677,     0.99677,     0.99677,     0.99677,     0.99677,     0.99677,     0.99677,     0.99677,\n",
       "            0.99677,     0.99677,     0.99677,     0.99677,     0.99677,     0.99677,     0.99677,     0.99677,     0.99677,     0.99677,     0.99677,     0.99677,     0.99677,     0.99677,     0.99677,     0.99677,     0.99677,     0.99677,     0.99677,     0.99677,     0.99677,     0.99677,     0.99677,\n",
       "            0.99677,     0.99677,     0.99677,     0.99677,     0.99677,     0.99677,     0.99677,     0.99677,     0.99677,     0.99677,     0.99677,     0.99677,     0.99677,     0.99677,     0.99677,     0.99677,     0.99677,     0.99677,     0.99677,     0.99677,     0.99677,     0.99677,     0.99677,\n",
       "            0.99677,     0.99677,     0.99677,     0.99677,     0.99677,     0.99677,     0.99677,     0.99677,     0.99677,     0.99677,     0.99677,     0.99677,     0.99677,     0.99677,     0.99677,     0.99677,     0.99677,     0.99677,     0.99677,     0.99677,     0.99677,     0.99677,     0.99677,\n",
       "            0.99677,     0.99677,     0.99677,     0.99677,     0.99677,     0.99677,     0.99677,     0.99677,     0.99677,     0.99677,     0.99677,     0.99677,     0.99677,     0.99677,     0.99677,     0.99677,     0.99677,     0.99677,     0.99677,     0.99677,     0.99677,     0.99677,     0.99677,\n",
       "            0.99677,     0.99677,     0.99677,     0.99677,     0.99677,     0.99677,     0.99677,     0.99677,     0.99677,     0.99677,     0.99677,     0.99677,     0.99677,     0.99677,     0.99677,     0.99677,     0.99677,     0.99677,     0.99677,     0.99677,     0.99677,     0.99677,     0.99677,\n",
       "            0.99677,     0.99677,     0.99677,     0.99677,     0.99677,     0.99677,     0.99677,     0.99677,     0.99677,     0.99677,     0.99677,     0.99677,     0.99677,     0.99677,     0.99677,     0.99677,     0.99677,     0.99677,     0.99677,     0.99677,     0.99677,     0.99677,     0.99677,\n",
       "            0.99677,     0.99677,     0.99677,     0.99677,     0.99677,     0.99677,     0.99677,     0.99677,     0.99677,     0.99677,     0.99677,     0.99677,     0.99677,     0.99677,     0.99677,     0.99677,     0.99677,     0.99677,     0.99677,     0.99677,     0.99677,     0.99677,     0.99677,\n",
       "            0.99677,     0.99677,     0.99677,     0.99677,     0.99677,     0.99677,     0.99677,     0.99677,     0.99677,     0.99677,     0.99677,     0.99677,     0.99677,     0.99677,     0.99677,     0.99677,     0.99677,     0.99677,     0.99677,     0.99677,     0.99677,     0.99677,     0.99677,\n",
       "            0.99677,     0.99677,     0.99677,     0.99677,     0.99677,     0.99677,     0.99677,     0.99677,     0.99677,     0.99677,     0.99677,     0.99677,     0.99677,     0.99677,     0.99677,     0.99677,     0.99677,     0.99677,     0.99677,     0.99677,     0.99677,     0.99603,     0.99603,\n",
       "            0.99603,     0.99603,     0.99603,     0.99603,     0.99603,     0.99603,     0.99603,     0.99603,     0.99603,     0.99603,     0.99603,     0.99603,     0.99603,     0.99603,     0.99603,     0.99603,     0.99603,     0.99603,     0.99603,     0.99603,     0.99603,     0.99603,     0.99603,\n",
       "            0.99603,     0.99603,     0.99603,     0.99603,     0.99603,     0.99603,     0.99603,     0.99603,     0.99603,     0.99603,     0.99603,     0.99603,     0.99603,     0.99603,     0.99603,     0.99603,     0.99603,     0.99603,     0.99603,     0.99603,     0.99603,     0.99603,     0.99603,\n",
       "            0.99603,     0.99603,     0.99603,     0.99603,     0.99603,     0.99603,     0.99603,     0.99603,     0.99603,     0.99603,     0.99603,     0.99603,     0.99603,     0.99603,     0.99603,     0.99603,     0.99603,     0.99603,     0.99603,     0.99603,     0.99603,     0.99603,     0.99603,\n",
       "            0.99603,     0.99603,     0.99603,     0.99603,     0.99603,     0.99603,     0.99603,     0.99603,     0.99603,     0.99603,     0.99603,     0.99603,     0.99603,     0.99603,     0.99603,     0.99603,     0.99603,     0.99603,     0.99603,     0.99603,     0.99603,     0.99603,     0.99603,\n",
       "            0.99603,     0.99603,     0.99603,     0.99603,     0.99603,     0.99603,     0.99603,     0.99603,     0.99603,     0.99603,     0.99603,     0.99603,     0.99603,     0.99603,     0.99603,     0.99603,     0.99603,     0.99603,     0.99603,     0.99603,     0.99603,     0.99603,     0.99603,\n",
       "            0.99603,     0.99603,     0.99603,     0.99603,     0.99603,     0.99603,     0.99603,     0.99603,     0.99603,     0.99603,     0.99603,     0.99603,     0.99603,     0.99603,     0.99603,     0.99603,     0.99603,     0.99603,     0.99603,     0.99603,     0.99603,     0.99603,     0.99603,\n",
       "            0.99603,     0.99603,     0.99603,     0.99603,     0.99603,     0.99603,     0.99603,     0.99603,     0.99603,     0.99603,     0.99603,     0.99603,     0.99603,     0.99603,     0.99603,     0.99603,     0.99603,     0.99603,     0.99603,     0.99603,     0.99603,     0.99603,     0.99603,\n",
       "            0.99603,     0.99603,     0.99603,     0.99603,     0.99603,     0.99603,     0.99603,     0.99603,     0.99603,     0.99603,     0.99603,     0.99603,     0.99603,     0.99603,     0.99603,     0.99603,     0.99603,     0.99603,     0.99603,     0.99603,     0.99603,     0.99603,     0.99603,\n",
       "            0.99603,     0.99603,     0.99603,     0.99603,     0.99603,     0.99603,     0.99603,     0.99603,     0.99603,     0.99603,     0.99603,     0.99603,     0.99603,     0.99603,     0.99603,     0.99603,     0.99603,     0.99603,     0.99603,     0.99603,     0.99603,     0.99603,     0.99603,\n",
       "            0.99603,     0.99603,     0.99603,     0.99603,     0.99603,     0.99603,     0.99603,     0.99603,     0.99603,     0.99603,     0.99603,     0.99603,     0.99603,     0.99603,     0.99603,     0.99603,     0.99603,     0.99603,     0.99603,     0.99603,     0.99603,     0.99603,     0.99603,\n",
       "            0.99603,     0.99603,     0.99603,     0.99603,     0.99603,     0.99603,     0.99603,     0.99603,     0.99603,     0.99603,     0.99603,     0.99603,     0.99603,     0.99603,     0.99603,     0.99603,     0.99603,     0.99603,     0.99603,     0.99603,     0.99603,     0.99603,     0.99603,\n",
       "            0.99603,     0.99603,     0.99603,     0.99603,     0.99603,     0.99603,     0.99603,     0.99603,     0.99603,     0.99603,     0.99603,     0.99603,     0.99603,     0.99603,     0.99603,     0.99603,     0.99603,     0.99603,     0.99603,     0.99603,     0.99603,     0.99603,     0.99603,\n",
       "            0.99603,     0.99603,     0.99603,     0.99603,     0.99603,     0.99603,     0.99603,     0.99603,     0.99603,     0.99603,     0.99603,     0.99603,     0.99603,     0.99603,     0.99603,     0.99603,     0.99603,     0.99603,     0.99603,     0.99603,     0.99603,     0.99603,     0.99603,\n",
       "            0.99603,     0.99603,     0.99603,     0.99603,     0.99603,     0.99603,     0.99603,     0.99603,     0.99603,     0.99603,     0.99603,     0.99603,     0.99603,     0.99603,     0.99603,     0.99603,     0.99603,     0.99603,     0.99603,     0.99603,     0.99603,     0.99603,     0.99603,\n",
       "            0.99603,     0.99603,     0.99603,     0.99603,     0.99603,     0.99603,     0.99603,     0.99603,     0.99603,     0.99603,     0.99603,     0.99603,     0.99603,     0.99603,     0.99603,     0.99603,     0.99603,     0.99603,     0.99603,     0.99603,     0.99603,     0.99603,     0.99603,\n",
       "            0.99603,     0.99603,     0.99603,     0.99603,     0.99603,     0.99603,     0.99603,     0.99603,     0.99603,     0.99603,     0.99603,     0.99603,     0.99603,     0.99603,     0.99603,     0.99603,     0.99603,     0.99603,     0.99603,     0.99603,     0.99603,     0.99603,     0.99603,\n",
       "            0.99603,     0.99603,     0.99603,     0.99603,     0.99603,     0.99603,     0.99603,     0.99603,     0.99603,     0.99603,     0.99603,     0.99603,     0.99603,     0.99603,     0.99603,     0.99603,     0.99603,     0.99603,     0.99603,     0.99603,     0.99603,     0.99603,     0.99603,\n",
       "            0.99603,     0.99603,     0.99603,     0.99603,     0.99603,     0.99603,     0.99603,     0.99603,     0.99603,     0.99603,     0.99603,     0.99603,     0.99603,     0.99603,     0.99603,     0.99603,     0.99603,     0.99603,     0.99603,     0.99603,     0.99603,     0.99603,     0.99603,\n",
       "            0.99603,     0.99603,     0.99603,     0.99603,     0.99603,     0.99603,     0.99603,     0.99603,     0.99603,     0.99603,     0.99525,     0.99525,     0.99525,     0.99525,     0.99525,     0.99525,     0.99525,     0.99525,     0.99525,     0.99525,     0.99525,     0.99525,     0.99525,\n",
       "            0.99525,     0.99525,     0.99525,     0.99525,     0.99525,     0.99525,     0.99525,     0.99525,     0.99525,     0.99525,     0.99525,     0.99525,     0.99525,     0.99525,     0.99525,     0.99525,     0.99525,     0.99525,     0.99525,     0.99525,     0.99525,     0.99525,     0.99525,\n",
       "            0.99525,     0.99525,     0.99525,     0.99525,     0.99525,     0.99525,     0.99525,     0.99525,     0.99525,     0.99525,     0.99525,     0.99525,     0.99525,     0.99525,     0.99525,     0.99525,     0.99525,     0.99525,     0.99525,     0.99525,     0.99525,     0.99525,     0.99525,\n",
       "            0.99525,     0.99525,     0.99525,     0.99525,     0.99525,     0.99525,     0.99525,     0.99525,     0.99525,     0.99525,     0.99525,     0.99525,     0.99525,     0.99525,     0.99525,     0.99525,     0.99525,     0.99525,     0.99525,     0.99525,     0.99525,     0.99525,     0.99525,\n",
       "            0.99417,     0.99417,     0.99417,     0.99417,     0.99417,     0.99417,     0.99417,     0.99417,     0.99417,     0.99417,     0.99417,     0.99417,     0.99417,     0.99313,     0.99313,     0.99313,     0.99313,     0.99313,     0.99313,     0.99313,     0.99313,     0.99313,     0.99313,\n",
       "            0.99313,     0.99313,     0.99313,     0.99313,     0.99313,     0.99203,     0.99203,     0.99203,     0.99095,     0.99095,     0.99095,     0.99095,     0.99095,     0.98998,     0.98998,     0.98998,     0.98998,     0.98998,     0.98998,     0.98998,     0.98998,     0.98998,     0.98998,\n",
       "            0.98998,     0.98998,     0.98998,     0.98889,     0.98796,     0.98796,     0.98796,     0.98796,     0.98796,     0.98796,     0.98796,     0.98796,     0.98796,     0.98796,     0.98796,     0.98796,     0.98691,     0.98691,     0.98585,     0.98384,     0.98384,     0.98384,     0.98384,\n",
       "            0.98384,     0.98384,     0.98384,     0.98174,     0.98073,     0.98073,     0.97981,     0.97981,     0.97981,     0.97981,     0.97981,     0.97879,     0.97787,     0.97787,     0.97787,     0.97787,     0.97787,     0.97587,     0.97587,     0.97388,     0.97388,     0.97308,     0.97308,\n",
       "            0.97308,     0.97308,     0.97308,     0.97308,     0.97308,     0.97308,     0.97211,     0.97134,     0.97134,     0.97134,     0.97134,     0.97134,     0.97134,     0.97134,     0.97041,     0.97041,     0.96853,     0.96853,     0.96853,     0.96758,     0.96663,     0.96569,     0.96493,\n",
       "            0.96493,     0.96493,     0.96493,     0.96493,     0.96493,       0.964,     0.96311,     0.96311,     0.96032,      0.9585,      0.9585,     0.95764,     0.95764,      0.9558,     0.95029,     0.95029,     0.94874,     0.94874,     0.94874,     0.94874,     0.94874,     0.94874,     0.94808,\n",
       "            0.94808,     0.94808,     0.94808,     0.94808,      0.9454,     0.94365,     0.94196,     0.94196,     0.93934,     0.93327,     0.93258,     0.93258,     0.93258,     0.92658,     0.92579,     0.92244,     0.92166,     0.91751,      0.9159,     0.91515,     0.91356,     0.91115,     0.90958,\n",
       "            0.90884,     0.90485,     0.90268,     0.90268,     0.90268,     0.89796,     0.89646,     0.89576,     0.88879,     0.88811,     0.88445,     0.88225,     0.88083,     0.87564,     0.87425,     0.86548,     0.86268,     0.84571,     0.83824,     0.83768,     0.79505,     0.77602,     0.73329,\n",
       "            0.73329,     0.73088,     0.68867,     0.67982,     0.65217,     0.64268,      0.5256,     0.27288,     0.18192,    0.090959,           0]]), 'Recall', 'Precision'], [array([          0,    0.001001,    0.002002,    0.003003,    0.004004,    0.005005,    0.006006,    0.007007,    0.008008,    0.009009,     0.01001,    0.011011,    0.012012,    0.013013,    0.014014,    0.015015,    0.016016,    0.017017,    0.018018,    0.019019,     0.02002,    0.021021,    0.022022,    0.023023,\n",
       "          0.024024,    0.025025,    0.026026,    0.027027,    0.028028,    0.029029,     0.03003,    0.031031,    0.032032,    0.033033,    0.034034,    0.035035,    0.036036,    0.037037,    0.038038,    0.039039,     0.04004,    0.041041,    0.042042,    0.043043,    0.044044,    0.045045,    0.046046,    0.047047,\n",
       "          0.048048,    0.049049,     0.05005,    0.051051,    0.052052,    0.053053,    0.054054,    0.055055,    0.056056,    0.057057,    0.058058,    0.059059,     0.06006,    0.061061,    0.062062,    0.063063,    0.064064,    0.065065,    0.066066,    0.067067,    0.068068,    0.069069,     0.07007,    0.071071,\n",
       "          0.072072,    0.073073,    0.074074,    0.075075,    0.076076,    0.077077,    0.078078,    0.079079,     0.08008,    0.081081,    0.082082,    0.083083,    0.084084,    0.085085,    0.086086,    0.087087,    0.088088,    0.089089,     0.09009,    0.091091,    0.092092,    0.093093,    0.094094,    0.095095,\n",
       "          0.096096,    0.097097,    0.098098,    0.099099,      0.1001,      0.1011,      0.1021,      0.1031,      0.1041,     0.10511,     0.10611,     0.10711,     0.10811,     0.10911,     0.11011,     0.11111,     0.11211,     0.11311,     0.11411,     0.11512,     0.11612,     0.11712,     0.11812,     0.11912,\n",
       "           0.12012,     0.12112,     0.12212,     0.12312,     0.12412,     0.12513,     0.12613,     0.12713,     0.12813,     0.12913,     0.13013,     0.13113,     0.13213,     0.13313,     0.13413,     0.13514,     0.13614,     0.13714,     0.13814,     0.13914,     0.14014,     0.14114,     0.14214,     0.14314,\n",
       "           0.14414,     0.14515,     0.14615,     0.14715,     0.14815,     0.14915,     0.15015,     0.15115,     0.15215,     0.15315,     0.15415,     0.15516,     0.15616,     0.15716,     0.15816,     0.15916,     0.16016,     0.16116,     0.16216,     0.16316,     0.16416,     0.16517,     0.16617,     0.16717,\n",
       "           0.16817,     0.16917,     0.17017,     0.17117,     0.17217,     0.17317,     0.17417,     0.17518,     0.17618,     0.17718,     0.17818,     0.17918,     0.18018,     0.18118,     0.18218,     0.18318,     0.18418,     0.18519,     0.18619,     0.18719,     0.18819,     0.18919,     0.19019,     0.19119,\n",
       "           0.19219,     0.19319,     0.19419,      0.1952,      0.1962,      0.1972,      0.1982,      0.1992,      0.2002,      0.2012,      0.2022,      0.2032,      0.2042,     0.20521,     0.20621,     0.20721,     0.20821,     0.20921,     0.21021,     0.21121,     0.21221,     0.21321,     0.21421,     0.21522,\n",
       "           0.21622,     0.21722,     0.21822,     0.21922,     0.22022,     0.22122,     0.22222,     0.22322,     0.22422,     0.22523,     0.22623,     0.22723,     0.22823,     0.22923,     0.23023,     0.23123,     0.23223,     0.23323,     0.23423,     0.23524,     0.23624,     0.23724,     0.23824,     0.23924,\n",
       "           0.24024,     0.24124,     0.24224,     0.24324,     0.24424,     0.24525,     0.24625,     0.24725,     0.24825,     0.24925,     0.25025,     0.25125,     0.25225,     0.25325,     0.25425,     0.25526,     0.25626,     0.25726,     0.25826,     0.25926,     0.26026,     0.26126,     0.26226,     0.26326,\n",
       "           0.26426,     0.26527,     0.26627,     0.26727,     0.26827,     0.26927,     0.27027,     0.27127,     0.27227,     0.27327,     0.27427,     0.27528,     0.27628,     0.27728,     0.27828,     0.27928,     0.28028,     0.28128,     0.28228,     0.28328,     0.28428,     0.28529,     0.28629,     0.28729,\n",
       "           0.28829,     0.28929,     0.29029,     0.29129,     0.29229,     0.29329,     0.29429,      0.2953,      0.2963,      0.2973,      0.2983,      0.2993,      0.3003,      0.3013,      0.3023,      0.3033,      0.3043,     0.30531,     0.30631,     0.30731,     0.30831,     0.30931,     0.31031,     0.31131,\n",
       "           0.31231,     0.31331,     0.31431,     0.31532,     0.31632,     0.31732,     0.31832,     0.31932,     0.32032,     0.32132,     0.32232,     0.32332,     0.32432,     0.32533,     0.32633,     0.32733,     0.32833,     0.32933,     0.33033,     0.33133,     0.33233,     0.33333,     0.33433,     0.33534,\n",
       "           0.33634,     0.33734,     0.33834,     0.33934,     0.34034,     0.34134,     0.34234,     0.34334,     0.34434,     0.34535,     0.34635,     0.34735,     0.34835,     0.34935,     0.35035,     0.35135,     0.35235,     0.35335,     0.35435,     0.35536,     0.35636,     0.35736,     0.35836,     0.35936,\n",
       "           0.36036,     0.36136,     0.36236,     0.36336,     0.36436,     0.36537,     0.36637,     0.36737,     0.36837,     0.36937,     0.37037,     0.37137,     0.37237,     0.37337,     0.37437,     0.37538,     0.37638,     0.37738,     0.37838,     0.37938,     0.38038,     0.38138,     0.38238,     0.38338,\n",
       "           0.38438,     0.38539,     0.38639,     0.38739,     0.38839,     0.38939,     0.39039,     0.39139,     0.39239,     0.39339,     0.39439,      0.3954,      0.3964,      0.3974,      0.3984,      0.3994,      0.4004,      0.4014,      0.4024,      0.4034,      0.4044,     0.40541,     0.40641,     0.40741,\n",
       "           0.40841,     0.40941,     0.41041,     0.41141,     0.41241,     0.41341,     0.41441,     0.41542,     0.41642,     0.41742,     0.41842,     0.41942,     0.42042,     0.42142,     0.42242,     0.42342,     0.42442,     0.42543,     0.42643,     0.42743,     0.42843,     0.42943,     0.43043,     0.43143,\n",
       "           0.43243,     0.43343,     0.43443,     0.43544,     0.43644,     0.43744,     0.43844,     0.43944,     0.44044,     0.44144,     0.44244,     0.44344,     0.44444,     0.44545,     0.44645,     0.44745,     0.44845,     0.44945,     0.45045,     0.45145,     0.45245,     0.45345,     0.45445,     0.45546,\n",
       "           0.45646,     0.45746,     0.45846,     0.45946,     0.46046,     0.46146,     0.46246,     0.46346,     0.46446,     0.46547,     0.46647,     0.46747,     0.46847,     0.46947,     0.47047,     0.47147,     0.47247,     0.47347,     0.47447,     0.47548,     0.47648,     0.47748,     0.47848,     0.47948,\n",
       "           0.48048,     0.48148,     0.48248,     0.48348,     0.48448,     0.48549,     0.48649,     0.48749,     0.48849,     0.48949,     0.49049,     0.49149,     0.49249,     0.49349,     0.49449,      0.4955,      0.4965,      0.4975,      0.4985,      0.4995,      0.5005,      0.5015,      0.5025,      0.5035,\n",
       "            0.5045,     0.50551,     0.50651,     0.50751,     0.50851,     0.50951,     0.51051,     0.51151,     0.51251,     0.51351,     0.51451,     0.51552,     0.51652,     0.51752,     0.51852,     0.51952,     0.52052,     0.52152,     0.52252,     0.52352,     0.52452,     0.52553,     0.52653,     0.52753,\n",
       "           0.52853,     0.52953,     0.53053,     0.53153,     0.53253,     0.53353,     0.53453,     0.53554,     0.53654,     0.53754,     0.53854,     0.53954,     0.54054,     0.54154,     0.54254,     0.54354,     0.54454,     0.54555,     0.54655,     0.54755,     0.54855,     0.54955,     0.55055,     0.55155,\n",
       "           0.55255,     0.55355,     0.55455,     0.55556,     0.55656,     0.55756,     0.55856,     0.55956,     0.56056,     0.56156,     0.56256,     0.56356,     0.56456,     0.56557,     0.56657,     0.56757,     0.56857,     0.56957,     0.57057,     0.57157,     0.57257,     0.57357,     0.57457,     0.57558,\n",
       "           0.57658,     0.57758,     0.57858,     0.57958,     0.58058,     0.58158,     0.58258,     0.58358,     0.58458,     0.58559,     0.58659,     0.58759,     0.58859,     0.58959,     0.59059,     0.59159,     0.59259,     0.59359,     0.59459,      0.5956,      0.5966,      0.5976,      0.5986,      0.5996,\n",
       "            0.6006,      0.6016,      0.6026,      0.6036,      0.6046,     0.60561,     0.60661,     0.60761,     0.60861,     0.60961,     0.61061,     0.61161,     0.61261,     0.61361,     0.61461,     0.61562,     0.61662,     0.61762,     0.61862,     0.61962,     0.62062,     0.62162,     0.62262,     0.62362,\n",
       "           0.62462,     0.62563,     0.62663,     0.62763,     0.62863,     0.62963,     0.63063,     0.63163,     0.63263,     0.63363,     0.63463,     0.63564,     0.63664,     0.63764,     0.63864,     0.63964,     0.64064,     0.64164,     0.64264,     0.64364,     0.64464,     0.64565,     0.64665,     0.64765,\n",
       "           0.64865,     0.64965,     0.65065,     0.65165,     0.65265,     0.65365,     0.65465,     0.65566,     0.65666,     0.65766,     0.65866,     0.65966,     0.66066,     0.66166,     0.66266,     0.66366,     0.66466,     0.66567,     0.66667,     0.66767,     0.66867,     0.66967,     0.67067,     0.67167,\n",
       "           0.67267,     0.67367,     0.67467,     0.67568,     0.67668,     0.67768,     0.67868,     0.67968,     0.68068,     0.68168,     0.68268,     0.68368,     0.68468,     0.68569,     0.68669,     0.68769,     0.68869,     0.68969,     0.69069,     0.69169,     0.69269,     0.69369,     0.69469,      0.6957,\n",
       "            0.6967,      0.6977,      0.6987,      0.6997,      0.7007,      0.7017,      0.7027,      0.7037,      0.7047,     0.70571,     0.70671,     0.70771,     0.70871,     0.70971,     0.71071,     0.71171,     0.71271,     0.71371,     0.71471,     0.71572,     0.71672,     0.71772,     0.71872,     0.71972,\n",
       "           0.72072,     0.72172,     0.72272,     0.72372,     0.72472,     0.72573,     0.72673,     0.72773,     0.72873,     0.72973,     0.73073,     0.73173,     0.73273,     0.73373,     0.73473,     0.73574,     0.73674,     0.73774,     0.73874,     0.73974,     0.74074,     0.74174,     0.74274,     0.74374,\n",
       "           0.74474,     0.74575,     0.74675,     0.74775,     0.74875,     0.74975,     0.75075,     0.75175,     0.75275,     0.75375,     0.75475,     0.75576,     0.75676,     0.75776,     0.75876,     0.75976,     0.76076,     0.76176,     0.76276,     0.76376,     0.76476,     0.76577,     0.76677,     0.76777,\n",
       "           0.76877,     0.76977,     0.77077,     0.77177,     0.77277,     0.77377,     0.77477,     0.77578,     0.77678,     0.77778,     0.77878,     0.77978,     0.78078,     0.78178,     0.78278,     0.78378,     0.78478,     0.78579,     0.78679,     0.78779,     0.78879,     0.78979,     0.79079,     0.79179,\n",
       "           0.79279,     0.79379,     0.79479,      0.7958,      0.7968,      0.7978,      0.7988,      0.7998,      0.8008,      0.8018,      0.8028,      0.8038,      0.8048,     0.80581,     0.80681,     0.80781,     0.80881,     0.80981,     0.81081,     0.81181,     0.81281,     0.81381,     0.81481,     0.81582,\n",
       "           0.81682,     0.81782,     0.81882,     0.81982,     0.82082,     0.82182,     0.82282,     0.82382,     0.82482,     0.82583,     0.82683,     0.82783,     0.82883,     0.82983,     0.83083,     0.83183,     0.83283,     0.83383,     0.83483,     0.83584,     0.83684,     0.83784,     0.83884,     0.83984,\n",
       "           0.84084,     0.84184,     0.84284,     0.84384,     0.84484,     0.84585,     0.84685,     0.84785,     0.84885,     0.84985,     0.85085,     0.85185,     0.85285,     0.85385,     0.85485,     0.85586,     0.85686,     0.85786,     0.85886,     0.85986,     0.86086,     0.86186,     0.86286,     0.86386,\n",
       "           0.86486,     0.86587,     0.86687,     0.86787,     0.86887,     0.86987,     0.87087,     0.87187,     0.87287,     0.87387,     0.87487,     0.87588,     0.87688,     0.87788,     0.87888,     0.87988,     0.88088,     0.88188,     0.88288,     0.88388,     0.88488,     0.88589,     0.88689,     0.88789,\n",
       "           0.88889,     0.88989,     0.89089,     0.89189,     0.89289,     0.89389,     0.89489,      0.8959,      0.8969,      0.8979,      0.8989,      0.8999,      0.9009,      0.9019,      0.9029,      0.9039,      0.9049,     0.90591,     0.90691,     0.90791,     0.90891,     0.90991,     0.91091,     0.91191,\n",
       "           0.91291,     0.91391,     0.91491,     0.91592,     0.91692,     0.91792,     0.91892,     0.91992,     0.92092,     0.92192,     0.92292,     0.92392,     0.92492,     0.92593,     0.92693,     0.92793,     0.92893,     0.92993,     0.93093,     0.93193,     0.93293,     0.93393,     0.93493,     0.93594,\n",
       "           0.93694,     0.93794,     0.93894,     0.93994,     0.94094,     0.94194,     0.94294,     0.94394,     0.94494,     0.94595,     0.94695,     0.94795,     0.94895,     0.94995,     0.95095,     0.95195,     0.95295,     0.95395,     0.95495,     0.95596,     0.95696,     0.95796,     0.95896,     0.95996,\n",
       "           0.96096,     0.96196,     0.96296,     0.96396,     0.96496,     0.96597,     0.96697,     0.96797,     0.96897,     0.96997,     0.97097,     0.97197,     0.97297,     0.97397,     0.97497,     0.97598,     0.97698,     0.97798,     0.97898,     0.97998,     0.98098,     0.98198,     0.98298,     0.98398,\n",
       "           0.98498,     0.98599,     0.98699,     0.98799,     0.98899,     0.98999,     0.99099,     0.99199,     0.99299,     0.99399,     0.99499,       0.996,       0.997,       0.998,       0.999,           1]), array([[    0.51708,     0.51761,     0.61688,     0.66495,     0.69249,     0.71611,     0.72626,     0.73278,     0.74241,     0.74725,       0.751,     0.75579,     0.75806,     0.76146,     0.76546,     0.77026,     0.77269,      0.7773,     0.77953,     0.78234,     0.78499,     0.78863,     0.79106,\n",
       "            0.79375,     0.79799,     0.80129,     0.80637,     0.80865,     0.81022,     0.81287,       0.816,     0.81813,     0.81937,     0.82298,     0.82411,     0.82531,     0.82619,     0.82683,     0.82801,      0.8302,     0.83313,     0.83541,     0.83627,      0.8371,     0.83822,     0.83921,\n",
       "            0.84097,     0.84199,     0.84354,     0.84541,     0.84674,     0.84824,     0.84924,     0.85085,     0.85223,     0.85315,     0.85505,     0.85559,     0.85658,     0.85756,      0.8582,     0.86062,     0.86178,     0.86401,       0.865,     0.86638,     0.86673,     0.86811,     0.86922,\n",
       "            0.86919,     0.86963,      0.8699,     0.87024,     0.87085,       0.871,     0.87115,     0.87136,     0.87163,     0.87217,     0.87361,     0.87415,     0.87471,     0.87637,     0.87795,     0.87813,     0.87829,     0.87839,     0.87849,     0.87859,     0.88012,     0.88053,     0.88117,\n",
       "            0.88137,     0.88157,     0.88185,     0.88213,     0.88271,     0.88298,     0.88345,      0.8839,     0.88411,     0.88441,     0.88477,     0.88577,     0.88762,     0.88854,     0.88893,     0.88923,     0.89095,     0.89269,     0.89289,     0.89368,     0.89465,     0.89533,     0.89568,\n",
       "            0.89634,      0.8971,      0.8982,     0.89844,     0.89902,     0.89918,     0.89936,      0.8996,     0.90038,      0.9012,     0.90206,     0.90226,     0.90245,     0.90263,     0.90281,     0.90302,     0.90323,     0.90409,     0.90501,      0.9054,     0.90562,     0.90557,     0.90579,\n",
       "            0.90564,     0.90617,     0.90658,     0.90721,     0.90823,     0.90914,     0.90926,     0.90938,     0.90952,     0.90964,     0.91066,     0.91106,     0.91134,      0.9117,     0.91209,     0.91277,     0.91298,     0.91363,      0.9143,     0.91473,     0.91517,     0.91533,     0.91549,\n",
       "            0.91584,     0.91608,     0.91627,      0.9166,      0.9169,     0.91716,     0.91742,     0.91814,     0.91888,     0.91912,     0.91901,     0.91876,     0.91972,      0.9201,     0.92076,      0.9209,     0.92104,     0.92141,     0.92267,     0.92324,     0.92347,     0.92371,     0.92395,\n",
       "            0.92445,     0.92471,     0.92478,     0.92483,     0.92506,     0.92506,     0.92604,     0.92627,     0.92664,     0.92695,     0.92708,     0.92722,     0.92767,      0.9275,      0.9278,     0.92802,     0.92771,     0.92767,     0.92783,     0.92804,     0.92873,     0.92849,     0.92871,\n",
       "            0.92892,     0.92908,     0.92927,     0.92948,     0.92956,      0.9294,     0.92925,     0.92926,     0.92971,     0.92959,     0.92978,     0.92953,     0.92977,     0.93042,     0.93106,     0.93161,     0.93193,     0.93225,     0.93294,     0.93315,     0.93312,     0.93283,     0.93308,\n",
       "            0.93272,     0.93334,     0.93322,     0.93341,     0.93428,     0.93532,     0.93561,     0.93543,     0.93526,     0.93479,     0.93438,     0.93451,     0.93508,     0.93527,     0.93547,     0.93502,     0.93517,     0.93532,     0.93689,     0.93678,     0.93675,     0.93682,     0.93689,\n",
       "            0.93697,     0.93704,     0.93711,     0.93672,     0.93721,     0.93707,     0.93716,     0.93726,     0.93735,     0.93744,      0.9375,     0.93755,      0.9376,     0.93766,     0.93771,     0.93776,     0.93781,     0.93787,     0.93784,      0.9383,     0.93844,     0.93858,     0.93861,\n",
       "            0.93827,     0.93845,     0.93863,     0.93818,     0.93831,     0.93845,     0.93862,      0.9388,     0.93863,     0.93881,     0.93901,     0.93927,     0.93968,     0.94028,     0.94073,     0.94058,     0.94042,     0.94026,      0.9402,     0.94038,     0.94056,     0.94147,     0.94193,\n",
       "            0.94141,     0.94148,     0.94155,     0.94162,     0.94168,     0.94175,     0.94182,     0.94214,     0.94241,     0.94259,     0.94278,     0.94296,     0.94314,     0.94333,     0.94351,     0.94424,     0.94441,     0.94412,     0.94357,     0.94304,     0.94319,     0.94289,      0.9426,\n",
       "             0.9428,     0.94305,     0.94321,     0.94344,     0.94399,     0.94437,     0.94463,      0.9449,     0.94511,     0.94563,      0.9459,     0.94608,      0.9462,     0.94633,     0.94645,     0.94633,     0.94618,     0.94603,     0.94581,     0.94552,     0.94597,     0.94604,     0.94611,\n",
       "            0.94619,     0.94626,     0.94634,     0.94618,      0.9465,     0.94626,     0.94672,     0.94684,     0.94696,     0.94709,      0.9474,     0.94678,     0.94626,     0.94511,     0.94553,     0.94541,     0.94527,     0.94513,      0.9443,     0.94386,      0.9436,      0.9428,      0.9425,\n",
       "             0.9426,     0.94273,     0.94285,     0.94307,     0.94324,     0.94246,     0.94273,     0.94297,     0.94321,      0.9438,     0.94389,     0.94397,     0.94406,     0.94414,     0.94434,     0.94481,     0.94523,     0.94547,     0.94533,     0.94519,     0.94505,     0.94487,     0.94468,\n",
       "            0.94451,     0.94474,     0.94491,     0.94441,     0.94411,     0.94412,     0.94444,     0.94457,      0.9447,     0.94482,     0.94475,     0.94462,     0.94449,     0.94435,     0.94388,     0.94424,     0.94511,     0.94465,     0.94448,      0.9443,     0.94424,     0.94448,     0.94446,\n",
       "            0.94433,     0.94373,      0.9432,     0.94267,     0.94238,     0.94221,     0.94203,     0.94192,     0.94182,     0.94173,     0.94164,     0.94154,     0.94185,     0.94149,     0.94145,     0.94169,     0.94141,     0.94161,     0.94115,     0.94089,     0.94028,     0.94056,     0.94077,\n",
       "            0.94041,     0.94015,     0.94018,     0.94034,      0.9405,     0.93958,     0.93926,     0.93899,     0.93872,     0.93845,     0.93794,     0.93765,     0.93738,     0.93632,     0.93626,     0.93642,     0.93658,     0.93558,      0.9351,     0.93502,     0.93494,     0.93487,     0.93479,\n",
       "            0.93471,     0.93463,      0.9343,     0.93338,      0.9331,     0.93266,     0.93257,     0.93273,     0.93289,     0.93254,     0.93193,     0.93203,     0.93213,     0.93222,     0.93232,     0.93275,     0.93255,     0.93228,     0.93218,     0.93266,     0.93212,     0.93157,     0.93104,\n",
       "            0.93076,      0.9305,     0.93041,     0.93032,     0.93023,     0.93014,     0.93004,     0.93003,      0.9303,     0.93002,     0.92965,      0.9291,     0.92854,     0.92799,     0.92759,      0.9274,     0.92722,      0.9275,     0.92732,     0.92713,     0.92689,     0.92661,     0.92658,\n",
       "            0.92682,       0.927,      0.9267,     0.92651,     0.92633,     0.92585,     0.92529,     0.92473,     0.92453,     0.92439,     0.92424,      0.9241,     0.92396,     0.92382,     0.92368,     0.92356,      0.9238,     0.92406,     0.92399,     0.92437,     0.92409,     0.92383,     0.92364,\n",
       "            0.92345,     0.92335,     0.92352,     0.92368,      0.9236,     0.92303,     0.92192,     0.92135,     0.92023,     0.91923,     0.91895,     0.91871,     0.91852,     0.91833,     0.91737,     0.91705,     0.91691,     0.91677,     0.91662,     0.91675,     0.91699,     0.91691,     0.91672,\n",
       "            0.91653,     0.91689,     0.91648,      0.9156,     0.91531,     0.91463,     0.91453,     0.91442,     0.91432,     0.91421,     0.91329,     0.91288,     0.91259,     0.91212,     0.91179,      0.9116,     0.91141,     0.91114,     0.91085,     0.91068,     0.91053,     0.91039,     0.91024,\n",
       "            0.91006,     0.90986,     0.90967,     0.91011,     0.90928,       0.909,     0.90891,     0.90882,     0.90873,     0.90864,     0.90855,     0.90846,     0.90745,      0.9077,     0.90768,     0.90756,     0.90745,     0.90733,     0.90721,      0.9067,     0.90572,     0.90568,     0.90583,\n",
       "            0.90554,     0.90453,     0.90409,      0.9038,     0.90293,     0.90263,     0.90159,       0.901,     0.89983,     0.89784,     0.89754,     0.89737,     0.89761,     0.89762,     0.89702,     0.89653,     0.89623,     0.89589,     0.89549,     0.89491,     0.89431,     0.89342,     0.89312,\n",
       "            0.89282,      0.8925,     0.89191,     0.89151,     0.89117,     0.89087,     0.89057,     0.89027,     0.89006,     0.88989,     0.88972,     0.88945,     0.88936,     0.88926,     0.88917,     0.88908,     0.88899,     0.88889,     0.88874,     0.88859,     0.88844,     0.88767,     0.88589,\n",
       "            0.88549,     0.88464,     0.88449,     0.88434,     0.88419,     0.88385,     0.88279,     0.88227,     0.88196,     0.88135,     0.88064,     0.87942,     0.87881,     0.87859,     0.87842,     0.87824,     0.87746,     0.87729,     0.87711,     0.87633,     0.87612,     0.87591,      0.8757,\n",
       "            0.87545,      0.8752,     0.87385,     0.87374,     0.87364,     0.87354,     0.87343,     0.87333,     0.87217,     0.87112,     0.87014,     0.86982,     0.86936,      0.8672,     0.86657,     0.86532,      0.8634,     0.86251,     0.86208,     0.86176,     0.86137,     0.86095,     0.86052,\n",
       "            0.85768,     0.85736,     0.85696,     0.85661,     0.85643,     0.85625,     0.85606,     0.85565,     0.85465,     0.85433,     0.85158,     0.85145,     0.85132,     0.85119,     0.85107,     0.85075,     0.85031,     0.84988,     0.84953,      0.8492,     0.84879,     0.84836,     0.84793,\n",
       "            0.84758,     0.84726,     0.84365,     0.84064,      0.8402,     0.83912,      0.8379,     0.83757,     0.83653,     0.83609,     0.83565,      0.8352,     0.83476,     0.83431,     0.83191,     0.83149,     0.83115,     0.83013,     0.82969,     0.82858,     0.82623,     0.82601,     0.82578,\n",
       "             0.8248,     0.82435,     0.82323,     0.82278,     0.82033,     0.81988,     0.81948,     0.81914,     0.81806,     0.81559,     0.81513,     0.81332,     0.81151,     0.81105,     0.80991,     0.80877,      0.8083,     0.80784,     0.80737,     0.80691,     0.80418,     0.80163,     0.79909,\n",
       "            0.79862,     0.79676,      0.7949,     0.79443,     0.79395,     0.79278,      0.7902,     0.78972,     0.78713,     0.78589,     0.78523,     0.78474,     0.78355,     0.78093,     0.78045,     0.77782,     0.77518,     0.77469,     0.77397,     0.76985,     0.76717,     0.76595,     0.76545,\n",
       "            0.76262,      0.7598,     0.75782,     0.75732,     0.75591,     0.75234,     0.75034,     0.74983,     0.74762,      0.7463,     0.74276,     0.74225,     0.73771,     0.73485,     0.73346,     0.72815,     0.72762,     0.72631,     0.72409,     0.71873,     0.71818,     0.71503,     0.71449,\n",
       "             0.7082,     0.70516,     0.69972,     0.69488,     0.69432,     0.69192,     0.68965,     0.68238,     0.67819,     0.67576,     0.67519,     0.67182,     0.66613,     0.66028,     0.65853,      0.6552,     0.65025,     0.64673,      0.6441,      0.6435,     0.63561,     0.63022,      0.6277,\n",
       "            0.62431,     0.61974,     0.61458,       0.611,     0.61037,     0.60108,     0.59541,     0.59064,     0.58584,     0.58131,     0.57565,     0.57368,     0.57072,     0.56677,     0.55783,     0.54978,     0.54368,      0.5398,     0.53288,     0.52141,     0.51612,     0.50761,     0.49899,\n",
       "            0.49245,     0.49024,     0.47587,     0.46914,      0.4612,     0.45696,     0.45349,     0.45117,      0.4442,     0.43776,     0.43185,     0.42471,      0.4187,      0.4078,     0.39551,     0.38553,     0.38149,      0.3773,     0.37092,     0.35806,     0.35153,     0.33636,     0.32698,\n",
       "            0.31885,     0.31283,     0.30717,       0.303,     0.29464,     0.28266,     0.27837,     0.27191,     0.26468,     0.25724,     0.25223,     0.24779,     0.22914,     0.21972,      0.2177,     0.21001,     0.19837,     0.18846,     0.18653,     0.17458,     0.16752,     0.16566,     0.15015,\n",
       "            0.14376,     0.14263,     0.13846,     0.12414,      0.1199,     0.10533,     0.10167,    0.093264,     0.09207,    0.088729,    0.082175,    0.078054,    0.069549,    0.064565,    0.061184,    0.060258,    0.056575,     0.04737,    0.045258,    0.043375,     0.03974,      0.0365,    0.033624,\n",
       "           0.032863,    0.030095,    0.027696,    0.026173,    0.022726,    0.022176,    0.021625,    0.021075,    0.020368,    0.019596,    0.017999,    0.014123,    0.010232,   0.0063263,   0.0054134,   0.0050216,   0.0046296,   0.0042375,   0.0038452,   0.0019223,           0,           0,           0,\n",
       "                  0,           0,           0,           0,           0,           0,           0,           0,           0,           0,           0,           0,           0,           0,           0,           0,           0,           0,           0,           0,           0,           0,           0,\n",
       "                  0,           0,           0,           0,           0,           0,           0,           0,           0,           0,           0,           0,           0,           0,           0,           0,           0,           0,           0,           0,           0,           0,           0,\n",
       "                  0,           0,           0,           0,           0,           0,           0,           0,           0,           0,           0]]), 'Confidence', 'F1'], [array([          0,    0.001001,    0.002002,    0.003003,    0.004004,    0.005005,    0.006006,    0.007007,    0.008008,    0.009009,     0.01001,    0.011011,    0.012012,    0.013013,    0.014014,    0.015015,    0.016016,    0.017017,    0.018018,    0.019019,     0.02002,    0.021021,    0.022022,    0.023023,\n",
       "          0.024024,    0.025025,    0.026026,    0.027027,    0.028028,    0.029029,     0.03003,    0.031031,    0.032032,    0.033033,    0.034034,    0.035035,    0.036036,    0.037037,    0.038038,    0.039039,     0.04004,    0.041041,    0.042042,    0.043043,    0.044044,    0.045045,    0.046046,    0.047047,\n",
       "          0.048048,    0.049049,     0.05005,    0.051051,    0.052052,    0.053053,    0.054054,    0.055055,    0.056056,    0.057057,    0.058058,    0.059059,     0.06006,    0.061061,    0.062062,    0.063063,    0.064064,    0.065065,    0.066066,    0.067067,    0.068068,    0.069069,     0.07007,    0.071071,\n",
       "          0.072072,    0.073073,    0.074074,    0.075075,    0.076076,    0.077077,    0.078078,    0.079079,     0.08008,    0.081081,    0.082082,    0.083083,    0.084084,    0.085085,    0.086086,    0.087087,    0.088088,    0.089089,     0.09009,    0.091091,    0.092092,    0.093093,    0.094094,    0.095095,\n",
       "          0.096096,    0.097097,    0.098098,    0.099099,      0.1001,      0.1011,      0.1021,      0.1031,      0.1041,     0.10511,     0.10611,     0.10711,     0.10811,     0.10911,     0.11011,     0.11111,     0.11211,     0.11311,     0.11411,     0.11512,     0.11612,     0.11712,     0.11812,     0.11912,\n",
       "           0.12012,     0.12112,     0.12212,     0.12312,     0.12412,     0.12513,     0.12613,     0.12713,     0.12813,     0.12913,     0.13013,     0.13113,     0.13213,     0.13313,     0.13413,     0.13514,     0.13614,     0.13714,     0.13814,     0.13914,     0.14014,     0.14114,     0.14214,     0.14314,\n",
       "           0.14414,     0.14515,     0.14615,     0.14715,     0.14815,     0.14915,     0.15015,     0.15115,     0.15215,     0.15315,     0.15415,     0.15516,     0.15616,     0.15716,     0.15816,     0.15916,     0.16016,     0.16116,     0.16216,     0.16316,     0.16416,     0.16517,     0.16617,     0.16717,\n",
       "           0.16817,     0.16917,     0.17017,     0.17117,     0.17217,     0.17317,     0.17417,     0.17518,     0.17618,     0.17718,     0.17818,     0.17918,     0.18018,     0.18118,     0.18218,     0.18318,     0.18418,     0.18519,     0.18619,     0.18719,     0.18819,     0.18919,     0.19019,     0.19119,\n",
       "           0.19219,     0.19319,     0.19419,      0.1952,      0.1962,      0.1972,      0.1982,      0.1992,      0.2002,      0.2012,      0.2022,      0.2032,      0.2042,     0.20521,     0.20621,     0.20721,     0.20821,     0.20921,     0.21021,     0.21121,     0.21221,     0.21321,     0.21421,     0.21522,\n",
       "           0.21622,     0.21722,     0.21822,     0.21922,     0.22022,     0.22122,     0.22222,     0.22322,     0.22422,     0.22523,     0.22623,     0.22723,     0.22823,     0.22923,     0.23023,     0.23123,     0.23223,     0.23323,     0.23423,     0.23524,     0.23624,     0.23724,     0.23824,     0.23924,\n",
       "           0.24024,     0.24124,     0.24224,     0.24324,     0.24424,     0.24525,     0.24625,     0.24725,     0.24825,     0.24925,     0.25025,     0.25125,     0.25225,     0.25325,     0.25425,     0.25526,     0.25626,     0.25726,     0.25826,     0.25926,     0.26026,     0.26126,     0.26226,     0.26326,\n",
       "           0.26426,     0.26527,     0.26627,     0.26727,     0.26827,     0.26927,     0.27027,     0.27127,     0.27227,     0.27327,     0.27427,     0.27528,     0.27628,     0.27728,     0.27828,     0.27928,     0.28028,     0.28128,     0.28228,     0.28328,     0.28428,     0.28529,     0.28629,     0.28729,\n",
       "           0.28829,     0.28929,     0.29029,     0.29129,     0.29229,     0.29329,     0.29429,      0.2953,      0.2963,      0.2973,      0.2983,      0.2993,      0.3003,      0.3013,      0.3023,      0.3033,      0.3043,     0.30531,     0.30631,     0.30731,     0.30831,     0.30931,     0.31031,     0.31131,\n",
       "           0.31231,     0.31331,     0.31431,     0.31532,     0.31632,     0.31732,     0.31832,     0.31932,     0.32032,     0.32132,     0.32232,     0.32332,     0.32432,     0.32533,     0.32633,     0.32733,     0.32833,     0.32933,     0.33033,     0.33133,     0.33233,     0.33333,     0.33433,     0.33534,\n",
       "           0.33634,     0.33734,     0.33834,     0.33934,     0.34034,     0.34134,     0.34234,     0.34334,     0.34434,     0.34535,     0.34635,     0.34735,     0.34835,     0.34935,     0.35035,     0.35135,     0.35235,     0.35335,     0.35435,     0.35536,     0.35636,     0.35736,     0.35836,     0.35936,\n",
       "           0.36036,     0.36136,     0.36236,     0.36336,     0.36436,     0.36537,     0.36637,     0.36737,     0.36837,     0.36937,     0.37037,     0.37137,     0.37237,     0.37337,     0.37437,     0.37538,     0.37638,     0.37738,     0.37838,     0.37938,     0.38038,     0.38138,     0.38238,     0.38338,\n",
       "           0.38438,     0.38539,     0.38639,     0.38739,     0.38839,     0.38939,     0.39039,     0.39139,     0.39239,     0.39339,     0.39439,      0.3954,      0.3964,      0.3974,      0.3984,      0.3994,      0.4004,      0.4014,      0.4024,      0.4034,      0.4044,     0.40541,     0.40641,     0.40741,\n",
       "           0.40841,     0.40941,     0.41041,     0.41141,     0.41241,     0.41341,     0.41441,     0.41542,     0.41642,     0.41742,     0.41842,     0.41942,     0.42042,     0.42142,     0.42242,     0.42342,     0.42442,     0.42543,     0.42643,     0.42743,     0.42843,     0.42943,     0.43043,     0.43143,\n",
       "           0.43243,     0.43343,     0.43443,     0.43544,     0.43644,     0.43744,     0.43844,     0.43944,     0.44044,     0.44144,     0.44244,     0.44344,     0.44444,     0.44545,     0.44645,     0.44745,     0.44845,     0.44945,     0.45045,     0.45145,     0.45245,     0.45345,     0.45445,     0.45546,\n",
       "           0.45646,     0.45746,     0.45846,     0.45946,     0.46046,     0.46146,     0.46246,     0.46346,     0.46446,     0.46547,     0.46647,     0.46747,     0.46847,     0.46947,     0.47047,     0.47147,     0.47247,     0.47347,     0.47447,     0.47548,     0.47648,     0.47748,     0.47848,     0.47948,\n",
       "           0.48048,     0.48148,     0.48248,     0.48348,     0.48448,     0.48549,     0.48649,     0.48749,     0.48849,     0.48949,     0.49049,     0.49149,     0.49249,     0.49349,     0.49449,      0.4955,      0.4965,      0.4975,      0.4985,      0.4995,      0.5005,      0.5015,      0.5025,      0.5035,\n",
       "            0.5045,     0.50551,     0.50651,     0.50751,     0.50851,     0.50951,     0.51051,     0.51151,     0.51251,     0.51351,     0.51451,     0.51552,     0.51652,     0.51752,     0.51852,     0.51952,     0.52052,     0.52152,     0.52252,     0.52352,     0.52452,     0.52553,     0.52653,     0.52753,\n",
       "           0.52853,     0.52953,     0.53053,     0.53153,     0.53253,     0.53353,     0.53453,     0.53554,     0.53654,     0.53754,     0.53854,     0.53954,     0.54054,     0.54154,     0.54254,     0.54354,     0.54454,     0.54555,     0.54655,     0.54755,     0.54855,     0.54955,     0.55055,     0.55155,\n",
       "           0.55255,     0.55355,     0.55455,     0.55556,     0.55656,     0.55756,     0.55856,     0.55956,     0.56056,     0.56156,     0.56256,     0.56356,     0.56456,     0.56557,     0.56657,     0.56757,     0.56857,     0.56957,     0.57057,     0.57157,     0.57257,     0.57357,     0.57457,     0.57558,\n",
       "           0.57658,     0.57758,     0.57858,     0.57958,     0.58058,     0.58158,     0.58258,     0.58358,     0.58458,     0.58559,     0.58659,     0.58759,     0.58859,     0.58959,     0.59059,     0.59159,     0.59259,     0.59359,     0.59459,      0.5956,      0.5966,      0.5976,      0.5986,      0.5996,\n",
       "            0.6006,      0.6016,      0.6026,      0.6036,      0.6046,     0.60561,     0.60661,     0.60761,     0.60861,     0.60961,     0.61061,     0.61161,     0.61261,     0.61361,     0.61461,     0.61562,     0.61662,     0.61762,     0.61862,     0.61962,     0.62062,     0.62162,     0.62262,     0.62362,\n",
       "           0.62462,     0.62563,     0.62663,     0.62763,     0.62863,     0.62963,     0.63063,     0.63163,     0.63263,     0.63363,     0.63463,     0.63564,     0.63664,     0.63764,     0.63864,     0.63964,     0.64064,     0.64164,     0.64264,     0.64364,     0.64464,     0.64565,     0.64665,     0.64765,\n",
       "           0.64865,     0.64965,     0.65065,     0.65165,     0.65265,     0.65365,     0.65465,     0.65566,     0.65666,     0.65766,     0.65866,     0.65966,     0.66066,     0.66166,     0.66266,     0.66366,     0.66466,     0.66567,     0.66667,     0.66767,     0.66867,     0.66967,     0.67067,     0.67167,\n",
       "           0.67267,     0.67367,     0.67467,     0.67568,     0.67668,     0.67768,     0.67868,     0.67968,     0.68068,     0.68168,     0.68268,     0.68368,     0.68468,     0.68569,     0.68669,     0.68769,     0.68869,     0.68969,     0.69069,     0.69169,     0.69269,     0.69369,     0.69469,      0.6957,\n",
       "            0.6967,      0.6977,      0.6987,      0.6997,      0.7007,      0.7017,      0.7027,      0.7037,      0.7047,     0.70571,     0.70671,     0.70771,     0.70871,     0.70971,     0.71071,     0.71171,     0.71271,     0.71371,     0.71471,     0.71572,     0.71672,     0.71772,     0.71872,     0.71972,\n",
       "           0.72072,     0.72172,     0.72272,     0.72372,     0.72472,     0.72573,     0.72673,     0.72773,     0.72873,     0.72973,     0.73073,     0.73173,     0.73273,     0.73373,     0.73473,     0.73574,     0.73674,     0.73774,     0.73874,     0.73974,     0.74074,     0.74174,     0.74274,     0.74374,\n",
       "           0.74474,     0.74575,     0.74675,     0.74775,     0.74875,     0.74975,     0.75075,     0.75175,     0.75275,     0.75375,     0.75475,     0.75576,     0.75676,     0.75776,     0.75876,     0.75976,     0.76076,     0.76176,     0.76276,     0.76376,     0.76476,     0.76577,     0.76677,     0.76777,\n",
       "           0.76877,     0.76977,     0.77077,     0.77177,     0.77277,     0.77377,     0.77477,     0.77578,     0.77678,     0.77778,     0.77878,     0.77978,     0.78078,     0.78178,     0.78278,     0.78378,     0.78478,     0.78579,     0.78679,     0.78779,     0.78879,     0.78979,     0.79079,     0.79179,\n",
       "           0.79279,     0.79379,     0.79479,      0.7958,      0.7968,      0.7978,      0.7988,      0.7998,      0.8008,      0.8018,      0.8028,      0.8038,      0.8048,     0.80581,     0.80681,     0.80781,     0.80881,     0.80981,     0.81081,     0.81181,     0.81281,     0.81381,     0.81481,     0.81582,\n",
       "           0.81682,     0.81782,     0.81882,     0.81982,     0.82082,     0.82182,     0.82282,     0.82382,     0.82482,     0.82583,     0.82683,     0.82783,     0.82883,     0.82983,     0.83083,     0.83183,     0.83283,     0.83383,     0.83483,     0.83584,     0.83684,     0.83784,     0.83884,     0.83984,\n",
       "           0.84084,     0.84184,     0.84284,     0.84384,     0.84484,     0.84585,     0.84685,     0.84785,     0.84885,     0.84985,     0.85085,     0.85185,     0.85285,     0.85385,     0.85485,     0.85586,     0.85686,     0.85786,     0.85886,     0.85986,     0.86086,     0.86186,     0.86286,     0.86386,\n",
       "           0.86486,     0.86587,     0.86687,     0.86787,     0.86887,     0.86987,     0.87087,     0.87187,     0.87287,     0.87387,     0.87487,     0.87588,     0.87688,     0.87788,     0.87888,     0.87988,     0.88088,     0.88188,     0.88288,     0.88388,     0.88488,     0.88589,     0.88689,     0.88789,\n",
       "           0.88889,     0.88989,     0.89089,     0.89189,     0.89289,     0.89389,     0.89489,      0.8959,      0.8969,      0.8979,      0.8989,      0.8999,      0.9009,      0.9019,      0.9029,      0.9039,      0.9049,     0.90591,     0.90691,     0.90791,     0.90891,     0.90991,     0.91091,     0.91191,\n",
       "           0.91291,     0.91391,     0.91491,     0.91592,     0.91692,     0.91792,     0.91892,     0.91992,     0.92092,     0.92192,     0.92292,     0.92392,     0.92492,     0.92593,     0.92693,     0.92793,     0.92893,     0.92993,     0.93093,     0.93193,     0.93293,     0.93393,     0.93493,     0.93594,\n",
       "           0.93694,     0.93794,     0.93894,     0.93994,     0.94094,     0.94194,     0.94294,     0.94394,     0.94494,     0.94595,     0.94695,     0.94795,     0.94895,     0.94995,     0.95095,     0.95195,     0.95295,     0.95395,     0.95495,     0.95596,     0.95696,     0.95796,     0.95896,     0.95996,\n",
       "           0.96096,     0.96196,     0.96296,     0.96396,     0.96496,     0.96597,     0.96697,     0.96797,     0.96897,     0.96997,     0.97097,     0.97197,     0.97297,     0.97397,     0.97497,     0.97598,     0.97698,     0.97798,     0.97898,     0.97998,     0.98098,     0.98198,     0.98298,     0.98398,\n",
       "           0.98498,     0.98599,     0.98699,     0.98799,     0.98899,     0.98999,     0.99099,     0.99199,     0.99299,     0.99399,     0.99499,       0.996,       0.997,       0.998,       0.999,           1]), array([[    0.34916,     0.34965,     0.44677,     0.49903,     0.53098,     0.55928,     0.57175,     0.57988,     0.59203,     0.59821,     0.60303,     0.60924,     0.61219,     0.61663,     0.62189,     0.62826,      0.6315,     0.63768,     0.64069,     0.64489,      0.6485,      0.6539,     0.65725,\n",
       "            0.66098,     0.66687,      0.6715,     0.67866,     0.68235,     0.68459,     0.68885,     0.69336,     0.69643,     0.69823,      0.7035,     0.70515,      0.7069,     0.70819,     0.70914,     0.71088,     0.71411,     0.71847,     0.72186,     0.72315,     0.72438,     0.72606,     0.72755,\n",
       "            0.73072,     0.73302,     0.73568,     0.73852,     0.74056,     0.74286,     0.74439,     0.74686,       0.749,     0.75041,     0.75336,     0.75421,     0.75573,     0.75726,     0.75827,     0.76205,     0.76387,     0.76738,     0.76894,     0.77112,     0.77169,     0.77387,     0.77564,\n",
       "            0.77619,     0.77688,     0.77731,     0.77786,     0.77884,     0.77908,     0.77932,     0.77965,     0.78009,     0.78095,     0.78327,     0.78414,     0.78503,     0.78772,     0.79027,     0.79057,     0.79082,     0.79098,     0.79115,     0.79131,      0.7938,     0.79509,     0.79613,\n",
       "            0.79645,     0.79678,     0.79724,      0.7977,     0.79864,     0.79908,     0.79986,     0.80059,     0.80094,     0.80144,     0.80203,     0.80366,     0.80672,     0.80824,     0.80889,     0.80939,     0.81224,     0.81513,     0.81548,     0.81679,     0.81842,     0.81955,     0.82015,\n",
       "            0.82125,     0.82253,     0.82438,     0.82478,     0.82576,     0.82603,     0.82634,     0.82674,     0.82805,     0.82943,     0.83091,     0.83123,     0.83156,     0.83186,     0.83217,     0.83252,     0.83289,     0.83435,     0.83592,     0.83658,     0.83696,     0.83756,     0.83794,\n",
       "            0.83838,     0.83929,     0.83999,     0.84107,     0.84283,     0.84441,     0.84461,     0.84481,     0.84505,     0.84597,     0.84774,     0.84843,     0.84891,     0.84955,     0.85022,     0.85141,     0.85177,      0.8529,     0.85407,     0.85482,      0.8556,     0.85588,     0.85615,\n",
       "            0.85676,     0.85718,     0.85752,     0.85809,     0.85862,     0.85907,     0.85953,      0.8608,      0.8621,     0.86253,     0.86263,     0.86263,     0.86432,     0.86542,      0.8669,     0.86715,      0.8674,     0.86806,     0.87029,     0.87132,     0.87173,     0.87214,     0.87258,\n",
       "            0.87348,     0.87393,     0.87423,     0.87491,     0.87532,      0.8756,     0.87785,     0.87826,     0.87892,     0.87948,     0.87973,     0.87998,     0.88082,     0.88125,      0.8818,      0.8822,     0.88218,     0.88234,     0.88264,     0.88301,     0.88427,     0.88438,     0.88502,\n",
       "            0.88539,     0.88569,     0.88603,     0.88642,     0.88665,     0.88662,     0.88659,      0.8868,     0.88762,     0.88821,     0.88876,     0.88871,     0.88932,     0.89052,      0.8917,     0.89271,      0.8933,     0.89388,     0.89516,     0.89554,     0.89573,     0.89575,     0.89644,\n",
       "            0.89637,     0.89752,     0.89811,     0.89847,     0.90008,     0.90201,     0.90267,     0.90264,      0.9026,     0.90252,     0.90245,     0.90299,     0.90406,     0.90443,      0.9048,      0.9048,     0.90508,     0.90535,      0.9083,     0.90878,     0.90888,     0.90902,     0.90916,\n",
       "            0.90929,     0.90943,     0.90957,     0.90967,     0.91111,     0.91119,     0.91137,     0.91155,     0.91173,      0.9119,       0.912,      0.9121,      0.9122,      0.9123,      0.9124,      0.9125,      0.9126,      0.9127,     0.91351,     0.91439,     0.91465,     0.91492,     0.91513,\n",
       "             0.9152,     0.91555,     0.91589,     0.91589,     0.91615,     0.91642,     0.91673,     0.91747,     0.91764,     0.91798,     0.91835,     0.91884,     0.91963,     0.92079,     0.92166,     0.92164,     0.92161,     0.92159,      0.9224,     0.92275,      0.9231,     0.92485,     0.92575,\n",
       "            0.92654,     0.92667,      0.9268,     0.92693,     0.92707,      0.9272,     0.92733,     0.92794,     0.92848,     0.92883,     0.92919,     0.92954,      0.9299,     0.93025,     0.93061,     0.93202,     0.93257,     0.93253,     0.93246,      0.9324,     0.93324,      0.9332,     0.93316,\n",
       "             0.9338,     0.93429,     0.93462,     0.93506,     0.93615,     0.93689,     0.93741,     0.93793,     0.93929,     0.94032,     0.94084,      0.9412,     0.94145,     0.94169,     0.94194,     0.94195,     0.94193,     0.94191,     0.94189,     0.94186,     0.94286,     0.94301,     0.94316,\n",
       "            0.94331,     0.94346,      0.9436,     0.94423,     0.94488,     0.94536,     0.94627,     0.94651,     0.94676,     0.94701,     0.94763,     0.94799,     0.94794,     0.94783,     0.94873,     0.94873,     0.94872,      0.9487,     0.94862,     0.94858,     0.94855,     0.94847,     0.94845,\n",
       "            0.94868,     0.94893,     0.94918,     0.94963,     0.95028,     0.95037,     0.95092,     0.95142,      0.9519,      0.9531,     0.95328,     0.95345,     0.95363,      0.9538,     0.95421,     0.95517,     0.95703,     0.95763,     0.95762,     0.95761,      0.9576,     0.95758,     0.95757,\n",
       "            0.95757,     0.95805,     0.95849,     0.95845,     0.95843,     0.95881,     0.95948,     0.95974,        0.96,     0.96026,     0.96031,      0.9603,     0.96029,     0.96028,     0.96024,     0.96111,      0.9631,     0.96307,     0.96306,     0.96305,     0.96317,     0.96367,     0.96399,\n",
       "            0.96491,     0.96487,     0.96484,      0.9648,     0.96478,     0.96477,     0.96476,     0.96475,     0.96474,     0.96474,     0.96473,     0.96472,     0.96569,     0.96584,     0.96681,     0.96757,      0.9678,     0.96852,     0.96849,     0.96847,     0.96864,     0.96921,     0.97039,\n",
       "            0.97037,     0.97035,     0.97059,     0.97093,     0.97127,     0.97129,     0.97127,     0.97125,     0.97124,     0.97122,      0.9712,     0.97118,     0.97116,     0.97112,     0.97209,     0.97243,     0.97278,     0.97302,       0.973,       0.973,     0.97299,     0.97299,     0.97298,\n",
       "            0.97298,     0.97297,     0.97296,     0.97291,     0.97289,     0.97287,     0.97308,     0.97343,     0.97378,     0.97386,     0.97398,     0.97419,      0.9744,     0.97461,     0.97481,     0.97575,     0.97585,     0.97584,      0.9768,     0.97786,     0.97785,     0.97782,      0.9778,\n",
       "            0.97779,     0.97778,     0.97777,     0.97777,     0.97777,     0.97776,     0.97776,     0.97904,     0.97981,     0.97979,     0.97978,     0.97976,     0.97974,     0.97971,      0.9797,     0.97969,     0.97968,     0.98072,     0.98072,     0.98071,      0.9807,     0.98069,     0.98206,\n",
       "             0.9826,     0.98382,     0.98381,     0.98381,      0.9838,     0.98379,     0.98377,     0.98375,     0.98374,     0.98374,     0.98374,     0.98373,     0.98373,     0.98372,     0.98372,     0.98373,     0.98428,     0.98488,     0.98596,     0.98691,     0.98691,      0.9869,     0.98689,\n",
       "            0.98689,     0.98698,     0.98735,     0.98772,     0.98796,     0.98795,     0.98792,     0.98791,     0.98788,     0.98786,     0.98785,     0.98784,     0.98784,     0.98783,     0.98781,      0.9878,      0.9878,      0.9878,     0.98779,     0.98818,     0.98875,     0.98889,     0.98888,\n",
       "            0.98888,      0.9898,     0.98997,     0.98995,     0.98994,     0.98993,     0.98993,     0.98993,     0.98992,     0.98992,      0.9899,      0.9899,     0.98989,     0.98988,     0.98987,     0.98987,     0.98987,     0.98986,     0.98985,     0.98985,     0.98985,     0.98985,     0.98984,\n",
       "            0.98984,     0.98983,     0.98983,     0.99091,     0.99093,     0.99093,     0.99093,     0.99093,     0.99092,     0.99092,     0.99092,     0.99092,     0.99129,     0.99187,     0.99203,     0.99202,     0.99202,     0.99202,     0.99202,     0.99201,     0.99199,     0.99246,     0.99313,\n",
       "            0.99312,     0.99311,      0.9931,      0.9931,     0.99309,     0.99308,     0.99307,     0.99306,     0.99304,     0.99301,     0.99301,     0.99315,     0.99374,     0.99416,     0.99416,     0.99415,     0.99415,     0.99414,     0.99414,     0.99413,     0.99412,     0.99411,     0.99411,\n",
       "            0.99411,      0.9941,      0.9941,     0.99409,     0.99409,     0.99408,     0.99408,     0.99408,     0.99407,     0.99407,     0.99407,     0.99524,     0.99524,     0.99524,     0.99524,     0.99524,     0.99524,     0.99524,     0.99524,     0.99524,     0.99523,     0.99523,     0.99521,\n",
       "            0.99521,      0.9952,      0.9952,     0.99519,     0.99519,     0.99519,     0.99518,     0.99517,     0.99517,     0.99517,     0.99516,     0.99515,     0.99514,     0.99514,     0.99514,     0.99513,     0.99513,     0.99513,     0.99512,     0.99512,     0.99511,     0.99511,     0.99511,\n",
       "            0.99511,      0.9951,     0.99509,     0.99509,     0.99509,     0.99509,     0.99509,     0.99509,     0.99507,     0.99506,     0.99505,     0.99505,     0.99505,     0.99502,     0.99502,     0.99501,     0.99499,     0.99498,     0.99497,     0.99497,     0.99497,     0.99496,     0.99496,\n",
       "            0.99493,     0.99492,     0.99492,     0.99492,     0.99491,     0.99491,     0.99491,     0.99491,      0.9949,     0.99489,     0.99486,     0.99486,     0.99486,     0.99486,     0.99486,     0.99486,     0.99485,     0.99485,     0.99484,     0.99484,     0.99484,     0.99483,     0.99483,\n",
       "            0.99482,     0.99482,     0.99478,     0.99475,     0.99474,     0.99473,     0.99603,     0.99603,     0.99602,     0.99602,     0.99601,     0.99601,       0.996,       0.996,     0.99598,     0.99598,     0.99598,     0.99597,     0.99596,     0.99595,     0.99593,     0.99593,     0.99593,\n",
       "            0.99592,     0.99592,     0.99591,     0.99591,     0.99588,     0.99588,     0.99588,     0.99587,     0.99587,     0.99584,     0.99584,     0.99582,     0.99581,     0.99581,      0.9958,     0.99579,     0.99578,     0.99578,     0.99577,     0.99577,     0.99575,     0.99572,      0.9957,\n",
       "             0.9957,     0.99568,     0.99566,     0.99566,     0.99565,     0.99564,     0.99562,     0.99562,     0.99559,     0.99558,     0.99557,     0.99557,     0.99556,     0.99553,     0.99553,     0.99551,     0.99548,     0.99548,     0.99547,     0.99543,      0.9954,     0.99539,     0.99539,\n",
       "            0.99536,     0.99533,     0.99531,     0.99531,     0.99529,     0.99526,     0.99524,     0.99523,     0.99521,      0.9952,     0.99516,     0.99515,     0.99511,     0.99508,     0.99506,     0.99501,       0.995,     0.99499,     0.99496,      0.9949,      0.9949,     0.99486,     0.99486,\n",
       "            0.99479,     0.99475,     0.99469,     0.99463,     0.99463,      0.9946,     0.99457,     0.99448,     0.99443,      0.9944,     0.99439,     0.99435,     0.99428,      0.9942,     0.99418,     0.99414,     0.99407,     0.99402,     0.99399,     0.99398,     0.99387,     0.99379,     0.99376,\n",
       "            0.99371,     0.99364,     0.99414,     0.99566,     0.99565,     0.99556,      0.9955,     0.99545,     0.99539,     0.99534,     0.99528,     0.99526,     0.99522,     0.99517,     0.99507,     0.99497,     0.99489,     0.99484,     0.99475,     0.99459,     0.99452,     0.99439,     0.99426,\n",
       "            0.99416,     0.99413,      0.9939,     0.99378,     0.99364,     0.99677,     0.99674,     0.99672,     0.99665,     0.99659,     0.99653,     0.99645,     0.99639,     0.99627,     0.99612,       0.996,     0.99594,     0.99589,      0.9958,     0.99562,     0.99552,     0.99528,     0.99511,\n",
       "            0.99497,     0.99485,     0.99474,     0.99465,     0.99448,      0.9942,      0.9941,     0.99394,     0.99375,     0.99354,     0.99339,     0.99326,     0.99264,     0.99228,      0.9922,     0.99189,     0.99136,     0.99086,     0.99076,     0.99006,     0.98961,     0.98948,     0.98831,\n",
       "            0.98776,     0.98766,     0.98726,      0.9857,     0.98517,     0.98303,     0.98239,           1,           1,           1,           1,           1,           1,           1,           1,           1,           1,           1,           1,           1,           1,           1,           1,\n",
       "                  1,           1,           1,           1,           1,           1,           1,           1,           1,           1,           1,           1,           1,           1,           1,           1,           1,           1,           1,           1,           1,           1,           1,\n",
       "                  1,           1,           1,           1,           1,           1,           1,           1,           1,           1,           1,           1,           1,           1,           1,           1,           1,           1,           1,           1,           1,           1,           1,\n",
       "                  1,           1,           1,           1,           1,           1,           1,           1,           1,           1,           1,           1,           1,           1,           1,           1,           1,           1,           1,           1,           1,           1,           1,\n",
       "                  1,           1,           1,           1,           1,           1,           1,           1,           1,           1,           1]]), 'Confidence', 'Precision'], [array([          0,    0.001001,    0.002002,    0.003003,    0.004004,    0.005005,    0.006006,    0.007007,    0.008008,    0.009009,     0.01001,    0.011011,    0.012012,    0.013013,    0.014014,    0.015015,    0.016016,    0.017017,    0.018018,    0.019019,     0.02002,    0.021021,    0.022022,    0.023023,\n",
       "          0.024024,    0.025025,    0.026026,    0.027027,    0.028028,    0.029029,     0.03003,    0.031031,    0.032032,    0.033033,    0.034034,    0.035035,    0.036036,    0.037037,    0.038038,    0.039039,     0.04004,    0.041041,    0.042042,    0.043043,    0.044044,    0.045045,    0.046046,    0.047047,\n",
       "          0.048048,    0.049049,     0.05005,    0.051051,    0.052052,    0.053053,    0.054054,    0.055055,    0.056056,    0.057057,    0.058058,    0.059059,     0.06006,    0.061061,    0.062062,    0.063063,    0.064064,    0.065065,    0.066066,    0.067067,    0.068068,    0.069069,     0.07007,    0.071071,\n",
       "          0.072072,    0.073073,    0.074074,    0.075075,    0.076076,    0.077077,    0.078078,    0.079079,     0.08008,    0.081081,    0.082082,    0.083083,    0.084084,    0.085085,    0.086086,    0.087087,    0.088088,    0.089089,     0.09009,    0.091091,    0.092092,    0.093093,    0.094094,    0.095095,\n",
       "          0.096096,    0.097097,    0.098098,    0.099099,      0.1001,      0.1011,      0.1021,      0.1031,      0.1041,     0.10511,     0.10611,     0.10711,     0.10811,     0.10911,     0.11011,     0.11111,     0.11211,     0.11311,     0.11411,     0.11512,     0.11612,     0.11712,     0.11812,     0.11912,\n",
       "           0.12012,     0.12112,     0.12212,     0.12312,     0.12412,     0.12513,     0.12613,     0.12713,     0.12813,     0.12913,     0.13013,     0.13113,     0.13213,     0.13313,     0.13413,     0.13514,     0.13614,     0.13714,     0.13814,     0.13914,     0.14014,     0.14114,     0.14214,     0.14314,\n",
       "           0.14414,     0.14515,     0.14615,     0.14715,     0.14815,     0.14915,     0.15015,     0.15115,     0.15215,     0.15315,     0.15415,     0.15516,     0.15616,     0.15716,     0.15816,     0.15916,     0.16016,     0.16116,     0.16216,     0.16316,     0.16416,     0.16517,     0.16617,     0.16717,\n",
       "           0.16817,     0.16917,     0.17017,     0.17117,     0.17217,     0.17317,     0.17417,     0.17518,     0.17618,     0.17718,     0.17818,     0.17918,     0.18018,     0.18118,     0.18218,     0.18318,     0.18418,     0.18519,     0.18619,     0.18719,     0.18819,     0.18919,     0.19019,     0.19119,\n",
       "           0.19219,     0.19319,     0.19419,      0.1952,      0.1962,      0.1972,      0.1982,      0.1992,      0.2002,      0.2012,      0.2022,      0.2032,      0.2042,     0.20521,     0.20621,     0.20721,     0.20821,     0.20921,     0.21021,     0.21121,     0.21221,     0.21321,     0.21421,     0.21522,\n",
       "           0.21622,     0.21722,     0.21822,     0.21922,     0.22022,     0.22122,     0.22222,     0.22322,     0.22422,     0.22523,     0.22623,     0.22723,     0.22823,     0.22923,     0.23023,     0.23123,     0.23223,     0.23323,     0.23423,     0.23524,     0.23624,     0.23724,     0.23824,     0.23924,\n",
       "           0.24024,     0.24124,     0.24224,     0.24324,     0.24424,     0.24525,     0.24625,     0.24725,     0.24825,     0.24925,     0.25025,     0.25125,     0.25225,     0.25325,     0.25425,     0.25526,     0.25626,     0.25726,     0.25826,     0.25926,     0.26026,     0.26126,     0.26226,     0.26326,\n",
       "           0.26426,     0.26527,     0.26627,     0.26727,     0.26827,     0.26927,     0.27027,     0.27127,     0.27227,     0.27327,     0.27427,     0.27528,     0.27628,     0.27728,     0.27828,     0.27928,     0.28028,     0.28128,     0.28228,     0.28328,     0.28428,     0.28529,     0.28629,     0.28729,\n",
       "           0.28829,     0.28929,     0.29029,     0.29129,     0.29229,     0.29329,     0.29429,      0.2953,      0.2963,      0.2973,      0.2983,      0.2993,      0.3003,      0.3013,      0.3023,      0.3033,      0.3043,     0.30531,     0.30631,     0.30731,     0.30831,     0.30931,     0.31031,     0.31131,\n",
       "           0.31231,     0.31331,     0.31431,     0.31532,     0.31632,     0.31732,     0.31832,     0.31932,     0.32032,     0.32132,     0.32232,     0.32332,     0.32432,     0.32533,     0.32633,     0.32733,     0.32833,     0.32933,     0.33033,     0.33133,     0.33233,     0.33333,     0.33433,     0.33534,\n",
       "           0.33634,     0.33734,     0.33834,     0.33934,     0.34034,     0.34134,     0.34234,     0.34334,     0.34434,     0.34535,     0.34635,     0.34735,     0.34835,     0.34935,     0.35035,     0.35135,     0.35235,     0.35335,     0.35435,     0.35536,     0.35636,     0.35736,     0.35836,     0.35936,\n",
       "           0.36036,     0.36136,     0.36236,     0.36336,     0.36436,     0.36537,     0.36637,     0.36737,     0.36837,     0.36937,     0.37037,     0.37137,     0.37237,     0.37337,     0.37437,     0.37538,     0.37638,     0.37738,     0.37838,     0.37938,     0.38038,     0.38138,     0.38238,     0.38338,\n",
       "           0.38438,     0.38539,     0.38639,     0.38739,     0.38839,     0.38939,     0.39039,     0.39139,     0.39239,     0.39339,     0.39439,      0.3954,      0.3964,      0.3974,      0.3984,      0.3994,      0.4004,      0.4014,      0.4024,      0.4034,      0.4044,     0.40541,     0.40641,     0.40741,\n",
       "           0.40841,     0.40941,     0.41041,     0.41141,     0.41241,     0.41341,     0.41441,     0.41542,     0.41642,     0.41742,     0.41842,     0.41942,     0.42042,     0.42142,     0.42242,     0.42342,     0.42442,     0.42543,     0.42643,     0.42743,     0.42843,     0.42943,     0.43043,     0.43143,\n",
       "           0.43243,     0.43343,     0.43443,     0.43544,     0.43644,     0.43744,     0.43844,     0.43944,     0.44044,     0.44144,     0.44244,     0.44344,     0.44444,     0.44545,     0.44645,     0.44745,     0.44845,     0.44945,     0.45045,     0.45145,     0.45245,     0.45345,     0.45445,     0.45546,\n",
       "           0.45646,     0.45746,     0.45846,     0.45946,     0.46046,     0.46146,     0.46246,     0.46346,     0.46446,     0.46547,     0.46647,     0.46747,     0.46847,     0.46947,     0.47047,     0.47147,     0.47247,     0.47347,     0.47447,     0.47548,     0.47648,     0.47748,     0.47848,     0.47948,\n",
       "           0.48048,     0.48148,     0.48248,     0.48348,     0.48448,     0.48549,     0.48649,     0.48749,     0.48849,     0.48949,     0.49049,     0.49149,     0.49249,     0.49349,     0.49449,      0.4955,      0.4965,      0.4975,      0.4985,      0.4995,      0.5005,      0.5015,      0.5025,      0.5035,\n",
       "            0.5045,     0.50551,     0.50651,     0.50751,     0.50851,     0.50951,     0.51051,     0.51151,     0.51251,     0.51351,     0.51451,     0.51552,     0.51652,     0.51752,     0.51852,     0.51952,     0.52052,     0.52152,     0.52252,     0.52352,     0.52452,     0.52553,     0.52653,     0.52753,\n",
       "           0.52853,     0.52953,     0.53053,     0.53153,     0.53253,     0.53353,     0.53453,     0.53554,     0.53654,     0.53754,     0.53854,     0.53954,     0.54054,     0.54154,     0.54254,     0.54354,     0.54454,     0.54555,     0.54655,     0.54755,     0.54855,     0.54955,     0.55055,     0.55155,\n",
       "           0.55255,     0.55355,     0.55455,     0.55556,     0.55656,     0.55756,     0.55856,     0.55956,     0.56056,     0.56156,     0.56256,     0.56356,     0.56456,     0.56557,     0.56657,     0.56757,     0.56857,     0.56957,     0.57057,     0.57157,     0.57257,     0.57357,     0.57457,     0.57558,\n",
       "           0.57658,     0.57758,     0.57858,     0.57958,     0.58058,     0.58158,     0.58258,     0.58358,     0.58458,     0.58559,     0.58659,     0.58759,     0.58859,     0.58959,     0.59059,     0.59159,     0.59259,     0.59359,     0.59459,      0.5956,      0.5966,      0.5976,      0.5986,      0.5996,\n",
       "            0.6006,      0.6016,      0.6026,      0.6036,      0.6046,     0.60561,     0.60661,     0.60761,     0.60861,     0.60961,     0.61061,     0.61161,     0.61261,     0.61361,     0.61461,     0.61562,     0.61662,     0.61762,     0.61862,     0.61962,     0.62062,     0.62162,     0.62262,     0.62362,\n",
       "           0.62462,     0.62563,     0.62663,     0.62763,     0.62863,     0.62963,     0.63063,     0.63163,     0.63263,     0.63363,     0.63463,     0.63564,     0.63664,     0.63764,     0.63864,     0.63964,     0.64064,     0.64164,     0.64264,     0.64364,     0.64464,     0.64565,     0.64665,     0.64765,\n",
       "           0.64865,     0.64965,     0.65065,     0.65165,     0.65265,     0.65365,     0.65465,     0.65566,     0.65666,     0.65766,     0.65866,     0.65966,     0.66066,     0.66166,     0.66266,     0.66366,     0.66466,     0.66567,     0.66667,     0.66767,     0.66867,     0.66967,     0.67067,     0.67167,\n",
       "           0.67267,     0.67367,     0.67467,     0.67568,     0.67668,     0.67768,     0.67868,     0.67968,     0.68068,     0.68168,     0.68268,     0.68368,     0.68468,     0.68569,     0.68669,     0.68769,     0.68869,     0.68969,     0.69069,     0.69169,     0.69269,     0.69369,     0.69469,      0.6957,\n",
       "            0.6967,      0.6977,      0.6987,      0.6997,      0.7007,      0.7017,      0.7027,      0.7037,      0.7047,     0.70571,     0.70671,     0.70771,     0.70871,     0.70971,     0.71071,     0.71171,     0.71271,     0.71371,     0.71471,     0.71572,     0.71672,     0.71772,     0.71872,     0.71972,\n",
       "           0.72072,     0.72172,     0.72272,     0.72372,     0.72472,     0.72573,     0.72673,     0.72773,     0.72873,     0.72973,     0.73073,     0.73173,     0.73273,     0.73373,     0.73473,     0.73574,     0.73674,     0.73774,     0.73874,     0.73974,     0.74074,     0.74174,     0.74274,     0.74374,\n",
       "           0.74474,     0.74575,     0.74675,     0.74775,     0.74875,     0.74975,     0.75075,     0.75175,     0.75275,     0.75375,     0.75475,     0.75576,     0.75676,     0.75776,     0.75876,     0.75976,     0.76076,     0.76176,     0.76276,     0.76376,     0.76476,     0.76577,     0.76677,     0.76777,\n",
       "           0.76877,     0.76977,     0.77077,     0.77177,     0.77277,     0.77377,     0.77477,     0.77578,     0.77678,     0.77778,     0.77878,     0.77978,     0.78078,     0.78178,     0.78278,     0.78378,     0.78478,     0.78579,     0.78679,     0.78779,     0.78879,     0.78979,     0.79079,     0.79179,\n",
       "           0.79279,     0.79379,     0.79479,      0.7958,      0.7968,      0.7978,      0.7988,      0.7998,      0.8008,      0.8018,      0.8028,      0.8038,      0.8048,     0.80581,     0.80681,     0.80781,     0.80881,     0.80981,     0.81081,     0.81181,     0.81281,     0.81381,     0.81481,     0.81582,\n",
       "           0.81682,     0.81782,     0.81882,     0.81982,     0.82082,     0.82182,     0.82282,     0.82382,     0.82482,     0.82583,     0.82683,     0.82783,     0.82883,     0.82983,     0.83083,     0.83183,     0.83283,     0.83383,     0.83483,     0.83584,     0.83684,     0.83784,     0.83884,     0.83984,\n",
       "           0.84084,     0.84184,     0.84284,     0.84384,     0.84484,     0.84585,     0.84685,     0.84785,     0.84885,     0.84985,     0.85085,     0.85185,     0.85285,     0.85385,     0.85485,     0.85586,     0.85686,     0.85786,     0.85886,     0.85986,     0.86086,     0.86186,     0.86286,     0.86386,\n",
       "           0.86486,     0.86587,     0.86687,     0.86787,     0.86887,     0.86987,     0.87087,     0.87187,     0.87287,     0.87387,     0.87487,     0.87588,     0.87688,     0.87788,     0.87888,     0.87988,     0.88088,     0.88188,     0.88288,     0.88388,     0.88488,     0.88589,     0.88689,     0.88789,\n",
       "           0.88889,     0.88989,     0.89089,     0.89189,     0.89289,     0.89389,     0.89489,      0.8959,      0.8969,      0.8979,      0.8989,      0.8999,      0.9009,      0.9019,      0.9029,      0.9039,      0.9049,     0.90591,     0.90691,     0.90791,     0.90891,     0.90991,     0.91091,     0.91191,\n",
       "           0.91291,     0.91391,     0.91491,     0.91592,     0.91692,     0.91792,     0.91892,     0.91992,     0.92092,     0.92192,     0.92292,     0.92392,     0.92492,     0.92593,     0.92693,     0.92793,     0.92893,     0.92993,     0.93093,     0.93193,     0.93293,     0.93393,     0.93493,     0.93594,\n",
       "           0.93694,     0.93794,     0.93894,     0.93994,     0.94094,     0.94194,     0.94294,     0.94394,     0.94494,     0.94595,     0.94695,     0.94795,     0.94895,     0.94995,     0.95095,     0.95195,     0.95295,     0.95395,     0.95495,     0.95596,     0.95696,     0.95796,     0.95896,     0.95996,\n",
       "           0.96096,     0.96196,     0.96296,     0.96396,     0.96496,     0.96597,     0.96697,     0.96797,     0.96897,     0.96997,     0.97097,     0.97197,     0.97297,     0.97397,     0.97497,     0.97598,     0.97698,     0.97798,     0.97898,     0.97998,     0.98098,     0.98198,     0.98298,     0.98398,\n",
       "           0.98498,     0.98599,     0.98699,     0.98799,     0.98899,     0.98999,     0.99099,     0.99199,     0.99299,     0.99399,     0.99499,       0.996,       0.997,       0.998,       0.999,           1]), array([[    0.99616,     0.99616,     0.99616,     0.99616,      0.9952,      0.9952,      0.9952,      0.9952,      0.9952,      0.9952,      0.9952,      0.9952,      0.9952,      0.9952,      0.9952,      0.9952,      0.9952,      0.9952,      0.9952,     0.99424,     0.99424,     0.99328,     0.99328,\n",
       "            0.99328,     0.99328,     0.99328,     0.99328,     0.99232,     0.99232,     0.99135,     0.99135,     0.99135,     0.99135,     0.99135,     0.99135,     0.99135,     0.99135,     0.99135,     0.99135,     0.99135,     0.99135,     0.99135,     0.99135,     0.99135,     0.99135,     0.99135,\n",
       "            0.99039,     0.98903,     0.98847,     0.98847,     0.98847,     0.98847,     0.98847,     0.98847,     0.98847,     0.98847,     0.98847,     0.98847,     0.98847,     0.98847,     0.98847,     0.98847,     0.98847,     0.98847,     0.98847,     0.98847,     0.98847,     0.98847,     0.98847,\n",
       "            0.98751,     0.98751,     0.98751,     0.98751,     0.98751,     0.98751,     0.98751,     0.98751,     0.98751,     0.98751,     0.98751,     0.98751,     0.98751,     0.98751,     0.98751,     0.98751,     0.98751,     0.98751,     0.98751,     0.98751,     0.98751,     0.98655,     0.98655,\n",
       "            0.98655,     0.98655,     0.98655,     0.98655,     0.98655,     0.98655,     0.98655,     0.98655,     0.98655,     0.98655,     0.98655,     0.98655,     0.98655,     0.98655,     0.98655,     0.98655,     0.98655,     0.98655,     0.98655,     0.98655,     0.98655,     0.98655,     0.98655,\n",
       "            0.98655,     0.98655,     0.98655,     0.98655,     0.98655,     0.98655,     0.98655,     0.98655,     0.98655,     0.98655,     0.98655,     0.98655,     0.98655,     0.98655,     0.98655,     0.98655,     0.98655,     0.98655,     0.98655,     0.98655,     0.98655,     0.98559,     0.98559,\n",
       "            0.98463,     0.98463,     0.98463,     0.98463,     0.98463,     0.98463,     0.98463,     0.98463,     0.98463,     0.98367,     0.98367,     0.98367,     0.98367,     0.98367,     0.98367,     0.98367,     0.98367,     0.98367,     0.98367,     0.98367,     0.98367,     0.98367,     0.98367,\n",
       "            0.98367,     0.98367,     0.98367,     0.98367,     0.98367,     0.98367,     0.98367,     0.98367,     0.98367,     0.98367,     0.98328,     0.98271,     0.98271,     0.98216,     0.98175,     0.98175,     0.98175,     0.98175,     0.98175,     0.98175,     0.98175,     0.98175,     0.98175,\n",
       "            0.98175,     0.98175,     0.98153,     0.98079,     0.98079,     0.98043,     0.97983,     0.97983,     0.97983,     0.97983,     0.97983,     0.97983,     0.97978,     0.97887,     0.97887,     0.97887,     0.97819,     0.97791,     0.97791,     0.97791,     0.97791,     0.97723,     0.97695,\n",
       "            0.97695,     0.97695,     0.97695,     0.97695,     0.97683,     0.97652,     0.97622,     0.97598,     0.97598,     0.97502,     0.97476,     0.97426,     0.97406,     0.97406,     0.97406,     0.97406,     0.97406,     0.97406,     0.97406,     0.97406,     0.97376,      0.9731,     0.97285,\n",
       "            0.97214,     0.97214,     0.97118,     0.97118,     0.97118,     0.97118,     0.97105,      0.9707,     0.97036,     0.96944,     0.96864,      0.9683,      0.9683,      0.9683,      0.9683,     0.96734,     0.96734,     0.96734,     0.96734,     0.96656,     0.96638,     0.96638,     0.96638,\n",
       "            0.96638,     0.96638,     0.96638,     0.96542,     0.96487,     0.96446,     0.96446,     0.96446,     0.96446,     0.96446,     0.96446,     0.96446,     0.96446,     0.96446,     0.96446,     0.96446,     0.96446,     0.96446,      0.9635,      0.9635,      0.9635,      0.9635,     0.96333,\n",
       "            0.96254,     0.96254,     0.96254,     0.96158,     0.96158,     0.96158,     0.96158,     0.96115,     0.96061,     0.96061,     0.96061,     0.96061,     0.96061,     0.96061,     0.96061,     0.96031,     0.96001,      0.9597,     0.95869,     0.95869,     0.95869,     0.95869,     0.95869,\n",
       "            0.95677,     0.95677,     0.95677,     0.95677,     0.95677,     0.95677,     0.95677,     0.95677,     0.95677,     0.95677,     0.95677,     0.95677,     0.95677,     0.95677,     0.95677,     0.95677,     0.95656,       0.956,     0.95494,     0.95393,     0.95335,     0.95279,     0.95223,\n",
       "            0.95197,     0.95197,     0.95197,     0.95197,     0.95197,     0.95197,     0.95197,     0.95197,     0.95101,     0.95101,     0.95101,     0.95101,     0.95101,     0.95101,     0.95101,     0.95075,     0.95047,     0.95019,     0.94977,     0.94921,     0.94909,     0.94909,     0.94909,\n",
       "            0.94909,     0.94909,     0.94909,     0.94813,     0.94813,     0.94717,     0.94717,     0.94717,     0.94717,     0.94717,     0.94717,     0.94557,     0.94459,     0.94242,     0.94236,      0.9421,     0.94184,     0.94158,     0.94001,     0.93919,      0.9387,      0.9372,     0.93664,\n",
       "             0.9366,      0.9366,      0.9366,      0.9366,      0.9363,     0.93468,     0.93468,     0.93468,     0.93468,     0.93468,     0.93468,     0.93468,     0.93468,     0.93468,     0.93468,     0.93468,     0.93372,     0.93362,     0.93336,     0.93309,     0.93283,      0.9325,     0.93214,\n",
       "             0.9318,      0.9318,     0.93171,     0.93078,     0.93021,     0.92988,     0.92988,     0.92988,     0.92988,     0.92988,     0.92969,     0.92944,     0.92919,     0.92895,     0.92806,     0.92795,     0.92778,     0.92693,      0.9266,     0.92627,     0.92603,     0.92603,     0.92571,\n",
       "            0.92461,      0.9235,     0.92252,     0.92153,       0.921,     0.92067,     0.92035,     0.92014,     0.91997,      0.9198,     0.91962,     0.91945,     0.91915,     0.91835,     0.91739,     0.91716,     0.91643,     0.91615,     0.91532,     0.91482,     0.91354,     0.91354,     0.91291,\n",
       "            0.91225,     0.91176,     0.91162,     0.91162,     0.91162,     0.90988,      0.9093,     0.90881,     0.90832,     0.90782,     0.90688,     0.90636,     0.90587,     0.90394,     0.90298,     0.90298,     0.90298,     0.90091,     0.90004,      0.8999,     0.89976,     0.89962,     0.89948,\n",
       "            0.89934,      0.8992,      0.8986,     0.89693,     0.89644,     0.89564,     0.89529,     0.89529,     0.89529,     0.89459,     0.89337,     0.89337,     0.89337,     0.89337,     0.89337,     0.89337,     0.89293,     0.89244,     0.89145,     0.89145,     0.89048,     0.88949,     0.88854,\n",
       "            0.88805,     0.88759,     0.88743,     0.88726,      0.8871,     0.88693,     0.88677,     0.88569,     0.88555,     0.88506,      0.8844,     0.88342,     0.88243,     0.88145,     0.88074,     0.88042,     0.88009,     0.87976,     0.87943,      0.8791,     0.87868,     0.87819,     0.87704,\n",
       "            0.87704,     0.87638,     0.87585,     0.87552,      0.8752,     0.87436,     0.87338,     0.87239,     0.87203,     0.87178,     0.87154,     0.87129,     0.87105,      0.8708,     0.87055,     0.87032,     0.87032,     0.87032,     0.86936,     0.86929,      0.8688,     0.86834,     0.86801,\n",
       "            0.86768,     0.86744,     0.86744,     0.86744,     0.86711,     0.86613,     0.86418,      0.8632,     0.86125,     0.85953,     0.85904,     0.85863,      0.8583,     0.85797,      0.8563,     0.85576,     0.85551,     0.85527,     0.85502,     0.85495,     0.85495,      0.8547,     0.85437,\n",
       "            0.85405,     0.85399,     0.85316,     0.85164,     0.85115,     0.84998,      0.8498,     0.84962,     0.84944,     0.84926,     0.84768,     0.84698,     0.84649,     0.84569,     0.84513,      0.8448,     0.84447,     0.84403,     0.84353,     0.84323,     0.84298,     0.84274,     0.84249,\n",
       "            0.84217,     0.84185,     0.84152,      0.8415,     0.84006,     0.83958,     0.83942,     0.83927,     0.83912,     0.83897,     0.83882,     0.83867,      0.8367,      0.8367,     0.83655,     0.83636,     0.83616,     0.83596,     0.83577,      0.8349,     0.83324,     0.83285,     0.83264,\n",
       "            0.83215,     0.83046,     0.82972,     0.82923,     0.82778,     0.82729,     0.82554,     0.82455,     0.82261,     0.81931,     0.81882,     0.81844,     0.81844,     0.81816,     0.81718,     0.81636,     0.81587,     0.81531,     0.81466,      0.8137,     0.81271,     0.81124,     0.81075,\n",
       "            0.81026,     0.80974,     0.80878,     0.80812,     0.80757,     0.80708,     0.80658,     0.80609,     0.80575,     0.80547,     0.80519,     0.80399,     0.80384,     0.80368,     0.80353,     0.80338,     0.80323,     0.80308,     0.80284,     0.80259,     0.80234,     0.80109,     0.79821,\n",
       "            0.79756,      0.7962,     0.79595,      0.7957,     0.79546,     0.79491,     0.79321,     0.79237,     0.79187,     0.79089,     0.78975,     0.78781,     0.78682,     0.78649,      0.7862,     0.78592,     0.78468,      0.7844,     0.78412,     0.78287,     0.78254,     0.78222,     0.78188,\n",
       "            0.78148,     0.78109,     0.77894,     0.77878,     0.77861,     0.77845,     0.77828,     0.77812,     0.77628,     0.77463,     0.77308,     0.77259,     0.77186,     0.76848,     0.76749,     0.76555,     0.76255,     0.76117,      0.7605,     0.76001,      0.7594,     0.75875,     0.75809,\n",
       "            0.75371,     0.75322,      0.7526,     0.75207,     0.75179,      0.7515,     0.75122,      0.7506,     0.74906,     0.74856,     0.74438,     0.74418,     0.74398,     0.74379,     0.74359,      0.7431,     0.74245,     0.74179,     0.74125,     0.74076,     0.74014,     0.73949,     0.73883,\n",
       "            0.73831,     0.73782,     0.73238,     0.72788,     0.72722,      0.7256,     0.72311,     0.72261,     0.72107,     0.72042,     0.71976,      0.7191,     0.71845,     0.71779,     0.71425,     0.71363,     0.71314,     0.71164,     0.71099,     0.70937,     0.70594,     0.70561,     0.70529,\n",
       "            0.70386,     0.70321,     0.70159,     0.70093,     0.69739,     0.69674,     0.69617,     0.69568,     0.69413,     0.69059,     0.68993,     0.68736,     0.68478,     0.68412,      0.6825,     0.68089,     0.68023,     0.67957,     0.67892,     0.67826,     0.67443,     0.67087,     0.66733,\n",
       "            0.66667,     0.66409,     0.66152,     0.66086,      0.6602,     0.65859,     0.65505,     0.65439,     0.65085,     0.64917,     0.64826,      0.6476,     0.64599,     0.64245,     0.64179,     0.63825,     0.63471,     0.63406,      0.6331,     0.62762,     0.62408,     0.62247,     0.62181,\n",
       "            0.61809,     0.61441,     0.61184,     0.61118,     0.60935,     0.60474,     0.60216,     0.60151,     0.59868,     0.59699,     0.59249,     0.59184,      0.5861,     0.58252,     0.58077,     0.57416,     0.57351,     0.57189,     0.56915,     0.56257,     0.56189,     0.55806,      0.5574,\n",
       "            0.54981,     0.54616,     0.53968,     0.53396,      0.5333,     0.53048,     0.52783,     0.51938,     0.51456,     0.51177,     0.51111,     0.50728,     0.50084,     0.49426,     0.49232,     0.48862,     0.48315,     0.47928,      0.4764,     0.47575,      0.4672,     0.46141,     0.45873,\n",
       "            0.45512,     0.45029,     0.44476,     0.44073,     0.44008,      0.4305,     0.42472,     0.41989,     0.41506,     0.41054,     0.40493,     0.40298,     0.40008,     0.39621,     0.38754,     0.37983,     0.37404,     0.37038,     0.36391,     0.35332,     0.34849,     0.34078,     0.33307,\n",
       "            0.32729,     0.32534,     0.31283,     0.30704,     0.30029,     0.29643,     0.29352,     0.29157,     0.28579,     0.28048,     0.27565,     0.26986,     0.26504,     0.25637,     0.24674,     0.23903,     0.23593,     0.23274,     0.22791,     0.21828,     0.21345,     0.20238,     0.19563,\n",
       "            0.18984,      0.1856,     0.18163,     0.17873,     0.17294,     0.16475,     0.16184,      0.1575,     0.15267,     0.14775,     0.14446,     0.14155,     0.12952,     0.12354,     0.12226,     0.11744,     0.11021,     0.10414,     0.10296,    0.095728,    0.091504,    0.090396,    0.081246,\n",
       "           0.077523,    0.076867,     0.07445,    0.066239,    0.063835,    0.055646,    0.053607,    0.048913,    0.048256,    0.046424,    0.042848,    0.040612,    0.036027,    0.033359,    0.031557,    0.031065,    0.029111,     0.02426,    0.023153,    0.022168,    0.020273,    0.018589,      0.0171,\n",
       "           0.016706,    0.015278,    0.014042,     0.01326,    0.011494,    0.011212,    0.010931,     0.01065,    0.010289,    0.009895,   0.0090811,   0.0071118,   0.0051425,   0.0031732,    0.002714,   0.0025171,   0.0023202,   0.0021233,   0.0019263,  0.00096206,           0,           0,           0,\n",
       "                  0,           0,           0,           0,           0,           0,           0,           0,           0,           0,           0,           0,           0,           0,           0,           0,           0,           0,           0,           0,           0,           0,           0,\n",
       "                  0,           0,           0,           0,           0,           0,           0,           0,           0,           0,           0,           0,           0,           0,           0,           0,           0,           0,           0,           0,           0,           0,           0,\n",
       "                  0,           0,           0,           0,           0,           0,           0,           0,           0,           0,           0]]), 'Confidence', 'Recall']]\n",
       "fitness: 0.6479506143443085\n",
       "keys: ['metrics/precision(B)', 'metrics/recall(B)', 'metrics/mAP50(B)', 'metrics/mAP50-95(B)']\n",
       "maps: array([    0.61073])\n",
       "names: {0: 'BibitNila'}\n",
       "plot: True\n",
       "results_dict: {'metrics/precision(B)': 0.9485783983959476, 'metrics/recall(B)': 0.9391887084010043, 'metrics/mAP50(B)': 0.9829538554132073, 'metrics/mAP50-95(B)': 0.6107280320033196, 'fitness': 0.6479506143443085}\n",
       "save_dir: PosixPath('runs/train/exp12')\n",
       "speed: {'preprocess': 0.283352533976237, 'inference': 4.038500785827637, 'loss': 0.00022252400716145834, 'postprocess': 0.2847433090209961}\n",
       "task: 'detect'"
      ]
     },
     "execution_count": 4,
     "metadata": {},
     "output_type": "execute_result"
    }
   ],
   "source": [
    "model.train(data=\"Nila-Counting-2/data.yaml\", epochs=50, imgsz=640, project=\"runs/train\", name=\"exp1\")\n"
   ]
  },
  {
   "cell_type": "code",
   "execution_count": null,
   "metadata": {},
   "outputs": [],
   "source": [
    "pip install --upgrade torch torchvision torchaudio\n"
   ]
  },
  {
   "cell_type": "code",
   "execution_count": null,
   "metadata": {},
   "outputs": [],
   "source": [
    "pip install -U ultralytics"
   ]
  },
  {
   "cell_type": "code",
   "execution_count": null,
   "metadata": {},
   "outputs": [],
   "source": [
    "!nvidia-smi --query-gpu=temperature.gpu --format=csv\n"
   ]
  },
  {
   "cell_type": "code",
   "execution_count": null,
   "metadata": {},
   "outputs": [],
   "source": [
    "results = model(\"image.jpg\")"
   ]
  },
  {
   "cell_type": "code",
   "execution_count": null,
   "metadata": {},
   "outputs": [],
   "source": [
    "results[0].show()"
   ]
  }
 ],
 "metadata": {
  "kernelspec": {
   "display_name": "Python 3",
   "language": "python",
   "name": "python3"
  },
  "language_info": {
   "codemirror_mode": {
    "name": "ipython",
    "version": 3
   },
   "file_extension": ".py",
   "mimetype": "text/x-python",
   "name": "python",
   "nbconvert_exporter": "python",
   "pygments_lexer": "ipython3",
   "version": "3.10.12"
  }
 },
 "nbformat": 4,
 "nbformat_minor": 2
}
