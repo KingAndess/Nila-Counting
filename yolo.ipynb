{
 "cells": [
  {
   "cell_type": "code",
   "execution_count": 1,
   "metadata": {},
   "outputs": [
    {
     "name": "stdout",
     "output_type": "stream",
     "text": [
      "Defaulting to user installation because normal site-packages is not writeable\n",
      "Requirement already satisfied: roboflow in /home/andes/.local/lib/python3.10/site-packages (1.1.44)\n",
      "Requirement already satisfied: certifi in /home/andes/.local/lib/python3.10/site-packages (from roboflow) (2024.7.4)\n",
      "Requirement already satisfied: idna==3.7 in /home/andes/.local/lib/python3.10/site-packages (from roboflow) (3.7)\n",
      "Requirement already satisfied: cycler in /home/andes/.local/lib/python3.10/site-packages (from roboflow) (0.12.1)\n",
      "Requirement already satisfied: kiwisolver>=1.3.1 in /home/andes/.local/lib/python3.10/site-packages (from roboflow) (1.4.5)\n",
      "Requirement already satisfied: matplotlib in /home/andes/.local/lib/python3.10/site-packages (from roboflow) (3.9.2)\n",
      "Requirement already satisfied: numpy>=1.18.5 in /home/andes/.local/lib/python3.10/site-packages (from roboflow) (1.26.4)\n",
      "Requirement already satisfied: opencv-python-headless==4.10.0.84 in /home/andes/.local/lib/python3.10/site-packages (from roboflow) (4.10.0.84)\n",
      "Requirement already satisfied: Pillow>=7.1.2 in /home/andes/.local/lib/python3.10/site-packages (from roboflow) (10.4.0)\n",
      "Requirement already satisfied: python-dateutil in /home/andes/.local/lib/python3.10/site-packages (from roboflow) (2.9.0.post0)\n",
      "Requirement already satisfied: python-dotenv in /home/andes/.local/lib/python3.10/site-packages (from roboflow) (1.0.1)\n",
      "Requirement already satisfied: requests in /home/andes/.local/lib/python3.10/site-packages (from roboflow) (2.32.3)\n",
      "Requirement already satisfied: six in /usr/lib/python3/dist-packages (from roboflow) (1.16.0)\n",
      "Requirement already satisfied: urllib3>=1.26.6 in /home/andes/.local/lib/python3.10/site-packages (from roboflow) (2.2.2)\n",
      "Requirement already satisfied: tqdm>=4.41.0 in /home/andes/.local/lib/python3.10/site-packages (from roboflow) (4.66.5)\n",
      "Requirement already satisfied: PyYAML>=5.3.1 in /usr/lib/python3/dist-packages (from roboflow) (5.4.1)\n",
      "Requirement already satisfied: requests-toolbelt in /home/andes/.local/lib/python3.10/site-packages (from roboflow) (1.0.0)\n",
      "Requirement already satisfied: filetype in /home/andes/.local/lib/python3.10/site-packages (from roboflow) (1.2.0)\n",
      "Requirement already satisfied: contourpy>=1.0.1 in /home/andes/.local/lib/python3.10/site-packages (from matplotlib->roboflow) (1.2.1)\n",
      "Requirement already satisfied: fonttools>=4.22.0 in /home/andes/.local/lib/python3.10/site-packages (from matplotlib->roboflow) (4.53.1)\n",
      "Requirement already satisfied: packaging>=20.0 in /home/andes/.local/lib/python3.10/site-packages (from matplotlib->roboflow) (24.1)\n",
      "Requirement already satisfied: pyparsing>=2.3.1 in /usr/lib/python3/dist-packages (from matplotlib->roboflow) (2.4.7)\n",
      "Requirement already satisfied: charset-normalizer<4,>=2 in /home/andes/.local/lib/python3.10/site-packages (from requests->roboflow) (3.3.2)\n",
      "Note: you may need to restart the kernel to use updated packages.\n",
      "loading Roboflow workspace...\n",
      "loading Roboflow project...\n",
      "Dependency ultralytics==8.0.196 is required but found version=8.2.101, to fix: `pip install ultralytics==8.0.196`\n"
     ]
    }
   ],
   "source": [
    "%pip install roboflow\n",
    "\n",
    "from roboflow import Roboflow\n",
    "rf = Roboflow(api_key=\"RH53XuZxw2ucgq4eyP02\")\n",
    "project = rf.workspace(\"kingandes\").project(\"nila-counting\")\n",
    "version = project.version(2)\n",
    "dataset = version.download(\"yolov8\")"
   ]
  },
  {
   "cell_type": "code",
   "execution_count": 2,
   "metadata": {},
   "outputs": [],
   "source": [
    "from ultralytics import YOLO"
   ]
  },
  {
   "cell_type": "code",
   "execution_count": 3,
   "metadata": {},
   "outputs": [],
   "source": [
    "model = YOLO(model=\"yolov10n.pt\")"
   ]
  },
  {
   "cell_type": "code",
   "execution_count": 4,
   "metadata": {},
   "outputs": [
    {
     "name": "stdout",
     "output_type": "stream",
     "text": [
      "New https://pypi.org/project/ultralytics/8.3.4 available 😃 Update with 'pip install -U ultralytics'\n",
      "Ultralytics YOLOv8.2.101 🚀 Python-3.10.12 torch-2.4.1+cu121 CUDA:0 (NVIDIA GeForce RTX 3050 Laptop GPU, 4096MiB)\n",
      "\u001b[34m\u001b[1mengine/trainer: \u001b[0mtask=detect, mode=train, model=yolov10n.pt, data=Nila-Counting-2/data.yaml, epochs=100, time=None, patience=100, batch=8, imgsz=640, save=True, save_period=-1, cache=False, device=None, workers=8, project=runs/train, name=E100B8, exist_ok=False, pretrained=True, optimizer=auto, verbose=True, seed=0, deterministic=True, single_cls=False, rect=False, cos_lr=False, close_mosaic=10, resume=False, amp=True, fraction=1.0, profile=False, freeze=None, multi_scale=False, overlap_mask=True, mask_ratio=4, dropout=0.0, val=True, split=val, save_json=False, save_hybrid=False, conf=None, iou=0.7, max_det=300, half=False, dnn=False, plots=True, source=None, vid_stride=1, stream_buffer=False, visualize=False, augment=False, agnostic_nms=False, classes=None, retina_masks=False, embed=None, show=False, save_frames=False, save_txt=False, save_conf=False, save_crop=False, show_labels=True, show_conf=True, show_boxes=True, line_width=None, format=torchscript, keras=False, optimize=False, int8=False, dynamic=False, simplify=True, opset=None, workspace=4, nms=False, lr0=0.01, lrf=0.01, momentum=0.937, weight_decay=0.0005, warmup_epochs=3.0, warmup_momentum=0.8, warmup_bias_lr=0.1, box=7.5, cls=0.5, dfl=1.5, pose=12.0, kobj=1.0, label_smoothing=0.0, nbs=64, hsv_h=0.015, hsv_s=0.7, hsv_v=0.4, degrees=0.0, translate=0.1, scale=0.5, shear=0.0, perspective=0.0, flipud=0.0, fliplr=0.5, bgr=0.0, mosaic=1.0, mixup=0.0, copy_paste=0.0, auto_augment=randaugment, erasing=0.4, crop_fraction=1.0, cfg=None, tracker=botsort.yaml, save_dir=runs/train/E100B8\n",
      "Overriding model.yaml nc=80 with nc=1\n",
      "\n",
      "                   from  n    params  module                                       arguments                     \n",
      "  0                  -1  1       464  ultralytics.nn.modules.conv.Conv             [3, 16, 3, 2]                 \n",
      "  1                  -1  1      4672  ultralytics.nn.modules.conv.Conv             [16, 32, 3, 2]                \n",
      "  2                  -1  1      7360  ultralytics.nn.modules.block.C2f             [32, 32, 1, True]             \n",
      "  3                  -1  1     18560  ultralytics.nn.modules.conv.Conv             [32, 64, 3, 2]                \n",
      "  4                  -1  2     49664  ultralytics.nn.modules.block.C2f             [64, 64, 2, True]             \n",
      "  5                  -1  1      9856  ultralytics.nn.modules.block.SCDown          [64, 128, 3, 2]               \n",
      "  6                  -1  2    197632  ultralytics.nn.modules.block.C2f             [128, 128, 2, True]           \n",
      "  7                  -1  1     36096  ultralytics.nn.modules.block.SCDown          [128, 256, 3, 2]              \n",
      "  8                  -1  1    460288  ultralytics.nn.modules.block.C2f             [256, 256, 1, True]           \n",
      "  9                  -1  1    164608  ultralytics.nn.modules.block.SPPF            [256, 256, 5]                 \n",
      " 10                  -1  1    249728  ultralytics.nn.modules.block.PSA             [256, 256]                    \n",
      " 11                  -1  1         0  torch.nn.modules.upsampling.Upsample         [None, 2, 'nearest']          \n",
      " 12             [-1, 6]  1         0  ultralytics.nn.modules.conv.Concat           [1]                           \n",
      " 13                  -1  1    148224  ultralytics.nn.modules.block.C2f             [384, 128, 1]                 \n",
      " 14                  -1  1         0  torch.nn.modules.upsampling.Upsample         [None, 2, 'nearest']          \n",
      " 15             [-1, 4]  1         0  ultralytics.nn.modules.conv.Concat           [1]                           \n",
      " 16                  -1  1     37248  ultralytics.nn.modules.block.C2f             [192, 64, 1]                  \n",
      " 17                  -1  1     36992  ultralytics.nn.modules.conv.Conv             [64, 64, 3, 2]                \n",
      " 18            [-1, 13]  1         0  ultralytics.nn.modules.conv.Concat           [1]                           \n",
      " 19                  -1  1    123648  ultralytics.nn.modules.block.C2f             [192, 128, 1]                 \n",
      " 20                  -1  1     18048  ultralytics.nn.modules.block.SCDown          [128, 128, 3, 2]              \n",
      " 21            [-1, 10]  1         0  ultralytics.nn.modules.conv.Concat           [1]                           \n",
      " 22                  -1  1    282624  ultralytics.nn.modules.block.C2fCIB          [384, 256, 1, True, True]     \n",
      " 23        [16, 19, 22]  1    861718  ultralytics.nn.modules.head.v10Detect        [1, [64, 128, 256]]           \n",
      "YOLOv10n summary: 385 layers, 2,707,430 parameters, 2,707,414 gradients, 8.4 GFLOPs\n",
      "\n",
      "Transferred 493/595 items from pretrained weights\n",
      "Freezing layer 'model.23.dfl.conv.weight'\n",
      "\u001b[34m\u001b[1mAMP: \u001b[0mrunning Automatic Mixed Precision (AMP) checks with YOLOv8n...\n",
      "\u001b[34m\u001b[1mAMP: \u001b[0mchecks passed ✅\n"
     ]
    },
    {
     "name": "stderr",
     "output_type": "stream",
     "text": [
      "\u001b[34m\u001b[1mtrain: \u001b[0mScanning /home/andes/skripsi/Nila-Counting/Nila-Counting-2/train/labels.cache... 497 images, 0 backgrounds, 0 corrupt: 100%|██████████| 497/497 [00:00<?, ?it/s]\n",
      "\u001b[34m\u001b[1mval: \u001b[0mScanning /home/andes/skripsi/Nila-Counting/Nila-Counting-2/valid/labels.cache... 30 images, 0 backgrounds, 0 corrupt: 100%|██████████| 30/30 [00:00<?, ?it/s]\n"
     ]
    },
    {
     "name": "stdout",
     "output_type": "stream",
     "text": [
      "Plotting labels to runs/train/E100B8/labels.jpg... \n",
      "\u001b[34m\u001b[1moptimizer:\u001b[0m 'optimizer=auto' found, ignoring 'lr0=0.01' and 'momentum=0.937' and determining best 'optimizer', 'lr0' and 'momentum' automatically... \n",
      "\u001b[34m\u001b[1moptimizer:\u001b[0m AdamW(lr=0.002, momentum=0.9) with parameter groups 95 weight(decay=0.0), 108 weight(decay=0.0005), 107 bias(decay=0.0)\n",
      "Image sizes 640 train, 640 val\n",
      "Using 8 dataloader workers\n",
      "Logging results to \u001b[1mruns/train/E100B8\u001b[0m\n",
      "Starting training for 100 epochs...\n",
      "\n",
      "      Epoch    GPU_mem   box_loss   cls_loss   dfl_loss  Instances       Size\n"
     ]
    },
    {
     "name": "stderr",
     "output_type": "stream",
     "text": [
      "      1/100      3.76G      3.495      4.652      2.359         58        640: 100%|██████████| 63/63 [00:17<00:00,  3.50it/s]\n",
      "                 Class     Images  Instances      Box(P          R      mAP50  mAP50-95): 100%|██████████| 2/2 [00:00<00:00,  3.99it/s]"
     ]
    },
    {
     "name": "stdout",
     "output_type": "stream",
     "text": [
      "                   all         30       1041     0.0582      0.503      0.321      0.192\n"
     ]
    },
    {
     "name": "stderr",
     "output_type": "stream",
     "text": [
      "\n"
     ]
    },
    {
     "name": "stdout",
     "output_type": "stream",
     "text": [
      "\n",
      "      Epoch    GPU_mem   box_loss   cls_loss   dfl_loss  Instances       Size\n"
     ]
    },
    {
     "name": "stderr",
     "output_type": "stream",
     "text": [
      "      2/100      3.25G      3.254      2.953      2.304          3        640: 100%|██████████| 63/63 [00:13<00:00,  4.63it/s]\n",
      "                 Class     Images  Instances      Box(P          R      mAP50  mAP50-95): 100%|██████████| 2/2 [00:00<00:00,  4.93it/s]"
     ]
    },
    {
     "name": "stdout",
     "output_type": "stream",
     "text": [
      "                   all         30       1041      0.669      0.378      0.571      0.329\n"
     ]
    },
    {
     "name": "stderr",
     "output_type": "stream",
     "text": [
      "\n"
     ]
    },
    {
     "name": "stdout",
     "output_type": "stream",
     "text": [
      "\n",
      "      Epoch    GPU_mem   box_loss   cls_loss   dfl_loss  Instances       Size\n"
     ]
    },
    {
     "name": "stderr",
     "output_type": "stream",
     "text": [
      "      3/100      3.55G      3.174      2.277      2.222         74        640: 100%|██████████| 63/63 [00:13<00:00,  4.73it/s]\n",
      "                 Class     Images  Instances      Box(P          R      mAP50  mAP50-95): 100%|██████████| 2/2 [00:00<00:00,  5.36it/s]"
     ]
    },
    {
     "name": "stdout",
     "output_type": "stream",
     "text": [
      "                   all         30       1041      0.706      0.719       0.77      0.424\n"
     ]
    },
    {
     "name": "stderr",
     "output_type": "stream",
     "text": [
      "\n"
     ]
    },
    {
     "name": "stdout",
     "output_type": "stream",
     "text": [
      "\n",
      "      Epoch    GPU_mem   box_loss   cls_loss   dfl_loss  Instances       Size\n"
     ]
    },
    {
     "name": "stderr",
     "output_type": "stream",
     "text": [
      "      4/100      3.83G      3.318      2.241      2.297          7        640: 100%|██████████| 63/63 [00:15<00:00,  4.06it/s]\n",
      "                 Class     Images  Instances      Box(P          R      mAP50  mAP50-95): 100%|██████████| 2/2 [00:00<00:00,  5.58it/s]"
     ]
    },
    {
     "name": "stdout",
     "output_type": "stream",
     "text": [
      "                   all         30       1041      0.637      0.695      0.691      0.295\n"
     ]
    },
    {
     "name": "stderr",
     "output_type": "stream",
     "text": [
      "\n"
     ]
    },
    {
     "name": "stdout",
     "output_type": "stream",
     "text": [
      "\n",
      "      Epoch    GPU_mem   box_loss   cls_loss   dfl_loss  Instances       Size\n"
     ]
    },
    {
     "name": "stderr",
     "output_type": "stream",
     "text": [
      "      5/100      3.94G      3.211       2.14      2.254          7        640: 100%|██████████| 63/63 [00:16<00:00,  3.87it/s]\n",
      "                 Class     Images  Instances      Box(P          R      mAP50  mAP50-95): 100%|██████████| 2/2 [00:00<00:00,  5.27it/s]"
     ]
    },
    {
     "name": "stdout",
     "output_type": "stream",
     "text": [
      "                   all         30       1041      0.736      0.767      0.826      0.454\n"
     ]
    },
    {
     "name": "stderr",
     "output_type": "stream",
     "text": [
      "\n"
     ]
    },
    {
     "name": "stdout",
     "output_type": "stream",
     "text": [
      "\n",
      "      Epoch    GPU_mem   box_loss   cls_loss   dfl_loss  Instances       Size\n"
     ]
    },
    {
     "name": "stderr",
     "output_type": "stream",
     "text": [
      "      6/100      3.34G      3.065      1.917      2.202        185        640: 100%|██████████| 63/63 [00:13<00:00,  4.50it/s]\n",
      "                 Class     Images  Instances      Box(P          R      mAP50  mAP50-95): 100%|██████████| 2/2 [00:00<00:00,  5.46it/s]"
     ]
    },
    {
     "name": "stdout",
     "output_type": "stream",
     "text": [
      "                   all         30       1041      0.735      0.762      0.829       0.47\n"
     ]
    },
    {
     "name": "stderr",
     "output_type": "stream",
     "text": [
      "\n"
     ]
    },
    {
     "name": "stdout",
     "output_type": "stream",
     "text": [
      "\n",
      "      Epoch    GPU_mem   box_loss   cls_loss   dfl_loss  Instances       Size\n"
     ]
    },
    {
     "name": "stderr",
     "output_type": "stream",
     "text": [
      "      7/100      3.43G      3.015      1.819      2.218         34        640: 100%|██████████| 63/63 [00:13<00:00,  4.79it/s]\n",
      "                 Class     Images  Instances      Box(P          R      mAP50  mAP50-95): 100%|██████████| 2/2 [00:00<00:00,  4.60it/s]"
     ]
    },
    {
     "name": "stdout",
     "output_type": "stream",
     "text": [
      "                   all         30       1041      0.792      0.804      0.881      0.503\n"
     ]
    },
    {
     "name": "stderr",
     "output_type": "stream",
     "text": [
      "\n"
     ]
    },
    {
     "name": "stdout",
     "output_type": "stream",
     "text": [
      "\n",
      "      Epoch    GPU_mem   box_loss   cls_loss   dfl_loss  Instances       Size\n"
     ]
    },
    {
     "name": "stderr",
     "output_type": "stream",
     "text": [
      "      8/100      3.17G      3.052      1.714      2.211         42        640: 100%|██████████| 63/63 [00:13<00:00,  4.77it/s]\n",
      "                 Class     Images  Instances      Box(P          R      mAP50  mAP50-95): 100%|██████████| 2/2 [00:00<00:00,  5.66it/s]\n"
     ]
    },
    {
     "name": "stdout",
     "output_type": "stream",
     "text": [
      "                   all         30       1041      0.804      0.831      0.894      0.526\n",
      "\n",
      "      Epoch    GPU_mem   box_loss   cls_loss   dfl_loss  Instances       Size\n"
     ]
    },
    {
     "name": "stderr",
     "output_type": "stream",
     "text": [
      "      9/100      3.66G      3.069      1.663      2.195        130        640: 100%|██████████| 63/63 [00:13<00:00,  4.84it/s]\n",
      "                 Class     Images  Instances      Box(P          R      mAP50  mAP50-95): 100%|██████████| 2/2 [00:00<00:00,  5.56it/s]\n"
     ]
    },
    {
     "name": "stdout",
     "output_type": "stream",
     "text": [
      "                   all         30       1041      0.835      0.841      0.917       0.52\n",
      "\n",
      "      Epoch    GPU_mem   box_loss   cls_loss   dfl_loss  Instances       Size\n"
     ]
    },
    {
     "name": "stderr",
     "output_type": "stream",
     "text": [
      "     10/100      2.83G      3.046       1.64        2.2        167        640: 100%|██████████| 63/63 [00:12<00:00,  4.87it/s]\n",
      "                 Class     Images  Instances      Box(P          R      mAP50  mAP50-95): 100%|██████████| 2/2 [00:00<00:00,  4.01it/s]"
     ]
    },
    {
     "name": "stdout",
     "output_type": "stream",
     "text": [
      "                   all         30       1041      0.862      0.841      0.923      0.533\n"
     ]
    },
    {
     "name": "stderr",
     "output_type": "stream",
     "text": [
      "\n"
     ]
    },
    {
     "name": "stdout",
     "output_type": "stream",
     "text": [
      "\n",
      "      Epoch    GPU_mem   box_loss   cls_loss   dfl_loss  Instances       Size\n"
     ]
    },
    {
     "name": "stderr",
     "output_type": "stream",
     "text": [
      "     11/100       3.8G      2.987      1.585      2.195         22        640: 100%|██████████| 63/63 [00:14<00:00,  4.46it/s]\n",
      "                 Class     Images  Instances      Box(P          R      mAP50  mAP50-95): 100%|██████████| 2/2 [00:00<00:00,  5.53it/s]"
     ]
    },
    {
     "name": "stdout",
     "output_type": "stream",
     "text": [
      "                   all         30       1041       0.87      0.853      0.935      0.544\n"
     ]
    },
    {
     "name": "stderr",
     "output_type": "stream",
     "text": [
      "\n"
     ]
    },
    {
     "name": "stdout",
     "output_type": "stream",
     "text": [
      "\n",
      "      Epoch    GPU_mem   box_loss   cls_loss   dfl_loss  Instances       Size\n"
     ]
    },
    {
     "name": "stderr",
     "output_type": "stream",
     "text": [
      "     12/100      3.46G      2.993      1.572      2.215         15        640: 100%|██████████| 63/63 [00:12<00:00,  4.88it/s]\n",
      "                 Class     Images  Instances      Box(P          R      mAP50  mAP50-95): 100%|██████████| 2/2 [00:00<00:00,  5.60it/s]\n"
     ]
    },
    {
     "name": "stdout",
     "output_type": "stream",
     "text": [
      "                   all         30       1041      0.888      0.864      0.945      0.542\n",
      "\n",
      "      Epoch    GPU_mem   box_loss   cls_loss   dfl_loss  Instances       Size\n"
     ]
    },
    {
     "name": "stderr",
     "output_type": "stream",
     "text": [
      "     13/100      3.82G      3.072      1.547       2.22         83        640: 100%|██████████| 63/63 [00:17<00:00,  3.60it/s]\n",
      "                 Class     Images  Instances      Box(P          R      mAP50  mAP50-95): 100%|██████████| 2/2 [00:00<00:00,  5.49it/s]"
     ]
    },
    {
     "name": "stdout",
     "output_type": "stream",
     "text": [
      "                   all         30       1041       0.86       0.87      0.934      0.552\n"
     ]
    },
    {
     "name": "stderr",
     "output_type": "stream",
     "text": [
      "\n"
     ]
    },
    {
     "name": "stdout",
     "output_type": "stream",
     "text": [
      "\n",
      "      Epoch    GPU_mem   box_loss   cls_loss   dfl_loss  Instances       Size\n"
     ]
    },
    {
     "name": "stderr",
     "output_type": "stream",
     "text": [
      "     14/100      3.12G      3.076      1.511      2.208        128        640: 100%|██████████| 63/63 [00:13<00:00,  4.78it/s]\n",
      "                 Class     Images  Instances      Box(P          R      mAP50  mAP50-95): 100%|██████████| 2/2 [00:00<00:00,  4.70it/s]"
     ]
    },
    {
     "name": "stdout",
     "output_type": "stream",
     "text": [
      "                   all         30       1041      0.882      0.895      0.949      0.551\n"
     ]
    },
    {
     "name": "stderr",
     "output_type": "stream",
     "text": [
      "\n"
     ]
    },
    {
     "name": "stdout",
     "output_type": "stream",
     "text": [
      "\n",
      "      Epoch    GPU_mem   box_loss   cls_loss   dfl_loss  Instances       Size\n"
     ]
    },
    {
     "name": "stderr",
     "output_type": "stream",
     "text": [
      "     15/100      3.34G       2.93      1.453       2.18         80        640: 100%|██████████| 63/63 [00:12<00:00,  4.86it/s]\n",
      "                 Class     Images  Instances      Box(P          R      mAP50  mAP50-95): 100%|██████████| 2/2 [00:00<00:00,  5.50it/s]"
     ]
    },
    {
     "name": "stdout",
     "output_type": "stream",
     "text": [
      "                   all         30       1041      0.891      0.901      0.957      0.571\n"
     ]
    },
    {
     "name": "stderr",
     "output_type": "stream",
     "text": [
      "\n"
     ]
    },
    {
     "name": "stdout",
     "output_type": "stream",
     "text": [
      "\n",
      "      Epoch    GPU_mem   box_loss   cls_loss   dfl_loss  Instances       Size\n"
     ]
    },
    {
     "name": "stderr",
     "output_type": "stream",
     "text": [
      "     16/100      3.44G      2.973      1.471      2.178         17        640: 100%|██████████| 63/63 [00:13<00:00,  4.71it/s]\n",
      "                 Class     Images  Instances      Box(P          R      mAP50  mAP50-95): 100%|██████████| 2/2 [00:00<00:00,  5.54it/s]\n"
     ]
    },
    {
     "name": "stdout",
     "output_type": "stream",
     "text": [
      "                   all         30       1041      0.896      0.888      0.956      0.565\n",
      "\n",
      "      Epoch    GPU_mem   box_loss   cls_loss   dfl_loss  Instances       Size\n"
     ]
    },
    {
     "name": "stderr",
     "output_type": "stream",
     "text": [
      "     17/100      3.64G      2.942      1.417       2.19        108        640: 100%|██████████| 63/63 [00:12<00:00,  5.00it/s]\n",
      "                 Class     Images  Instances      Box(P          R      mAP50  mAP50-95): 100%|██████████| 2/2 [00:00<00:00,  5.60it/s]"
     ]
    },
    {
     "name": "stdout",
     "output_type": "stream",
     "text": [
      "                   all         30       1041      0.915      0.877      0.955      0.571\n"
     ]
    },
    {
     "name": "stderr",
     "output_type": "stream",
     "text": [
      "\n"
     ]
    },
    {
     "name": "stdout",
     "output_type": "stream",
     "text": [
      "\n",
      "      Epoch    GPU_mem   box_loss   cls_loss   dfl_loss  Instances       Size\n"
     ]
    },
    {
     "name": "stderr",
     "output_type": "stream",
     "text": [
      "     18/100      3.08G      2.927      1.384       2.17         62        640: 100%|██████████| 63/63 [00:13<00:00,  4.81it/s]\n",
      "                 Class     Images  Instances      Box(P          R      mAP50  mAP50-95): 100%|██████████| 2/2 [00:00<00:00,  5.68it/s]"
     ]
    },
    {
     "name": "stdout",
     "output_type": "stream",
     "text": [
      "                   all         30       1041      0.923      0.889      0.962      0.569\n"
     ]
    },
    {
     "name": "stderr",
     "output_type": "stream",
     "text": [
      "\n"
     ]
    },
    {
     "name": "stdout",
     "output_type": "stream",
     "text": [
      "\n",
      "      Epoch    GPU_mem   box_loss   cls_loss   dfl_loss  Instances       Size\n"
     ]
    },
    {
     "name": "stderr",
     "output_type": "stream",
     "text": [
      "     19/100      4.03G       2.97      1.412      2.235         18        640: 100%|██████████| 63/63 [00:16<00:00,  3.84it/s]\n",
      "                 Class     Images  Instances      Box(P          R      mAP50  mAP50-95): 100%|██████████| 2/2 [00:00<00:00,  5.69it/s]"
     ]
    },
    {
     "name": "stdout",
     "output_type": "stream",
     "text": [
      "                   all         30       1041      0.932      0.882      0.962      0.557\n"
     ]
    },
    {
     "name": "stderr",
     "output_type": "stream",
     "text": [
      "\n"
     ]
    },
    {
     "name": "stdout",
     "output_type": "stream",
     "text": [
      "\n",
      "      Epoch    GPU_mem   box_loss   cls_loss   dfl_loss  Instances       Size\n"
     ]
    },
    {
     "name": "stderr",
     "output_type": "stream",
     "text": [
      "     20/100      3.49G      2.926      1.354      2.171        219        640: 100%|██████████| 63/63 [00:12<00:00,  4.89it/s]\n",
      "                 Class     Images  Instances      Box(P          R      mAP50  mAP50-95): 100%|██████████| 2/2 [00:00<00:00,  4.92it/s]"
     ]
    },
    {
     "name": "stdout",
     "output_type": "stream",
     "text": [
      "                   all         30       1041      0.929      0.898      0.967       0.59\n"
     ]
    },
    {
     "name": "stderr",
     "output_type": "stream",
     "text": [
      "\n"
     ]
    },
    {
     "name": "stdout",
     "output_type": "stream",
     "text": [
      "\n",
      "      Epoch    GPU_mem   box_loss   cls_loss   dfl_loss  Instances       Size\n"
     ]
    },
    {
     "name": "stderr",
     "output_type": "stream",
     "text": [
      "     21/100      3.45G      2.958      1.341      2.195         61        640: 100%|██████████| 63/63 [00:13<00:00,  4.73it/s]\n",
      "                 Class     Images  Instances      Box(P          R      mAP50  mAP50-95): 100%|██████████| 2/2 [00:00<00:00,  5.21it/s]"
     ]
    },
    {
     "name": "stdout",
     "output_type": "stream",
     "text": [
      "                   all         30       1041      0.895      0.899      0.955      0.541\n"
     ]
    },
    {
     "name": "stderr",
     "output_type": "stream",
     "text": [
      "\n"
     ]
    },
    {
     "name": "stdout",
     "output_type": "stream",
     "text": [
      "\n",
      "      Epoch    GPU_mem   box_loss   cls_loss   dfl_loss  Instances       Size\n"
     ]
    },
    {
     "name": "stderr",
     "output_type": "stream",
     "text": [
      "     22/100      3.52G      2.927      1.315      2.187        155        640: 100%|██████████| 63/63 [00:13<00:00,  4.69it/s]\n",
      "                 Class     Images  Instances      Box(P          R      mAP50  mAP50-95): 100%|██████████| 2/2 [00:00<00:00,  4.66it/s]"
     ]
    },
    {
     "name": "stdout",
     "output_type": "stream",
     "text": [
      "                   all         30       1041      0.914      0.907      0.961      0.579\n"
     ]
    },
    {
     "name": "stderr",
     "output_type": "stream",
     "text": [
      "\n"
     ]
    },
    {
     "name": "stdout",
     "output_type": "stream",
     "text": [
      "\n",
      "      Epoch    GPU_mem   box_loss   cls_loss   dfl_loss  Instances       Size\n"
     ]
    },
    {
     "name": "stderr",
     "output_type": "stream",
     "text": [
      "     23/100      3.61G      2.924      1.314      2.178        153        640: 100%|██████████| 63/63 [00:13<00:00,  4.66it/s]\n",
      "                 Class     Images  Instances      Box(P          R      mAP50  mAP50-95): 100%|██████████| 2/2 [00:00<00:00,  5.21it/s]"
     ]
    },
    {
     "name": "stdout",
     "output_type": "stream",
     "text": [
      "                   all         30       1041      0.909      0.916      0.966      0.587\n"
     ]
    },
    {
     "name": "stderr",
     "output_type": "stream",
     "text": [
      "\n"
     ]
    },
    {
     "name": "stdout",
     "output_type": "stream",
     "text": [
      "\n",
      "      Epoch    GPU_mem   box_loss   cls_loss   dfl_loss  Instances       Size\n"
     ]
    },
    {
     "name": "stderr",
     "output_type": "stream",
     "text": [
      "     24/100      3.35G      2.856      1.308      2.183          3        640: 100%|██████████| 63/63 [00:12<00:00,  4.98it/s]\n",
      "                 Class     Images  Instances      Box(P          R      mAP50  mAP50-95): 100%|██████████| 2/2 [00:00<00:00,  5.04it/s]"
     ]
    },
    {
     "name": "stdout",
     "output_type": "stream",
     "text": [
      "                   all         30       1041      0.925      0.911      0.971       0.58\n"
     ]
    },
    {
     "name": "stderr",
     "output_type": "stream",
     "text": [
      "\n"
     ]
    },
    {
     "name": "stdout",
     "output_type": "stream",
     "text": [
      "\n",
      "      Epoch    GPU_mem   box_loss   cls_loss   dfl_loss  Instances       Size\n"
     ]
    },
    {
     "name": "stderr",
     "output_type": "stream",
     "text": [
      "     25/100      3.59G      2.886      1.273      2.142        178        640: 100%|██████████| 63/63 [00:14<00:00,  4.30it/s]\n",
      "                 Class     Images  Instances      Box(P          R      mAP50  mAP50-95): 100%|██████████| 2/2 [00:00<00:00,  4.32it/s]"
     ]
    },
    {
     "name": "stdout",
     "output_type": "stream",
     "text": [
      "                   all         30       1041       0.92      0.931      0.971      0.589\n"
     ]
    },
    {
     "name": "stderr",
     "output_type": "stream",
     "text": [
      "\n"
     ]
    },
    {
     "name": "stdout",
     "output_type": "stream",
     "text": [
      "\n",
      "      Epoch    GPU_mem   box_loss   cls_loss   dfl_loss  Instances       Size\n"
     ]
    },
    {
     "name": "stderr",
     "output_type": "stream",
     "text": [
      "     26/100      3.01G      2.839      1.246       2.17         91        640: 100%|██████████| 63/63 [00:13<00:00,  4.61it/s]\n",
      "                 Class     Images  Instances      Box(P          R      mAP50  mAP50-95): 100%|██████████| 2/2 [00:00<00:00,  4.39it/s]"
     ]
    },
    {
     "name": "stdout",
     "output_type": "stream",
     "text": [
      "                   all         30       1041      0.935       0.93      0.974      0.586\n"
     ]
    },
    {
     "name": "stderr",
     "output_type": "stream",
     "text": [
      "\n"
     ]
    },
    {
     "name": "stdout",
     "output_type": "stream",
     "text": [
      "\n",
      "      Epoch    GPU_mem   box_loss   cls_loss   dfl_loss  Instances       Size\n"
     ]
    },
    {
     "name": "stderr",
     "output_type": "stream",
     "text": [
      "     27/100      3.92G      2.889      1.249      2.161         50        640: 100%|██████████| 63/63 [00:16<00:00,  3.88it/s]\n",
      "                 Class     Images  Instances      Box(P          R      mAP50  mAP50-95): 100%|██████████| 2/2 [00:00<00:00,  4.83it/s]"
     ]
    },
    {
     "name": "stdout",
     "output_type": "stream",
     "text": [
      "                   all         30       1041      0.931      0.933      0.973      0.587\n"
     ]
    },
    {
     "name": "stderr",
     "output_type": "stream",
     "text": [
      "\n"
     ]
    },
    {
     "name": "stdout",
     "output_type": "stream",
     "text": [
      "\n",
      "      Epoch    GPU_mem   box_loss   cls_loss   dfl_loss  Instances       Size\n"
     ]
    },
    {
     "name": "stderr",
     "output_type": "stream",
     "text": [
      "     28/100      3.63G       2.87      1.233      2.172         34        640: 100%|██████████| 63/63 [00:12<00:00,  4.87it/s]\n",
      "                 Class     Images  Instances      Box(P          R      mAP50  mAP50-95): 100%|██████████| 2/2 [00:00<00:00,  5.61it/s]"
     ]
    },
    {
     "name": "stdout",
     "output_type": "stream",
     "text": [
      "                   all         30       1041      0.947      0.919      0.975      0.587\n"
     ]
    },
    {
     "name": "stderr",
     "output_type": "stream",
     "text": [
      "\n"
     ]
    },
    {
     "name": "stdout",
     "output_type": "stream",
     "text": [
      "\n",
      "      Epoch    GPU_mem   box_loss   cls_loss   dfl_loss  Instances       Size\n"
     ]
    },
    {
     "name": "stderr",
     "output_type": "stream",
     "text": [
      "     29/100      3.54G      2.864      1.226      2.204         27        640: 100%|██████████| 63/63 [00:13<00:00,  4.57it/s]\n",
      "                 Class     Images  Instances      Box(P          R      mAP50  mAP50-95): 100%|██████████| 2/2 [00:00<00:00,  5.74it/s]"
     ]
    },
    {
     "name": "stdout",
     "output_type": "stream",
     "text": [
      "                   all         30       1041      0.944      0.923      0.976      0.592\n"
     ]
    },
    {
     "name": "stderr",
     "output_type": "stream",
     "text": [
      "\n"
     ]
    },
    {
     "name": "stdout",
     "output_type": "stream",
     "text": [
      "\n",
      "      Epoch    GPU_mem   box_loss   cls_loss   dfl_loss  Instances       Size\n"
     ]
    },
    {
     "name": "stderr",
     "output_type": "stream",
     "text": [
      "     30/100      3.09G      2.944      1.237      2.183        186        640: 100%|██████████| 63/63 [00:13<00:00,  4.85it/s]\n",
      "                 Class     Images  Instances      Box(P          R      mAP50  mAP50-95): 100%|██████████| 2/2 [00:00<00:00,  5.62it/s]"
     ]
    },
    {
     "name": "stdout",
     "output_type": "stream",
     "text": [
      "                   all         30       1041      0.943      0.926      0.979        0.6\n"
     ]
    },
    {
     "name": "stderr",
     "output_type": "stream",
     "text": [
      "\n"
     ]
    },
    {
     "name": "stdout",
     "output_type": "stream",
     "text": [
      "\n",
      "      Epoch    GPU_mem   box_loss   cls_loss   dfl_loss  Instances       Size\n"
     ]
    },
    {
     "name": "stderr",
     "output_type": "stream",
     "text": [
      "     31/100      3.71G      2.828      1.206      2.188         21        640: 100%|██████████| 63/63 [00:12<00:00,  5.01it/s]\n",
      "                 Class     Images  Instances      Box(P          R      mAP50  mAP50-95): 100%|██████████| 2/2 [00:00<00:00,  5.37it/s]"
     ]
    },
    {
     "name": "stdout",
     "output_type": "stream",
     "text": [
      "                   all         30       1041      0.937      0.948      0.979      0.604\n"
     ]
    },
    {
     "name": "stderr",
     "output_type": "stream",
     "text": [
      "\n"
     ]
    },
    {
     "name": "stdout",
     "output_type": "stream",
     "text": [
      "\n",
      "      Epoch    GPU_mem   box_loss   cls_loss   dfl_loss  Instances       Size\n"
     ]
    },
    {
     "name": "stderr",
     "output_type": "stream",
     "text": [
      "     32/100      3.64G      2.828      1.189      2.153         92        640: 100%|██████████| 63/63 [00:12<00:00,  4.92it/s]\n",
      "                 Class     Images  Instances      Box(P          R      mAP50  mAP50-95): 100%|██████████| 2/2 [00:00<00:00,  5.74it/s]"
     ]
    },
    {
     "name": "stdout",
     "output_type": "stream",
     "text": [
      "                   all         30       1041      0.944      0.929      0.978      0.589\n"
     ]
    },
    {
     "name": "stderr",
     "output_type": "stream",
     "text": [
      "\n"
     ]
    },
    {
     "name": "stdout",
     "output_type": "stream",
     "text": [
      "\n",
      "      Epoch    GPU_mem   box_loss   cls_loss   dfl_loss  Instances       Size\n"
     ]
    },
    {
     "name": "stderr",
     "output_type": "stream",
     "text": [
      "     33/100      3.74G      2.872      1.276      2.174          3        640: 100%|██████████| 63/63 [00:13<00:00,  4.70it/s]\n",
      "                 Class     Images  Instances      Box(P          R      mAP50  mAP50-95): 100%|██████████| 2/2 [00:00<00:00,  5.65it/s]"
     ]
    },
    {
     "name": "stdout",
     "output_type": "stream",
     "text": [
      "                   all         30       1041      0.945      0.935      0.976      0.597\n"
     ]
    },
    {
     "name": "stderr",
     "output_type": "stream",
     "text": [
      "\n"
     ]
    },
    {
     "name": "stdout",
     "output_type": "stream",
     "text": [
      "\n",
      "      Epoch    GPU_mem   box_loss   cls_loss   dfl_loss  Instances       Size\n"
     ]
    },
    {
     "name": "stderr",
     "output_type": "stream",
     "text": [
      "     34/100      3.67G       2.86        1.2      2.158         72        640: 100%|██████████| 63/63 [00:12<00:00,  4.97it/s]\n",
      "                 Class     Images  Instances      Box(P          R      mAP50  mAP50-95): 100%|██████████| 2/2 [00:00<00:00,  5.63it/s]"
     ]
    },
    {
     "name": "stdout",
     "output_type": "stream",
     "text": [
      "                   all         30       1041      0.961      0.929      0.981      0.605\n"
     ]
    },
    {
     "name": "stderr",
     "output_type": "stream",
     "text": [
      "\n"
     ]
    },
    {
     "name": "stdout",
     "output_type": "stream",
     "text": [
      "\n",
      "      Epoch    GPU_mem   box_loss   cls_loss   dfl_loss  Instances       Size\n"
     ]
    },
    {
     "name": "stderr",
     "output_type": "stream",
     "text": [
      "     35/100      4.01G      2.884        1.2      2.158        106        640: 100%|██████████| 63/63 [00:16<00:00,  3.77it/s]\n",
      "                 Class     Images  Instances      Box(P          R      mAP50  mAP50-95): 100%|██████████| 2/2 [00:00<00:00,  5.66it/s]\n"
     ]
    },
    {
     "name": "stdout",
     "output_type": "stream",
     "text": [
      "                   all         30       1041      0.955      0.929      0.975      0.599\n",
      "\n",
      "      Epoch    GPU_mem   box_loss   cls_loss   dfl_loss  Instances       Size\n"
     ]
    },
    {
     "name": "stderr",
     "output_type": "stream",
     "text": [
      "     36/100      2.78G      2.827      1.161      2.156         51        640: 100%|██████████| 63/63 [00:12<00:00,  4.95it/s]\n",
      "                 Class     Images  Instances      Box(P          R      mAP50  mAP50-95): 100%|██████████| 2/2 [00:00<00:00,  4.02it/s]"
     ]
    },
    {
     "name": "stdout",
     "output_type": "stream",
     "text": [
      "                   all         30       1041      0.952      0.942      0.979      0.604\n"
     ]
    },
    {
     "name": "stderr",
     "output_type": "stream",
     "text": [
      "\n"
     ]
    },
    {
     "name": "stdout",
     "output_type": "stream",
     "text": [
      "\n",
      "      Epoch    GPU_mem   box_loss   cls_loss   dfl_loss  Instances       Size\n"
     ]
    },
    {
     "name": "stderr",
     "output_type": "stream",
     "text": [
      "     37/100      3.47G      2.769      1.123      2.156         62        640: 100%|██████████| 63/63 [00:13<00:00,  4.82it/s]\n",
      "                 Class     Images  Instances      Box(P          R      mAP50  mAP50-95): 100%|██████████| 2/2 [00:00<00:00,  5.14it/s]"
     ]
    },
    {
     "name": "stdout",
     "output_type": "stream",
     "text": [
      "                   all         30       1041      0.946      0.943      0.976       0.59\n"
     ]
    },
    {
     "name": "stderr",
     "output_type": "stream",
     "text": [
      "\n"
     ]
    },
    {
     "name": "stdout",
     "output_type": "stream",
     "text": [
      "\n",
      "      Epoch    GPU_mem   box_loss   cls_loss   dfl_loss  Instances       Size\n"
     ]
    },
    {
     "name": "stderr",
     "output_type": "stream",
     "text": [
      "     38/100      3.44G      2.838       1.15      2.151         19        640: 100%|██████████| 63/63 [00:12<00:00,  4.88it/s]\n",
      "                 Class     Images  Instances      Box(P          R      mAP50  mAP50-95): 100%|██████████| 2/2 [00:00<00:00,  5.14it/s]"
     ]
    },
    {
     "name": "stdout",
     "output_type": "stream",
     "text": [
      "                   all         30       1041      0.954      0.947      0.982      0.608\n"
     ]
    },
    {
     "name": "stderr",
     "output_type": "stream",
     "text": [
      "\n"
     ]
    },
    {
     "name": "stdout",
     "output_type": "stream",
     "text": [
      "\n",
      "      Epoch    GPU_mem   box_loss   cls_loss   dfl_loss  Instances       Size\n"
     ]
    },
    {
     "name": "stderr",
     "output_type": "stream",
     "text": [
      "     39/100      3.53G      2.783      1.138      2.153         26        640: 100%|██████████| 63/63 [00:12<00:00,  4.88it/s]\n",
      "                 Class     Images  Instances      Box(P          R      mAP50  mAP50-95): 100%|██████████| 2/2 [00:00<00:00,  5.52it/s]"
     ]
    },
    {
     "name": "stdout",
     "output_type": "stream",
     "text": [
      "                   all         30       1041      0.955      0.938      0.978        0.6\n"
     ]
    },
    {
     "name": "stderr",
     "output_type": "stream",
     "text": [
      "\n"
     ]
    },
    {
     "name": "stdout",
     "output_type": "stream",
     "text": [
      "\n",
      "      Epoch    GPU_mem   box_loss   cls_loss   dfl_loss  Instances       Size\n"
     ]
    },
    {
     "name": "stderr",
     "output_type": "stream",
     "text": [
      "     40/100      3.12G      2.801      1.166      2.137         10        640: 100%|██████████| 63/63 [00:13<00:00,  4.75it/s]\n",
      "                 Class     Images  Instances      Box(P          R      mAP50  mAP50-95): 100%|██████████| 2/2 [00:00<00:00,  4.54it/s]"
     ]
    },
    {
     "name": "stdout",
     "output_type": "stream",
     "text": [
      "                   all         30       1041      0.962      0.946      0.979      0.594\n"
     ]
    },
    {
     "name": "stderr",
     "output_type": "stream",
     "text": [
      "\n"
     ]
    },
    {
     "name": "stdout",
     "output_type": "stream",
     "text": [
      "\n",
      "      Epoch    GPU_mem   box_loss   cls_loss   dfl_loss  Instances       Size\n"
     ]
    },
    {
     "name": "stderr",
     "output_type": "stream",
     "text": [
      "     41/100      3.99G      2.822      1.139      2.148         50        640: 100%|██████████| 63/63 [00:19<00:00,  3.30it/s]\n",
      "                 Class     Images  Instances      Box(P          R      mAP50  mAP50-95): 100%|██████████| 2/2 [00:00<00:00,  4.38it/s]"
     ]
    },
    {
     "name": "stdout",
     "output_type": "stream",
     "text": [
      "                   all         30       1041       0.96      0.945      0.979      0.589\n"
     ]
    },
    {
     "name": "stderr",
     "output_type": "stream",
     "text": [
      "\n"
     ]
    },
    {
     "name": "stdout",
     "output_type": "stream",
     "text": [
      "\n",
      "      Epoch    GPU_mem   box_loss   cls_loss   dfl_loss  Instances       Size\n"
     ]
    },
    {
     "name": "stderr",
     "output_type": "stream",
     "text": [
      "     42/100      2.55G      2.821      1.149      2.201         28        640: 100%|██████████| 63/63 [00:13<00:00,  4.81it/s]\n",
      "                 Class     Images  Instances      Box(P          R      mAP50  mAP50-95): 100%|██████████| 2/2 [00:00<00:00,  5.48it/s]"
     ]
    },
    {
     "name": "stdout",
     "output_type": "stream",
     "text": [
      "                   all         30       1041      0.951       0.96      0.985      0.601\n"
     ]
    },
    {
     "name": "stderr",
     "output_type": "stream",
     "text": [
      "\n"
     ]
    },
    {
     "name": "stdout",
     "output_type": "stream",
     "text": [
      "\n",
      "      Epoch    GPU_mem   box_loss   cls_loss   dfl_loss  Instances       Size\n"
     ]
    },
    {
     "name": "stderr",
     "output_type": "stream",
     "text": [
      "     43/100      3.75G      2.817      1.132      2.131         51        640: 100%|██████████| 63/63 [00:14<00:00,  4.38it/s]\n",
      "                 Class     Images  Instances      Box(P          R      mAP50  mAP50-95): 100%|██████████| 2/2 [00:00<00:00,  5.50it/s]"
     ]
    },
    {
     "name": "stdout",
     "output_type": "stream",
     "text": [
      "                   all         30       1041      0.966      0.944      0.982      0.605\n"
     ]
    },
    {
     "name": "stderr",
     "output_type": "stream",
     "text": [
      "\n"
     ]
    },
    {
     "name": "stdout",
     "output_type": "stream",
     "text": [
      "\n",
      "      Epoch    GPU_mem   box_loss   cls_loss   dfl_loss  Instances       Size\n"
     ]
    },
    {
     "name": "stderr",
     "output_type": "stream",
     "text": [
      "     44/100      3.19G       2.82      1.139      2.155         62        640: 100%|██████████| 63/63 [00:13<00:00,  4.77it/s]\n",
      "                 Class     Images  Instances      Box(P          R      mAP50  mAP50-95): 100%|██████████| 2/2 [00:00<00:00,  4.41it/s]"
     ]
    },
    {
     "name": "stdout",
     "output_type": "stream",
     "text": [
      "                   all         30       1041      0.959      0.944      0.985      0.609\n"
     ]
    },
    {
     "name": "stderr",
     "output_type": "stream",
     "text": [
      "\n"
     ]
    },
    {
     "name": "stdout",
     "output_type": "stream",
     "text": [
      "\n",
      "      Epoch    GPU_mem   box_loss   cls_loss   dfl_loss  Instances       Size\n"
     ]
    },
    {
     "name": "stderr",
     "output_type": "stream",
     "text": [
      "     45/100      4.18G      2.749      1.109      2.151         20        640: 100%|██████████| 63/63 [00:18<00:00,  3.34it/s]\n",
      "                 Class     Images  Instances      Box(P          R      mAP50  mAP50-95): 100%|██████████| 2/2 [00:00<00:00,  5.22it/s]"
     ]
    },
    {
     "name": "stdout",
     "output_type": "stream",
     "text": [
      "                   all         30       1041      0.959      0.939      0.984      0.593\n"
     ]
    },
    {
     "name": "stderr",
     "output_type": "stream",
     "text": [
      "\n"
     ]
    },
    {
     "name": "stdout",
     "output_type": "stream",
     "text": [
      "\n",
      "      Epoch    GPU_mem   box_loss   cls_loss   dfl_loss  Instances       Size\n"
     ]
    },
    {
     "name": "stderr",
     "output_type": "stream",
     "text": [
      "     46/100      3.06G      2.726      1.092      2.121        104        640: 100%|██████████| 63/63 [00:12<00:00,  4.97it/s]\n",
      "                 Class     Images  Instances      Box(P          R      mAP50  mAP50-95): 100%|██████████| 2/2 [00:00<00:00,  5.34it/s]"
     ]
    },
    {
     "name": "stdout",
     "output_type": "stream",
     "text": [
      "                   all         30       1041      0.963      0.949      0.984      0.605\n"
     ]
    },
    {
     "name": "stderr",
     "output_type": "stream",
     "text": [
      "\n"
     ]
    },
    {
     "name": "stdout",
     "output_type": "stream",
     "text": [
      "\n",
      "      Epoch    GPU_mem   box_loss   cls_loss   dfl_loss  Instances       Size\n"
     ]
    },
    {
     "name": "stderr",
     "output_type": "stream",
     "text": [
      "     47/100      2.73G      2.753      1.105      2.118         16        640: 100%|██████████| 63/63 [00:12<00:00,  4.96it/s]\n",
      "                 Class     Images  Instances      Box(P          R      mAP50  mAP50-95): 100%|██████████| 2/2 [00:00<00:00,  5.75it/s]"
     ]
    },
    {
     "name": "stdout",
     "output_type": "stream",
     "text": [
      "                   all         30       1041      0.965      0.943      0.985      0.598\n"
     ]
    },
    {
     "name": "stderr",
     "output_type": "stream",
     "text": [
      "\n"
     ]
    },
    {
     "name": "stdout",
     "output_type": "stream",
     "text": [
      "\n",
      "      Epoch    GPU_mem   box_loss   cls_loss   dfl_loss  Instances       Size\n"
     ]
    },
    {
     "name": "stderr",
     "output_type": "stream",
     "text": [
      "     48/100      4.07G      2.759      1.096      2.129         20        640: 100%|██████████| 63/63 [00:16<00:00,  3.73it/s]\n",
      "                 Class     Images  Instances      Box(P          R      mAP50  mAP50-95): 100%|██████████| 2/2 [00:00<00:00,  5.70it/s]"
     ]
    },
    {
     "name": "stdout",
     "output_type": "stream",
     "text": [
      "                   all         30       1041      0.963      0.952      0.985      0.598\n"
     ]
    },
    {
     "name": "stderr",
     "output_type": "stream",
     "text": [
      "\n"
     ]
    },
    {
     "name": "stdout",
     "output_type": "stream",
     "text": [
      "\n",
      "      Epoch    GPU_mem   box_loss   cls_loss   dfl_loss  Instances       Size\n"
     ]
    },
    {
     "name": "stderr",
     "output_type": "stream",
     "text": [
      "     49/100      3.13G      2.781      1.103      2.145         66        640: 100%|██████████| 63/63 [00:12<00:00,  5.02it/s]\n",
      "                 Class     Images  Instances      Box(P          R      mAP50  mAP50-95): 100%|██████████| 2/2 [00:00<00:00,  5.76it/s]"
     ]
    },
    {
     "name": "stdout",
     "output_type": "stream",
     "text": [
      "                   all         30       1041      0.961      0.957      0.986      0.598\n"
     ]
    },
    {
     "name": "stderr",
     "output_type": "stream",
     "text": [
      "\n"
     ]
    },
    {
     "name": "stdout",
     "output_type": "stream",
     "text": [
      "\n",
      "      Epoch    GPU_mem   box_loss   cls_loss   dfl_loss  Instances       Size\n"
     ]
    },
    {
     "name": "stderr",
     "output_type": "stream",
     "text": [
      "     50/100      3.19G      2.734      1.086      2.118         62        640: 100%|██████████| 63/63 [00:12<00:00,  5.00it/s]\n",
      "                 Class     Images  Instances      Box(P          R      mAP50  mAP50-95): 100%|██████████| 2/2 [00:00<00:00,  5.26it/s]"
     ]
    },
    {
     "name": "stdout",
     "output_type": "stream",
     "text": [
      "                   all         30       1041      0.963      0.944      0.984      0.602\n"
     ]
    },
    {
     "name": "stderr",
     "output_type": "stream",
     "text": [
      "\n"
     ]
    },
    {
     "name": "stdout",
     "output_type": "stream",
     "text": [
      "\n",
      "      Epoch    GPU_mem   box_loss   cls_loss   dfl_loss  Instances       Size\n"
     ]
    },
    {
     "name": "stderr",
     "output_type": "stream",
     "text": [
      "     51/100      3.69G      2.739      1.091      2.144        100        640: 100%|██████████| 63/63 [00:12<00:00,  4.91it/s]\n",
      "                 Class     Images  Instances      Box(P          R      mAP50  mAP50-95): 100%|██████████| 2/2 [00:00<00:00,  5.68it/s]"
     ]
    },
    {
     "name": "stdout",
     "output_type": "stream",
     "text": [
      "                   all         30       1041      0.953      0.951      0.984      0.599\n"
     ]
    },
    {
     "name": "stderr",
     "output_type": "stream",
     "text": [
      "\n"
     ]
    },
    {
     "name": "stdout",
     "output_type": "stream",
     "text": [
      "\n",
      "      Epoch    GPU_mem   box_loss   cls_loss   dfl_loss  Instances       Size\n"
     ]
    },
    {
     "name": "stderr",
     "output_type": "stream",
     "text": [
      "     52/100      2.91G      2.733      1.084      2.118         81        640: 100%|██████████| 63/63 [00:12<00:00,  4.87it/s]\n",
      "                 Class     Images  Instances      Box(P          R      mAP50  mAP50-95): 100%|██████████| 2/2 [00:00<00:00,  5.43it/s]"
     ]
    },
    {
     "name": "stdout",
     "output_type": "stream",
     "text": [
      "                   all         30       1041      0.964      0.953      0.986      0.608\n"
     ]
    },
    {
     "name": "stderr",
     "output_type": "stream",
     "text": [
      "\n"
     ]
    },
    {
     "name": "stdout",
     "output_type": "stream",
     "text": [
      "\n",
      "      Epoch    GPU_mem   box_loss   cls_loss   dfl_loss  Instances       Size\n"
     ]
    },
    {
     "name": "stderr",
     "output_type": "stream",
     "text": [
      "     53/100      3.49G      2.741      1.082      2.121         17        640: 100%|██████████| 63/63 [00:13<00:00,  4.71it/s]\n",
      "                 Class     Images  Instances      Box(P          R      mAP50  mAP50-95): 100%|██████████| 2/2 [00:00<00:00,  5.29it/s]"
     ]
    },
    {
     "name": "stdout",
     "output_type": "stream",
     "text": [
      "                   all         30       1041      0.959      0.957      0.986      0.606\n"
     ]
    },
    {
     "name": "stderr",
     "output_type": "stream",
     "text": [
      "\n"
     ]
    },
    {
     "name": "stdout",
     "output_type": "stream",
     "text": [
      "\n",
      "      Epoch    GPU_mem   box_loss   cls_loss   dfl_loss  Instances       Size\n"
     ]
    },
    {
     "name": "stderr",
     "output_type": "stream",
     "text": [
      "     54/100      3.29G      2.721      1.085      2.131         66        640: 100%|██████████| 63/63 [00:12<00:00,  4.91it/s]\n",
      "                 Class     Images  Instances      Box(P          R      mAP50  mAP50-95): 100%|██████████| 2/2 [00:00<00:00,  5.65it/s]\n"
     ]
    },
    {
     "name": "stdout",
     "output_type": "stream",
     "text": [
      "                   all         30       1041      0.962      0.959      0.985      0.613\n",
      "\n",
      "      Epoch    GPU_mem   box_loss   cls_loss   dfl_loss  Instances       Size\n"
     ]
    },
    {
     "name": "stderr",
     "output_type": "stream",
     "text": [
      "     55/100      3.89G      2.748      1.089      2.123         28        640: 100%|██████████| 63/63 [00:15<00:00,  4.00it/s]\n",
      "                 Class     Images  Instances      Box(P          R      mAP50  mAP50-95): 100%|██████████| 2/2 [00:00<00:00,  5.42it/s]\n"
     ]
    },
    {
     "name": "stdout",
     "output_type": "stream",
     "text": [
      "                   all         30       1041      0.963      0.958      0.985      0.604\n",
      "\n",
      "      Epoch    GPU_mem   box_loss   cls_loss   dfl_loss  Instances       Size\n"
     ]
    },
    {
     "name": "stderr",
     "output_type": "stream",
     "text": [
      "     56/100      3.08G      2.763      1.141      2.152          2        640: 100%|██████████| 63/63 [00:12<00:00,  4.85it/s]\n",
      "                 Class     Images  Instances      Box(P          R      mAP50  mAP50-95): 100%|██████████| 2/2 [00:00<00:00,  5.74it/s]"
     ]
    },
    {
     "name": "stdout",
     "output_type": "stream",
     "text": [
      "                   all         30       1041      0.966      0.959      0.986      0.609\n"
     ]
    },
    {
     "name": "stderr",
     "output_type": "stream",
     "text": [
      "\n"
     ]
    },
    {
     "name": "stdout",
     "output_type": "stream",
     "text": [
      "\n",
      "      Epoch    GPU_mem   box_loss   cls_loss   dfl_loss  Instances       Size\n"
     ]
    },
    {
     "name": "stderr",
     "output_type": "stream",
     "text": [
      "     57/100      3.83G      2.653        1.5      2.076          0        640: 100%|██████████| 63/63 [00:13<00:00,  4.74it/s]\n",
      "                 Class     Images  Instances      Box(P          R      mAP50  mAP50-95): 100%|██████████| 2/2 [00:00<00:00,  5.68it/s]\n"
     ]
    },
    {
     "name": "stdout",
     "output_type": "stream",
     "text": [
      "                   all         30       1041      0.966      0.965      0.988      0.611\n",
      "\n",
      "      Epoch    GPU_mem   box_loss   cls_loss   dfl_loss  Instances       Size\n"
     ]
    },
    {
     "name": "stderr",
     "output_type": "stream",
     "text": [
      "     58/100       3.2G      2.749      1.098      2.144         19        640: 100%|██████████| 63/63 [00:12<00:00,  4.96it/s]\n",
      "                 Class     Images  Instances      Box(P          R      mAP50  mAP50-95): 100%|██████████| 2/2 [00:00<00:00,  5.14it/s]"
     ]
    },
    {
     "name": "stdout",
     "output_type": "stream",
     "text": [
      "                   all         30       1041      0.964      0.958      0.985      0.601\n"
     ]
    },
    {
     "name": "stderr",
     "output_type": "stream",
     "text": [
      "\n"
     ]
    },
    {
     "name": "stdout",
     "output_type": "stream",
     "text": [
      "\n",
      "      Epoch    GPU_mem   box_loss   cls_loss   dfl_loss  Instances       Size\n"
     ]
    },
    {
     "name": "stderr",
     "output_type": "stream",
     "text": [
      "     59/100       3.5G      2.751        1.1      2.109        126        640: 100%|██████████| 63/63 [00:12<00:00,  4.91it/s]\n",
      "                 Class     Images  Instances      Box(P          R      mAP50  mAP50-95): 100%|██████████| 2/2 [00:00<00:00,  5.65it/s]"
     ]
    },
    {
     "name": "stdout",
     "output_type": "stream",
     "text": [
      "                   all         30       1041      0.962      0.959      0.988      0.608\n"
     ]
    },
    {
     "name": "stderr",
     "output_type": "stream",
     "text": [
      "\n"
     ]
    },
    {
     "name": "stdout",
     "output_type": "stream",
     "text": [
      "\n",
      "      Epoch    GPU_mem   box_loss   cls_loss   dfl_loss  Instances       Size\n"
     ]
    },
    {
     "name": "stderr",
     "output_type": "stream",
     "text": [
      "     60/100      3.07G      2.709      1.077      2.123         64        640: 100%|██████████| 63/63 [00:12<00:00,  4.96it/s]\n",
      "                 Class     Images  Instances      Box(P          R      mAP50  mAP50-95): 100%|██████████| 2/2 [00:00<00:00,  5.72it/s]"
     ]
    },
    {
     "name": "stdout",
     "output_type": "stream",
     "text": [
      "                   all         30       1041      0.966      0.946      0.986      0.608\n"
     ]
    },
    {
     "name": "stderr",
     "output_type": "stream",
     "text": [
      "\n"
     ]
    },
    {
     "name": "stdout",
     "output_type": "stream",
     "text": [
      "\n",
      "      Epoch    GPU_mem   box_loss   cls_loss   dfl_loss  Instances       Size\n"
     ]
    },
    {
     "name": "stderr",
     "output_type": "stream",
     "text": [
      "     61/100      2.92G      2.714      1.068      2.101        122        640: 100%|██████████| 63/63 [00:12<00:00,  4.85it/s]\n",
      "                 Class     Images  Instances      Box(P          R      mAP50  mAP50-95): 100%|██████████| 2/2 [00:00<00:00,  5.65it/s]\n"
     ]
    },
    {
     "name": "stdout",
     "output_type": "stream",
     "text": [
      "                   all         30       1041      0.958      0.949      0.984      0.611\n",
      "\n",
      "      Epoch    GPU_mem   box_loss   cls_loss   dfl_loss  Instances       Size\n"
     ]
    },
    {
     "name": "stderr",
     "output_type": "stream",
     "text": [
      "     62/100      3.38G      2.702      1.064      2.099         49        640: 100%|██████████| 63/63 [00:13<00:00,  4.78it/s]\n",
      "                 Class     Images  Instances      Box(P          R      mAP50  mAP50-95): 100%|██████████| 2/2 [00:00<00:00,  5.71it/s]"
     ]
    },
    {
     "name": "stdout",
     "output_type": "stream",
     "text": [
      "                   all         30       1041      0.972      0.951      0.987      0.613\n"
     ]
    },
    {
     "name": "stderr",
     "output_type": "stream",
     "text": [
      "\n"
     ]
    },
    {
     "name": "stdout",
     "output_type": "stream",
     "text": [
      "\n",
      "      Epoch    GPU_mem   box_loss   cls_loss   dfl_loss  Instances       Size\n"
     ]
    },
    {
     "name": "stderr",
     "output_type": "stream",
     "text": [
      "     63/100       2.8G      2.682      1.086      2.101          2        640: 100%|██████████| 63/63 [00:12<00:00,  4.95it/s]\n",
      "                 Class     Images  Instances      Box(P          R      mAP50  mAP50-95): 100%|██████████| 2/2 [00:00<00:00,  5.46it/s]"
     ]
    },
    {
     "name": "stdout",
     "output_type": "stream",
     "text": [
      "                   all         30       1041      0.973      0.945      0.987      0.608\n"
     ]
    },
    {
     "name": "stderr",
     "output_type": "stream",
     "text": [
      "\n"
     ]
    },
    {
     "name": "stdout",
     "output_type": "stream",
     "text": [
      "\n",
      "      Epoch    GPU_mem   box_loss   cls_loss   dfl_loss  Instances       Size\n"
     ]
    },
    {
     "name": "stderr",
     "output_type": "stream",
     "text": [
      "     64/100      2.86G       2.65       1.04       2.12         90        640: 100%|██████████| 63/63 [00:12<00:00,  4.93it/s]\n",
      "                 Class     Images  Instances      Box(P          R      mAP50  mAP50-95): 100%|██████████| 2/2 [00:00<00:00,  5.77it/s]"
     ]
    },
    {
     "name": "stdout",
     "output_type": "stream",
     "text": [
      "                   all         30       1041      0.969      0.939      0.985      0.607\n"
     ]
    },
    {
     "name": "stderr",
     "output_type": "stream",
     "text": [
      "\n"
     ]
    },
    {
     "name": "stdout",
     "output_type": "stream",
     "text": [
      "\n",
      "      Epoch    GPU_mem   box_loss   cls_loss   dfl_loss  Instances       Size\n"
     ]
    },
    {
     "name": "stderr",
     "output_type": "stream",
     "text": [
      "     65/100       4.2G       2.69      1.052      2.079         36        640: 100%|██████████| 63/63 [00:18<00:00,  3.38it/s]\n",
      "                 Class     Images  Instances      Box(P          R      mAP50  mAP50-95): 100%|██████████| 2/2 [00:00<00:00,  5.73it/s]"
     ]
    },
    {
     "name": "stdout",
     "output_type": "stream",
     "text": [
      "                   all         30       1041      0.974      0.947      0.987      0.619\n"
     ]
    },
    {
     "name": "stderr",
     "output_type": "stream",
     "text": [
      "\n"
     ]
    },
    {
     "name": "stdout",
     "output_type": "stream",
     "text": [
      "\n",
      "      Epoch    GPU_mem   box_loss   cls_loss   dfl_loss  Instances       Size\n"
     ]
    },
    {
     "name": "stderr",
     "output_type": "stream",
     "text": [
      "     66/100      3.76G      2.676      1.049      2.098        245        640: 100%|██████████| 63/63 [00:12<00:00,  4.85it/s]\n",
      "                 Class     Images  Instances      Box(P          R      mAP50  mAP50-95): 100%|██████████| 2/2 [00:00<00:00,  5.73it/s]"
     ]
    },
    {
     "name": "stdout",
     "output_type": "stream",
     "text": [
      "                   all         30       1041      0.967      0.966      0.988      0.616\n"
     ]
    },
    {
     "name": "stderr",
     "output_type": "stream",
     "text": [
      "\n"
     ]
    },
    {
     "name": "stdout",
     "output_type": "stream",
     "text": [
      "\n",
      "      Epoch    GPU_mem   box_loss   cls_loss   dfl_loss  Instances       Size\n"
     ]
    },
    {
     "name": "stderr",
     "output_type": "stream",
     "text": [
      "     67/100      3.04G      2.602       1.02      2.113         20        640: 100%|██████████| 63/63 [00:12<00:00,  5.15it/s]\n",
      "                 Class     Images  Instances      Box(P          R      mAP50  mAP50-95): 100%|██████████| 2/2 [00:00<00:00,  5.70it/s]"
     ]
    },
    {
     "name": "stdout",
     "output_type": "stream",
     "text": [
      "                   all         30       1041      0.976      0.959      0.987      0.606\n"
     ]
    },
    {
     "name": "stderr",
     "output_type": "stream",
     "text": [
      "\n"
     ]
    },
    {
     "name": "stdout",
     "output_type": "stream",
     "text": [
      "\n",
      "      Epoch    GPU_mem   box_loss   cls_loss   dfl_loss  Instances       Size\n"
     ]
    },
    {
     "name": "stderr",
     "output_type": "stream",
     "text": [
      "     68/100      4.48G      2.656       1.04      2.095         34        640: 100%|██████████| 63/63 [00:21<00:00,  2.90it/s]\n",
      "                 Class     Images  Instances      Box(P          R      mAP50  mAP50-95): 100%|██████████| 2/2 [00:00<00:00,  5.70it/s]"
     ]
    },
    {
     "name": "stdout",
     "output_type": "stream",
     "text": [
      "                   all         30       1041       0.96      0.963      0.982      0.602\n"
     ]
    },
    {
     "name": "stderr",
     "output_type": "stream",
     "text": [
      "\n"
     ]
    },
    {
     "name": "stdout",
     "output_type": "stream",
     "text": [
      "\n",
      "      Epoch    GPU_mem   box_loss   cls_loss   dfl_loss  Instances       Size\n"
     ]
    },
    {
     "name": "stderr",
     "output_type": "stream",
     "text": [
      "     69/100      4.76G      2.656      1.037      2.083         66        640: 100%|██████████| 63/63 [00:29<00:00,  2.15it/s]\n",
      "                 Class     Images  Instances      Box(P          R      mAP50  mAP50-95): 100%|██████████| 2/2 [00:00<00:00,  5.44it/s]"
     ]
    },
    {
     "name": "stdout",
     "output_type": "stream",
     "text": [
      "                   all         30       1041      0.976       0.96      0.988      0.612\n"
     ]
    },
    {
     "name": "stderr",
     "output_type": "stream",
     "text": [
      "\n"
     ]
    },
    {
     "name": "stdout",
     "output_type": "stream",
     "text": [
      "\n",
      "      Epoch    GPU_mem   box_loss   cls_loss   dfl_loss  Instances       Size\n"
     ]
    },
    {
     "name": "stderr",
     "output_type": "stream",
     "text": [
      "     70/100      3.68G      2.622       1.02      2.073         58        640: 100%|██████████| 63/63 [00:12<00:00,  4.99it/s]\n",
      "                 Class     Images  Instances      Box(P          R      mAP50  mAP50-95): 100%|██████████| 2/2 [00:00<00:00,  5.80it/s]"
     ]
    },
    {
     "name": "stdout",
     "output_type": "stream",
     "text": [
      "                   all         30       1041      0.972      0.948      0.988      0.614\n"
     ]
    },
    {
     "name": "stderr",
     "output_type": "stream",
     "text": [
      "\n"
     ]
    },
    {
     "name": "stdout",
     "output_type": "stream",
     "text": [
      "\n",
      "      Epoch    GPU_mem   box_loss   cls_loss   dfl_loss  Instances       Size\n"
     ]
    },
    {
     "name": "stderr",
     "output_type": "stream",
     "text": [
      "     71/100      3.09G      2.601       1.01      2.068         48        640: 100%|██████████| 63/63 [00:12<00:00,  5.05it/s]\n",
      "                 Class     Images  Instances      Box(P          R      mAP50  mAP50-95): 100%|██████████| 2/2 [00:00<00:00,  5.49it/s]"
     ]
    },
    {
     "name": "stdout",
     "output_type": "stream",
     "text": [
      "                   all         30       1041      0.965       0.96      0.986      0.611\n"
     ]
    },
    {
     "name": "stderr",
     "output_type": "stream",
     "text": [
      "\n"
     ]
    },
    {
     "name": "stdout",
     "output_type": "stream",
     "text": [
      "\n",
      "      Epoch    GPU_mem   box_loss   cls_loss   dfl_loss  Instances       Size\n"
     ]
    },
    {
     "name": "stderr",
     "output_type": "stream",
     "text": [
      "     72/100      2.99G      2.574      1.031      2.084          4        640: 100%|██████████| 63/63 [00:12<00:00,  5.07it/s]\n",
      "                 Class     Images  Instances      Box(P          R      mAP50  mAP50-95): 100%|██████████| 2/2 [00:00<00:00,  4.97it/s]"
     ]
    },
    {
     "name": "stdout",
     "output_type": "stream",
     "text": [
      "                   all         30       1041      0.966      0.965      0.988      0.611\n"
     ]
    },
    {
     "name": "stderr",
     "output_type": "stream",
     "text": [
      "\n"
     ]
    },
    {
     "name": "stdout",
     "output_type": "stream",
     "text": [
      "\n",
      "      Epoch    GPU_mem   box_loss   cls_loss   dfl_loss  Instances       Size\n"
     ]
    },
    {
     "name": "stderr",
     "output_type": "stream",
     "text": [
      "     73/100      4.31G      2.595      1.017      2.091         27        640: 100%|██████████| 63/63 [00:24<00:00,  2.60it/s]\n",
      "                 Class     Images  Instances      Box(P          R      mAP50  mAP50-95): 100%|██████████| 2/2 [00:02<00:00,  1.27s/it]"
     ]
    },
    {
     "name": "stdout",
     "output_type": "stream",
     "text": [
      "                   all         30       1041      0.963      0.959      0.987      0.614\n"
     ]
    },
    {
     "name": "stderr",
     "output_type": "stream",
     "text": [
      "\n"
     ]
    },
    {
     "name": "stdout",
     "output_type": "stream",
     "text": [
      "\n",
      "      Epoch    GPU_mem   box_loss   cls_loss   dfl_loss  Instances       Size\n"
     ]
    },
    {
     "name": "stderr",
     "output_type": "stream",
     "text": [
      "     74/100      4.09G      2.591      1.013      2.071         28        640: 100%|██████████| 63/63 [00:17<00:00,  3.64it/s]\n",
      "                 Class     Images  Instances      Box(P          R      mAP50  mAP50-95): 100%|██████████| 2/2 [00:00<00:00,  5.58it/s]"
     ]
    },
    {
     "name": "stdout",
     "output_type": "stream",
     "text": [
      "                   all         30       1041      0.965      0.956      0.987      0.612\n"
     ]
    },
    {
     "name": "stderr",
     "output_type": "stream",
     "text": [
      "\n"
     ]
    },
    {
     "name": "stdout",
     "output_type": "stream",
     "text": [
      "\n",
      "      Epoch    GPU_mem   box_loss   cls_loss   dfl_loss  Instances       Size\n"
     ]
    },
    {
     "name": "stderr",
     "output_type": "stream",
     "text": [
      "     75/100      3.95G      2.596      1.019       2.07         11        640: 100%|██████████| 63/63 [00:16<00:00,  3.93it/s]\n",
      "                 Class     Images  Instances      Box(P          R      mAP50  mAP50-95): 100%|██████████| 2/2 [00:00<00:00,  5.72it/s]"
     ]
    },
    {
     "name": "stdout",
     "output_type": "stream",
     "text": [
      "                   all         30       1041      0.974      0.957      0.988       0.62\n"
     ]
    },
    {
     "name": "stderr",
     "output_type": "stream",
     "text": [
      "\n"
     ]
    },
    {
     "name": "stdout",
     "output_type": "stream",
     "text": [
      "\n",
      "      Epoch    GPU_mem   box_loss   cls_loss   dfl_loss  Instances       Size\n"
     ]
    },
    {
     "name": "stderr",
     "output_type": "stream",
     "text": [
      "     76/100      4.16G      2.597      1.019      2.057        168        640: 100%|██████████| 63/63 [00:18<00:00,  3.42it/s]\n",
      "                 Class     Images  Instances      Box(P          R      mAP50  mAP50-95): 100%|██████████| 2/2 [00:00<00:00,  5.76it/s]"
     ]
    },
    {
     "name": "stdout",
     "output_type": "stream",
     "text": [
      "                   all         30       1041      0.973      0.961      0.987      0.616\n"
     ]
    },
    {
     "name": "stderr",
     "output_type": "stream",
     "text": [
      "\n"
     ]
    },
    {
     "name": "stdout",
     "output_type": "stream",
     "text": [
      "\n",
      "      Epoch    GPU_mem   box_loss   cls_loss   dfl_loss  Instances       Size\n"
     ]
    },
    {
     "name": "stderr",
     "output_type": "stream",
     "text": [
      "     77/100      3.11G      2.568     0.9973       2.05        230        640: 100%|██████████| 63/63 [00:12<00:00,  5.10it/s]\n",
      "                 Class     Images  Instances      Box(P          R      mAP50  mAP50-95): 100%|██████████| 2/2 [00:00<00:00,  5.69it/s]\n"
     ]
    },
    {
     "name": "stdout",
     "output_type": "stream",
     "text": [
      "                   all         30       1041       0.97      0.956      0.987      0.619\n",
      "\n",
      "      Epoch    GPU_mem   box_loss   cls_loss   dfl_loss  Instances       Size\n"
     ]
    },
    {
     "name": "stderr",
     "output_type": "stream",
     "text": [
      "     78/100      4.03G      2.612      1.019      2.075         90        640: 100%|██████████| 63/63 [00:15<00:00,  3.97it/s]\n",
      "                 Class     Images  Instances      Box(P          R      mAP50  mAP50-95): 100%|██████████| 2/2 [00:00<00:00,  5.69it/s]\n"
     ]
    },
    {
     "name": "stdout",
     "output_type": "stream",
     "text": [
      "                   all         30       1041      0.966      0.957      0.985      0.611\n",
      "\n",
      "      Epoch    GPU_mem   box_loss   cls_loss   dfl_loss  Instances       Size\n"
     ]
    },
    {
     "name": "stderr",
     "output_type": "stream",
     "text": [
      "     79/100      3.25G      2.598      1.019      2.072         26        640: 100%|██████████| 63/63 [00:12<00:00,  5.02it/s]\n",
      "                 Class     Images  Instances      Box(P          R      mAP50  mAP50-95): 100%|██████████| 2/2 [00:00<00:00,  5.67it/s]"
     ]
    },
    {
     "name": "stdout",
     "output_type": "stream",
     "text": [
      "                   all         30       1041      0.972      0.964      0.988      0.618\n"
     ]
    },
    {
     "name": "stderr",
     "output_type": "stream",
     "text": [
      "\n"
     ]
    },
    {
     "name": "stdout",
     "output_type": "stream",
     "text": [
      "\n",
      "      Epoch    GPU_mem   box_loss   cls_loss   dfl_loss  Instances       Size\n"
     ]
    },
    {
     "name": "stderr",
     "output_type": "stream",
     "text": [
      "     80/100      3.76G      2.585      1.011      2.061        240        640: 100%|██████████| 63/63 [00:13<00:00,  4.79it/s]\n",
      "                 Class     Images  Instances      Box(P          R      mAP50  mAP50-95): 100%|██████████| 2/2 [00:00<00:00,  5.61it/s]"
     ]
    },
    {
     "name": "stdout",
     "output_type": "stream",
     "text": [
      "                   all         30       1041      0.975      0.951      0.986      0.616\n"
     ]
    },
    {
     "name": "stderr",
     "output_type": "stream",
     "text": [
      "\n"
     ]
    },
    {
     "name": "stdout",
     "output_type": "stream",
     "text": [
      "\n",
      "      Epoch    GPU_mem   box_loss   cls_loss   dfl_loss  Instances       Size\n"
     ]
    },
    {
     "name": "stderr",
     "output_type": "stream",
     "text": [
      "     81/100      3.14G      2.527     0.9852      2.037        152        640: 100%|██████████| 63/63 [00:12<00:00,  5.07it/s]\n",
      "                 Class     Images  Instances      Box(P          R      mAP50  mAP50-95): 100%|██████████| 2/2 [00:00<00:00,  5.75it/s]"
     ]
    },
    {
     "name": "stdout",
     "output_type": "stream",
     "text": [
      "                   all         30       1041      0.973      0.958      0.987      0.613\n"
     ]
    },
    {
     "name": "stderr",
     "output_type": "stream",
     "text": [
      "\n"
     ]
    },
    {
     "name": "stdout",
     "output_type": "stream",
     "text": [
      "\n",
      "      Epoch    GPU_mem   box_loss   cls_loss   dfl_loss  Instances       Size\n"
     ]
    },
    {
     "name": "stderr",
     "output_type": "stream",
     "text": [
      "     82/100      3.67G      2.571      1.007      2.058         72        640: 100%|██████████| 63/63 [00:13<00:00,  4.69it/s]\n",
      "                 Class     Images  Instances      Box(P          R      mAP50  mAP50-95): 100%|██████████| 2/2 [00:00<00:00,  5.76it/s]"
     ]
    },
    {
     "name": "stdout",
     "output_type": "stream",
     "text": [
      "                   all         30       1041       0.97      0.954      0.986      0.614\n"
     ]
    },
    {
     "name": "stderr",
     "output_type": "stream",
     "text": [
      "\n"
     ]
    },
    {
     "name": "stdout",
     "output_type": "stream",
     "text": [
      "\n",
      "      Epoch    GPU_mem   box_loss   cls_loss   dfl_loss  Instances       Size\n"
     ]
    },
    {
     "name": "stderr",
     "output_type": "stream",
     "text": [
      "     83/100      3.15G      2.532     0.9904      2.059         69        640: 100%|██████████| 63/63 [00:12<00:00,  5.02it/s]\n",
      "                 Class     Images  Instances      Box(P          R      mAP50  mAP50-95): 100%|██████████| 2/2 [00:00<00:00,  5.76it/s]"
     ]
    },
    {
     "name": "stdout",
     "output_type": "stream",
     "text": [
      "                   all         30       1041      0.976      0.954      0.987      0.619\n"
     ]
    },
    {
     "name": "stderr",
     "output_type": "stream",
     "text": [
      "\n"
     ]
    },
    {
     "name": "stdout",
     "output_type": "stream",
     "text": [
      "\n",
      "      Epoch    GPU_mem   box_loss   cls_loss   dfl_loss  Instances       Size\n"
     ]
    },
    {
     "name": "stderr",
     "output_type": "stream",
     "text": [
      "     84/100      2.92G      2.498     0.9757      2.039         31        640: 100%|██████████| 63/63 [00:12<00:00,  4.86it/s]\n",
      "                 Class     Images  Instances      Box(P          R      mAP50  mAP50-95): 100%|██████████| 2/2 [00:00<00:00,  5.61it/s]"
     ]
    },
    {
     "name": "stdout",
     "output_type": "stream",
     "text": [
      "                   all         30       1041      0.972      0.958      0.986      0.619\n"
     ]
    },
    {
     "name": "stderr",
     "output_type": "stream",
     "text": [
      "\n"
     ]
    },
    {
     "name": "stdout",
     "output_type": "stream",
     "text": [
      "\n",
      "      Epoch    GPU_mem   box_loss   cls_loss   dfl_loss  Instances       Size\n"
     ]
    },
    {
     "name": "stderr",
     "output_type": "stream",
     "text": [
      "     85/100      2.85G      2.507     0.9784      2.064         37        640: 100%|██████████| 63/63 [00:12<00:00,  4.95it/s]\n",
      "                 Class     Images  Instances      Box(P          R      mAP50  mAP50-95): 100%|██████████| 2/2 [00:00<00:00,  5.73it/s]"
     ]
    },
    {
     "name": "stdout",
     "output_type": "stream",
     "text": [
      "                   all         30       1041      0.977      0.956      0.986      0.614\n"
     ]
    },
    {
     "name": "stderr",
     "output_type": "stream",
     "text": [
      "\n"
     ]
    },
    {
     "name": "stdout",
     "output_type": "stream",
     "text": [
      "\n",
      "      Epoch    GPU_mem   box_loss   cls_loss   dfl_loss  Instances       Size\n"
     ]
    },
    {
     "name": "stderr",
     "output_type": "stream",
     "text": [
      "     86/100      3.99G      2.542      1.005      2.063          4        640: 100%|██████████| 63/63 [00:16<00:00,  3.91it/s]\n",
      "                 Class     Images  Instances      Box(P          R      mAP50  mAP50-95): 100%|██████████| 2/2 [00:00<00:00,  5.58it/s]"
     ]
    },
    {
     "name": "stdout",
     "output_type": "stream",
     "text": [
      "                   all         30       1041      0.973      0.957      0.986      0.611\n"
     ]
    },
    {
     "name": "stderr",
     "output_type": "stream",
     "text": [
      "\n"
     ]
    },
    {
     "name": "stdout",
     "output_type": "stream",
     "text": [
      "\n",
      "      Epoch    GPU_mem   box_loss   cls_loss   dfl_loss  Instances       Size\n"
     ]
    },
    {
     "name": "stderr",
     "output_type": "stream",
     "text": [
      "     87/100      3.66G      2.507     0.9738      2.049         53        640: 100%|██████████| 63/63 [00:12<00:00,  4.99it/s]\n",
      "                 Class     Images  Instances      Box(P          R      mAP50  mAP50-95): 100%|██████████| 2/2 [00:00<00:00,  5.64it/s]"
     ]
    },
    {
     "name": "stdout",
     "output_type": "stream",
     "text": [
      "                   all         30       1041      0.967      0.959      0.985      0.608\n"
     ]
    },
    {
     "name": "stderr",
     "output_type": "stream",
     "text": [
      "\n"
     ]
    },
    {
     "name": "stdout",
     "output_type": "stream",
     "text": [
      "\n",
      "      Epoch    GPU_mem   box_loss   cls_loss   dfl_loss  Instances       Size\n"
     ]
    },
    {
     "name": "stderr",
     "output_type": "stream",
     "text": [
      "     88/100      3.27G      2.492     0.9774      2.056          6        640: 100%|██████████| 63/63 [00:13<00:00,  4.70it/s]\n",
      "                 Class     Images  Instances      Box(P          R      mAP50  mAP50-95): 100%|██████████| 2/2 [00:00<00:00,  5.23it/s]\n"
     ]
    },
    {
     "name": "stdout",
     "output_type": "stream",
     "text": [
      "                   all         30       1041      0.972       0.96      0.986      0.613\n",
      "\n",
      "      Epoch    GPU_mem   box_loss   cls_loss   dfl_loss  Instances       Size\n"
     ]
    },
    {
     "name": "stderr",
     "output_type": "stream",
     "text": [
      "     89/100      3.25G      2.521     0.9789      2.053         20        640: 100%|██████████| 63/63 [00:13<00:00,  4.82it/s]\n",
      "                 Class     Images  Instances      Box(P          R      mAP50  mAP50-95): 100%|██████████| 2/2 [00:00<00:00,  5.09it/s]"
     ]
    },
    {
     "name": "stdout",
     "output_type": "stream",
     "text": [
      "                   all         30       1041      0.969      0.965      0.988      0.616\n"
     ]
    },
    {
     "name": "stderr",
     "output_type": "stream",
     "text": [
      "\n"
     ]
    },
    {
     "name": "stdout",
     "output_type": "stream",
     "text": [
      "\n",
      "      Epoch    GPU_mem   box_loss   cls_loss   dfl_loss  Instances       Size\n"
     ]
    },
    {
     "name": "stderr",
     "output_type": "stream",
     "text": [
      "     90/100      3.96G      2.443     0.9542       2.05         12        640: 100%|██████████| 63/63 [00:15<00:00,  4.17it/s]\n",
      "                 Class     Images  Instances      Box(P          R      mAP50  mAP50-95): 100%|██████████| 2/2 [00:00<00:00,  4.65it/s]"
     ]
    },
    {
     "name": "stdout",
     "output_type": "stream",
     "text": [
      "                   all         30       1041      0.972      0.945      0.986      0.617\n"
     ]
    },
    {
     "name": "stderr",
     "output_type": "stream",
     "text": [
      "\n"
     ]
    },
    {
     "name": "stdout",
     "output_type": "stream",
     "text": [
      "Closing dataloader mosaic\n",
      "\n",
      "      Epoch    GPU_mem   box_loss   cls_loss   dfl_loss  Instances       Size\n"
     ]
    },
    {
     "name": "stderr",
     "output_type": "stream",
     "text": [
      "     91/100      2.72G      2.424     0.9023       2.11         67        640: 100%|██████████| 63/63 [00:12<00:00,  4.96it/s]\n",
      "                 Class     Images  Instances      Box(P          R      mAP50  mAP50-95): 100%|██████████| 2/2 [00:00<00:00,  5.56it/s]"
     ]
    },
    {
     "name": "stdout",
     "output_type": "stream",
     "text": [
      "                   all         30       1041      0.977       0.96      0.988      0.609\n"
     ]
    },
    {
     "name": "stderr",
     "output_type": "stream",
     "text": [
      "\n"
     ]
    },
    {
     "name": "stdout",
     "output_type": "stream",
     "text": [
      "\n",
      "      Epoch    GPU_mem   box_loss   cls_loss   dfl_loss  Instances       Size\n"
     ]
    },
    {
     "name": "stderr",
     "output_type": "stream",
     "text": [
      "     92/100      2.52G      2.379     0.8813      2.106         17        640: 100%|██████████| 63/63 [00:11<00:00,  5.31it/s]\n",
      "                 Class     Images  Instances      Box(P          R      mAP50  mAP50-95): 100%|██████████| 2/2 [00:00<00:00,  5.35it/s]"
     ]
    },
    {
     "name": "stdout",
     "output_type": "stream",
     "text": [
      "                   all         30       1041      0.979      0.959      0.987      0.605\n"
     ]
    },
    {
     "name": "stderr",
     "output_type": "stream",
     "text": [
      "\n"
     ]
    },
    {
     "name": "stdout",
     "output_type": "stream",
     "text": [
      "\n",
      "      Epoch    GPU_mem   box_loss   cls_loss   dfl_loss  Instances       Size\n"
     ]
    },
    {
     "name": "stderr",
     "output_type": "stream",
     "text": [
      "     93/100      2.71G       2.36     0.8674      2.113        151        640: 100%|██████████| 63/63 [00:12<00:00,  5.15it/s]\n",
      "                 Class     Images  Instances      Box(P          R      mAP50  mAP50-95): 100%|██████████| 2/2 [00:00<00:00,  4.04it/s]"
     ]
    },
    {
     "name": "stdout",
     "output_type": "stream",
     "text": [
      "                   all         30       1041      0.969      0.958      0.988      0.611\n"
     ]
    },
    {
     "name": "stderr",
     "output_type": "stream",
     "text": [
      "\n"
     ]
    },
    {
     "name": "stdout",
     "output_type": "stream",
     "text": [
      "\n",
      "      Epoch    GPU_mem   box_loss   cls_loss   dfl_loss  Instances       Size\n"
     ]
    },
    {
     "name": "stderr",
     "output_type": "stream",
     "text": [
      "     94/100       2.4G      2.357     0.8716      2.098         26        640: 100%|██████████| 63/63 [00:13<00:00,  4.60it/s]\n",
      "                 Class     Images  Instances      Box(P          R      mAP50  mAP50-95): 100%|██████████| 2/2 [00:00<00:00,  4.74it/s]"
     ]
    },
    {
     "name": "stdout",
     "output_type": "stream",
     "text": [
      "                   all         30       1041      0.973      0.959      0.988      0.616\n"
     ]
    },
    {
     "name": "stderr",
     "output_type": "stream",
     "text": [
      "\n"
     ]
    },
    {
     "name": "stdout",
     "output_type": "stream",
     "text": [
      "\n",
      "      Epoch    GPU_mem   box_loss   cls_loss   dfl_loss  Instances       Size\n"
     ]
    },
    {
     "name": "stderr",
     "output_type": "stream",
     "text": [
      "     95/100       2.8G      2.353     0.8729      2.099          7        640: 100%|██████████| 63/63 [00:13<00:00,  4.73it/s]\n",
      "                 Class     Images  Instances      Box(P          R      mAP50  mAP50-95): 100%|██████████| 2/2 [00:00<00:00,  5.33it/s]"
     ]
    },
    {
     "name": "stdout",
     "output_type": "stream",
     "text": [
      "                   all         30       1041      0.971       0.96      0.988      0.615\n"
     ]
    },
    {
     "name": "stderr",
     "output_type": "stream",
     "text": [
      "\n"
     ]
    },
    {
     "name": "stdout",
     "output_type": "stream",
     "text": [
      "\n",
      "      Epoch    GPU_mem   box_loss   cls_loss   dfl_loss  Instances       Size\n"
     ]
    },
    {
     "name": "stderr",
     "output_type": "stream",
     "text": [
      "     96/100      2.65G      2.343     0.8674      2.114         17        640: 100%|██████████| 63/63 [00:14<00:00,  4.48it/s]\n",
      "                 Class     Images  Instances      Box(P          R      mAP50  mAP50-95): 100%|██████████| 2/2 [00:00<00:00,  5.60it/s]"
     ]
    },
    {
     "name": "stdout",
     "output_type": "stream",
     "text": [
      "                   all         30       1041      0.973      0.965      0.989      0.613\n"
     ]
    },
    {
     "name": "stderr",
     "output_type": "stream",
     "text": [
      "\n"
     ]
    },
    {
     "name": "stdout",
     "output_type": "stream",
     "text": [
      "\n",
      "      Epoch    GPU_mem   box_loss   cls_loss   dfl_loss  Instances       Size\n"
     ]
    },
    {
     "name": "stderr",
     "output_type": "stream",
     "text": [
      "     97/100      2.55G      2.352     0.8714      2.082         17        640: 100%|██████████| 63/63 [00:11<00:00,  5.26it/s]\n",
      "                 Class     Images  Instances      Box(P          R      mAP50  mAP50-95): 100%|██████████| 2/2 [00:00<00:00,  4.44it/s]"
     ]
    },
    {
     "name": "stdout",
     "output_type": "stream",
     "text": [
      "                   all         30       1041      0.973      0.964      0.989      0.617\n"
     ]
    },
    {
     "name": "stderr",
     "output_type": "stream",
     "text": [
      "\n"
     ]
    },
    {
     "name": "stdout",
     "output_type": "stream",
     "text": [
      "\n",
      "      Epoch    GPU_mem   box_loss   cls_loss   dfl_loss  Instances       Size\n"
     ]
    },
    {
     "name": "stderr",
     "output_type": "stream",
     "text": [
      "     98/100      2.37G      2.349     0.8734      2.074         52        640: 100%|██████████| 63/63 [00:13<00:00,  4.72it/s]\n",
      "                 Class     Images  Instances      Box(P          R      mAP50  mAP50-95): 100%|██████████| 2/2 [00:00<00:00,  5.19it/s]"
     ]
    },
    {
     "name": "stdout",
     "output_type": "stream",
     "text": [
      "                   all         30       1041      0.974      0.956      0.989      0.613\n"
     ]
    },
    {
     "name": "stderr",
     "output_type": "stream",
     "text": [
      "\n"
     ]
    },
    {
     "name": "stdout",
     "output_type": "stream",
     "text": [
      "\n",
      "      Epoch    GPU_mem   box_loss   cls_loss   dfl_loss  Instances       Size\n"
     ]
    },
    {
     "name": "stderr",
     "output_type": "stream",
     "text": [
      "     99/100       2.6G      2.331      0.877      2.083         91        640: 100%|██████████| 63/63 [00:11<00:00,  5.29it/s]\n",
      "                 Class     Images  Instances      Box(P          R      mAP50  mAP50-95): 100%|██████████| 2/2 [00:00<00:00,  5.63it/s]"
     ]
    },
    {
     "name": "stdout",
     "output_type": "stream",
     "text": [
      "                   all         30       1041      0.981      0.951      0.989      0.616\n"
     ]
    },
    {
     "name": "stderr",
     "output_type": "stream",
     "text": [
      "\n"
     ]
    },
    {
     "name": "stdout",
     "output_type": "stream",
     "text": [
      "\n",
      "      Epoch    GPU_mem   box_loss   cls_loss   dfl_loss  Instances       Size\n"
     ]
    },
    {
     "name": "stderr",
     "output_type": "stream",
     "text": [
      "    100/100      2.37G      2.316     0.8601      2.099          7        640: 100%|██████████| 63/63 [00:12<00:00,  5.05it/s]\n",
      "                 Class     Images  Instances      Box(P          R      mAP50  mAP50-95): 100%|██████████| 2/2 [00:00<00:00,  5.59it/s]"
     ]
    },
    {
     "name": "stdout",
     "output_type": "stream",
     "text": [
      "                   all         30       1041      0.977      0.961      0.989       0.62\n"
     ]
    },
    {
     "name": "stderr",
     "output_type": "stream",
     "text": [
      "\n"
     ]
    },
    {
     "name": "stdout",
     "output_type": "stream",
     "text": [
      "\n",
      "100 epochs completed in 0.415 hours.\n",
      "Optimizer stripped from runs/train/E100B8/weights/last.pt, 5.8MB\n",
      "Optimizer stripped from runs/train/E100B8/weights/best.pt, 5.8MB\n",
      "\n",
      "Validating runs/train/E100B8/weights/best.pt...\n",
      "Ultralytics YOLOv8.2.101 🚀 Python-3.10.12 torch-2.4.1+cu121 CUDA:0 (NVIDIA GeForce RTX 3050 Laptop GPU, 4096MiB)\n",
      "YOLOv10n summary (fused): 285 layers, 2,694,806 parameters, 0 gradients, 8.2 GFLOPs\n"
     ]
    },
    {
     "name": "stderr",
     "output_type": "stream",
     "text": [
      "                 Class     Images  Instances      Box(P          R      mAP50  mAP50-95): 100%|██████████| 2/2 [00:01<00:00,  1.01it/s]\n"
     ]
    },
    {
     "name": "stdout",
     "output_type": "stream",
     "text": [
      "                   all         30       1041      0.975      0.961      0.989       0.62\n",
      "Speed: 0.3ms preprocess, 4.2ms inference, 0.0ms loss, 0.1ms postprocess per image\n",
      "Results saved to \u001b[1mruns/train/E100B8\u001b[0m\n"
     ]
    },
    {
     "data": {
      "text/plain": [
       "ultralytics.utils.metrics.DetMetrics object with attributes:\n",
       "\n",
       "ap_class_index: array([0])\n",
       "box: ultralytics.utils.metrics.Metric object\n",
       "confusion_matrix: <ultralytics.utils.metrics.ConfusionMatrix object at 0x7f8deea36a40>\n",
       "curves: ['Precision-Recall(B)', 'F1-Confidence(B)', 'Precision-Confidence(B)', 'Recall-Confidence(B)']\n",
       "curves_results: [[array([          0,    0.001001,    0.002002,    0.003003,    0.004004,    0.005005,    0.006006,    0.007007,    0.008008,    0.009009,     0.01001,    0.011011,    0.012012,    0.013013,    0.014014,    0.015015,    0.016016,    0.017017,    0.018018,    0.019019,     0.02002,    0.021021,    0.022022,    0.023023,\n",
       "          0.024024,    0.025025,    0.026026,    0.027027,    0.028028,    0.029029,     0.03003,    0.031031,    0.032032,    0.033033,    0.034034,    0.035035,    0.036036,    0.037037,    0.038038,    0.039039,     0.04004,    0.041041,    0.042042,    0.043043,    0.044044,    0.045045,    0.046046,    0.047047,\n",
       "          0.048048,    0.049049,     0.05005,    0.051051,    0.052052,    0.053053,    0.054054,    0.055055,    0.056056,    0.057057,    0.058058,    0.059059,     0.06006,    0.061061,    0.062062,    0.063063,    0.064064,    0.065065,    0.066066,    0.067067,    0.068068,    0.069069,     0.07007,    0.071071,\n",
       "          0.072072,    0.073073,    0.074074,    0.075075,    0.076076,    0.077077,    0.078078,    0.079079,     0.08008,    0.081081,    0.082082,    0.083083,    0.084084,    0.085085,    0.086086,    0.087087,    0.088088,    0.089089,     0.09009,    0.091091,    0.092092,    0.093093,    0.094094,    0.095095,\n",
       "          0.096096,    0.097097,    0.098098,    0.099099,      0.1001,      0.1011,      0.1021,      0.1031,      0.1041,     0.10511,     0.10611,     0.10711,     0.10811,     0.10911,     0.11011,     0.11111,     0.11211,     0.11311,     0.11411,     0.11512,     0.11612,     0.11712,     0.11812,     0.11912,\n",
       "           0.12012,     0.12112,     0.12212,     0.12312,     0.12412,     0.12513,     0.12613,     0.12713,     0.12813,     0.12913,     0.13013,     0.13113,     0.13213,     0.13313,     0.13413,     0.13514,     0.13614,     0.13714,     0.13814,     0.13914,     0.14014,     0.14114,     0.14214,     0.14314,\n",
       "           0.14414,     0.14515,     0.14615,     0.14715,     0.14815,     0.14915,     0.15015,     0.15115,     0.15215,     0.15315,     0.15415,     0.15516,     0.15616,     0.15716,     0.15816,     0.15916,     0.16016,     0.16116,     0.16216,     0.16316,     0.16416,     0.16517,     0.16617,     0.16717,\n",
       "           0.16817,     0.16917,     0.17017,     0.17117,     0.17217,     0.17317,     0.17417,     0.17518,     0.17618,     0.17718,     0.17818,     0.17918,     0.18018,     0.18118,     0.18218,     0.18318,     0.18418,     0.18519,     0.18619,     0.18719,     0.18819,     0.18919,     0.19019,     0.19119,\n",
       "           0.19219,     0.19319,     0.19419,      0.1952,      0.1962,      0.1972,      0.1982,      0.1992,      0.2002,      0.2012,      0.2022,      0.2032,      0.2042,     0.20521,     0.20621,     0.20721,     0.20821,     0.20921,     0.21021,     0.21121,     0.21221,     0.21321,     0.21421,     0.21522,\n",
       "           0.21622,     0.21722,     0.21822,     0.21922,     0.22022,     0.22122,     0.22222,     0.22322,     0.22422,     0.22523,     0.22623,     0.22723,     0.22823,     0.22923,     0.23023,     0.23123,     0.23223,     0.23323,     0.23423,     0.23524,     0.23624,     0.23724,     0.23824,     0.23924,\n",
       "           0.24024,     0.24124,     0.24224,     0.24324,     0.24424,     0.24525,     0.24625,     0.24725,     0.24825,     0.24925,     0.25025,     0.25125,     0.25225,     0.25325,     0.25425,     0.25526,     0.25626,     0.25726,     0.25826,     0.25926,     0.26026,     0.26126,     0.26226,     0.26326,\n",
       "           0.26426,     0.26527,     0.26627,     0.26727,     0.26827,     0.26927,     0.27027,     0.27127,     0.27227,     0.27327,     0.27427,     0.27528,     0.27628,     0.27728,     0.27828,     0.27928,     0.28028,     0.28128,     0.28228,     0.28328,     0.28428,     0.28529,     0.28629,     0.28729,\n",
       "           0.28829,     0.28929,     0.29029,     0.29129,     0.29229,     0.29329,     0.29429,      0.2953,      0.2963,      0.2973,      0.2983,      0.2993,      0.3003,      0.3013,      0.3023,      0.3033,      0.3043,     0.30531,     0.30631,     0.30731,     0.30831,     0.30931,     0.31031,     0.31131,\n",
       "           0.31231,     0.31331,     0.31431,     0.31532,     0.31632,     0.31732,     0.31832,     0.31932,     0.32032,     0.32132,     0.32232,     0.32332,     0.32432,     0.32533,     0.32633,     0.32733,     0.32833,     0.32933,     0.33033,     0.33133,     0.33233,     0.33333,     0.33433,     0.33534,\n",
       "           0.33634,     0.33734,     0.33834,     0.33934,     0.34034,     0.34134,     0.34234,     0.34334,     0.34434,     0.34535,     0.34635,     0.34735,     0.34835,     0.34935,     0.35035,     0.35135,     0.35235,     0.35335,     0.35435,     0.35536,     0.35636,     0.35736,     0.35836,     0.35936,\n",
       "           0.36036,     0.36136,     0.36236,     0.36336,     0.36436,     0.36537,     0.36637,     0.36737,     0.36837,     0.36937,     0.37037,     0.37137,     0.37237,     0.37337,     0.37437,     0.37538,     0.37638,     0.37738,     0.37838,     0.37938,     0.38038,     0.38138,     0.38238,     0.38338,\n",
       "           0.38438,     0.38539,     0.38639,     0.38739,     0.38839,     0.38939,     0.39039,     0.39139,     0.39239,     0.39339,     0.39439,      0.3954,      0.3964,      0.3974,      0.3984,      0.3994,      0.4004,      0.4014,      0.4024,      0.4034,      0.4044,     0.40541,     0.40641,     0.40741,\n",
       "           0.40841,     0.40941,     0.41041,     0.41141,     0.41241,     0.41341,     0.41441,     0.41542,     0.41642,     0.41742,     0.41842,     0.41942,     0.42042,     0.42142,     0.42242,     0.42342,     0.42442,     0.42543,     0.42643,     0.42743,     0.42843,     0.42943,     0.43043,     0.43143,\n",
       "           0.43243,     0.43343,     0.43443,     0.43544,     0.43644,     0.43744,     0.43844,     0.43944,     0.44044,     0.44144,     0.44244,     0.44344,     0.44444,     0.44545,     0.44645,     0.44745,     0.44845,     0.44945,     0.45045,     0.45145,     0.45245,     0.45345,     0.45445,     0.45546,\n",
       "           0.45646,     0.45746,     0.45846,     0.45946,     0.46046,     0.46146,     0.46246,     0.46346,     0.46446,     0.46547,     0.46647,     0.46747,     0.46847,     0.46947,     0.47047,     0.47147,     0.47247,     0.47347,     0.47447,     0.47548,     0.47648,     0.47748,     0.47848,     0.47948,\n",
       "           0.48048,     0.48148,     0.48248,     0.48348,     0.48448,     0.48549,     0.48649,     0.48749,     0.48849,     0.48949,     0.49049,     0.49149,     0.49249,     0.49349,     0.49449,      0.4955,      0.4965,      0.4975,      0.4985,      0.4995,      0.5005,      0.5015,      0.5025,      0.5035,\n",
       "            0.5045,     0.50551,     0.50651,     0.50751,     0.50851,     0.50951,     0.51051,     0.51151,     0.51251,     0.51351,     0.51451,     0.51552,     0.51652,     0.51752,     0.51852,     0.51952,     0.52052,     0.52152,     0.52252,     0.52352,     0.52452,     0.52553,     0.52653,     0.52753,\n",
       "           0.52853,     0.52953,     0.53053,     0.53153,     0.53253,     0.53353,     0.53453,     0.53554,     0.53654,     0.53754,     0.53854,     0.53954,     0.54054,     0.54154,     0.54254,     0.54354,     0.54454,     0.54555,     0.54655,     0.54755,     0.54855,     0.54955,     0.55055,     0.55155,\n",
       "           0.55255,     0.55355,     0.55455,     0.55556,     0.55656,     0.55756,     0.55856,     0.55956,     0.56056,     0.56156,     0.56256,     0.56356,     0.56456,     0.56557,     0.56657,     0.56757,     0.56857,     0.56957,     0.57057,     0.57157,     0.57257,     0.57357,     0.57457,     0.57558,\n",
       "           0.57658,     0.57758,     0.57858,     0.57958,     0.58058,     0.58158,     0.58258,     0.58358,     0.58458,     0.58559,     0.58659,     0.58759,     0.58859,     0.58959,     0.59059,     0.59159,     0.59259,     0.59359,     0.59459,      0.5956,      0.5966,      0.5976,      0.5986,      0.5996,\n",
       "            0.6006,      0.6016,      0.6026,      0.6036,      0.6046,     0.60561,     0.60661,     0.60761,     0.60861,     0.60961,     0.61061,     0.61161,     0.61261,     0.61361,     0.61461,     0.61562,     0.61662,     0.61762,     0.61862,     0.61962,     0.62062,     0.62162,     0.62262,     0.62362,\n",
       "           0.62462,     0.62563,     0.62663,     0.62763,     0.62863,     0.62963,     0.63063,     0.63163,     0.63263,     0.63363,     0.63463,     0.63564,     0.63664,     0.63764,     0.63864,     0.63964,     0.64064,     0.64164,     0.64264,     0.64364,     0.64464,     0.64565,     0.64665,     0.64765,\n",
       "           0.64865,     0.64965,     0.65065,     0.65165,     0.65265,     0.65365,     0.65465,     0.65566,     0.65666,     0.65766,     0.65866,     0.65966,     0.66066,     0.66166,     0.66266,     0.66366,     0.66466,     0.66567,     0.66667,     0.66767,     0.66867,     0.66967,     0.67067,     0.67167,\n",
       "           0.67267,     0.67367,     0.67467,     0.67568,     0.67668,     0.67768,     0.67868,     0.67968,     0.68068,     0.68168,     0.68268,     0.68368,     0.68468,     0.68569,     0.68669,     0.68769,     0.68869,     0.68969,     0.69069,     0.69169,     0.69269,     0.69369,     0.69469,      0.6957,\n",
       "            0.6967,      0.6977,      0.6987,      0.6997,      0.7007,      0.7017,      0.7027,      0.7037,      0.7047,     0.70571,     0.70671,     0.70771,     0.70871,     0.70971,     0.71071,     0.71171,     0.71271,     0.71371,     0.71471,     0.71572,     0.71672,     0.71772,     0.71872,     0.71972,\n",
       "           0.72072,     0.72172,     0.72272,     0.72372,     0.72472,     0.72573,     0.72673,     0.72773,     0.72873,     0.72973,     0.73073,     0.73173,     0.73273,     0.73373,     0.73473,     0.73574,     0.73674,     0.73774,     0.73874,     0.73974,     0.74074,     0.74174,     0.74274,     0.74374,\n",
       "           0.74474,     0.74575,     0.74675,     0.74775,     0.74875,     0.74975,     0.75075,     0.75175,     0.75275,     0.75375,     0.75475,     0.75576,     0.75676,     0.75776,     0.75876,     0.75976,     0.76076,     0.76176,     0.76276,     0.76376,     0.76476,     0.76577,     0.76677,     0.76777,\n",
       "           0.76877,     0.76977,     0.77077,     0.77177,     0.77277,     0.77377,     0.77477,     0.77578,     0.77678,     0.77778,     0.77878,     0.77978,     0.78078,     0.78178,     0.78278,     0.78378,     0.78478,     0.78579,     0.78679,     0.78779,     0.78879,     0.78979,     0.79079,     0.79179,\n",
       "           0.79279,     0.79379,     0.79479,      0.7958,      0.7968,      0.7978,      0.7988,      0.7998,      0.8008,      0.8018,      0.8028,      0.8038,      0.8048,     0.80581,     0.80681,     0.80781,     0.80881,     0.80981,     0.81081,     0.81181,     0.81281,     0.81381,     0.81481,     0.81582,\n",
       "           0.81682,     0.81782,     0.81882,     0.81982,     0.82082,     0.82182,     0.82282,     0.82382,     0.82482,     0.82583,     0.82683,     0.82783,     0.82883,     0.82983,     0.83083,     0.83183,     0.83283,     0.83383,     0.83483,     0.83584,     0.83684,     0.83784,     0.83884,     0.83984,\n",
       "           0.84084,     0.84184,     0.84284,     0.84384,     0.84484,     0.84585,     0.84685,     0.84785,     0.84885,     0.84985,     0.85085,     0.85185,     0.85285,     0.85385,     0.85485,     0.85586,     0.85686,     0.85786,     0.85886,     0.85986,     0.86086,     0.86186,     0.86286,     0.86386,\n",
       "           0.86486,     0.86587,     0.86687,     0.86787,     0.86887,     0.86987,     0.87087,     0.87187,     0.87287,     0.87387,     0.87487,     0.87588,     0.87688,     0.87788,     0.87888,     0.87988,     0.88088,     0.88188,     0.88288,     0.88388,     0.88488,     0.88589,     0.88689,     0.88789,\n",
       "           0.88889,     0.88989,     0.89089,     0.89189,     0.89289,     0.89389,     0.89489,      0.8959,      0.8969,      0.8979,      0.8989,      0.8999,      0.9009,      0.9019,      0.9029,      0.9039,      0.9049,     0.90591,     0.90691,     0.90791,     0.90891,     0.90991,     0.91091,     0.91191,\n",
       "           0.91291,     0.91391,     0.91491,     0.91592,     0.91692,     0.91792,     0.91892,     0.91992,     0.92092,     0.92192,     0.92292,     0.92392,     0.92492,     0.92593,     0.92693,     0.92793,     0.92893,     0.92993,     0.93093,     0.93193,     0.93293,     0.93393,     0.93493,     0.93594,\n",
       "           0.93694,     0.93794,     0.93894,     0.93994,     0.94094,     0.94194,     0.94294,     0.94394,     0.94494,     0.94595,     0.94695,     0.94795,     0.94895,     0.94995,     0.95095,     0.95195,     0.95295,     0.95395,     0.95495,     0.95596,     0.95696,     0.95796,     0.95896,     0.95996,\n",
       "           0.96096,     0.96196,     0.96296,     0.96396,     0.96496,     0.96597,     0.96697,     0.96797,     0.96897,     0.96997,     0.97097,     0.97197,     0.97297,     0.97397,     0.97497,     0.97598,     0.97698,     0.97798,     0.97898,     0.97998,     0.98098,     0.98198,     0.98298,     0.98398,\n",
       "           0.98498,     0.98599,     0.98699,     0.98799,     0.98899,     0.98999,     0.99099,     0.99199,     0.99299,     0.99399,     0.99499,       0.996,       0.997,       0.998,       0.999,           1]), array([[          1,           1,           1,           1,           1,           1,           1,           1,           1,           1,           1,           1,           1,           1,     0.99807,     0.99807,     0.99807,     0.99807,     0.99807,     0.99807,     0.99807,     0.99807,     0.99807,\n",
       "            0.99807,     0.99807,     0.99807,     0.99807,     0.99807,     0.99807,     0.99807,     0.99807,     0.99807,     0.99807,     0.99807,     0.99807,     0.99807,     0.99807,     0.99807,     0.99807,     0.99807,     0.99807,     0.99807,     0.99807,     0.99807,     0.99807,     0.99807,\n",
       "            0.99807,     0.99807,     0.99807,     0.99807,     0.99807,     0.99807,     0.99807,     0.99807,     0.99807,     0.99807,     0.99807,     0.99807,     0.99807,     0.99807,     0.99807,     0.99807,     0.99807,     0.99807,     0.99807,     0.99807,     0.99807,     0.99807,     0.99807,\n",
       "            0.99807,     0.99807,     0.99807,     0.99807,     0.99807,     0.99807,     0.99807,     0.99807,     0.99807,     0.99807,     0.99807,     0.99807,     0.99807,     0.99807,     0.99807,     0.99807,     0.99807,     0.99807,     0.99807,     0.99807,     0.99807,     0.99807,     0.99807,\n",
       "            0.99807,     0.99807,     0.99807,     0.99807,     0.99807,     0.99807,     0.99807,     0.99807,     0.99807,     0.99807,     0.99807,     0.99807,     0.99807,     0.99807,     0.99807,     0.99807,     0.99807,     0.99807,     0.99807,     0.99807,     0.99807,     0.99807,     0.99807,\n",
       "            0.99807,     0.99807,     0.99807,     0.99807,     0.99807,     0.99807,     0.99807,     0.99807,     0.99807,     0.99807,     0.99807,     0.99807,     0.99807,     0.99807,     0.99807,     0.99807,     0.99807,     0.99807,     0.99807,     0.99807,     0.99807,     0.99807,     0.99807,\n",
       "            0.99807,     0.99807,     0.99807,     0.99807,     0.99807,     0.99807,     0.99807,     0.99807,     0.99807,     0.99807,     0.99807,     0.99807,     0.99807,     0.99807,     0.99807,     0.99807,     0.99807,     0.99807,     0.99807,     0.99807,     0.99807,     0.99807,     0.99807,\n",
       "            0.99807,     0.99807,     0.99807,     0.99807,     0.99807,     0.99807,     0.99807,     0.99807,     0.99807,     0.99807,     0.99807,     0.99807,     0.99807,     0.99807,     0.99807,     0.99807,     0.99807,     0.99807,     0.99807,     0.99807,     0.99807,     0.99807,     0.99807,\n",
       "            0.99807,     0.99807,     0.99807,     0.99807,     0.99807,     0.99807,     0.99807,     0.99807,     0.99807,     0.99807,     0.99807,     0.99807,     0.99807,     0.99807,     0.99807,     0.99807,     0.99807,     0.99807,     0.99807,     0.99807,     0.99807,     0.99807,     0.99807,\n",
       "            0.99807,     0.99807,     0.99807,     0.99807,     0.99807,     0.99807,     0.99807,     0.99807,     0.99807,     0.99807,     0.99807,     0.99807,     0.99807,     0.99807,     0.99807,     0.99807,     0.99807,     0.99807,     0.99807,     0.99807,     0.99807,     0.99807,     0.99807,\n",
       "            0.99807,     0.99807,     0.99807,     0.99807,     0.99807,     0.99807,     0.99807,     0.99807,     0.99807,     0.99807,     0.99807,     0.99807,     0.99807,     0.99807,     0.99807,     0.99807,     0.99807,     0.99807,     0.99807,     0.99807,     0.99807,     0.99807,     0.99807,\n",
       "            0.99807,     0.99807,     0.99807,     0.99807,     0.99807,     0.99807,     0.99807,     0.99807,     0.99807,     0.99807,     0.99807,     0.99807,     0.99807,     0.99807,     0.99807,     0.99807,     0.99807,     0.99807,     0.99807,     0.99807,     0.99807,     0.99807,     0.99807,\n",
       "            0.99807,     0.99807,     0.99807,     0.99807,     0.99807,     0.99807,     0.99807,     0.99807,     0.99807,     0.99807,     0.99807,     0.99807,     0.99807,     0.99807,     0.99807,     0.99807,     0.99807,     0.99807,     0.99807,     0.99807,     0.99807,     0.99807,     0.99807,\n",
       "            0.99807,     0.99807,     0.99807,     0.99807,     0.99807,     0.99807,     0.99807,     0.99807,     0.99807,     0.99807,     0.99807,     0.99807,     0.99807,     0.99807,     0.99807,     0.99807,     0.99807,     0.99807,     0.99807,     0.99807,     0.99807,     0.99807,     0.99807,\n",
       "            0.99807,     0.99807,     0.99807,     0.99807,     0.99807,     0.99807,     0.99807,     0.99807,     0.99807,     0.99807,     0.99807,     0.99807,     0.99807,     0.99807,     0.99807,     0.99807,     0.99807,     0.99807,     0.99807,     0.99807,     0.99807,     0.99807,     0.99807,\n",
       "            0.99807,     0.99807,     0.99807,     0.99807,     0.99807,     0.99807,     0.99807,     0.99807,     0.99807,     0.99807,     0.99807,     0.99807,     0.99807,     0.99807,     0.99807,     0.99807,     0.99807,     0.99807,     0.99807,     0.99807,     0.99807,     0.99807,     0.99807,\n",
       "            0.99807,     0.99807,     0.99807,     0.99807,     0.99807,     0.99807,     0.99807,     0.99807,     0.99807,     0.99807,     0.99807,     0.99807,     0.99807,     0.99807,     0.99807,     0.99807,     0.99807,     0.99807,     0.99807,     0.99807,     0.99807,     0.99807,     0.99807,\n",
       "            0.99807,     0.99807,     0.99807,     0.99807,     0.99807,     0.99807,     0.99807,     0.99807,     0.99807,     0.99807,     0.99807,     0.99807,     0.99807,     0.99807,     0.99807,     0.99807,     0.99807,     0.99807,     0.99807,     0.99807,     0.99807,     0.99807,     0.99807,\n",
       "            0.99807,     0.99807,     0.99807,     0.99807,     0.99807,     0.99807,     0.99807,     0.99807,     0.99807,     0.99807,     0.99807,     0.99807,     0.99807,     0.99807,     0.99807,     0.99807,     0.99807,     0.99807,     0.99807,     0.99807,     0.99807,     0.99807,     0.99807,\n",
       "            0.99807,     0.99807,     0.99807,     0.99807,     0.99807,     0.99807,     0.99807,     0.99807,     0.99807,     0.99807,     0.99807,     0.99807,     0.99807,     0.99807,     0.99807,     0.99807,     0.99807,     0.99807,     0.99807,     0.99807,     0.99807,     0.99807,     0.99807,\n",
       "            0.99807,     0.99807,     0.99807,     0.99807,     0.99807,     0.99807,     0.99807,     0.99807,     0.99807,     0.99807,     0.99807,     0.99807,     0.99807,     0.99807,     0.99807,     0.99807,     0.99807,     0.99807,     0.99807,     0.99807,     0.99807,     0.99807,     0.99807,\n",
       "            0.99807,     0.99807,     0.99807,     0.99807,     0.99807,     0.99807,     0.99807,     0.99807,     0.99807,     0.99807,     0.99807,     0.99807,     0.99807,     0.99807,     0.99807,     0.99747,     0.99747,     0.99747,     0.99747,     0.99747,     0.99747,     0.99747,     0.99747,\n",
       "            0.99747,     0.99747,     0.99747,     0.99747,     0.99747,     0.99747,     0.99747,     0.99747,     0.99747,     0.99747,     0.99747,     0.99747,     0.99747,     0.99747,     0.99747,     0.99747,     0.99747,     0.99747,     0.99747,     0.99747,     0.99747,     0.99747,     0.99747,\n",
       "            0.99747,     0.99747,     0.99747,     0.99747,     0.99747,     0.99747,     0.99747,     0.99747,     0.99747,     0.99747,     0.99747,     0.99747,     0.99747,     0.99747,     0.99747,     0.99747,     0.99747,     0.99747,     0.99747,     0.99747,     0.99747,     0.99747,     0.99747,\n",
       "            0.99747,     0.99747,     0.99747,     0.99747,     0.99747,     0.99747,     0.99747,     0.99747,     0.99747,     0.99747,     0.99747,     0.99747,     0.99747,     0.99747,     0.99747,     0.99747,     0.99747,     0.99747,     0.99747,     0.99747,     0.99747,     0.99747,     0.99747,\n",
       "            0.99747,     0.99747,     0.99747,     0.99747,     0.99747,     0.99747,     0.99747,     0.99747,     0.99747,     0.99747,     0.99747,     0.99747,     0.99747,     0.99747,     0.99747,     0.99747,     0.99747,     0.99747,     0.99747,     0.99747,     0.99747,     0.99747,     0.99747,\n",
       "            0.99747,     0.99747,     0.99747,     0.99747,     0.99747,     0.99747,     0.99747,     0.99747,     0.99747,     0.99747,     0.99747,     0.99747,     0.99747,     0.99747,     0.99747,     0.99747,     0.99747,     0.99747,     0.99747,     0.99747,     0.99747,     0.99747,     0.99747,\n",
       "            0.99747,     0.99747,     0.99747,     0.99747,     0.99747,     0.99747,     0.99747,     0.99747,     0.99747,     0.99747,     0.99747,     0.99747,     0.99747,     0.99747,     0.99747,     0.99747,     0.99747,     0.99747,     0.99747,     0.99747,     0.99747,     0.99747,     0.99747,\n",
       "            0.99747,     0.99747,     0.99747,     0.99747,     0.99747,     0.99747,     0.99747,     0.99747,     0.99747,     0.99747,     0.99747,     0.99747,     0.99747,     0.99747,     0.99747,     0.99747,     0.99747,     0.99747,     0.99747,     0.99747,     0.99747,     0.99747,     0.99747,\n",
       "            0.99747,     0.99747,     0.99747,     0.99747,     0.99747,     0.99747,     0.99747,     0.99747,     0.99747,     0.99747,     0.99747,     0.99747,     0.99747,     0.99747,     0.99747,     0.99747,     0.99747,     0.99747,     0.99747,     0.99747,     0.99747,     0.99747,     0.99747,\n",
       "            0.99747,     0.99747,     0.99747,     0.99747,     0.99747,     0.99747,     0.99747,     0.99747,     0.99747,     0.99747,     0.99747,     0.99747,     0.99747,     0.99747,     0.99747,     0.99747,     0.99747,     0.99747,     0.99747,     0.99747,     0.99747,     0.99747,     0.99747,\n",
       "            0.99747,     0.99747,     0.99747,     0.99747,     0.99747,     0.99747,     0.99747,     0.99747,     0.99747,     0.99747,     0.99747,     0.99747,     0.99747,     0.99747,     0.99747,     0.99747,     0.99747,     0.99747,     0.99747,     0.99747,     0.99747,     0.99747,     0.99747,\n",
       "            0.99747,     0.99747,     0.99747,     0.99747,     0.99747,     0.99747,     0.99747,     0.99747,     0.99747,     0.99747,     0.99747,     0.99747,     0.99747,     0.99747,     0.99747,     0.99747,     0.99747,     0.99747,     0.99747,     0.99747,     0.99747,     0.99747,      0.9965,\n",
       "             0.9965,      0.9965,      0.9965,      0.9965,      0.9965,      0.9965,      0.9965,      0.9965,      0.9965,      0.9965,      0.9965,      0.9965,      0.9965,      0.9965,      0.9965,      0.9965,      0.9965,      0.9965,      0.9965,      0.9965,      0.9965,      0.9965,      0.9965,\n",
       "             0.9965,      0.9965,      0.9965,      0.9965,      0.9965,      0.9965,      0.9965,      0.9965,      0.9965,      0.9965,      0.9965,      0.9965,      0.9965,      0.9965,      0.9965,      0.9965,      0.9965,      0.9965,      0.9965,      0.9965,      0.9965,      0.9965,      0.9965,\n",
       "             0.9965,      0.9965,      0.9965,      0.9965,      0.9965,      0.9965,      0.9965,      0.9965,      0.9965,      0.9965,      0.9965,      0.9965,      0.9965,      0.9965,      0.9965,     0.99542,     0.99542,     0.99542,     0.99542,     0.99542,     0.99542,     0.99542,     0.99542,\n",
       "            0.99542,     0.99542,     0.99542,     0.99542,     0.99542,     0.99542,     0.99542,     0.99448,     0.99448,     0.99448,     0.99448,     0.99448,     0.99448,     0.99448,     0.99448,     0.99448,     0.99448,     0.99448,     0.99448,     0.99448,     0.99448,     0.99448,     0.99448,\n",
       "            0.99448,     0.99448,     0.99448,     0.99448,     0.99448,     0.99448,     0.99448,     0.99448,     0.99448,     0.99448,     0.99448,     0.99448,     0.99448,     0.99448,     0.99343,     0.99343,     0.99343,     0.99343,     0.99343,     0.99343,     0.99262,     0.99262,     0.99262,\n",
       "            0.99262,     0.99262,     0.99262,     0.99262,     0.99262,     0.99262,     0.99262,     0.99262,     0.99262,     0.99262,     0.99262,     0.99262,     0.99262,     0.99262,     0.99262,     0.99262,     0.99262,     0.99262,     0.99262,     0.99262,     0.99262,     0.99262,     0.99262,\n",
       "            0.99262,     0.99262,     0.99262,     0.99262,     0.99262,     0.99262,     0.99262,     0.99174,     0.99174,     0.99174,     0.99174,     0.99174,     0.99174,     0.99174,     0.99174,     0.99174,     0.99174,     0.99174,     0.99174,     0.99174,     0.99174,     0.99174,     0.99174,\n",
       "            0.99174,     0.99174,     0.99174,     0.99075,     0.99075,     0.99075,     0.98975,     0.98975,     0.98778,     0.98778,     0.98778,     0.98679,     0.98584,     0.98584,     0.98584,     0.98584,     0.98488,     0.98488,     0.98392,     0.98392,       0.983,       0.983,       0.983,\n",
       "              0.983,     0.98205,     0.98205,     0.98123,     0.98123,     0.98123,     0.98123,     0.98123,     0.98123,     0.98123,     0.98028,     0.97933,     0.97839,     0.97745,     0.97652,     0.97559,     0.97468,     0.97468,     0.97381,     0.97381,     0.97381,     0.97289,     0.97198,\n",
       "            0.96827,     0.96552,     0.96463,     0.95193,     0.94934,     0.94934,     0.94766,     0.94766,     0.94595,     0.94336,     0.94085,     0.94009,     0.94009,     0.93242,     0.92405,     0.91996,     0.91756,     0.91436,     0.89694,     0.89694,      0.8885,     0.88783,      0.8812,\n",
       "             0.8812,     0.87236,     0.78976,     0.78512,      0.7829,     0.76345,     0.75309,     0.69292,     0.64735,     0.29437,           0]]), 'Recall', 'Precision'], [array([          0,    0.001001,    0.002002,    0.003003,    0.004004,    0.005005,    0.006006,    0.007007,    0.008008,    0.009009,     0.01001,    0.011011,    0.012012,    0.013013,    0.014014,    0.015015,    0.016016,    0.017017,    0.018018,    0.019019,     0.02002,    0.021021,    0.022022,    0.023023,\n",
       "          0.024024,    0.025025,    0.026026,    0.027027,    0.028028,    0.029029,     0.03003,    0.031031,    0.032032,    0.033033,    0.034034,    0.035035,    0.036036,    0.037037,    0.038038,    0.039039,     0.04004,    0.041041,    0.042042,    0.043043,    0.044044,    0.045045,    0.046046,    0.047047,\n",
       "          0.048048,    0.049049,     0.05005,    0.051051,    0.052052,    0.053053,    0.054054,    0.055055,    0.056056,    0.057057,    0.058058,    0.059059,     0.06006,    0.061061,    0.062062,    0.063063,    0.064064,    0.065065,    0.066066,    0.067067,    0.068068,    0.069069,     0.07007,    0.071071,\n",
       "          0.072072,    0.073073,    0.074074,    0.075075,    0.076076,    0.077077,    0.078078,    0.079079,     0.08008,    0.081081,    0.082082,    0.083083,    0.084084,    0.085085,    0.086086,    0.087087,    0.088088,    0.089089,     0.09009,    0.091091,    0.092092,    0.093093,    0.094094,    0.095095,\n",
       "          0.096096,    0.097097,    0.098098,    0.099099,      0.1001,      0.1011,      0.1021,      0.1031,      0.1041,     0.10511,     0.10611,     0.10711,     0.10811,     0.10911,     0.11011,     0.11111,     0.11211,     0.11311,     0.11411,     0.11512,     0.11612,     0.11712,     0.11812,     0.11912,\n",
       "           0.12012,     0.12112,     0.12212,     0.12312,     0.12412,     0.12513,     0.12613,     0.12713,     0.12813,     0.12913,     0.13013,     0.13113,     0.13213,     0.13313,     0.13413,     0.13514,     0.13614,     0.13714,     0.13814,     0.13914,     0.14014,     0.14114,     0.14214,     0.14314,\n",
       "           0.14414,     0.14515,     0.14615,     0.14715,     0.14815,     0.14915,     0.15015,     0.15115,     0.15215,     0.15315,     0.15415,     0.15516,     0.15616,     0.15716,     0.15816,     0.15916,     0.16016,     0.16116,     0.16216,     0.16316,     0.16416,     0.16517,     0.16617,     0.16717,\n",
       "           0.16817,     0.16917,     0.17017,     0.17117,     0.17217,     0.17317,     0.17417,     0.17518,     0.17618,     0.17718,     0.17818,     0.17918,     0.18018,     0.18118,     0.18218,     0.18318,     0.18418,     0.18519,     0.18619,     0.18719,     0.18819,     0.18919,     0.19019,     0.19119,\n",
       "           0.19219,     0.19319,     0.19419,      0.1952,      0.1962,      0.1972,      0.1982,      0.1992,      0.2002,      0.2012,      0.2022,      0.2032,      0.2042,     0.20521,     0.20621,     0.20721,     0.20821,     0.20921,     0.21021,     0.21121,     0.21221,     0.21321,     0.21421,     0.21522,\n",
       "           0.21622,     0.21722,     0.21822,     0.21922,     0.22022,     0.22122,     0.22222,     0.22322,     0.22422,     0.22523,     0.22623,     0.22723,     0.22823,     0.22923,     0.23023,     0.23123,     0.23223,     0.23323,     0.23423,     0.23524,     0.23624,     0.23724,     0.23824,     0.23924,\n",
       "           0.24024,     0.24124,     0.24224,     0.24324,     0.24424,     0.24525,     0.24625,     0.24725,     0.24825,     0.24925,     0.25025,     0.25125,     0.25225,     0.25325,     0.25425,     0.25526,     0.25626,     0.25726,     0.25826,     0.25926,     0.26026,     0.26126,     0.26226,     0.26326,\n",
       "           0.26426,     0.26527,     0.26627,     0.26727,     0.26827,     0.26927,     0.27027,     0.27127,     0.27227,     0.27327,     0.27427,     0.27528,     0.27628,     0.27728,     0.27828,     0.27928,     0.28028,     0.28128,     0.28228,     0.28328,     0.28428,     0.28529,     0.28629,     0.28729,\n",
       "           0.28829,     0.28929,     0.29029,     0.29129,     0.29229,     0.29329,     0.29429,      0.2953,      0.2963,      0.2973,      0.2983,      0.2993,      0.3003,      0.3013,      0.3023,      0.3033,      0.3043,     0.30531,     0.30631,     0.30731,     0.30831,     0.30931,     0.31031,     0.31131,\n",
       "           0.31231,     0.31331,     0.31431,     0.31532,     0.31632,     0.31732,     0.31832,     0.31932,     0.32032,     0.32132,     0.32232,     0.32332,     0.32432,     0.32533,     0.32633,     0.32733,     0.32833,     0.32933,     0.33033,     0.33133,     0.33233,     0.33333,     0.33433,     0.33534,\n",
       "           0.33634,     0.33734,     0.33834,     0.33934,     0.34034,     0.34134,     0.34234,     0.34334,     0.34434,     0.34535,     0.34635,     0.34735,     0.34835,     0.34935,     0.35035,     0.35135,     0.35235,     0.35335,     0.35435,     0.35536,     0.35636,     0.35736,     0.35836,     0.35936,\n",
       "           0.36036,     0.36136,     0.36236,     0.36336,     0.36436,     0.36537,     0.36637,     0.36737,     0.36837,     0.36937,     0.37037,     0.37137,     0.37237,     0.37337,     0.37437,     0.37538,     0.37638,     0.37738,     0.37838,     0.37938,     0.38038,     0.38138,     0.38238,     0.38338,\n",
       "           0.38438,     0.38539,     0.38639,     0.38739,     0.38839,     0.38939,     0.39039,     0.39139,     0.39239,     0.39339,     0.39439,      0.3954,      0.3964,      0.3974,      0.3984,      0.3994,      0.4004,      0.4014,      0.4024,      0.4034,      0.4044,     0.40541,     0.40641,     0.40741,\n",
       "           0.40841,     0.40941,     0.41041,     0.41141,     0.41241,     0.41341,     0.41441,     0.41542,     0.41642,     0.41742,     0.41842,     0.41942,     0.42042,     0.42142,     0.42242,     0.42342,     0.42442,     0.42543,     0.42643,     0.42743,     0.42843,     0.42943,     0.43043,     0.43143,\n",
       "           0.43243,     0.43343,     0.43443,     0.43544,     0.43644,     0.43744,     0.43844,     0.43944,     0.44044,     0.44144,     0.44244,     0.44344,     0.44444,     0.44545,     0.44645,     0.44745,     0.44845,     0.44945,     0.45045,     0.45145,     0.45245,     0.45345,     0.45445,     0.45546,\n",
       "           0.45646,     0.45746,     0.45846,     0.45946,     0.46046,     0.46146,     0.46246,     0.46346,     0.46446,     0.46547,     0.46647,     0.46747,     0.46847,     0.46947,     0.47047,     0.47147,     0.47247,     0.47347,     0.47447,     0.47548,     0.47648,     0.47748,     0.47848,     0.47948,\n",
       "           0.48048,     0.48148,     0.48248,     0.48348,     0.48448,     0.48549,     0.48649,     0.48749,     0.48849,     0.48949,     0.49049,     0.49149,     0.49249,     0.49349,     0.49449,      0.4955,      0.4965,      0.4975,      0.4985,      0.4995,      0.5005,      0.5015,      0.5025,      0.5035,\n",
       "            0.5045,     0.50551,     0.50651,     0.50751,     0.50851,     0.50951,     0.51051,     0.51151,     0.51251,     0.51351,     0.51451,     0.51552,     0.51652,     0.51752,     0.51852,     0.51952,     0.52052,     0.52152,     0.52252,     0.52352,     0.52452,     0.52553,     0.52653,     0.52753,\n",
       "           0.52853,     0.52953,     0.53053,     0.53153,     0.53253,     0.53353,     0.53453,     0.53554,     0.53654,     0.53754,     0.53854,     0.53954,     0.54054,     0.54154,     0.54254,     0.54354,     0.54454,     0.54555,     0.54655,     0.54755,     0.54855,     0.54955,     0.55055,     0.55155,\n",
       "           0.55255,     0.55355,     0.55455,     0.55556,     0.55656,     0.55756,     0.55856,     0.55956,     0.56056,     0.56156,     0.56256,     0.56356,     0.56456,     0.56557,     0.56657,     0.56757,     0.56857,     0.56957,     0.57057,     0.57157,     0.57257,     0.57357,     0.57457,     0.57558,\n",
       "           0.57658,     0.57758,     0.57858,     0.57958,     0.58058,     0.58158,     0.58258,     0.58358,     0.58458,     0.58559,     0.58659,     0.58759,     0.58859,     0.58959,     0.59059,     0.59159,     0.59259,     0.59359,     0.59459,      0.5956,      0.5966,      0.5976,      0.5986,      0.5996,\n",
       "            0.6006,      0.6016,      0.6026,      0.6036,      0.6046,     0.60561,     0.60661,     0.60761,     0.60861,     0.60961,     0.61061,     0.61161,     0.61261,     0.61361,     0.61461,     0.61562,     0.61662,     0.61762,     0.61862,     0.61962,     0.62062,     0.62162,     0.62262,     0.62362,\n",
       "           0.62462,     0.62563,     0.62663,     0.62763,     0.62863,     0.62963,     0.63063,     0.63163,     0.63263,     0.63363,     0.63463,     0.63564,     0.63664,     0.63764,     0.63864,     0.63964,     0.64064,     0.64164,     0.64264,     0.64364,     0.64464,     0.64565,     0.64665,     0.64765,\n",
       "           0.64865,     0.64965,     0.65065,     0.65165,     0.65265,     0.65365,     0.65465,     0.65566,     0.65666,     0.65766,     0.65866,     0.65966,     0.66066,     0.66166,     0.66266,     0.66366,     0.66466,     0.66567,     0.66667,     0.66767,     0.66867,     0.66967,     0.67067,     0.67167,\n",
       "           0.67267,     0.67367,     0.67467,     0.67568,     0.67668,     0.67768,     0.67868,     0.67968,     0.68068,     0.68168,     0.68268,     0.68368,     0.68468,     0.68569,     0.68669,     0.68769,     0.68869,     0.68969,     0.69069,     0.69169,     0.69269,     0.69369,     0.69469,      0.6957,\n",
       "            0.6967,      0.6977,      0.6987,      0.6997,      0.7007,      0.7017,      0.7027,      0.7037,      0.7047,     0.70571,     0.70671,     0.70771,     0.70871,     0.70971,     0.71071,     0.71171,     0.71271,     0.71371,     0.71471,     0.71572,     0.71672,     0.71772,     0.71872,     0.71972,\n",
       "           0.72072,     0.72172,     0.72272,     0.72372,     0.72472,     0.72573,     0.72673,     0.72773,     0.72873,     0.72973,     0.73073,     0.73173,     0.73273,     0.73373,     0.73473,     0.73574,     0.73674,     0.73774,     0.73874,     0.73974,     0.74074,     0.74174,     0.74274,     0.74374,\n",
       "           0.74474,     0.74575,     0.74675,     0.74775,     0.74875,     0.74975,     0.75075,     0.75175,     0.75275,     0.75375,     0.75475,     0.75576,     0.75676,     0.75776,     0.75876,     0.75976,     0.76076,     0.76176,     0.76276,     0.76376,     0.76476,     0.76577,     0.76677,     0.76777,\n",
       "           0.76877,     0.76977,     0.77077,     0.77177,     0.77277,     0.77377,     0.77477,     0.77578,     0.77678,     0.77778,     0.77878,     0.77978,     0.78078,     0.78178,     0.78278,     0.78378,     0.78478,     0.78579,     0.78679,     0.78779,     0.78879,     0.78979,     0.79079,     0.79179,\n",
       "           0.79279,     0.79379,     0.79479,      0.7958,      0.7968,      0.7978,      0.7988,      0.7998,      0.8008,      0.8018,      0.8028,      0.8038,      0.8048,     0.80581,     0.80681,     0.80781,     0.80881,     0.80981,     0.81081,     0.81181,     0.81281,     0.81381,     0.81481,     0.81582,\n",
       "           0.81682,     0.81782,     0.81882,     0.81982,     0.82082,     0.82182,     0.82282,     0.82382,     0.82482,     0.82583,     0.82683,     0.82783,     0.82883,     0.82983,     0.83083,     0.83183,     0.83283,     0.83383,     0.83483,     0.83584,     0.83684,     0.83784,     0.83884,     0.83984,\n",
       "           0.84084,     0.84184,     0.84284,     0.84384,     0.84484,     0.84585,     0.84685,     0.84785,     0.84885,     0.84985,     0.85085,     0.85185,     0.85285,     0.85385,     0.85485,     0.85586,     0.85686,     0.85786,     0.85886,     0.85986,     0.86086,     0.86186,     0.86286,     0.86386,\n",
       "           0.86486,     0.86587,     0.86687,     0.86787,     0.86887,     0.86987,     0.87087,     0.87187,     0.87287,     0.87387,     0.87487,     0.87588,     0.87688,     0.87788,     0.87888,     0.87988,     0.88088,     0.88188,     0.88288,     0.88388,     0.88488,     0.88589,     0.88689,     0.88789,\n",
       "           0.88889,     0.88989,     0.89089,     0.89189,     0.89289,     0.89389,     0.89489,      0.8959,      0.8969,      0.8979,      0.8989,      0.8999,      0.9009,      0.9019,      0.9029,      0.9039,      0.9049,     0.90591,     0.90691,     0.90791,     0.90891,     0.90991,     0.91091,     0.91191,\n",
       "           0.91291,     0.91391,     0.91491,     0.91592,     0.91692,     0.91792,     0.91892,     0.91992,     0.92092,     0.92192,     0.92292,     0.92392,     0.92492,     0.92593,     0.92693,     0.92793,     0.92893,     0.92993,     0.93093,     0.93193,     0.93293,     0.93393,     0.93493,     0.93594,\n",
       "           0.93694,     0.93794,     0.93894,     0.93994,     0.94094,     0.94194,     0.94294,     0.94394,     0.94494,     0.94595,     0.94695,     0.94795,     0.94895,     0.94995,     0.95095,     0.95195,     0.95295,     0.95395,     0.95495,     0.95596,     0.95696,     0.95796,     0.95896,     0.95996,\n",
       "           0.96096,     0.96196,     0.96296,     0.96396,     0.96496,     0.96597,     0.96697,     0.96797,     0.96897,     0.96997,     0.97097,     0.97197,     0.97297,     0.97397,     0.97497,     0.97598,     0.97698,     0.97798,     0.97898,     0.97998,     0.98098,     0.98198,     0.98298,     0.98398,\n",
       "           0.98498,     0.98599,     0.98699,     0.98799,     0.98899,     0.98999,     0.99099,     0.99199,     0.99299,     0.99399,     0.99499,       0.996,       0.997,       0.998,       0.999,           1]), array([[    0.72153,     0.72157,      0.7629,     0.77762,     0.78792,     0.79746,     0.80842,     0.81517,     0.82468,     0.82975,     0.83595,     0.84335,     0.85019,     0.85468,     0.85734,     0.85988,      0.8631,     0.86451,     0.86644,     0.87195,     0.87384,     0.87559,     0.87673,\n",
       "            0.87877,     0.87995,     0.88241,     0.88355,     0.88534,      0.8877,     0.88964,     0.89148,     0.89306,     0.89435,     0.89462,     0.89662,     0.89763,     0.89947,     0.90121,     0.90213,     0.90283,      0.9034,     0.90439,     0.90576,     0.90771,     0.90813,      0.9091,\n",
       "            0.91011,     0.91124,     0.91226,     0.91277,     0.91411,     0.91438,     0.91491,     0.91548,     0.91625,     0.91696,     0.91738,     0.91757,     0.91783,     0.91839,     0.91875,     0.91946,     0.91972,     0.92064,     0.92137,     0.92256,     0.92388,     0.92473,     0.92725,\n",
       "             0.9278,     0.92801,      0.9282,     0.92966,      0.9304,     0.93184,     0.93201,     0.93218,     0.93179,     0.93295,     0.93312,     0.93328,     0.93359,     0.93417,     0.93504,     0.93511,     0.93519,     0.93527,     0.93535,     0.93542,     0.93537,     0.93522,     0.93507,\n",
       "            0.93511,     0.93524,     0.93622,     0.93654,     0.93729,     0.93772,     0.93847,     0.93868,     0.93955,      0.9388,     0.93886,     0.93911,      0.9392,     0.93928,     0.93936,     0.93945,     0.93962,     0.93998,     0.94026,     0.94051,     0.94073,     0.94095,     0.94117,\n",
       "             0.9415,     0.94215,      0.9425,     0.94269,     0.94287,     0.94323,     0.94357,     0.94383,     0.94418,      0.9448,     0.94492,     0.94505,      0.9452,     0.94541,     0.94567,     0.94605,     0.94621,     0.94637,     0.94697,     0.94743,     0.94816,     0.94805,     0.94795,\n",
       "            0.94784,     0.94774,     0.94778,     0.94789,     0.94799,     0.94809,     0.94857,     0.94888,     0.94946,     0.94921,       0.949,      0.9493,     0.94992,     0.95026,     0.94995,     0.95033,     0.95115,     0.95124,     0.95132,     0.95141,     0.95149,     0.95158,     0.95166,\n",
       "            0.95164,     0.95177,     0.95189,     0.95214,     0.95253,     0.95269,     0.95286,     0.95364,     0.95387,     0.95401,     0.95414,     0.95429,     0.95445,     0.95461,     0.95528,     0.95571,     0.95597,     0.95558,     0.95563,     0.95578,     0.95594,     0.95688,     0.95699,\n",
       "             0.9571,     0.95722,     0.95736,     0.95761,     0.95873,     0.95893,     0.95911,     0.95919,     0.95927,     0.95935,     0.95944,     0.95952,     0.95945,      0.9593,     0.95914,       0.959,     0.95886,     0.95873,     0.95859,     0.95884,     0.95898,     0.95889,     0.95881,\n",
       "            0.95872,     0.95864,     0.95855,      0.9585,      0.9586,      0.9587,      0.9588,     0.95889,     0.95911,     0.95927,     0.95931,     0.95951,     0.95968,     0.95997,     0.96021,     0.96011,        0.96,      0.9599,      0.9598,     0.95987,     0.96001,     0.96014,     0.96034,\n",
       "            0.96068,     0.96014,     0.95997,     0.95979,     0.96005,     0.96021,     0.96029,     0.96036,     0.96043,      0.9605,     0.96057,     0.96052,     0.96035,     0.96018,     0.95971,     0.95969,     0.95976,     0.95984,     0.95992,        0.96,     0.96008,     0.96058,     0.96073,\n",
       "            0.96089,     0.96075,       0.961,     0.96106,     0.96113,      0.9612,     0.96127,     0.96134,     0.96141,     0.96156,      0.9617,     0.96185,     0.96214,     0.96258,     0.96288,     0.96303,     0.96317,     0.96329,     0.96339,     0.96349,     0.96359,     0.96369,     0.96389,\n",
       "             0.9641,     0.96426,     0.96441,     0.96455,     0.96467,     0.96477,     0.96486,     0.96496,     0.96505,     0.96559,     0.96565,     0.96571,     0.96576,     0.96582,     0.96588,     0.96594,       0.966,     0.96605,      0.9661,     0.96614,     0.96619,     0.96624,     0.96628,\n",
       "            0.96633,     0.96637,     0.96642,     0.96647,     0.96666,      0.9669,     0.96688,     0.96686,     0.96684,     0.96682,     0.96679,     0.96677,     0.96675,     0.96673,     0.96671,     0.96669,     0.96667,     0.96665,     0.96663,     0.96661,     0.96658,     0.96656,     0.96654,\n",
       "            0.96652,      0.9665,     0.96648,     0.96646,     0.96644,     0.96642,     0.96674,     0.96701,      0.9672,     0.96736,     0.96745,     0.96754,     0.96762,     0.96771,      0.9678,     0.96829,     0.96856,     0.96874,     0.96881,     0.96889,     0.96896,     0.96903,     0.96911,\n",
       "            0.96916,     0.96909,     0.96902,     0.96895,     0.96888,     0.96881,     0.96874,     0.96868,     0.96877,     0.96885,     0.96894,     0.96903,     0.96911,     0.96894,     0.96865,     0.96882,     0.96899,     0.96896,     0.96839,     0.96809,     0.96805,     0.96802,     0.96798,\n",
       "            0.96794,      0.9679,     0.96786,     0.96782,     0.96778,     0.96775,     0.96771,     0.96767,     0.96763,      0.9678,     0.96807,     0.96791,     0.96772,     0.96722,     0.96713,     0.96737,     0.96746,     0.96727,     0.96708,     0.96713,     0.96729,     0.96745,     0.96741,\n",
       "             0.9673,      0.9672,     0.96709,     0.96702,     0.96729,     0.96739,     0.96722,     0.96705,     0.96709,     0.96736,     0.96735,     0.96725,     0.96714,     0.96704,     0.96694,     0.96717,     0.96739,     0.96735,     0.96731,     0.96727,     0.96723,     0.96719,     0.96715,\n",
       "            0.96711,     0.96707,     0.96703,     0.96699,     0.96694,      0.9669,     0.96725,     0.96734,     0.96731,     0.96727,     0.96724,     0.96721,     0.96717,     0.96714,     0.96711,     0.96707,     0.96704,     0.96701,     0.96697,     0.96694,     0.96691,     0.96687,      0.9668,\n",
       "            0.96669,     0.96659,     0.96649,     0.96638,     0.96623,     0.96605,     0.96588,     0.96513,     0.96487,     0.96479,     0.96473,     0.96468,     0.96462,     0.96456,      0.9645,     0.96445,     0.96439,     0.96431,     0.96401,     0.96373,     0.96347,     0.96343,     0.96368,\n",
       "            0.96373,      0.9636,     0.96347,     0.96334,     0.96288,     0.96304,      0.9632,     0.96317,     0.96304,     0.96291,     0.96278,     0.96267,     0.96256,     0.96246,     0.96235,     0.96225,     0.96208,     0.96191,     0.96173,     0.96164,     0.96156,     0.96147,     0.96138,\n",
       "             0.9613,     0.96124,      0.9614,     0.96156,     0.96115,     0.96097,      0.9608,     0.96112,     0.96103,     0.96094,     0.96086,     0.96077,     0.96068,     0.96022,     0.96046,     0.96006,     0.96001,     0.95996,     0.95991,     0.95987,     0.95982,     0.95977,     0.95972,\n",
       "            0.95968,     0.95963,     0.95958,      0.9595,     0.95942,     0.95933,     0.95924,     0.95915,     0.95906,      0.9586,     0.95859,     0.95865,     0.95871,     0.95878,     0.95884,      0.9589,     0.95896,     0.95897,     0.95851,     0.95859,     0.95867,     0.95875,     0.95883,\n",
       "            0.95891,      0.9589,     0.95864,     0.95844,     0.95837,      0.9583,     0.95824,     0.95817,     0.95811,     0.95804,     0.95797,     0.95789,     0.95778,     0.95768,     0.95757,     0.95747,     0.95732,     0.95714,     0.95696,     0.95698,     0.95707,     0.95717,     0.95727,\n",
       "            0.95737,     0.95742,     0.95712,     0.95685,     0.95683,     0.95646,     0.95614,     0.95588,     0.95609,     0.95582,     0.95489,     0.95451,     0.95424,     0.95397,      0.9537,     0.95326,     0.95305,     0.95299,     0.95293,     0.95287,     0.95281,     0.95275,      0.9527,\n",
       "            0.95264,     0.95258,     0.95192,     0.95179,     0.95166,     0.95152,     0.95116,      0.9509,     0.95072,     0.95054,     0.95043,     0.95037,      0.9503,     0.95023,     0.95016,      0.9501,     0.95003,     0.94996,     0.94875,     0.94857,     0.94839,     0.94762,     0.94673,\n",
       "            0.94659,     0.94646,     0.94632,     0.94619,     0.94605,     0.94592,     0.94578,     0.94585,     0.94605,      0.9462,     0.94615,     0.94611,     0.94607,     0.94602,     0.94598,     0.94594,     0.94589,     0.94585,      0.9458,     0.94576,     0.94572,     0.94567,     0.94514,\n",
       "            0.94487,      0.9446,     0.94445,     0.94429,     0.94414,     0.94396,     0.94378,      0.9436,     0.94282,     0.94254,     0.94206,     0.94177,     0.94156,     0.94122,     0.94013,     0.93974,     0.93959,     0.93943,     0.93927,       0.939,     0.93819,     0.93797,     0.93775,\n",
       "            0.93749,     0.93722,     0.93676,     0.93567,     0.93489,     0.93479,     0.93469,     0.93459,     0.93449,      0.9344,     0.93434,     0.93427,     0.93421,     0.93415,     0.93409,     0.93403,     0.93397,      0.9339,     0.93367,     0.93332,     0.93313,     0.93295,     0.93273,\n",
       "            0.93236,     0.93214,     0.93198,     0.93182,     0.93154,     0.93098,     0.93001,     0.92985,     0.92969,     0.92953,     0.92918,     0.92892,     0.92879,     0.92867,     0.92854,      0.9279,     0.92822,     0.92826,     0.92809,     0.92793,      0.9272,     0.92692,     0.92606,\n",
       "            0.92569,     0.92538,      0.9251,     0.92513,     0.92523,     0.92533,     0.92542,     0.92552,     0.92406,     0.92326,     0.92315,     0.92303,     0.92292,     0.92281,     0.92198,     0.92109,     0.92103,     0.92097,     0.92091,     0.92086,      0.9208,     0.92074,     0.92069,\n",
       "            0.92063,     0.92057,     0.91983,     0.91945,     0.91916,     0.91887,     0.91812,     0.91793,     0.91717,     0.91679,     0.91597,      0.9158,     0.91564,     0.91491,     0.91471,     0.91452,     0.91316,     0.91277,     0.91182,     0.91143,     0.91104,     0.91028,     0.91011,\n",
       "            0.90994,     0.90911,     0.90872,     0.90824,     0.90728,      0.9046,      0.9042,     0.90324,     0.90053,     0.90014,     0.89963,     0.89924,     0.89884,     0.89786,     0.89747,     0.89707,     0.89492,     0.89459,     0.89439,     0.89419,     0.89273,     0.89233,     0.89193,\n",
       "            0.89094,     0.88935,     0.88895,     0.88855,     0.88515,     0.88457,     0.88416,     0.88196,     0.88155,     0.88114,     0.88073,     0.87912,     0.87871,     0.87649,     0.87297,      0.8712,     0.87078,      0.8673,     0.86627,     0.86585,     0.86213,     0.86108,     0.85988,\n",
       "            0.85821,     0.85778,     0.85409,     0.85231,     0.84998,     0.84955,     0.84706,     0.84656,     0.84549,     0.84505,     0.84187,     0.83946,     0.83772,     0.83728,     0.83404,     0.83161,     0.82778,     0.82523,     0.82345,     0.82078,     0.82033,      0.8184,     0.81517,\n",
       "            0.81333,     0.80996,      0.8095,     0.80546,     0.80218,      0.7982,     0.79686,     0.79639,     0.79433,     0.79172,     0.78764,     0.78195,     0.77991,     0.77942,     0.77439,     0.76786,     0.76736,      0.7638,     0.76084,     0.75803,     0.75079,     0.74249,     0.73948,\n",
       "            0.73896,     0.73442,     0.73055,     0.72665,     0.72139,     0.71445,     0.70806,      0.7008,     0.69672,     0.69356,       0.693,      0.6864,     0.67554,      0.6713,     0.66873,     0.66372,     0.65884,     0.65105,     0.65045,     0.64173,     0.63548,     0.62827,     0.62099,\n",
       "            0.61178,     0.60805,     0.59961,      0.5977,     0.59199,     0.58719,     0.57558,     0.56969,     0.55879,     0.54566,     0.53698,     0.52348,     0.51504,     0.50864,     0.50218,     0.49349,      0.4836,      0.4674,     0.45944,      0.4514,     0.44211,      0.4382,     0.42854,\n",
       "            0.42137,     0.41292,     0.39269,     0.37765,     0.35783,     0.35127,     0.32876,     0.31923,     0.30766,     0.29933,     0.27466,      0.2658,     0.25509,      0.2418,     0.22454,       0.215,     0.20997,      0.1842,     0.18048,     0.17378,     0.16084,      0.1469,     0.14451,\n",
       "            0.13354,     0.12936,     0.12422,     0.11798,     0.11224,      0.1052,    0.094894,    0.089396,    0.075453,    0.069753,    0.067332,    0.061895,    0.057483,    0.056245,    0.051794,    0.044633,    0.043379,    0.040282,    0.035078,     0.03132,    0.028576,     0.02654,    0.021856,\n",
       "           0.018943,    0.016453,    0.015114,    0.013173,    0.010994,   0.0089434,    0.007967,   0.0054947,   0.0041882,   0.0033576,   0.0027032,   0.0020483,           0,           0,           0,           0,           0,           0,           0,           0,           0,           0,           0,\n",
       "                  0,           0,           0,           0,           0,           0,           0,           0,           0,           0,           0,           0,           0,           0,           0,           0,           0,           0,           0,           0,           0,           0,           0,\n",
       "                  0,           0,           0,           0,           0,           0,           0,           0,           0,           0,           0,           0,           0,           0,           0,           0,           0,           0,           0,           0,           0,           0,           0,\n",
       "                  0,           0,           0,           0,           0,           0,           0,           0,           0,           0,           0]]), 'Confidence', 'F1'], [array([          0,    0.001001,    0.002002,    0.003003,    0.004004,    0.005005,    0.006006,    0.007007,    0.008008,    0.009009,     0.01001,    0.011011,    0.012012,    0.013013,    0.014014,    0.015015,    0.016016,    0.017017,    0.018018,    0.019019,     0.02002,    0.021021,    0.022022,    0.023023,\n",
       "          0.024024,    0.025025,    0.026026,    0.027027,    0.028028,    0.029029,     0.03003,    0.031031,    0.032032,    0.033033,    0.034034,    0.035035,    0.036036,    0.037037,    0.038038,    0.039039,     0.04004,    0.041041,    0.042042,    0.043043,    0.044044,    0.045045,    0.046046,    0.047047,\n",
       "          0.048048,    0.049049,     0.05005,    0.051051,    0.052052,    0.053053,    0.054054,    0.055055,    0.056056,    0.057057,    0.058058,    0.059059,     0.06006,    0.061061,    0.062062,    0.063063,    0.064064,    0.065065,    0.066066,    0.067067,    0.068068,    0.069069,     0.07007,    0.071071,\n",
       "          0.072072,    0.073073,    0.074074,    0.075075,    0.076076,    0.077077,    0.078078,    0.079079,     0.08008,    0.081081,    0.082082,    0.083083,    0.084084,    0.085085,    0.086086,    0.087087,    0.088088,    0.089089,     0.09009,    0.091091,    0.092092,    0.093093,    0.094094,    0.095095,\n",
       "          0.096096,    0.097097,    0.098098,    0.099099,      0.1001,      0.1011,      0.1021,      0.1031,      0.1041,     0.10511,     0.10611,     0.10711,     0.10811,     0.10911,     0.11011,     0.11111,     0.11211,     0.11311,     0.11411,     0.11512,     0.11612,     0.11712,     0.11812,     0.11912,\n",
       "           0.12012,     0.12112,     0.12212,     0.12312,     0.12412,     0.12513,     0.12613,     0.12713,     0.12813,     0.12913,     0.13013,     0.13113,     0.13213,     0.13313,     0.13413,     0.13514,     0.13614,     0.13714,     0.13814,     0.13914,     0.14014,     0.14114,     0.14214,     0.14314,\n",
       "           0.14414,     0.14515,     0.14615,     0.14715,     0.14815,     0.14915,     0.15015,     0.15115,     0.15215,     0.15315,     0.15415,     0.15516,     0.15616,     0.15716,     0.15816,     0.15916,     0.16016,     0.16116,     0.16216,     0.16316,     0.16416,     0.16517,     0.16617,     0.16717,\n",
       "           0.16817,     0.16917,     0.17017,     0.17117,     0.17217,     0.17317,     0.17417,     0.17518,     0.17618,     0.17718,     0.17818,     0.17918,     0.18018,     0.18118,     0.18218,     0.18318,     0.18418,     0.18519,     0.18619,     0.18719,     0.18819,     0.18919,     0.19019,     0.19119,\n",
       "           0.19219,     0.19319,     0.19419,      0.1952,      0.1962,      0.1972,      0.1982,      0.1992,      0.2002,      0.2012,      0.2022,      0.2032,      0.2042,     0.20521,     0.20621,     0.20721,     0.20821,     0.20921,     0.21021,     0.21121,     0.21221,     0.21321,     0.21421,     0.21522,\n",
       "           0.21622,     0.21722,     0.21822,     0.21922,     0.22022,     0.22122,     0.22222,     0.22322,     0.22422,     0.22523,     0.22623,     0.22723,     0.22823,     0.22923,     0.23023,     0.23123,     0.23223,     0.23323,     0.23423,     0.23524,     0.23624,     0.23724,     0.23824,     0.23924,\n",
       "           0.24024,     0.24124,     0.24224,     0.24324,     0.24424,     0.24525,     0.24625,     0.24725,     0.24825,     0.24925,     0.25025,     0.25125,     0.25225,     0.25325,     0.25425,     0.25526,     0.25626,     0.25726,     0.25826,     0.25926,     0.26026,     0.26126,     0.26226,     0.26326,\n",
       "           0.26426,     0.26527,     0.26627,     0.26727,     0.26827,     0.26927,     0.27027,     0.27127,     0.27227,     0.27327,     0.27427,     0.27528,     0.27628,     0.27728,     0.27828,     0.27928,     0.28028,     0.28128,     0.28228,     0.28328,     0.28428,     0.28529,     0.28629,     0.28729,\n",
       "           0.28829,     0.28929,     0.29029,     0.29129,     0.29229,     0.29329,     0.29429,      0.2953,      0.2963,      0.2973,      0.2983,      0.2993,      0.3003,      0.3013,      0.3023,      0.3033,      0.3043,     0.30531,     0.30631,     0.30731,     0.30831,     0.30931,     0.31031,     0.31131,\n",
       "           0.31231,     0.31331,     0.31431,     0.31532,     0.31632,     0.31732,     0.31832,     0.31932,     0.32032,     0.32132,     0.32232,     0.32332,     0.32432,     0.32533,     0.32633,     0.32733,     0.32833,     0.32933,     0.33033,     0.33133,     0.33233,     0.33333,     0.33433,     0.33534,\n",
       "           0.33634,     0.33734,     0.33834,     0.33934,     0.34034,     0.34134,     0.34234,     0.34334,     0.34434,     0.34535,     0.34635,     0.34735,     0.34835,     0.34935,     0.35035,     0.35135,     0.35235,     0.35335,     0.35435,     0.35536,     0.35636,     0.35736,     0.35836,     0.35936,\n",
       "           0.36036,     0.36136,     0.36236,     0.36336,     0.36436,     0.36537,     0.36637,     0.36737,     0.36837,     0.36937,     0.37037,     0.37137,     0.37237,     0.37337,     0.37437,     0.37538,     0.37638,     0.37738,     0.37838,     0.37938,     0.38038,     0.38138,     0.38238,     0.38338,\n",
       "           0.38438,     0.38539,     0.38639,     0.38739,     0.38839,     0.38939,     0.39039,     0.39139,     0.39239,     0.39339,     0.39439,      0.3954,      0.3964,      0.3974,      0.3984,      0.3994,      0.4004,      0.4014,      0.4024,      0.4034,      0.4044,     0.40541,     0.40641,     0.40741,\n",
       "           0.40841,     0.40941,     0.41041,     0.41141,     0.41241,     0.41341,     0.41441,     0.41542,     0.41642,     0.41742,     0.41842,     0.41942,     0.42042,     0.42142,     0.42242,     0.42342,     0.42442,     0.42543,     0.42643,     0.42743,     0.42843,     0.42943,     0.43043,     0.43143,\n",
       "           0.43243,     0.43343,     0.43443,     0.43544,     0.43644,     0.43744,     0.43844,     0.43944,     0.44044,     0.44144,     0.44244,     0.44344,     0.44444,     0.44545,     0.44645,     0.44745,     0.44845,     0.44945,     0.45045,     0.45145,     0.45245,     0.45345,     0.45445,     0.45546,\n",
       "           0.45646,     0.45746,     0.45846,     0.45946,     0.46046,     0.46146,     0.46246,     0.46346,     0.46446,     0.46547,     0.46647,     0.46747,     0.46847,     0.46947,     0.47047,     0.47147,     0.47247,     0.47347,     0.47447,     0.47548,     0.47648,     0.47748,     0.47848,     0.47948,\n",
       "           0.48048,     0.48148,     0.48248,     0.48348,     0.48448,     0.48549,     0.48649,     0.48749,     0.48849,     0.48949,     0.49049,     0.49149,     0.49249,     0.49349,     0.49449,      0.4955,      0.4965,      0.4975,      0.4985,      0.4995,      0.5005,      0.5015,      0.5025,      0.5035,\n",
       "            0.5045,     0.50551,     0.50651,     0.50751,     0.50851,     0.50951,     0.51051,     0.51151,     0.51251,     0.51351,     0.51451,     0.51552,     0.51652,     0.51752,     0.51852,     0.51952,     0.52052,     0.52152,     0.52252,     0.52352,     0.52452,     0.52553,     0.52653,     0.52753,\n",
       "           0.52853,     0.52953,     0.53053,     0.53153,     0.53253,     0.53353,     0.53453,     0.53554,     0.53654,     0.53754,     0.53854,     0.53954,     0.54054,     0.54154,     0.54254,     0.54354,     0.54454,     0.54555,     0.54655,     0.54755,     0.54855,     0.54955,     0.55055,     0.55155,\n",
       "           0.55255,     0.55355,     0.55455,     0.55556,     0.55656,     0.55756,     0.55856,     0.55956,     0.56056,     0.56156,     0.56256,     0.56356,     0.56456,     0.56557,     0.56657,     0.56757,     0.56857,     0.56957,     0.57057,     0.57157,     0.57257,     0.57357,     0.57457,     0.57558,\n",
       "           0.57658,     0.57758,     0.57858,     0.57958,     0.58058,     0.58158,     0.58258,     0.58358,     0.58458,     0.58559,     0.58659,     0.58759,     0.58859,     0.58959,     0.59059,     0.59159,     0.59259,     0.59359,     0.59459,      0.5956,      0.5966,      0.5976,      0.5986,      0.5996,\n",
       "            0.6006,      0.6016,      0.6026,      0.6036,      0.6046,     0.60561,     0.60661,     0.60761,     0.60861,     0.60961,     0.61061,     0.61161,     0.61261,     0.61361,     0.61461,     0.61562,     0.61662,     0.61762,     0.61862,     0.61962,     0.62062,     0.62162,     0.62262,     0.62362,\n",
       "           0.62462,     0.62563,     0.62663,     0.62763,     0.62863,     0.62963,     0.63063,     0.63163,     0.63263,     0.63363,     0.63463,     0.63564,     0.63664,     0.63764,     0.63864,     0.63964,     0.64064,     0.64164,     0.64264,     0.64364,     0.64464,     0.64565,     0.64665,     0.64765,\n",
       "           0.64865,     0.64965,     0.65065,     0.65165,     0.65265,     0.65365,     0.65465,     0.65566,     0.65666,     0.65766,     0.65866,     0.65966,     0.66066,     0.66166,     0.66266,     0.66366,     0.66466,     0.66567,     0.66667,     0.66767,     0.66867,     0.66967,     0.67067,     0.67167,\n",
       "           0.67267,     0.67367,     0.67467,     0.67568,     0.67668,     0.67768,     0.67868,     0.67968,     0.68068,     0.68168,     0.68268,     0.68368,     0.68468,     0.68569,     0.68669,     0.68769,     0.68869,     0.68969,     0.69069,     0.69169,     0.69269,     0.69369,     0.69469,      0.6957,\n",
       "            0.6967,      0.6977,      0.6987,      0.6997,      0.7007,      0.7017,      0.7027,      0.7037,      0.7047,     0.70571,     0.70671,     0.70771,     0.70871,     0.70971,     0.71071,     0.71171,     0.71271,     0.71371,     0.71471,     0.71572,     0.71672,     0.71772,     0.71872,     0.71972,\n",
       "           0.72072,     0.72172,     0.72272,     0.72372,     0.72472,     0.72573,     0.72673,     0.72773,     0.72873,     0.72973,     0.73073,     0.73173,     0.73273,     0.73373,     0.73473,     0.73574,     0.73674,     0.73774,     0.73874,     0.73974,     0.74074,     0.74174,     0.74274,     0.74374,\n",
       "           0.74474,     0.74575,     0.74675,     0.74775,     0.74875,     0.74975,     0.75075,     0.75175,     0.75275,     0.75375,     0.75475,     0.75576,     0.75676,     0.75776,     0.75876,     0.75976,     0.76076,     0.76176,     0.76276,     0.76376,     0.76476,     0.76577,     0.76677,     0.76777,\n",
       "           0.76877,     0.76977,     0.77077,     0.77177,     0.77277,     0.77377,     0.77477,     0.77578,     0.77678,     0.77778,     0.77878,     0.77978,     0.78078,     0.78178,     0.78278,     0.78378,     0.78478,     0.78579,     0.78679,     0.78779,     0.78879,     0.78979,     0.79079,     0.79179,\n",
       "           0.79279,     0.79379,     0.79479,      0.7958,      0.7968,      0.7978,      0.7988,      0.7998,      0.8008,      0.8018,      0.8028,      0.8038,      0.8048,     0.80581,     0.80681,     0.80781,     0.80881,     0.80981,     0.81081,     0.81181,     0.81281,     0.81381,     0.81481,     0.81582,\n",
       "           0.81682,     0.81782,     0.81882,     0.81982,     0.82082,     0.82182,     0.82282,     0.82382,     0.82482,     0.82583,     0.82683,     0.82783,     0.82883,     0.82983,     0.83083,     0.83183,     0.83283,     0.83383,     0.83483,     0.83584,     0.83684,     0.83784,     0.83884,     0.83984,\n",
       "           0.84084,     0.84184,     0.84284,     0.84384,     0.84484,     0.84585,     0.84685,     0.84785,     0.84885,     0.84985,     0.85085,     0.85185,     0.85285,     0.85385,     0.85485,     0.85586,     0.85686,     0.85786,     0.85886,     0.85986,     0.86086,     0.86186,     0.86286,     0.86386,\n",
       "           0.86486,     0.86587,     0.86687,     0.86787,     0.86887,     0.86987,     0.87087,     0.87187,     0.87287,     0.87387,     0.87487,     0.87588,     0.87688,     0.87788,     0.87888,     0.87988,     0.88088,     0.88188,     0.88288,     0.88388,     0.88488,     0.88589,     0.88689,     0.88789,\n",
       "           0.88889,     0.88989,     0.89089,     0.89189,     0.89289,     0.89389,     0.89489,      0.8959,      0.8969,      0.8979,      0.8989,      0.8999,      0.9009,      0.9019,      0.9029,      0.9039,      0.9049,     0.90591,     0.90691,     0.90791,     0.90891,     0.90991,     0.91091,     0.91191,\n",
       "           0.91291,     0.91391,     0.91491,     0.91592,     0.91692,     0.91792,     0.91892,     0.91992,     0.92092,     0.92192,     0.92292,     0.92392,     0.92492,     0.92593,     0.92693,     0.92793,     0.92893,     0.92993,     0.93093,     0.93193,     0.93293,     0.93393,     0.93493,     0.93594,\n",
       "           0.93694,     0.93794,     0.93894,     0.93994,     0.94094,     0.94194,     0.94294,     0.94394,     0.94494,     0.94595,     0.94695,     0.94795,     0.94895,     0.94995,     0.95095,     0.95195,     0.95295,     0.95395,     0.95495,     0.95596,     0.95696,     0.95796,     0.95896,     0.95996,\n",
       "           0.96096,     0.96196,     0.96296,     0.96396,     0.96496,     0.96597,     0.96697,     0.96797,     0.96897,     0.96997,     0.97097,     0.97197,     0.97297,     0.97397,     0.97497,     0.97598,     0.97698,     0.97798,     0.97898,     0.97998,     0.98098,     0.98198,     0.98298,     0.98398,\n",
       "           0.98498,     0.98599,     0.98699,     0.98799,     0.98899,     0.98999,     0.99099,     0.99199,     0.99299,     0.99399,     0.99499,       0.996,       0.997,       0.998,       0.999,           1]), array([[    0.56498,     0.56503,     0.61741,     0.63693,     0.65128,     0.66442,     0.67978,     0.68937,     0.70357,     0.71097,     0.72014,     0.73118,     0.74153,     0.74839,     0.75249,     0.75695,     0.76197,     0.76473,     0.76775,     0.77645,     0.77946,     0.78276,     0.78502,\n",
       "            0.78854,     0.79106,     0.79504,     0.79689,      0.7998,     0.80367,     0.80686,     0.80989,     0.81251,     0.81463,     0.81509,     0.81841,     0.82009,     0.82317,     0.82609,     0.82764,     0.82882,     0.82978,     0.83145,     0.83377,     0.83708,      0.8378,     0.83946,\n",
       "            0.84117,      0.8431,     0.84486,     0.84574,     0.84803,      0.8485,     0.84941,      0.8504,     0.85172,     0.85295,     0.85368,     0.85401,     0.85445,     0.85542,     0.85606,     0.85728,     0.85774,     0.85934,     0.86061,      0.8627,     0.86501,     0.86649,     0.87093,\n",
       "             0.8719,     0.87227,     0.87335,     0.87594,     0.87725,     0.87982,     0.88013,     0.88043,     0.88102,     0.88334,     0.88363,     0.88393,     0.88448,     0.88553,     0.88708,     0.88722,     0.88736,      0.8875,     0.88764,     0.88778,     0.88782,     0.88779,     0.88776,\n",
       "            0.88845,       0.889,     0.89078,     0.89135,     0.89271,     0.89349,     0.89486,     0.89523,     0.89682,     0.89679,     0.89715,     0.89762,     0.89777,     0.89792,     0.89808,     0.89823,     0.89855,     0.89921,     0.89972,     0.90017,     0.90058,     0.90098,     0.90139,\n",
       "              0.902,     0.90318,     0.90383,     0.90418,     0.90451,     0.90517,      0.9058,     0.90627,     0.90693,     0.90806,     0.90829,     0.90852,      0.9088,     0.90919,     0.90968,     0.91038,     0.91068,     0.91098,     0.91209,     0.91295,     0.91436,     0.91434,     0.91432,\n",
       "            0.91431,     0.91429,     0.91443,     0.91462,     0.91481,       0.915,     0.91589,     0.91647,     0.91756,     0.91752,     0.91753,     0.91809,     0.91924,     0.91996,     0.91991,     0.92085,      0.9224,     0.92256,     0.92272,     0.92289,     0.92305,     0.92321,       0.924,\n",
       "            0.92418,     0.92441,     0.92464,     0.92513,     0.92585,     0.92616,     0.92648,     0.92795,      0.9284,     0.92865,     0.92891,     0.92919,     0.92949,     0.92979,     0.93107,     0.93189,     0.93239,     0.93237,      0.9326,     0.93289,     0.93318,     0.93499,      0.9352,\n",
       "            0.93541,     0.93562,     0.93591,     0.93638,     0.93853,      0.9389,     0.93925,      0.9394,     0.93956,     0.93972,     0.93988,     0.94004,     0.94008,     0.94006,     0.94005,     0.94003,     0.94001,        0.94,     0.93998,     0.94051,     0.94085,     0.94084,     0.94083,\n",
       "            0.94082,     0.94081,      0.9408,     0.94164,     0.94183,     0.94201,      0.9422,     0.94239,     0.94281,     0.94335,     0.94409,     0.94449,     0.94482,     0.94537,     0.94594,     0.94593,     0.94592,     0.94591,      0.9459,     0.94609,     0.94635,     0.94661,     0.94701,\n",
       "            0.94766,     0.94761,     0.94759,     0.94757,     0.94825,     0.94857,     0.94871,     0.94885,       0.949,     0.94914,     0.94928,     0.94933,     0.94932,      0.9493,     0.94926,     0.94938,     0.94953,     0.94968,     0.94984,     0.94999,     0.95015,     0.95112,     0.95143,\n",
       "            0.95173,     0.95191,     0.95287,     0.95301,     0.95314,     0.95328,     0.95342,     0.95355,     0.95369,     0.95398,     0.95426,     0.95455,     0.95512,     0.95598,     0.95659,     0.95687,     0.95716,      0.9574,      0.9576,     0.95779,     0.95799,     0.95819,     0.95857,\n",
       "            0.95899,     0.95932,      0.9596,     0.95989,     0.96013,     0.96032,     0.96051,     0.96069,     0.96088,     0.96194,     0.96206,     0.96218,     0.96229,     0.96241,     0.96253,     0.96265,     0.96276,     0.96286,     0.96295,     0.96304,     0.96314,     0.96323,     0.96332,\n",
       "            0.96341,      0.9635,      0.9636,     0.96369,     0.96461,     0.96552,     0.96552,     0.96551,     0.96551,     0.96551,     0.96551,     0.96551,     0.96551,     0.96551,      0.9655,      0.9655,      0.9655,      0.9655,      0.9655,      0.9655,      0.9655,     0.96549,     0.96549,\n",
       "            0.96549,     0.96549,     0.96549,     0.96549,     0.96549,     0.96548,     0.96614,     0.96668,     0.96706,     0.96739,     0.96756,     0.96773,     0.96791,     0.96808,     0.96825,      0.9702,     0.97075,     0.97111,     0.97126,     0.97141,     0.97156,      0.9717,     0.97185,\n",
       "            0.97198,     0.97198,     0.97197,     0.97197,     0.97196,     0.97196,     0.97196,     0.97196,     0.97214,     0.97231,     0.97249,     0.97267,     0.97284,     0.97288,     0.97287,     0.97321,     0.97357,      0.9738,     0.97378,     0.97376,     0.97376,     0.97376,     0.97375,\n",
       "            0.97375,     0.97375,     0.97375,     0.97375,     0.97374,     0.97374,     0.97374,     0.97374,     0.97374,     0.97411,     0.97466,     0.97467,     0.97467,      0.9749,     0.97571,      0.9762,     0.97651,     0.97651,      0.9765,     0.97671,     0.97704,     0.97737,     0.97745,\n",
       "            0.97744,     0.97744,     0.97743,     0.97749,     0.97805,     0.97839,     0.97838,     0.97837,     0.97863,      0.9792,     0.97933,     0.97932,     0.97932,     0.97931,     0.97931,     0.97981,     0.98028,     0.98027,     0.98027,     0.98027,     0.98027,     0.98027,     0.98027,\n",
       "            0.98026,     0.98026,     0.98026,     0.98026,     0.98026,     0.98026,     0.98099,     0.98122,     0.98122,     0.98122,     0.98122,     0.98122,     0.98122,     0.98122,     0.98122,     0.98121,     0.98121,     0.98121,     0.98121,     0.98121,     0.98121,     0.98121,      0.9812,\n",
       "             0.9812,      0.9812,     0.98119,     0.98119,     0.98118,     0.98118,     0.98117,     0.98114,     0.98113,     0.98113,     0.98113,     0.98113,     0.98112,     0.98112,     0.98112,     0.98112,     0.98112,     0.98111,      0.9811,     0.98109,     0.98108,      0.9813,      0.9818,\n",
       "            0.98205,     0.98205,     0.98204,     0.98204,     0.98222,     0.98255,     0.98289,       0.983,     0.98299,     0.98299,     0.98298,     0.98298,     0.98298,     0.98297,     0.98297,     0.98297,     0.98296,     0.98295,     0.98295,     0.98295,     0.98294,     0.98294,     0.98294,\n",
       "            0.98293,     0.98297,     0.98331,     0.98364,      0.9839,      0.9839,     0.98389,     0.98488,     0.98488,     0.98487,     0.98487,     0.98487,     0.98487,     0.98505,     0.98556,     0.98583,     0.98583,     0.98583,     0.98583,     0.98582,     0.98582,     0.98582,     0.98582,\n",
       "            0.98582,     0.98582,     0.98582,     0.98581,     0.98581,     0.98581,     0.98581,      0.9858,      0.9858,     0.98579,      0.9859,     0.98603,     0.98616,     0.98629,     0.98641,     0.98654,     0.98667,     0.98679,     0.98679,     0.98697,     0.98714,     0.98731,     0.98748,\n",
       "            0.98765,     0.98778,     0.98777,     0.98777,     0.98777,     0.98776,     0.98776,     0.98776,     0.98776,     0.98776,     0.98776,     0.98775,     0.98775,     0.98775,     0.98775,     0.98774,     0.98774,     0.98774,     0.98773,     0.98787,     0.98808,     0.98829,      0.9885,\n",
       "             0.9887,     0.98975,     0.98974,     0.98973,     0.99074,     0.99073,     0.99073,     0.99072,     0.99174,     0.99174,     0.99172,     0.99172,     0.99171,     0.99171,      0.9917,      0.9917,     0.99169,     0.99169,     0.99169,     0.99169,     0.99169,     0.99169,     0.99169,\n",
       "            0.99169,     0.99168,     0.99167,     0.99167,     0.99167,     0.99167,     0.99166,     0.99166,     0.99165,     0.99165,     0.99165,     0.99165,     0.99165,     0.99165,     0.99164,     0.99164,     0.99164,     0.99164,     0.99162,     0.99162,     0.99161,      0.9916,     0.99159,\n",
       "            0.99158,     0.99158,     0.99158,     0.99158,     0.99158,     0.99157,     0.99157,     0.99184,     0.99227,     0.99262,     0.99262,     0.99261,     0.99261,     0.99261,     0.99261,     0.99261,     0.99261,     0.99261,     0.99261,     0.99261,     0.99261,     0.99261,      0.9926,\n",
       "             0.9926,     0.99259,     0.99259,     0.99259,     0.99259,     0.99258,     0.99258,     0.99258,     0.99257,     0.99256,     0.99255,     0.99255,     0.99255,     0.99254,     0.99253,     0.99252,     0.99252,     0.99252,     0.99251,     0.99251,      0.9925,     0.99249,     0.99249,\n",
       "            0.99249,     0.99248,     0.99248,     0.99246,     0.99245,     0.99245,     0.99244,     0.99244,     0.99244,     0.99244,     0.99244,     0.99244,     0.99244,     0.99244,     0.99244,     0.99243,     0.99243,     0.99243,     0.99243,     0.99242,     0.99242,     0.99242,     0.99242,\n",
       "            0.99241,     0.99241,      0.9924,      0.9924,      0.9924,     0.99239,     0.99237,     0.99237,     0.99237,     0.99237,     0.99236,     0.99236,     0.99236,     0.99235,     0.99235,     0.99239,     0.99313,     0.99343,     0.99342,     0.99342,     0.99341,     0.99341,      0.9934,\n",
       "            0.99339,     0.99339,     0.99339,     0.99357,     0.99379,     0.99402,     0.99424,     0.99447,     0.99447,     0.99446,     0.99445,     0.99445,     0.99445,     0.99445,     0.99444,     0.99443,     0.99443,     0.99443,     0.99443,     0.99443,     0.99443,     0.99443,     0.99443,\n",
       "            0.99443,     0.99443,     0.99442,     0.99441,     0.99441,     0.99441,      0.9944,      0.9944,     0.99439,     0.99438,     0.99437,     0.99437,     0.99437,     0.99436,     0.99436,     0.99436,     0.99434,     0.99434,     0.99433,     0.99432,     0.99432,     0.99431,     0.99431,\n",
       "            0.99431,      0.9943,     0.99429,     0.99542,     0.99541,     0.99539,     0.99538,     0.99537,     0.99535,     0.99534,     0.99586,     0.99649,     0.99649,     0.99649,     0.99648,     0.99648,     0.99646,     0.99646,     0.99646,     0.99646,     0.99645,     0.99645,     0.99644,\n",
       "            0.99644,     0.99642,     0.99642,     0.99642,     0.99639,     0.99639,     0.99639,     0.99637,     0.99637,     0.99636,     0.99636,     0.99635,     0.99635,     0.99633,      0.9963,     0.99629,     0.99629,     0.99626,     0.99625,     0.99625,     0.99622,     0.99621,     0.99746,\n",
       "            0.99746,     0.99745,     0.99743,     0.99742,     0.99741,     0.99741,      0.9974,     0.99739,     0.99739,     0.99739,     0.99737,     0.99736,     0.99735,     0.99734,     0.99733,     0.99731,     0.99729,     0.99728,     0.99727,     0.99725,     0.99725,     0.99724,     0.99722,\n",
       "            0.99721,     0.99719,     0.99719,     0.99716,     0.99714,     0.99712,     0.99711,     0.99711,      0.9971,     0.99708,     0.99706,     0.99702,     0.99701,     0.99701,     0.99697,     0.99693,     0.99693,     0.99691,     0.99689,     0.99687,     0.99682,     0.99676,     0.99674,\n",
       "            0.99674,     0.99671,     0.99668,     0.99665,     0.99661,     0.99656,     0.99651,     0.99646,     0.99643,      0.9964,      0.9964,     0.99634,     0.99625,     0.99622,      0.9962,     0.99634,     0.99805,     0.99802,     0.99801,     0.99797,     0.99794,     0.99791,     0.99787,\n",
       "            0.99783,     0.99781,     0.99776,     0.99775,     0.99772,      0.9977,     0.99763,      0.9976,     0.99753,     0.99745,     0.99739,      0.9973,     0.99724,     0.99719,     0.99715,     0.99708,       0.997,     0.99686,     0.99679,     0.99672,     0.99663,     0.99659,     0.99649,\n",
       "            0.99642,     0.99632,     0.99609,     0.99589,     0.99562,     0.99552,     0.99515,     0.99497,     0.99475,     0.99458,     0.99401,     0.99378,     0.99348,     0.99307,     0.99247,      0.9921,     0.99188,     0.99063,     0.99042,     0.99002,     0.98915,     0.98804,     0.98783,\n",
       "            0.98676,     0.98631,     0.98571,     0.98492,     0.98411,     0.98301,      0.9811,      0.9799,      0.9761,     0.97413,     0.97319,     0.97082,     0.96858,     0.96789,     0.96515,     0.95964,      0.9585,     0.95537,     0.94895,     0.94306,     0.93788,      0.9982,           1,\n",
       "                  1,           1,           1,           1,           1,           1,           1,           1,           1,           1,           1,           1,           1,           1,           1,           1,           1,           1,           1,           1,           1,           1,           1,\n",
       "                  1,           1,           1,           1,           1,           1,           1,           1,           1,           1,           1,           1,           1,           1,           1,           1,           1,           1,           1,           1,           1,           1,           1,\n",
       "                  1,           1,           1,           1,           1,           1,           1,           1,           1,           1,           1,           1,           1,           1,           1,           1,           1,           1,           1,           1,           1,           1,           1,\n",
       "                  1,           1,           1,           1,           1,           1,           1,           1,           1,           1,           1]]), 'Confidence', 'Precision'], [array([          0,    0.001001,    0.002002,    0.003003,    0.004004,    0.005005,    0.006006,    0.007007,    0.008008,    0.009009,     0.01001,    0.011011,    0.012012,    0.013013,    0.014014,    0.015015,    0.016016,    0.017017,    0.018018,    0.019019,     0.02002,    0.021021,    0.022022,    0.023023,\n",
       "          0.024024,    0.025025,    0.026026,    0.027027,    0.028028,    0.029029,     0.03003,    0.031031,    0.032032,    0.033033,    0.034034,    0.035035,    0.036036,    0.037037,    0.038038,    0.039039,     0.04004,    0.041041,    0.042042,    0.043043,    0.044044,    0.045045,    0.046046,    0.047047,\n",
       "          0.048048,    0.049049,     0.05005,    0.051051,    0.052052,    0.053053,    0.054054,    0.055055,    0.056056,    0.057057,    0.058058,    0.059059,     0.06006,    0.061061,    0.062062,    0.063063,    0.064064,    0.065065,    0.066066,    0.067067,    0.068068,    0.069069,     0.07007,    0.071071,\n",
       "          0.072072,    0.073073,    0.074074,    0.075075,    0.076076,    0.077077,    0.078078,    0.079079,     0.08008,    0.081081,    0.082082,    0.083083,    0.084084,    0.085085,    0.086086,    0.087087,    0.088088,    0.089089,     0.09009,    0.091091,    0.092092,    0.093093,    0.094094,    0.095095,\n",
       "          0.096096,    0.097097,    0.098098,    0.099099,      0.1001,      0.1011,      0.1021,      0.1031,      0.1041,     0.10511,     0.10611,     0.10711,     0.10811,     0.10911,     0.11011,     0.11111,     0.11211,     0.11311,     0.11411,     0.11512,     0.11612,     0.11712,     0.11812,     0.11912,\n",
       "           0.12012,     0.12112,     0.12212,     0.12312,     0.12412,     0.12513,     0.12613,     0.12713,     0.12813,     0.12913,     0.13013,     0.13113,     0.13213,     0.13313,     0.13413,     0.13514,     0.13614,     0.13714,     0.13814,     0.13914,     0.14014,     0.14114,     0.14214,     0.14314,\n",
       "           0.14414,     0.14515,     0.14615,     0.14715,     0.14815,     0.14915,     0.15015,     0.15115,     0.15215,     0.15315,     0.15415,     0.15516,     0.15616,     0.15716,     0.15816,     0.15916,     0.16016,     0.16116,     0.16216,     0.16316,     0.16416,     0.16517,     0.16617,     0.16717,\n",
       "           0.16817,     0.16917,     0.17017,     0.17117,     0.17217,     0.17317,     0.17417,     0.17518,     0.17618,     0.17718,     0.17818,     0.17918,     0.18018,     0.18118,     0.18218,     0.18318,     0.18418,     0.18519,     0.18619,     0.18719,     0.18819,     0.18919,     0.19019,     0.19119,\n",
       "           0.19219,     0.19319,     0.19419,      0.1952,      0.1962,      0.1972,      0.1982,      0.1992,      0.2002,      0.2012,      0.2022,      0.2032,      0.2042,     0.20521,     0.20621,     0.20721,     0.20821,     0.20921,     0.21021,     0.21121,     0.21221,     0.21321,     0.21421,     0.21522,\n",
       "           0.21622,     0.21722,     0.21822,     0.21922,     0.22022,     0.22122,     0.22222,     0.22322,     0.22422,     0.22523,     0.22623,     0.22723,     0.22823,     0.22923,     0.23023,     0.23123,     0.23223,     0.23323,     0.23423,     0.23524,     0.23624,     0.23724,     0.23824,     0.23924,\n",
       "           0.24024,     0.24124,     0.24224,     0.24324,     0.24424,     0.24525,     0.24625,     0.24725,     0.24825,     0.24925,     0.25025,     0.25125,     0.25225,     0.25325,     0.25425,     0.25526,     0.25626,     0.25726,     0.25826,     0.25926,     0.26026,     0.26126,     0.26226,     0.26326,\n",
       "           0.26426,     0.26527,     0.26627,     0.26727,     0.26827,     0.26927,     0.27027,     0.27127,     0.27227,     0.27327,     0.27427,     0.27528,     0.27628,     0.27728,     0.27828,     0.27928,     0.28028,     0.28128,     0.28228,     0.28328,     0.28428,     0.28529,     0.28629,     0.28729,\n",
       "           0.28829,     0.28929,     0.29029,     0.29129,     0.29229,     0.29329,     0.29429,      0.2953,      0.2963,      0.2973,      0.2983,      0.2993,      0.3003,      0.3013,      0.3023,      0.3033,      0.3043,     0.30531,     0.30631,     0.30731,     0.30831,     0.30931,     0.31031,     0.31131,\n",
       "           0.31231,     0.31331,     0.31431,     0.31532,     0.31632,     0.31732,     0.31832,     0.31932,     0.32032,     0.32132,     0.32232,     0.32332,     0.32432,     0.32533,     0.32633,     0.32733,     0.32833,     0.32933,     0.33033,     0.33133,     0.33233,     0.33333,     0.33433,     0.33534,\n",
       "           0.33634,     0.33734,     0.33834,     0.33934,     0.34034,     0.34134,     0.34234,     0.34334,     0.34434,     0.34535,     0.34635,     0.34735,     0.34835,     0.34935,     0.35035,     0.35135,     0.35235,     0.35335,     0.35435,     0.35536,     0.35636,     0.35736,     0.35836,     0.35936,\n",
       "           0.36036,     0.36136,     0.36236,     0.36336,     0.36436,     0.36537,     0.36637,     0.36737,     0.36837,     0.36937,     0.37037,     0.37137,     0.37237,     0.37337,     0.37437,     0.37538,     0.37638,     0.37738,     0.37838,     0.37938,     0.38038,     0.38138,     0.38238,     0.38338,\n",
       "           0.38438,     0.38539,     0.38639,     0.38739,     0.38839,     0.38939,     0.39039,     0.39139,     0.39239,     0.39339,     0.39439,      0.3954,      0.3964,      0.3974,      0.3984,      0.3994,      0.4004,      0.4014,      0.4024,      0.4034,      0.4044,     0.40541,     0.40641,     0.40741,\n",
       "           0.40841,     0.40941,     0.41041,     0.41141,     0.41241,     0.41341,     0.41441,     0.41542,     0.41642,     0.41742,     0.41842,     0.41942,     0.42042,     0.42142,     0.42242,     0.42342,     0.42442,     0.42543,     0.42643,     0.42743,     0.42843,     0.42943,     0.43043,     0.43143,\n",
       "           0.43243,     0.43343,     0.43443,     0.43544,     0.43644,     0.43744,     0.43844,     0.43944,     0.44044,     0.44144,     0.44244,     0.44344,     0.44444,     0.44545,     0.44645,     0.44745,     0.44845,     0.44945,     0.45045,     0.45145,     0.45245,     0.45345,     0.45445,     0.45546,\n",
       "           0.45646,     0.45746,     0.45846,     0.45946,     0.46046,     0.46146,     0.46246,     0.46346,     0.46446,     0.46547,     0.46647,     0.46747,     0.46847,     0.46947,     0.47047,     0.47147,     0.47247,     0.47347,     0.47447,     0.47548,     0.47648,     0.47748,     0.47848,     0.47948,\n",
       "           0.48048,     0.48148,     0.48248,     0.48348,     0.48448,     0.48549,     0.48649,     0.48749,     0.48849,     0.48949,     0.49049,     0.49149,     0.49249,     0.49349,     0.49449,      0.4955,      0.4965,      0.4975,      0.4985,      0.4995,      0.5005,      0.5015,      0.5025,      0.5035,\n",
       "            0.5045,     0.50551,     0.50651,     0.50751,     0.50851,     0.50951,     0.51051,     0.51151,     0.51251,     0.51351,     0.51451,     0.51552,     0.51652,     0.51752,     0.51852,     0.51952,     0.52052,     0.52152,     0.52252,     0.52352,     0.52452,     0.52553,     0.52653,     0.52753,\n",
       "           0.52853,     0.52953,     0.53053,     0.53153,     0.53253,     0.53353,     0.53453,     0.53554,     0.53654,     0.53754,     0.53854,     0.53954,     0.54054,     0.54154,     0.54254,     0.54354,     0.54454,     0.54555,     0.54655,     0.54755,     0.54855,     0.54955,     0.55055,     0.55155,\n",
       "           0.55255,     0.55355,     0.55455,     0.55556,     0.55656,     0.55756,     0.55856,     0.55956,     0.56056,     0.56156,     0.56256,     0.56356,     0.56456,     0.56557,     0.56657,     0.56757,     0.56857,     0.56957,     0.57057,     0.57157,     0.57257,     0.57357,     0.57457,     0.57558,\n",
       "           0.57658,     0.57758,     0.57858,     0.57958,     0.58058,     0.58158,     0.58258,     0.58358,     0.58458,     0.58559,     0.58659,     0.58759,     0.58859,     0.58959,     0.59059,     0.59159,     0.59259,     0.59359,     0.59459,      0.5956,      0.5966,      0.5976,      0.5986,      0.5996,\n",
       "            0.6006,      0.6016,      0.6026,      0.6036,      0.6046,     0.60561,     0.60661,     0.60761,     0.60861,     0.60961,     0.61061,     0.61161,     0.61261,     0.61361,     0.61461,     0.61562,     0.61662,     0.61762,     0.61862,     0.61962,     0.62062,     0.62162,     0.62262,     0.62362,\n",
       "           0.62462,     0.62563,     0.62663,     0.62763,     0.62863,     0.62963,     0.63063,     0.63163,     0.63263,     0.63363,     0.63463,     0.63564,     0.63664,     0.63764,     0.63864,     0.63964,     0.64064,     0.64164,     0.64264,     0.64364,     0.64464,     0.64565,     0.64665,     0.64765,\n",
       "           0.64865,     0.64965,     0.65065,     0.65165,     0.65265,     0.65365,     0.65465,     0.65566,     0.65666,     0.65766,     0.65866,     0.65966,     0.66066,     0.66166,     0.66266,     0.66366,     0.66466,     0.66567,     0.66667,     0.66767,     0.66867,     0.66967,     0.67067,     0.67167,\n",
       "           0.67267,     0.67367,     0.67467,     0.67568,     0.67668,     0.67768,     0.67868,     0.67968,     0.68068,     0.68168,     0.68268,     0.68368,     0.68468,     0.68569,     0.68669,     0.68769,     0.68869,     0.68969,     0.69069,     0.69169,     0.69269,     0.69369,     0.69469,      0.6957,\n",
       "            0.6967,      0.6977,      0.6987,      0.6997,      0.7007,      0.7017,      0.7027,      0.7037,      0.7047,     0.70571,     0.70671,     0.70771,     0.70871,     0.70971,     0.71071,     0.71171,     0.71271,     0.71371,     0.71471,     0.71572,     0.71672,     0.71772,     0.71872,     0.71972,\n",
       "           0.72072,     0.72172,     0.72272,     0.72372,     0.72472,     0.72573,     0.72673,     0.72773,     0.72873,     0.72973,     0.73073,     0.73173,     0.73273,     0.73373,     0.73473,     0.73574,     0.73674,     0.73774,     0.73874,     0.73974,     0.74074,     0.74174,     0.74274,     0.74374,\n",
       "           0.74474,     0.74575,     0.74675,     0.74775,     0.74875,     0.74975,     0.75075,     0.75175,     0.75275,     0.75375,     0.75475,     0.75576,     0.75676,     0.75776,     0.75876,     0.75976,     0.76076,     0.76176,     0.76276,     0.76376,     0.76476,     0.76577,     0.76677,     0.76777,\n",
       "           0.76877,     0.76977,     0.77077,     0.77177,     0.77277,     0.77377,     0.77477,     0.77578,     0.77678,     0.77778,     0.77878,     0.77978,     0.78078,     0.78178,     0.78278,     0.78378,     0.78478,     0.78579,     0.78679,     0.78779,     0.78879,     0.78979,     0.79079,     0.79179,\n",
       "           0.79279,     0.79379,     0.79479,      0.7958,      0.7968,      0.7978,      0.7988,      0.7998,      0.8008,      0.8018,      0.8028,      0.8038,      0.8048,     0.80581,     0.80681,     0.80781,     0.80881,     0.80981,     0.81081,     0.81181,     0.81281,     0.81381,     0.81481,     0.81582,\n",
       "           0.81682,     0.81782,     0.81882,     0.81982,     0.82082,     0.82182,     0.82282,     0.82382,     0.82482,     0.82583,     0.82683,     0.82783,     0.82883,     0.82983,     0.83083,     0.83183,     0.83283,     0.83383,     0.83483,     0.83584,     0.83684,     0.83784,     0.83884,     0.83984,\n",
       "           0.84084,     0.84184,     0.84284,     0.84384,     0.84484,     0.84585,     0.84685,     0.84785,     0.84885,     0.84985,     0.85085,     0.85185,     0.85285,     0.85385,     0.85485,     0.85586,     0.85686,     0.85786,     0.85886,     0.85986,     0.86086,     0.86186,     0.86286,     0.86386,\n",
       "           0.86486,     0.86587,     0.86687,     0.86787,     0.86887,     0.86987,     0.87087,     0.87187,     0.87287,     0.87387,     0.87487,     0.87588,     0.87688,     0.87788,     0.87888,     0.87988,     0.88088,     0.88188,     0.88288,     0.88388,     0.88488,     0.88589,     0.88689,     0.88789,\n",
       "           0.88889,     0.88989,     0.89089,     0.89189,     0.89289,     0.89389,     0.89489,      0.8959,      0.8969,      0.8979,      0.8989,      0.8999,      0.9009,      0.9019,      0.9029,      0.9039,      0.9049,     0.90591,     0.90691,     0.90791,     0.90891,     0.90991,     0.91091,     0.91191,\n",
       "           0.91291,     0.91391,     0.91491,     0.91592,     0.91692,     0.91792,     0.91892,     0.91992,     0.92092,     0.92192,     0.92292,     0.92392,     0.92492,     0.92593,     0.92693,     0.92793,     0.92893,     0.92993,     0.93093,     0.93193,     0.93293,     0.93393,     0.93493,     0.93594,\n",
       "           0.93694,     0.93794,     0.93894,     0.93994,     0.94094,     0.94194,     0.94294,     0.94394,     0.94494,     0.94595,     0.94695,     0.94795,     0.94895,     0.94995,     0.95095,     0.95195,     0.95295,     0.95395,     0.95495,     0.95596,     0.95696,     0.95796,     0.95896,     0.95996,\n",
       "           0.96096,     0.96196,     0.96296,     0.96396,     0.96496,     0.96597,     0.96697,     0.96797,     0.96897,     0.96997,     0.97097,     0.97197,     0.97297,     0.97397,     0.97497,     0.97598,     0.97698,     0.97798,     0.97898,     0.97998,     0.98098,     0.98198,     0.98298,     0.98398,\n",
       "           0.98498,     0.98599,     0.98699,     0.98799,     0.98899,     0.98999,     0.99099,     0.99199,     0.99299,     0.99399,     0.99499,       0.996,       0.997,       0.998,       0.999,           1]), array([[    0.99808,     0.99808,     0.99808,     0.99808,     0.99712,     0.99712,     0.99712,     0.99712,     0.99616,     0.99616,     0.99616,     0.99616,     0.99616,     0.99616,     0.99616,      0.9952,      0.9952,     0.99424,     0.99424,     0.99424,     0.99424,     0.99341,      0.9927,\n",
       "            0.99232,     0.99135,     0.99135,     0.99135,     0.99135,     0.99135,     0.99135,     0.99135,     0.99135,     0.99135,     0.99135,     0.99135,     0.99135,     0.99135,     0.99135,     0.99135,     0.99135,     0.99135,     0.99135,     0.99135,     0.99135,     0.99135,     0.99135,\n",
       "            0.99135,     0.99135,     0.99135,     0.99135,     0.99135,     0.99135,     0.99135,     0.99135,     0.99135,     0.99135,     0.99135,     0.99135,     0.99135,     0.99135,     0.99135,     0.99135,     0.99135,     0.99135,     0.99135,     0.99135,     0.99135,     0.99135,     0.99135,\n",
       "            0.99135,     0.99135,     0.99039,     0.99039,     0.99039,     0.99039,     0.99039,     0.99039,     0.98877,     0.98847,     0.98847,     0.98847,     0.98847,     0.98847,     0.98847,     0.98847,     0.98847,     0.98847,     0.98847,     0.98847,      0.9883,       0.988,      0.9877,\n",
       "            0.98695,     0.98655,     0.98655,     0.98655,     0.98655,     0.98655,     0.98655,     0.98655,     0.98655,     0.98495,     0.98463,     0.98463,     0.98463,     0.98463,     0.98463,     0.98463,     0.98463,     0.98463,     0.98463,     0.98463,     0.98463,     0.98463,     0.98463,\n",
       "            0.98463,     0.98463,     0.98463,     0.98463,     0.98463,     0.98463,     0.98463,     0.98463,     0.98463,     0.98463,     0.98463,     0.98463,     0.98463,     0.98463,     0.98463,     0.98463,     0.98463,     0.98463,     0.98463,     0.98463,     0.98455,     0.98435,     0.98414,\n",
       "            0.98393,     0.98372,     0.98367,     0.98367,     0.98367,     0.98367,     0.98367,     0.98367,     0.98366,     0.98316,     0.98271,     0.98271,     0.98271,     0.98262,     0.98201,     0.98175,     0.98175,     0.98175,     0.98175,     0.98175,     0.98175,     0.98175,     0.98102,\n",
       "            0.98079,     0.98079,     0.98079,     0.98079,     0.98079,     0.98079,     0.98079,     0.98079,     0.98079,     0.98079,     0.98079,     0.98079,     0.98079,     0.98079,     0.98079,     0.98079,     0.98079,     0.97997,     0.97983,     0.97983,     0.97983,     0.97983,     0.97983,\n",
       "            0.97983,     0.97983,     0.97983,     0.97983,     0.97983,     0.97983,     0.97983,     0.97983,     0.97983,     0.97983,     0.97983,     0.97983,     0.97963,     0.97933,     0.97903,     0.97874,     0.97848,     0.97822,     0.97796,     0.97791,     0.97783,     0.97766,     0.97749,\n",
       "            0.97732,     0.97716,     0.97699,     0.97598,     0.97598,     0.97598,     0.97598,     0.97598,     0.97598,     0.97575,     0.97502,     0.97502,     0.97502,     0.97502,     0.97492,     0.97472,     0.97452,     0.97431,     0.97411,     0.97406,     0.97406,     0.97406,     0.97406,\n",
       "            0.97406,     0.97301,     0.97267,     0.97232,     0.97214,     0.97214,     0.97214,     0.97214,     0.97214,     0.97214,     0.97214,     0.97197,     0.97164,     0.97132,     0.97041,     0.97022,     0.97022,     0.97022,     0.97022,     0.97022,     0.97022,     0.97022,     0.97022,\n",
       "            0.97022,     0.96976,     0.96926,     0.96926,     0.96926,     0.96926,     0.96926,     0.96926,     0.96926,     0.96926,     0.96926,     0.96926,     0.96926,     0.96926,     0.96926,     0.96926,     0.96926,     0.96926,     0.96926,     0.96926,     0.96926,     0.96926,     0.96926,\n",
       "            0.96926,     0.96926,     0.96926,     0.96926,     0.96926,     0.96926,     0.96926,     0.96926,     0.96926,     0.96926,     0.96926,     0.96926,     0.96926,     0.96926,     0.96926,     0.96926,     0.96926,     0.96926,     0.96926,     0.96926,     0.96926,     0.96926,     0.96926,\n",
       "            0.96926,     0.96926,     0.96926,     0.96926,     0.96873,     0.96829,     0.96824,      0.9682,     0.96816,     0.96812,     0.96808,     0.96804,       0.968,     0.96796,     0.96792,     0.96788,     0.96784,      0.9678,     0.96776,     0.96772,     0.96768,     0.96764,      0.9676,\n",
       "            0.96755,     0.96751,     0.96747,     0.96743,     0.96739,     0.96735,     0.96734,     0.96734,     0.96734,     0.96734,     0.96734,     0.96734,     0.96734,     0.96734,     0.96734,     0.96638,     0.96638,     0.96638,     0.96638,     0.96638,     0.96638,     0.96638,     0.96638,\n",
       "            0.96636,     0.96622,     0.96609,     0.96595,     0.96582,     0.96568,     0.96555,     0.96542,     0.96542,     0.96542,     0.96542,     0.96542,     0.96542,     0.96503,     0.96447,     0.96446,     0.96446,     0.96416,     0.96307,     0.96249,     0.96242,     0.96234,     0.96227,\n",
       "            0.96219,     0.96212,     0.96205,     0.96197,      0.9619,     0.96182,     0.96175,     0.96167,      0.9616,     0.96158,     0.96158,     0.96123,     0.96087,     0.95965,     0.95869,     0.95869,     0.95857,     0.95821,     0.95785,     0.95773,     0.95773,     0.95773,     0.95758,\n",
       "            0.95737,     0.95716,     0.95696,     0.95677,     0.95677,     0.95664,     0.95631,     0.95598,     0.95581,     0.95581,     0.95566,     0.95546,     0.95527,     0.95507,     0.95487,     0.95485,     0.95484,     0.95476,     0.95468,     0.95461,     0.95453,     0.95445,     0.95437,\n",
       "             0.9543,     0.95422,     0.95414,     0.95406,     0.95399,     0.95391,     0.95389,     0.95384,     0.95378,     0.95371,     0.95365,     0.95359,     0.95352,     0.95346,      0.9534,     0.95333,     0.95327,     0.95321,     0.95314,     0.95308,     0.95302,     0.95295,      0.9528,\n",
       "            0.95261,     0.95241,     0.95221,     0.95202,     0.95172,     0.95139,     0.95106,     0.94963,     0.94914,     0.94899,     0.94888,     0.94877,     0.94866,     0.94855,     0.94844,     0.94833,     0.94822,     0.94807,      0.9475,     0.94697,     0.94648,     0.94621,     0.94621,\n",
       "            0.94608,     0.94584,     0.94559,     0.94534,     0.94428,     0.94428,     0.94428,     0.94412,     0.94387,     0.94363,     0.94338,     0.94317,     0.94298,     0.94278,     0.94258,     0.94238,     0.94207,     0.94174,     0.94141,     0.94124,     0.94108,     0.94092,     0.94075,\n",
       "            0.94059,     0.94044,     0.94044,     0.94044,     0.93942,     0.93909,     0.93876,     0.93848,     0.93831,     0.93815,     0.93799,     0.93782,     0.93766,      0.9366,      0.9366,      0.9356,     0.93551,     0.93542,     0.93533,     0.93524,     0.93515,     0.93506,     0.93497,\n",
       "            0.93488,     0.93479,      0.9347,     0.93456,      0.9344,     0.93423,     0.93407,      0.9339,     0.93374,     0.93286,     0.93276,     0.93276,     0.93276,     0.93276,     0.93276,     0.93276,     0.93276,     0.93267,      0.9318,      0.9318,      0.9318,      0.9318,      0.9318,\n",
       "             0.9318,     0.93167,     0.93118,      0.9308,     0.93068,     0.93055,     0.93043,     0.93031,     0.93018,     0.93006,     0.92994,     0.92978,     0.92958,     0.92938,     0.92919,     0.92899,     0.92871,     0.92838,     0.92805,     0.92795,     0.92795,     0.92795,     0.92795,\n",
       "            0.92795,     0.92715,     0.92658,     0.92609,     0.92515,     0.92447,     0.92389,      0.9234,      0.9229,     0.92241,     0.92069,     0.91999,     0.91949,       0.919,     0.91851,     0.91769,     0.91731,      0.9172,     0.91709,     0.91698,     0.91687,     0.91676,     0.91665,\n",
       "            0.91655,     0.91644,     0.91524,     0.91499,     0.91475,      0.9145,     0.91384,     0.91336,     0.91304,     0.91271,     0.91251,     0.91238,     0.91226,     0.91214,     0.91201,     0.91189,     0.91177,     0.91165,     0.90943,     0.90911,     0.90878,     0.90738,     0.90575,\n",
       "            0.90551,     0.90526,     0.90502,     0.90477,     0.90452,     0.90428,     0.90403,     0.90394,     0.90394,     0.90392,     0.90385,     0.90377,     0.90369,     0.90361,     0.90353,     0.90345,     0.90337,     0.90329,     0.90321,     0.90314,     0.90306,     0.90298,     0.90201,\n",
       "            0.90152,     0.90104,     0.90076,     0.90048,     0.90019,     0.89988,     0.89955,     0.89923,     0.89782,     0.89733,     0.89645,     0.89594,     0.89555,     0.89494,       0.893,      0.8923,     0.89202,     0.89173,     0.89145,     0.89096,     0.88951,     0.88912,     0.88873,\n",
       "            0.88827,     0.88778,     0.88697,     0.88502,     0.88364,     0.88346,     0.88328,      0.8831,     0.88292,     0.88277,     0.88266,     0.88255,     0.88244,     0.88233,     0.88222,     0.88211,       0.882,     0.88189,     0.88148,     0.88085,     0.88053,      0.8802,     0.87982,\n",
       "            0.87916,     0.87877,     0.87848,      0.8782,     0.87772,     0.87674,     0.87503,     0.87474,     0.87446,     0.87418,     0.87356,      0.8731,     0.87288,     0.87266,     0.87244,     0.87128,     0.87128,     0.87111,     0.87083,     0.87055,     0.86926,     0.86877,     0.86728,\n",
       "            0.86662,     0.86609,      0.8656,     0.86551,     0.86551,     0.86551,     0.86551,     0.86551,     0.86297,     0.86158,     0.86138,     0.86118,     0.86099,     0.86079,     0.85935,     0.85782,     0.85772,     0.85762,     0.85752,     0.85742,     0.85732,     0.85722,     0.85713,\n",
       "            0.85703,     0.85693,     0.85566,       0.855,     0.85449,       0.854,     0.85271,     0.85238,     0.85108,     0.85042,     0.84902,     0.84874,     0.84846,     0.84721,     0.84688,     0.84655,     0.84422,     0.84357,     0.84195,     0.84129,     0.84064,     0.83934,     0.83906,\n",
       "            0.83878,     0.83737,     0.83672,      0.8351,     0.83348,     0.82898,     0.82833,     0.82671,     0.82221,     0.82155,     0.82037,     0.81928,     0.81862,     0.81701,     0.81635,     0.81569,     0.81216,     0.81161,     0.81128,     0.81095,     0.80857,     0.80791,     0.80726,\n",
       "            0.80564,     0.80306,     0.80241,     0.80175,     0.79626,     0.79531,     0.79466,     0.79112,     0.79046,     0.78981,     0.78915,     0.78657,     0.78591,     0.78238,     0.77681,     0.77402,     0.77336,      0.7679,     0.76629,     0.76563,     0.75985,     0.75823,     0.75566,\n",
       "            0.75308,     0.75242,     0.74676,     0.74406,     0.74053,     0.73987,      0.7361,     0.73535,     0.73374,     0.73308,     0.72832,     0.72472,     0.72215,     0.72149,      0.7167,     0.71313,     0.70752,     0.70381,     0.70123,     0.69738,     0.69672,     0.69395,     0.68932,\n",
       "             0.6867,     0.68193,     0.68127,     0.67558,     0.67099,     0.66545,      0.6636,     0.66294,     0.66009,      0.6565,     0.65092,     0.64321,     0.64044,     0.63979,     0.63305,     0.62439,     0.62373,     0.61905,     0.61518,     0.61151,     0.60217,     0.59157,     0.58777,\n",
       "            0.58711,     0.58142,     0.57659,     0.57176,     0.56528,     0.55682,     0.54912,     0.54045,     0.53562,      0.5319,     0.53124,     0.52354,     0.51103,      0.5062,     0.50329,      0.4976,     0.49172,      0.4831,     0.48244,     0.47291,     0.46617,     0.45846,     0.45075,\n",
       "            0.44112,     0.43725,     0.42858,     0.42664,     0.42085,     0.41602,     0.40447,     0.39868,     0.38809,     0.37556,     0.36739,     0.35488,     0.34717,     0.34138,     0.33559,     0.32789,     0.31922,     0.30526,     0.29851,     0.29177,     0.28406,     0.28084,     0.27296,\n",
       "            0.26717,     0.26043,     0.24455,       0.233,     0.21811,     0.21326,      0.1969,     0.19011,     0.18197,     0.17618,     0.15934,     0.15342,     0.14633,     0.13766,     0.12659,     0.12056,     0.11741,     0.10154,    0.099285,    0.095248,    0.087539,    0.079349,    0.077959,\n",
       "           0.071616,    0.069217,    0.066285,    0.062746,    0.059512,    0.055576,    0.049858,    0.046835,    0.039243,    0.036172,    0.034873,    0.031967,     0.02962,    0.028964,    0.026611,    0.022848,    0.022192,    0.020575,    0.017869,    0.015924,    0.014509,    0.013449,    0.011049,\n",
       "          0.0095619,   0.0082946,   0.0076147,   0.0066301,   0.0055271,   0.0044918,   0.0039994,   0.0027549,   0.0020985,   0.0016816,   0.0013534,   0.0010252,           0,           0,           0,           0,           0,           0,           0,           0,           0,           0,           0,\n",
       "                  0,           0,           0,           0,           0,           0,           0,           0,           0,           0,           0,           0,           0,           0,           0,           0,           0,           0,           0,           0,           0,           0,           0,\n",
       "                  0,           0,           0,           0,           0,           0,           0,           0,           0,           0,           0,           0,           0,           0,           0,           0,           0,           0,           0,           0,           0,           0,           0,\n",
       "                  0,           0,           0,           0,           0,           0,           0,           0,           0,           0,           0]]), 'Confidence', 'Recall']]\n",
       "fitness: 0.6570600800268475\n",
       "keys: ['metrics/precision(B)', 'metrics/recall(B)', 'metrics/mAP50(B)', 'metrics/mAP50-95(B)']\n",
       "maps: array([    0.62013])\n",
       "names: {0: 'BibitNila'}\n",
       "plot: True\n",
       "results_dict: {'metrics/precision(B)': 0.974665513590181, 'metrics/recall(B)': 0.9608734575113057, 'metrics/mAP50(B)': 0.9894405962958981, 'metrics/mAP50-95(B)': 0.6201289115525084, 'fitness': 0.6570600800268475}\n",
       "save_dir: PosixPath('runs/train/E100B8')\n",
       "speed: {'preprocess': 0.3441810607910156, 'inference': 4.157551129659017, 'loss': 0.0005086263020833334, 'postprocess': 0.1371939977010091}\n",
       "task: 'detect'"
      ]
     },
     "execution_count": 4,
     "metadata": {},
     "output_type": "execute_result"
    }
   ],
   "source": [
    "model.train(data=\"Nila-Counting-2/data.yaml\", epochs=100, batch=8, imgsz=640, project=\"runs/train\", name=\"E100B8\")\n"
   ]
  },
  {
   "cell_type": "code",
   "execution_count": null,
   "metadata": {},
   "outputs": [],
   "source": [
    "pip install --upgrade torch torchvision torchaudio\n"
   ]
  },
  {
   "cell_type": "code",
   "execution_count": null,
   "metadata": {},
   "outputs": [],
   "source": [
    "pip install -U ultralytics"
   ]
  },
  {
   "cell_type": "code",
   "execution_count": null,
   "metadata": {},
   "outputs": [],
   "source": [
    "!nvidia-smi --query-gpu=temperature.gpu --format=csv\n"
   ]
  },
  {
   "cell_type": "code",
   "execution_count": null,
   "metadata": {},
   "outputs": [],
   "source": [
    "results = model(\"image.jpg\")"
   ]
  },
  {
   "cell_type": "code",
   "execution_count": null,
   "metadata": {},
   "outputs": [],
   "source": [
    "results[0].show()"
   ]
  }
 ],
 "metadata": {
  "kernelspec": {
   "display_name": "Python 3",
   "language": "python",
   "name": "python3"
  },
  "language_info": {
   "codemirror_mode": {
    "name": "ipython",
    "version": 3
   },
   "file_extension": ".py",
   "mimetype": "text/x-python",
   "name": "python",
   "nbconvert_exporter": "python",
   "pygments_lexer": "ipython3",
   "version": "3.10.12"
  }
 },
 "nbformat": 4,
 "nbformat_minor": 2
}
